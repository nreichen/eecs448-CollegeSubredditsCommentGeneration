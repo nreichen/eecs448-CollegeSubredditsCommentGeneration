{
  "cells": [
    {
      "cell_type": "markdown",
      "metadata": {
        "id": "fLVB-ft3jt1U"
      },
      "source": [
        "## Setup"
      ]
    },
    {
      "cell_type": "code",
      "execution_count": null,
      "metadata": {
        "colab": {
          "base_uri": "https://localhost:8080/"
        },
        "id": "OxkktGJjFNKO",
        "outputId": "e97c9659-3172-448f-c35d-7b41c174ef01"
      },
      "outputs": [
        {
          "name": "stdout",
          "output_type": "stream",
          "text": [
            "Mounted at /content/drive\n",
            "['GoogleNews-vectors-negative300.bin.gz', 'COPY!!!!!!!!!!!!!!!!!.ipynb', 'gpt2-gerchef', 'Copy of Fine-tune a non-English GPT-2 Model with Huggingface', 'tess_copy_commentgeneration.ipynb', 'LifeProTips', 'UIUC', 'bigtenLinearSVC.pickle', 'model1.ipynb', 'UIUC2', 'preprocessCornell.ipynb', 'uofm', 'askredditpreprocessing.ipynb', 'gpt-2-with-huggingface-pytorch.ipynb', 'Test_Evaluation_Metrics.ipynb.ipynb', 'commentgeneration.ipynb', 'train_post_set.pickle', 'test_post_set.pickle', 'train_com_set.pickle', 'test_com_set.pickle', 'todayilearnedgeneration.ipynb', 'val_post_set.pickle', 'val_com_set.pickle', 'COPY FOR TRYING SEQTOSEQ uiucgenerationmanual.ipynb', 'Cornell Final Train.ipynb', 'Illinois', 'UMD', 'Indiana', 'Iowa', 'msu', 'uofmn', 'Indiana Final Train.ipynb', 'Penn', 'Ohio', 'Penn Final Train.ipynb', 'uofmn Final Train.ipynb', 'lincoln', 'Northwestern', 'rutgers', 'UWMadison', 'Cornell (OLD FOLDER)', 'Cornell', 'Purdue', 'Iowa Train Final.ipynb', 'Ohio Final Train.ipynb', 'Test_Val.ipynb', 'Illinois Final Train.ipynb', 'rutgers Final Train.ipynb']\n"
          ]
        }
      ],
      "source": [
        "from google.colab import drive\n",
        "drive.mount('/content/drive', force_remount=True)\n",
        "\n",
        "import os \n",
        "GOOGLE_DRIVE_PATH_AFTER_MY_DRIVE = \"448 Group: Jedi Order/models\"\n",
        "GOOGLE_DRIVE_PATH = os.path.join('drive', 'My Drive', GOOGLE_DRIVE_PATH_AFTER_MY_DRIVE)\n",
        "print(os.listdir(GOOGLE_DRIVE_PATH))"
      ]
    },
    {
      "cell_type": "code",
      "execution_count": null,
      "metadata": {
        "colab": {
          "base_uri": "https://localhost:8080/"
        },
        "id": "BRiiVBSRlOcu",
        "outputId": "a4dcfb80-6e03-44d9-ae34-fb019e94cb20"
      },
      "outputs": [
        {
          "name": "stdout",
          "output_type": "stream",
          "text": [
            "drive/My Drive/448 Group: Jedi Order/models\n"
          ]
        }
      ],
      "source": [
        "print(GOOGLE_DRIVE_PATH)"
      ]
    },
    {
      "cell_type": "code",
      "execution_count": null,
      "metadata": {
        "id": "toacemzRG6W7"
      },
      "outputs": [],
      "source": [
        "%load_ext autoreload\n",
        "%autoreload 2\n",
        "\n",
        "import sys\n",
        "sys.path.append(GOOGLE_DRIVE_PATH)"
      ]
    },
    {
      "cell_type": "code",
      "execution_count": null,
      "metadata": {
        "colab": {
          "base_uri": "https://localhost:8080/"
        },
        "id": "RIGw390zlSQ8",
        "outputId": "a4b49d27-f1ff-4194-881d-60f01fc7063e"
      },
      "outputs": [
        {
          "name": "stdout",
          "output_type": "stream",
          "text": [
            "drive/My Drive/448 Group: Jedi Order/models\n"
          ]
        }
      ],
      "source": [
        "print(GOOGLE_DRIVE_PATH)"
      ]
    },
    {
      "cell_type": "code",
      "execution_count": null,
      "metadata": {
        "colab": {
          "base_uri": "https://localhost:8080/"
        },
        "id": "UMb95f0FqMGr",
        "outputId": "d112f0e4-c832-463f-a6d5-e80c8095524f"
      },
      "outputs": [
        {
          "name": "stdout",
          "output_type": "stream",
          "text": [
            "UTF-8\n"
          ]
        }
      ],
      "source": [
        "import locale\n",
        "print(locale.getpreferredencoding())"
      ]
    },
    {
      "cell_type": "code",
      "execution_count": null,
      "metadata": {
        "id": "0qwMHaJYqPM1"
      },
      "outputs": [],
      "source": [
        "import locale\n",
        "def getpreferredencoding(do_setlocale = True):\n",
        "    return \"UTF-8\"\n",
        "locale.getpreferredencoding = getpreferredencoding"
      ]
    },
    {
      "cell_type": "code",
      "execution_count": null,
      "metadata": {
        "colab": {
          "base_uri": "https://localhost:8080/"
        },
        "id": "PAZI3yXeH7p4",
        "outputId": "15db3389-8174-4c29-dff3-3d729b9f819f"
      },
      "outputs": [
        {
          "name": "stdout",
          "output_type": "stream",
          "text": [
            "Looking in indexes: https://pypi.org/simple, https://us-python.pkg.dev/colab-wheels/public/simple/\n",
            "Collecting transformers\n",
            "  Downloading transformers-4.28.1-py3-none-any.whl (7.0 MB)\n",
            "\u001b[2K     \u001b[90m━━━━━━━━━━━━━━━━━━━━━━━━━━━━━━━━━━━━━━━━\u001b[0m \u001b[32m7.0/7.0 MB\u001b[0m \u001b[31m95.4 MB/s\u001b[0m eta \u001b[36m0:00:00\u001b[0m\n",
            "\u001b[?25hRequirement already satisfied: filelock in /usr/local/lib/python3.9/dist-packages (from transformers) (3.11.0)\n",
            "Requirement already satisfied: pyyaml>=5.1 in /usr/local/lib/python3.9/dist-packages (from transformers) (6.0)\n",
            "Requirement already satisfied: regex!=2019.12.17 in /usr/local/lib/python3.9/dist-packages (from transformers) (2022.10.31)\n",
            "Requirement already satisfied: requests in /usr/local/lib/python3.9/dist-packages (from transformers) (2.27.1)\n",
            "Collecting tokenizers!=0.11.3,<0.14,>=0.11.1\n",
            "  Downloading tokenizers-0.13.3-cp39-cp39-manylinux_2_17_x86_64.manylinux2014_x86_64.whl (7.8 MB)\n",
            "\u001b[2K     \u001b[90m━━━━━━━━━━━━━━━━━━━━━━━━━━━━━━━━━━━━━━━━\u001b[0m \u001b[32m7.8/7.8 MB\u001b[0m \u001b[31m70.1 MB/s\u001b[0m eta \u001b[36m0:00:00\u001b[0m\n",
            "\u001b[?25hRequirement already satisfied: numpy>=1.17 in /usr/local/lib/python3.9/dist-packages (from transformers) (1.22.4)\n",
            "Requirement already satisfied: tqdm>=4.27 in /usr/local/lib/python3.9/dist-packages (from transformers) (4.65.0)\n",
            "Requirement already satisfied: packaging>=20.0 in /usr/local/lib/python3.9/dist-packages (from transformers) (23.0)\n",
            "Collecting huggingface-hub<1.0,>=0.11.0\n",
            "  Downloading huggingface_hub-0.13.4-py3-none-any.whl (200 kB)\n",
            "\u001b[2K     \u001b[90m━━━━━━━━━━━━━━━━━━━━━━━━━━━━━━━━━━━━━━\u001b[0m \u001b[32m200.1/200.1 kB\u001b[0m \u001b[31m24.1 MB/s\u001b[0m eta \u001b[36m0:00:00\u001b[0m\n",
            "\u001b[?25hRequirement already satisfied: typing-extensions>=3.7.4.3 in /usr/local/lib/python3.9/dist-packages (from huggingface-hub<1.0,>=0.11.0->transformers) (4.5.0)\n",
            "Requirement already satisfied: certifi>=2017.4.17 in /usr/local/lib/python3.9/dist-packages (from requests->transformers) (2022.12.7)\n",
            "Requirement already satisfied: idna<4,>=2.5 in /usr/local/lib/python3.9/dist-packages (from requests->transformers) (3.4)\n",
            "Requirement already satisfied: charset-normalizer~=2.0.0 in /usr/local/lib/python3.9/dist-packages (from requests->transformers) (2.0.12)\n",
            "Requirement already satisfied: urllib3<1.27,>=1.21.1 in /usr/local/lib/python3.9/dist-packages (from requests->transformers) (1.26.15)\n",
            "Installing collected packages: tokenizers, huggingface-hub, transformers\n",
            "Successfully installed huggingface-hub-0.13.4 tokenizers-0.13.3 transformers-4.28.1\n",
            "Looking in indexes: https://pypi.org/simple, https://us-python.pkg.dev/colab-wheels/public/simple/\n",
            "Collecting convokit\n",
            "  Downloading convokit-2.5.3.tar.gz (167 kB)\n",
            "\u001b[2K     \u001b[90m━━━━━━━━━━━━━━━━━━━━━━━━━━━━━━━━━━━━━━━\u001b[0m \u001b[32m168.0/168.0 kB\u001b[0m \u001b[31m1.7 MB/s\u001b[0m eta \u001b[36m0:00:00\u001b[0m\n",
            "\u001b[?25h  Preparing metadata (setup.py) ... \u001b[?25l\u001b[?25hdone\n",
            "Requirement already satisfied: matplotlib>=3.0.0 in /usr/local/lib/python3.9/dist-packages (from convokit) (3.7.1)\n",
            "Requirement already satisfied: pandas>=0.23.4 in /usr/local/lib/python3.9/dist-packages (from convokit) (1.5.3)\n",
            "Collecting msgpack-numpy>=0.4.3.2\n",
            "  Downloading msgpack_numpy-0.4.8-py2.py3-none-any.whl (6.9 kB)\n",
            "Requirement already satisfied: spacy>=2.3.5 in /usr/local/lib/python3.9/dist-packages (from convokit) (3.5.1)\n",
            "Requirement already satisfied: scipy>=1.1.0 in /usr/local/lib/python3.9/dist-packages (from convokit) (1.10.1)\n",
            "Requirement already satisfied: scikit-learn>=0.20.0 in /usr/local/lib/python3.9/dist-packages (from convokit) (1.2.2)\n",
            "Requirement already satisfied: nltk>=3.4 in /usr/local/lib/python3.9/dist-packages (from convokit) (3.8.1)\n",
            "Collecting dill>=0.2.9\n",
            "  Downloading dill-0.3.6-py3-none-any.whl (110 kB)\n",
            "\u001b[2K     \u001b[90m━━━━━━━━━━━━━━━━━━━━━━━━━━━━━━━━━━━━━━\u001b[0m \u001b[32m110.5/110.5 kB\u001b[0m \u001b[31m11.2 MB/s\u001b[0m eta \u001b[36m0:00:00\u001b[0m\n",
            "\u001b[?25hRequirement already satisfied: joblib>=0.13.2 in /usr/local/lib/python3.9/dist-packages (from convokit) (1.2.0)\n",
            "Collecting clean-text>=0.1.1\n",
            "  Downloading clean_text-0.6.0-py3-none-any.whl (11 kB)\n",
            "Collecting unidecode>=1.1.1\n",
            "  Downloading Unidecode-1.3.6-py3-none-any.whl (235 kB)\n",
            "\u001b[2K     \u001b[90m━━━━━━━━━━━━━━━━━━━━━━━━━━━━━━━━━━━━━━\u001b[0m \u001b[32m235.9/235.9 kB\u001b[0m \u001b[31m26.7 MB/s\u001b[0m eta \u001b[36m0:00:00\u001b[0m\n",
            "\u001b[?25hCollecting ftfy<7.0,>=6.0\n",
            "  Downloading ftfy-6.1.1-py3-none-any.whl (53 kB)\n",
            "\u001b[2K     \u001b[90m━━━━━━━━━━━━━━━━━━━━━━━━━━━━━━━━━━━━━━━━\u001b[0m \u001b[32m53.1/53.1 kB\u001b[0m \u001b[31m5.7 MB/s\u001b[0m eta \u001b[36m0:00:00\u001b[0m\n",
            "\u001b[?25hCollecting emoji<2.0.0,>=1.0.0\n",
            "  Downloading emoji-1.7.0.tar.gz (175 kB)\n",
            "\u001b[2K     \u001b[90m━━━━━━━━━━━━━━━━━━━━━━━━━━━━━━━━━━━━━━\u001b[0m \u001b[32m175.4/175.4 kB\u001b[0m \u001b[31m19.8 MB/s\u001b[0m eta \u001b[36m0:00:00\u001b[0m\n",
            "\u001b[?25h  Preparing metadata (setup.py) ... \u001b[?25l\u001b[?25hdone\n",
            "Requirement already satisfied: numpy>=1.20 in /usr/local/lib/python3.9/dist-packages (from matplotlib>=3.0.0->convokit) (1.22.4)\n",
            "Requirement already satisfied: packaging>=20.0 in /usr/local/lib/python3.9/dist-packages (from matplotlib>=3.0.0->convokit) (23.0)\n",
            "Requirement already satisfied: importlib-resources>=3.2.0 in /usr/local/lib/python3.9/dist-packages (from matplotlib>=3.0.0->convokit) (5.12.0)\n",
            "Requirement already satisfied: fonttools>=4.22.0 in /usr/local/lib/python3.9/dist-packages (from matplotlib>=3.0.0->convokit) (4.39.3)\n",
            "Requirement already satisfied: kiwisolver>=1.0.1 in /usr/local/lib/python3.9/dist-packages (from matplotlib>=3.0.0->convokit) (1.4.4)\n",
            "Requirement already satisfied: pyparsing>=2.3.1 in /usr/local/lib/python3.9/dist-packages (from matplotlib>=3.0.0->convokit) (3.0.9)\n",
            "Requirement already satisfied: cycler>=0.10 in /usr/local/lib/python3.9/dist-packages (from matplotlib>=3.0.0->convokit) (0.11.0)\n",
            "Requirement already satisfied: pillow>=6.2.0 in /usr/local/lib/python3.9/dist-packages (from matplotlib>=3.0.0->convokit) (8.4.0)\n",
            "Requirement already satisfied: python-dateutil>=2.7 in /usr/local/lib/python3.9/dist-packages (from matplotlib>=3.0.0->convokit) (2.8.2)\n",
            "Requirement already satisfied: contourpy>=1.0.1 in /usr/local/lib/python3.9/dist-packages (from matplotlib>=3.0.0->convokit) (1.0.7)\n",
            "Requirement already satisfied: msgpack>=0.5.2 in /usr/local/lib/python3.9/dist-packages (from msgpack-numpy>=0.4.3.2->convokit) (1.0.5)\n",
            "Requirement already satisfied: regex>=2021.8.3 in /usr/local/lib/python3.9/dist-packages (from nltk>=3.4->convokit) (2022.10.31)\n",
            "Requirement already satisfied: tqdm in /usr/local/lib/python3.9/dist-packages (from nltk>=3.4->convokit) (4.65.0)\n",
            "Requirement already satisfied: click in /usr/local/lib/python3.9/dist-packages (from nltk>=3.4->convokit) (8.1.3)\n",
            "Requirement already satisfied: pytz>=2020.1 in /usr/local/lib/python3.9/dist-packages (from pandas>=0.23.4->convokit) (2022.7.1)\n",
            "Requirement already satisfied: threadpoolctl>=2.0.0 in /usr/local/lib/python3.9/dist-packages (from scikit-learn>=0.20.0->convokit) (3.1.0)\n",
            "Requirement already satisfied: catalogue<2.1.0,>=2.0.6 in /usr/local/lib/python3.9/dist-packages (from spacy>=2.3.5->convokit) (2.0.8)\n",
            "Requirement already satisfied: wasabi<1.2.0,>=0.9.1 in /usr/local/lib/python3.9/dist-packages (from spacy>=2.3.5->convokit) (1.1.1)\n",
            "Requirement already satisfied: cymem<2.1.0,>=2.0.2 in /usr/local/lib/python3.9/dist-packages (from spacy>=2.3.5->convokit) (2.0.7)\n",
            "Requirement already satisfied: pydantic!=1.8,!=1.8.1,<1.11.0,>=1.7.4 in /usr/local/lib/python3.9/dist-packages (from spacy>=2.3.5->convokit) (1.10.7)\n",
            "Requirement already satisfied: srsly<3.0.0,>=2.4.3 in /usr/local/lib/python3.9/dist-packages (from spacy>=2.3.5->convokit) (2.4.6)\n",
            "Requirement already satisfied: typer<0.8.0,>=0.3.0 in /usr/local/lib/python3.9/dist-packages (from spacy>=2.3.5->convokit) (0.7.0)\n",
            "Requirement already satisfied: smart-open<7.0.0,>=5.2.1 in /usr/local/lib/python3.9/dist-packages (from spacy>=2.3.5->convokit) (6.3.0)\n",
            "Requirement already satisfied: requests<3.0.0,>=2.13.0 in /usr/local/lib/python3.9/dist-packages (from spacy>=2.3.5->convokit) (2.27.1)\n",
            "Requirement already satisfied: jinja2 in /usr/local/lib/python3.9/dist-packages (from spacy>=2.3.5->convokit) (3.1.2)\n",
            "Requirement already satisfied: langcodes<4.0.0,>=3.2.0 in /usr/local/lib/python3.9/dist-packages (from spacy>=2.3.5->convokit) (3.3.0)\n",
            "Requirement already satisfied: murmurhash<1.1.0,>=0.28.0 in /usr/local/lib/python3.9/dist-packages (from spacy>=2.3.5->convokit) (1.0.9)\n",
            "Requirement already satisfied: pathy>=0.10.0 in /usr/local/lib/python3.9/dist-packages (from spacy>=2.3.5->convokit) (0.10.1)\n",
            "Requirement already satisfied: spacy-loggers<2.0.0,>=1.0.0 in /usr/local/lib/python3.9/dist-packages (from spacy>=2.3.5->convokit) (1.0.4)\n",
            "Requirement already satisfied: thinc<8.2.0,>=8.1.8 in /usr/local/lib/python3.9/dist-packages (from spacy>=2.3.5->convokit) (8.1.9)\n",
            "Requirement already satisfied: setuptools in /usr/local/lib/python3.9/dist-packages (from spacy>=2.3.5->convokit) (67.6.1)\n",
            "Requirement already satisfied: spacy-legacy<3.1.0,>=3.0.11 in /usr/local/lib/python3.9/dist-packages (from spacy>=2.3.5->convokit) (3.0.12)\n",
            "Requirement already satisfied: preshed<3.1.0,>=3.0.2 in /usr/local/lib/python3.9/dist-packages (from spacy>=2.3.5->convokit) (3.0.8)\n",
            "Requirement already satisfied: wcwidth>=0.2.5 in /usr/local/lib/python3.9/dist-packages (from ftfy<7.0,>=6.0->clean-text>=0.1.1->convokit) (0.2.6)\n",
            "Requirement already satisfied: zipp>=3.1.0 in /usr/local/lib/python3.9/dist-packages (from importlib-resources>=3.2.0->matplotlib>=3.0.0->convokit) (3.15.0)\n",
            "Requirement already satisfied: typing-extensions>=4.2.0 in /usr/local/lib/python3.9/dist-packages (from pydantic!=1.8,!=1.8.1,<1.11.0,>=1.7.4->spacy>=2.3.5->convokit) (4.5.0)\n",
            "Requirement already satisfied: six>=1.5 in /usr/local/lib/python3.9/dist-packages (from python-dateutil>=2.7->matplotlib>=3.0.0->convokit) (1.16.0)\n",
            "Requirement already satisfied: idna<4,>=2.5 in /usr/local/lib/python3.9/dist-packages (from requests<3.0.0,>=2.13.0->spacy>=2.3.5->convokit) (3.4)\n",
            "Requirement already satisfied: urllib3<1.27,>=1.21.1 in /usr/local/lib/python3.9/dist-packages (from requests<3.0.0,>=2.13.0->spacy>=2.3.5->convokit) (1.26.15)\n",
            "Requirement already satisfied: certifi>=2017.4.17 in /usr/local/lib/python3.9/dist-packages (from requests<3.0.0,>=2.13.0->spacy>=2.3.5->convokit) (2022.12.7)\n",
            "Requirement already satisfied: charset-normalizer~=2.0.0 in /usr/local/lib/python3.9/dist-packages (from requests<3.0.0,>=2.13.0->spacy>=2.3.5->convokit) (2.0.12)\n",
            "Requirement already satisfied: blis<0.8.0,>=0.7.8 in /usr/local/lib/python3.9/dist-packages (from thinc<8.2.0,>=8.1.8->spacy>=2.3.5->convokit) (0.7.9)\n",
            "Requirement already satisfied: confection<1.0.0,>=0.0.1 in /usr/local/lib/python3.9/dist-packages (from thinc<8.2.0,>=8.1.8->spacy>=2.3.5->convokit) (0.0.4)\n",
            "Requirement already satisfied: MarkupSafe>=2.0 in /usr/local/lib/python3.9/dist-packages (from jinja2->spacy>=2.3.5->convokit) (2.1.2)\n",
            "Building wheels for collected packages: convokit, emoji\n",
            "  Building wheel for convokit (setup.py) ... \u001b[?25l\u001b[?25hdone\n",
            "  Created wheel for convokit: filename=convokit-2.5.3-py3-none-any.whl size=204125 sha256=5e00b43b9d49de7b8512d8d90b71793cd416bffa153e0db25fdbc46e1017b941\n",
            "  Stored in directory: /root/.cache/pip/wheels/2e/ef/38/9588c33dabed09f2a31ce3fbde7f6a6a1c19593c1ffd8d74aa\n",
            "  Building wheel for emoji (setup.py) ... \u001b[?25l\u001b[?25hdone\n",
            "  Created wheel for emoji: filename=emoji-1.7.0-py3-none-any.whl size=171048 sha256=8786a61db32e93720d63606d9aca870ff314db39f166a91f5f8c95060c5e3f35\n",
            "  Stored in directory: /root/.cache/pip/wheels/fa/7a/e9/22dd0515e1bad255e51663ee513a2fa839c95934c5fc301090\n",
            "Successfully built convokit emoji\n",
            "Installing collected packages: emoji, unidecode, msgpack-numpy, ftfy, dill, clean-text, convokit\n",
            "Successfully installed clean-text-0.6.0 convokit-2.5.3 dill-0.3.6 emoji-1.7.0 ftfy-6.1.1 msgpack-numpy-0.4.8 unidecode-1.3.6\n",
            "Looking in indexes: https://pypi.org/simple, https://us-python.pkg.dev/colab-wheels/public/simple/\n",
            "Collecting datasets\n",
            "  Downloading datasets-2.11.0-py3-none-any.whl (468 kB)\n",
            "\u001b[2K     \u001b[90m━━━━━━━━━━━━━━━━━━━━━━━━━━━━━━━━━━━━━━\u001b[0m \u001b[32m468.7/468.7 kB\u001b[0m \u001b[31m34.3 MB/s\u001b[0m eta \u001b[36m0:00:00\u001b[0m\n",
            "\u001b[?25hCollecting xxhash\n",
            "  Downloading xxhash-3.2.0-cp39-cp39-manylinux_2_17_x86_64.manylinux2014_x86_64.whl (212 kB)\n",
            "\u001b[2K     \u001b[90m━━━━━━━━━━━━━━━━━━━━━━━━━━━━━━━━━━━━━━\u001b[0m \u001b[32m212.2/212.2 kB\u001b[0m \u001b[31m29.0 MB/s\u001b[0m eta \u001b[36m0:00:00\u001b[0m\n",
            "\u001b[?25hRequirement already satisfied: pyarrow>=8.0.0 in /usr/local/lib/python3.9/dist-packages (from datasets) (9.0.0)\n",
            "Requirement already satisfied: numpy>=1.17 in /usr/local/lib/python3.9/dist-packages (from datasets) (1.22.4)\n",
            "Requirement already satisfied: packaging in /usr/local/lib/python3.9/dist-packages (from datasets) (23.0)\n",
            "Requirement already satisfied: pandas in /usr/local/lib/python3.9/dist-packages (from datasets) (1.5.3)\n",
            "Collecting responses<0.19\n",
            "  Downloading responses-0.18.0-py3-none-any.whl (38 kB)\n",
            "Collecting multiprocess\n",
            "  Downloading multiprocess-0.70.14-py39-none-any.whl (132 kB)\n",
            "\u001b[2K     \u001b[90m━━━━━━━━━━━━━━━━━━━━━━━━━━━━━━━━━━━━━━\u001b[0m \u001b[32m132.9/132.9 kB\u001b[0m \u001b[31m18.4 MB/s\u001b[0m eta \u001b[36m0:00:00\u001b[0m\n",
            "\u001b[?25hRequirement already satisfied: pyyaml>=5.1 in /usr/local/lib/python3.9/dist-packages (from datasets) (6.0)\n",
            "Requirement already satisfied: dill<0.3.7,>=0.3.0 in /usr/local/lib/python3.9/dist-packages (from datasets) (0.3.6)\n",
            "Requirement already satisfied: requests>=2.19.0 in /usr/local/lib/python3.9/dist-packages (from datasets) (2.27.1)\n",
            "Requirement already satisfied: fsspec[http]>=2021.11.1 in /usr/local/lib/python3.9/dist-packages (from datasets) (2023.4.0)\n",
            "Collecting aiohttp\n",
            "  Downloading aiohttp-3.8.4-cp39-cp39-manylinux_2_17_x86_64.manylinux2014_x86_64.whl (1.0 MB)\n",
            "\u001b[2K     \u001b[90m━━━━━━━━━━━━━━━━━━━━━━━━━━━━━━━━━━━━━━━━\u001b[0m \u001b[32m1.0/1.0 MB\u001b[0m \u001b[31m57.9 MB/s\u001b[0m eta \u001b[36m0:00:00\u001b[0m\n",
            "\u001b[?25hRequirement already satisfied: huggingface-hub<1.0.0,>=0.11.0 in /usr/local/lib/python3.9/dist-packages (from datasets) (0.13.4)\n",
            "Requirement already satisfied: tqdm>=4.62.1 in /usr/local/lib/python3.9/dist-packages (from datasets) (4.65.0)\n",
            "Collecting multidict<7.0,>=4.5\n",
            "  Downloading multidict-6.0.4-cp39-cp39-manylinux_2_17_x86_64.manylinux2014_x86_64.whl (114 kB)\n",
            "\u001b[2K     \u001b[90m━━━━━━━━━━━━━━━━━━━━━━━━━━━━━━━━━━━━━━\u001b[0m \u001b[32m114.2/114.2 kB\u001b[0m \u001b[31m13.0 MB/s\u001b[0m eta \u001b[36m0:00:00\u001b[0m\n",
            "\u001b[?25hCollecting async-timeout<5.0,>=4.0.0a3\n",
            "  Downloading async_timeout-4.0.2-py3-none-any.whl (5.8 kB)\n",
            "Collecting frozenlist>=1.1.1\n",
            "  Downloading frozenlist-1.3.3-cp39-cp39-manylinux_2_5_x86_64.manylinux1_x86_64.manylinux_2_17_x86_64.manylinux2014_x86_64.whl (158 kB)\n",
            "\u001b[2K     \u001b[90m━━━━━━━━━━━━━━━━━━━━━━━━━━━━━━━━━━━━━━\u001b[0m \u001b[32m158.8/158.8 kB\u001b[0m \u001b[31m19.0 MB/s\u001b[0m eta \u001b[36m0:00:00\u001b[0m\n",
            "\u001b[?25hCollecting aiosignal>=1.1.2\n",
            "  Downloading aiosignal-1.3.1-py3-none-any.whl (7.6 kB)\n",
            "Requirement already satisfied: charset-normalizer<4.0,>=2.0 in /usr/local/lib/python3.9/dist-packages (from aiohttp->datasets) (2.0.12)\n",
            "Collecting yarl<2.0,>=1.0\n",
            "  Downloading yarl-1.8.2-cp39-cp39-manylinux_2_17_x86_64.manylinux2014_x86_64.whl (264 kB)\n",
            "\u001b[2K     \u001b[90m━━━━━━━━━━━━━━━━━━━━━━━━━━━━━━━━━━━━━━\u001b[0m \u001b[32m264.6/264.6 kB\u001b[0m \u001b[31m30.5 MB/s\u001b[0m eta \u001b[36m0:00:00\u001b[0m\n",
            "\u001b[?25hRequirement already satisfied: attrs>=17.3.0 in /usr/local/lib/python3.9/dist-packages (from aiohttp->datasets) (22.2.0)\n",
            "Requirement already satisfied: filelock in /usr/local/lib/python3.9/dist-packages (from huggingface-hub<1.0.0,>=0.11.0->datasets) (3.11.0)\n",
            "Requirement already satisfied: typing-extensions>=3.7.4.3 in /usr/local/lib/python3.9/dist-packages (from huggingface-hub<1.0.0,>=0.11.0->datasets) (4.5.0)\n",
            "Requirement already satisfied: certifi>=2017.4.17 in /usr/local/lib/python3.9/dist-packages (from requests>=2.19.0->datasets) (2022.12.7)\n",
            "Requirement already satisfied: urllib3<1.27,>=1.21.1 in /usr/local/lib/python3.9/dist-packages (from requests>=2.19.0->datasets) (1.26.15)\n",
            "Requirement already satisfied: idna<4,>=2.5 in /usr/local/lib/python3.9/dist-packages (from requests>=2.19.0->datasets) (3.4)\n",
            "Requirement already satisfied: python-dateutil>=2.8.1 in /usr/local/lib/python3.9/dist-packages (from pandas->datasets) (2.8.2)\n",
            "Requirement already satisfied: pytz>=2020.1 in /usr/local/lib/python3.9/dist-packages (from pandas->datasets) (2022.7.1)\n",
            "Requirement already satisfied: six>=1.5 in /usr/local/lib/python3.9/dist-packages (from python-dateutil>=2.8.1->pandas->datasets) (1.16.0)\n",
            "Installing collected packages: xxhash, multiprocess, multidict, frozenlist, async-timeout, yarl, responses, aiosignal, aiohttp, datasets\n",
            "Successfully installed aiohttp-3.8.4 aiosignal-1.3.1 async-timeout-4.0.2 datasets-2.11.0 frozenlist-1.3.3 multidict-6.0.4 multiprocess-0.70.14 responses-0.18.0 xxhash-3.2.0 yarl-1.8.2\n"
          ]
        }
      ],
      "source": [
        "!pip install transformers\n",
        "!pip install convokit\n",
        "!pip install datasets"
      ]
    },
    {
      "cell_type": "code",
      "execution_count": null,
      "metadata": {
        "colab": {
          "base_uri": "https://localhost:8080/"
        },
        "id": "bmL5wi2WPR5b",
        "outputId": "c766bc47-bd25-420f-ea7b-c366de8d1340"
      },
      "outputs": [
        {
          "name": "stderr",
          "output_type": "stream",
          "text": [
            "[nltk_data] Downloading package punkt to /root/nltk_data...\n",
            "[nltk_data]   Unzipping tokenizers/punkt.zip.\n"
          ]
        },
        {
          "data": {
            "text/plain": [
              "True"
            ]
          },
          "execution_count": 8,
          "metadata": {},
          "output_type": "execute_result"
        }
      ],
      "source": [
        "import pickle\n",
        "import pandas as pd\n",
        "from transformers import GPT2LMHeadModel, GPT2Tokenizer, TrainingArguments, Trainer, DataCollatorForLanguageModeling, EarlyStoppingCallback\n",
        "from datasets import load_dataset\n",
        "import nltk\n",
        "# maybe modify the above to a different model? idk up to you all\n",
        "# also how to use the gpu command? like the cuda stuff.\n",
        "# \n",
        "from convokit import Corpus, download\n",
        "from torch.utils.data import DataLoader, IterableDataset, Dataset\n",
        "import torch\n",
        "import numpy as np\n",
        "\n",
        "nltk.download('punkt')"
      ]
    },
    {
      "cell_type": "code",
      "execution_count": null,
      "metadata": {
        "colab": {
          "base_uri": "https://localhost:8080/"
        },
        "id": "fu7HIewqYoWQ",
        "outputId": "b4d914c6-6020-42ba-f32e-73e528d4bcf0"
      },
      "outputs": [
        {
          "name": "stdout",
          "output_type": "stream",
          "text": [
            "cuda\n"
          ]
        }
      ],
      "source": [
        "device = 'cuda' if torch.cuda.is_available() else 'cpu'\n",
        "print(device)"
      ]
    },
    {
      "cell_type": "markdown",
      "metadata": {
        "id": "CUKGDZxPVfXs"
      },
      "source": [
        "# Load and Prepare Dataset\n"
      ]
    },
    {
      "cell_type": "code",
      "execution_count": null,
      "metadata": {
        "id": "5l-VcAlDBhZi"
      },
      "outputs": [],
      "source": [
        "seed = 448\n",
        "np.random.seed(seed)\n",
        "torch.manual_seed(seed)\n",
        "torch.cuda.manual_seed(seed)"
      ]
    },
    {
      "cell_type": "code",
      "execution_count": null,
      "metadata": {
        "colab": {
          "base_uri": "https://localhost:8080/"
        },
        "id": "lKtO6nHPlICE",
        "outputId": "7934b948-42cb-47ca-db1e-cff8009cb166"
      },
      "outputs": [
        {
          "name": "stdout",
          "output_type": "stream",
          "text": [
            "drive/My Drive/448 Group: Jedi Order/models\n"
          ]
        }
      ],
      "source": [
        "print(GOOGLE_DRIVE_PATH)"
      ]
    },
    {
      "cell_type": "code",
      "execution_count": null,
      "metadata": {
        "id": "DrxAqHIDnEwX"
      },
      "outputs": [],
      "source": [
        "sub_reddit = '/Indiana'"
      ]
    },
    {
      "cell_type": "code",
      "execution_count": null,
      "metadata": {
        "id": "n9scK1gGkbrB"
      },
      "outputs": [],
      "source": [
        "val_post_path = os.path.join(GOOGLE_DRIVE_PATH + sub_reddit, \"val_post_set.pickle\")\n",
        "val_com_path = os.path.join(GOOGLE_DRIVE_PATH + sub_reddit, \"val_com_set.pickle\")"
      ]
    },
    {
      "cell_type": "code",
      "execution_count": null,
      "metadata": {
        "colab": {
          "base_uri": "https://localhost:8080/"
        },
        "id": "SFA4uui_leyQ",
        "outputId": "c644b7d3-d0bb-4074-adfd-6aa17c808bb8"
      },
      "outputs": [
        {
          "name": "stdout",
          "output_type": "stream",
          "text": [
            "drive/My Drive/448 Group: Jedi Order/models\n"
          ]
        }
      ],
      "source": [
        "print(GOOGLE_DRIVE_PATH)"
      ]
    },
    {
      "cell_type": "code",
      "execution_count": null,
      "metadata": {
        "id": "N_FTEuAWgbqv"
      },
      "outputs": [],
      "source": [
        "# posts_datasets_to_use[0] = pickle.load(open(train_post_path, \"rb\"))\n",
        "val_posts = pickle.load(open(val_post_path, \"rb\"))\n",
        "# posts_datasets_to_use[2] = pickle.load(open(test_post_path, \"rb\"))\n",
        "# comments_datasets_to_use[0] = pickle.load(open(train_com_path, \"rb\"))\n",
        "val_comments = pickle.load(open(val_com_path, \"rb\"))\n",
        "# comments_datasets_to_use[2] = pickle.load(open(test_com_path, \"rb\"))"
      ]
    },
    {
      "cell_type": "code",
      "execution_count": null,
      "metadata": {
        "colab": {
          "base_uri": "https://localhost:8080/"
        },
        "id": "2gW6sBAYpNH4",
        "outputId": "99991147-513e-4cc7-c365-61739e9ea650"
      },
      "outputs": [
        {
          "name": "stdout",
          "output_type": "stream",
          "text": [
            "<bos> I am an intercampus transfer and there is orientation tomorrow and the day after. It's 2 days long. I don't feel like attending that long of an orientation, most other schools have orientations a day long especially for transfer students. Can I skip most of the orientation and just have the advising appointment? Or will that not work and they will place a hold to not let me sign up for classes? Can I have the 411 please. <eos> \n",
            "<bos> I know you can snag free condoms at the health center and a copy of either the USA TODAY or the New York Times in Woodburn. <eos> \n",
            "<bos> Hello fellow Hoosiers. I am a student who lives in the University Residence Halls. Today my cousin came to visit unannounced, and I told him he would be alright to park in a D spot for only a few minutes so he could check out my place. When we got back he had a $50 ticket for not having a permit. I felt bad and told him I would pay it since I told him he could park there.  I am just wondering what would happen if I don't pay the ticket. Since he had no permit, there is no way to track it to me, so I could not get billed. They got his license plate number and car description though. If it does not get paid, will they look him up based on this or just let it go assuming he doesn't get another ticket here? I got one last year for parking over the line in my spot, but was able to appeal it, but this one I don't think could be appealed since the car was blatantly parked without a permit, and it was clearly posted. Any advice is appreciated. I won't be heartbroken if I end up having to pay it, but I just am wondering what would happen if I do not. <eos> \n",
            "<bos> As you may know, there's a pretty big football game this weekend. Actually, it's probably the biggest IUFB game in the last 20 years. If IU can knock off Wisconsin on Saturday, they'll have the inside track for a berth in the B1G title game. If they can win that, Rose Bowl! I shouldn't need to tell anyone how historic that'd be. Whether you like football or not, this team has worked their asses off all year to represent IU and now it's our last chance this year to show them some love. These guys deserve a packed house, especially for the seniors.  So tell all your friends, wake up early, hit the bars, hit the tailgate, get rowdy and be in the game by noon to rock The Rock! Rose Bowl here we come! <eos> \n",
            "<bos> I'm looking to take an elective for fun next semester and was wondering if there are any classes through IU that teach cooking. <eos> \n",
            "<bos> I know that I can get the New York times in print with my ID card in the IMU, but I was wondering if anyone know where else I can get it, maybe closer to the law school. Even better, a list of all locations would be greatly appreciated. Thanks. <eos> \n",
            "<bos> Is there an obituary or something?? Or just a rumor? <eos> \n",
            "<bos> Hey IU....  The [IU Ski and Snowboard Club]([url link] is once again hosting our annual Rail Jam in Dunn Meadow. We're bring in real rails from Paoli Peaks, and real snow from the local ice rinks. We'll also have a DJ, redbull girls, and some other fun stuff going on. Come watch, come ride, join us! **Friday November 30th- 6pm to 9pm** Dunn Meadow- Right outside of the Indiana Memorial Union along 7th, Indiana Ave.  [MORE DETAILS HERE]([url link] All participants must wear a helmet and sign our waiver.  ----- The [IU Ski and Snowboard Club]([url link] in partnership with the Bloomington Alpine Club, and Paoli Peaks is premiering MSP's Superheros of Stoke on Sunday December 2nd. **Where:** Indiana Memorial Union-- Whittenberger Auditorium on the campus of Indiana University- Bloomington **When:** Doors open at 6PM **What:** We're premiering Superheros of Stoke along with Burtons 13. We will also be raffling off thousands of dollars in prizes including some goggles from Zeal Optics, lift passes, and a bunch of other items. [More Information Here]([url link] $5.00 for Adults $1.00 for Children and Students Free for club members <eos> \n",
            "<bos> Hey I’m from NC and I got accepted to IU. Problem is tho I got waitlisted for Chapel and NC state and I didn’t direct admit for the business school at IU. I got accepted into my in state schools (UNC Charlotte, Appalachian State) and of course they are much cheaper than IU. So is IU worth out of state money? I didn’t get any aid but my parents agreed to pay for my housing.  <eos> \n",
            "<bos> Are there any online search sites for roommates for sophomores, juniors, seniors similar to the dorm matching facebook page for admitted freshmen? <eos> \n",
            "<bos> I was just sitting in a lounge about 15 minutes ago when I heard tires screech and then a loud booming sound. Looked out the window and there was an SUV in the circle drive that was flipped on it's side. It looks like the driver hit the brick formation near the driveway. It didn't look like anyone was seriously injured. Damn. Does anybody know anything else about this? <eos> \n",
            "<bos> I thought they were supposed to come back in August, but I can't find ANY information as to what's going on...Anyone know anything? <eos> \n",
            "<bos> Is this an anomaly or a perennial conflict? <eos> \n",
            "<bos> Either an EM-P pass or would consider a pass to park at certain dorms. <eos> \n",
            "<bos> Hey friends. I'm a senior at IU Bloomington this semester, I've been at IUB my whole college career. My question is how do I sign up for an online spanish course that is offered out of IU East? I tried emailing my adviser but seeing as it's officially winter break, I don't think she's going to get back with me in time. The reason I'm interested in the online class is because I didn't pass HispS200 this semester and have to retake it, however, I already have my set schedule for next semester and I need to take it online. I did some research and found that IU East has Span-S200 (which is the equivalent) 100% online, but it won't let me register for it (I'm assuming because I'm enrolled at IUB). Please help, I need to take this class and I need to take it online and it has to be next semester or I won't graduate on time. TLDR: I need to figure out how to enroll in an online spanish course from IU East while I'm currently attending IU Bloomington. <eos> \n",
            "<bos> hi! if you know anyone who's looking for housing now or for the spring semester, i'm looking for someone to take over my lease. i'm starting a new job in TN next month. the apartment is in sassafras hill at 100 e. miller dr. it's a 2 bedroom, 1.5 bath townhouse, 1100 sq ft, pets allowed. we've really enjoyed our time living here--it's a nice, quiet community and on the 7 bus line so it's an easy trip to campus. here's the craiglist link, but i'd be happy to answer any questions here, as well. thanks! [craigslist ad]([url link] <eos> \n",
            "<bos> I bought a basketball/football season ticket online. I assume this takes the form of a ticket booklet? If so, will this be sent to me or do I have to collect it from somewhere?  <eos> \n",
            "<bos> Incoming Freshman here. I got an email saying that the housing deposit was due before May 1. I'm having trouble finding much info about how much or where to pay. I'm a 21st Century Scholar, which apparently pays for $100 of the $300, but I'm not sure if I have to pay the other $200 now or if it gets put off for later or what. If anyone has any idea that would be helpful. <eos> \n",
            "<bos> I lost my wallet yesterday near eigenmann hall. If anyone finds it you can have all the money I just want my cards and ID back. Its a black wallet and there will be a reward. Any help on finding it would also be appreciated  <eos> \n",
            "<bos> Is it worth bringing a bike, skateboard, or long board on campus? Do most students use these?  <eos> \n",
            "<bos> Recently 21, had to renew, still waiting on the BMV to mail my card. I'm doing a bar crawl on Thursday and I'm afraid I won't get it by then but I have the paper print out and the receipt from renewing plus, obviously, the old card that expires between now and then. Anyone done this before?  <eos> \n",
            "<bos> I am looking for any on campus job next sem. Does anyone know a good place to get hired that isnt a cafeteria? <eos> \n",
            "<bos> Hey all. I would be an incoming freshman and Direct Kelley Admit. I don't have a roommate or a clue as to what each dorm is like. Id like an active floor, with hopefully some people that like listening to music/hanging out. I'm not a huge partier but Im always down with smoking a little something something/drinking. Kind've a night owl too.  What should I do? Should I apply for housing, even if Im not certain? Is there a dorm Id fit in at? Where should I apply!  Thanks guys. <eos> \n",
            "<bos> I invited a good friend to the Honor's Ball, and since she's from another college, she'll be staying with me for the weekend. It'll also be her first time at IU, so I want to show her around and do things that would leave her with good memories of the school. But, I'm not entirely sure what all to do. Any advice? Also, we're not big party people <eos> \n",
            "<bos> Hello from the St. Louis subreddit! We just hit town and everything is sticking to everything. We are arguing over Scotty's or something called Taco Rocket. SO, we will be at the Comedy Attic tonight with Loser: A Live Action Game Show. It's got tiny karaoke challenges, beer chugging contests, pizza roll contests, video game challenges, and inter-gender sitcom theatre and more. [Here are the details!]([url link] if any Redditors want to drink and get nuts with us, we promise you a good time or your karma back! Xoxoxo Topsiders @losershameshow is where we post shit  <eos> \n",
            "<bos> I was just invited to apply. I'm a freshmen about to start my second semester and match the GPA requirement and necessary graded credits. I was wondering if anyone else applied and got in at IU rather than before their freshman year. Can anyone tell me what the application process is like?  <eos> \n",
            "<bos> So quick disclouser, I'm leaveing the service in the next month or so. I got my acceptance letter from IU. And now I have no idea what I'm doing. I'm trying to find an appartment (something I've never done), look for a part time job and really trying to be a \"civilian\" for the first time in 7 years. So can anyone point near a good realator, places that will be hiring in the next few months, and any general information about IU and Bloomington that will make this transition a little less stressful? <eos> \n",
            "<bos> Is there a way to request funding from IU for my organization? How do I reserve rooms? Who do I go to ask for the room reservation? Is there a link to some forms or something? <eos> \n",
            "<bos> I'm a transfer sophomore and am currently living in an apartment on campus. I am looking for somewhere different to live come next fall. Many of the lurkers on here have lived all over B-Town and I was just seeking advice on places to check out.  My hope is that this can be a thread for advice on great places to live, places NOT to live and why, etc. I do not wish for this to be a place for people to post ads looking for sub-leasers.  More specifically, I'm looking for 1-2 bedrooms (preferably one) at least as many bathrooms as bedrooms, W/D, relatively inexpensive ($300-$800/month/person), parking available and for guests, private entrance, proximity to campus can vary, but obviously in Bloomington.  <eos> \n",
            "<bos> Anyone know of any links or ways to view security cameras on the campus? <eos> \n",
            "<bos> I have a statistics course requirement for Informatics. I have been suggested the following from an Info advisor: CJUS K300, SPEA K300, and PSY K300. I am not particularly good at math, and If anyone could tell me which of these is the easiest among the statistics courses or which has the best teacher I'd really appreciate it. Thanks in advance :) <eos> \n",
            "<bos> Anyone here at IU doing National Novel Writing Month? I just started writing today and was wondering if anyone else here was doing it too? edit: spelling <eos> \n",
            "<bos> Spacious and clean apartment on south Sare Rd., sublease (375/month) 1 bedroom in a 2-bedroom / 1.5 bath two-story townhouse on south Sare Rd. Female house-mate (Redditor), very clean and quiet. All utilities paid except electric and internet. Right on 5 Bloomington Transit bus line, free parking, lots of nearby trails and parks. 3-minute drive from Kroger on College Ave. Available now! <eos> \n",
            "<bos> My iphone screen just cracked and I was wondering if anyone here could fix it. I would buy the replacement screen, as well as pay you for your time and effort. (Payment is negotiable.) Anyway, let me know if you can! My email is samjhigg@indiana.edu. <eos> \n",
            "<bos> Can graduate students study in the law library, or are only law students able to do so? I know that the library doesn't allow undergraduates to study in it, but I'm not sure about graduate students. <eos> \n",
            "<bos> Disclaimer: I am one person involved in a multi-faceted social movement. I do NOT claim to speak for anybody but myself, but I like to believe I am fairly knowledgeable on these issues and will do my best to answer all questions. Also, it's okay if you disagree with me or the strike. Let's just keep this conversation civil. Please try to ask questions or substantive thoughts instead of posting \"the strike is dumb hurr durr\". Thanks! For general information check out the tumblr: [url link] <eos> \n",
            "<bos> I saw that there are auditions tonight and tomorrow. Does anyone have any experience or advice on what to expect? Thanks! <eos> \n",
            "<bos> Hi. I was just admitted to a graduate program here at IU, and I was wondering, how on earth am I going to pay for it? I took two years off after I finished my undergrad, and so far it looks like my only options are loans. I've looked at fellowships and the like, but those mostly seem geared towards current students who can get nominated and such. I've been doing a ridiculous amount of scholarship work, but those have mostly fallen through. I would continue to work, but I work 40 hours over the course of three days, and if I continue to do that my first semester, I'm afraid it'll destroy me. Am I missing some sort of obvious solution besides loans? Thanks for helping. <eos> \n",
            "<bos> My decision is between a race/road bike and a mountain bike to bring to school. I will be using it to ride to class which is not very far as I'm just off campus and the occasional ride around the city for leisure. Mountain bike is heavier/bigger and has thick tires, while the race/road bike is older, smaller, lighter, and has thin tires. Any advice? <eos> \n",
            "<bos> I am trying to submit an appeal to the Academic Standards Committe. I have outlined what I want to write in the appeal, and I have a copy of the sheet that says how to properly address the letter, however, there is nothing that gives a suggestion to the length of the letter. Does anyone have any suggestions or advice to give me about submitting this appeal? <eos> \n",
            "<bos> I live in Foster and I have friends coming down this weekend. Where can they park for the weekend?  <eos> \n",
            "<bos> I'm gonna be a freshman at IU and I'm from New York so I'm really not familiar with Indiana the state and don't have the connections there that some of the in-state kids have, along with being 14 hours from home. I'm in Kelley and am taking Finite Math, Creative Writing, Comp. in Business, Pre-Law, and Kelley Compass. I'm also living in the new dorm Rose, which apparently is very nice. I'm also very into stand-up comedy and improv, along with baseball. Obviously I'm nervous to start IU, so I just wanted to ask any current/former Hoosiers for any advice they can give a freshman.  Also I plan on getting drunk SOMETIMES. I'm not really into getting constantly trashed and being drunk on a Tuesday morning. Oh and also I want to join a fraternity. <eos> \n",
            "<bos> Can I get some opinions from people who have taken this class on professors, and difficulty? I have 16 credit hours and am looking for a class that isn't too challenging, so that I don't end up overworking myself. Thank you! <eos> \n",
            "<bos> I'm interested in all sorts of things. I have a pretty busy schedule with only 4 classes and 12 credits, but I'm a Junior and I'm running out of time to take advantage of all the great classes and professors that IU has to offer. So, what are your recommendations? <eos> \n",
            "<bos> So i recently got a ticket for possession of paraphernalia. I was vaping weed in my dorm room and got caught. Which i know was a dumb idea but its been too cold to go outside. I was just wondering if anyone else has dealt with this and could give me some advise? I'm 18 years old and have no priors, drinking tickets or anything of the sort. The cops took my grinder and magic flight box (vaporizer). I only had roughly .3g of weed which is about $4, but they didnt add possession of under an oz which is good.  <eos> \n",
            "<bos> Does anyone know of any good places around Bloomington to volunteer with? <eos> \n",
            "<bos> Anyone? Have a few questions! <eos> \n",
            "<bos> I need one more credit to be elligible to apply to the honors college at the end of the semester. I think the class has to be graded, but regardless of the grading what were your favorites?  <eos> \n",
            "<bos> Hello IU Reddit, I am a first year student at the Kelley School of Business, and I was given three charges over the weekend for personal Misconduct on University property for pushing over a trashcan in my hall and throwing a burnt Piece of paper in it (it was not lit when I threw it into it) one month ago. I was very angry at the time, I've been calm since then, and it was my first ever charge. I have to go to a judicial conference tomorrow, and I have no idea what will happen. I talked to a friend who had to go to a conference before for illegal drinking, and he said that I will be fine, but I don't know. Does anyone know what could happen? Will I be kicked out or lose my scholarship?  <eos> \n",
            "<bos> Looking for at least two other roommates for the 2016-17 year. Planning to live by the stadium, likely Varsity Court. Rent would be around $310-$370 a month plus utilities. Open to living somewhere else if it was around that price range. We can get into more details later, but right now I'm just looking for good, chill people who are in need of roommates for next year. <eos> \n",
            "<bos> ...you should check out the Root Cellar tonight. My friend and I are playing our first house/trance/downtempo gig and it's free!  We're sort of worried that all 12 or 13 dance music fans will be partied out from Above and Beyond, but we're not, don't worry. And we named the show \"[Space Jam]([url link] so it's gotta be fun, right?   <eos> \n",
            "<bos> I got the full 6000 for the Provost merit scholarship. I've heard that some schools only apply merit scholarships towards tuition. But, I already have my tuition paid for through 21st Century. If I get all of my direct costs paid for through Groups/Covenant, will my merit scholarship be applied to any extra costs (i.e. bigger meal plan, better dorm room, etc.)? I've tried to look around on the IUB site what exactly the scholarship can be put towards but I can't find an answer. Also, I'm eligible for a Pell Grant, the full amount. Does anyone know how that will all work out? <eos> \n",
            "<bos> Just wondering <eos> \n",
            "<bos> What is the minimum grade you need for a course in your major to not have to take it over. Is it a C-, C, or C+? Thanks <eos> \n",
            "<bos> I am a senior in computer science at IUSB who spent my first 2 years at Bloomington campus before taking a year off then transferring to IUSB to save money on tuition.  I have some research projects and 2 decent internships, data science/viz and machine learning have been interests of mine for several years so I consider myself fairly knowledgeable for an undergrad. Python, R and related ML  scientific computing libraries (tensorflow, numpy/pandas, matplotlib, sklearn etc.) I've worked with Karst and other similar resources for ML purposes such as AWS EC2 instances.  With this masters I'm trying to improve my resume a bit and ideally go into something directly data science related instead of general software engineering. But if it just helps me get a higher paying job somewhere nice through IU career services that's also a perfectly acceptable outcome to me.  So my main question is how competitive is admissions to the program? Should I try to go for the online program? Or half and half online/on-campus option? Get myself an extra year or 2 of job experience? What's the typical accepted student profile? The soic website is uncharacteristically lacking in general info.  My cumulative GPA is a 3.1 something and I have no true work experience in the field. I have taken a couple practice GREs and gotten in the top 20th percentile range.  Thanks for all replies and advice  <eos> \n",
            "<bos> As of now, I am planning on taking Organic Chem Spring 2012 and debating whether or not to take Organic Chem II the following Summer or wait until Fall of 2012. The reason I want to take it this summer is so that I can only focus on that class and nothing else, but I do not know if shortened time will outweigh the fact it is the only class I will be taking. <eos> \n",
            "<bos> I just found out that there is a concert in September at Bluebird in Bloomington that I want go to. However, Bluebird is a bar and I'm not 21. Does anyone know if they let minors in for shows? I know of some places that do this (they usually put X's on the back of your hands so the bartenders know you can't drink) and I really hope the Bluebird is one of them. If you have any information, that would be great. <eos> \n",
            "<bos> I bought football/basketball tickets for the first time this year. Not really interested in attending any of the games. How do I go about selling the tickets? I believe football tickets are on your student ID, can I still sell those tickets?  <eos> \n",
            "<bos> My roomate and I would throw gas money without a problem. Please let me know if you are interested our ride cancelled on us :/ Thanks Reddit <eos> \n",
            "<bos> I live off campus and I have Popcorn Time on my computer which I believe uses torrents to watch movies. Will I get in trouble if I have it on my computer when I'm on IU secure? If I don't use it while I'm on IU secure can I still get in trouble just for having it? <eos> \n",
            "<bos> My K201 mid-term is coming up in a few weeks. Does anyone know of, or where to find any review sessions?? I heard there are review sessions at Briscoe but have not heard any specifics.  Also, has anyone received tutoring in K201? Was it beneficial? Thanks Go Hoosiers <eos> \n",
            "<bos> Considering Indiana if my Kelley petition is approved. I understand there are multiple levels of the meal plan. I work out daily so can someone explain the meal plan and which would be best for someone active? Thanks! <eos> \n",
            "<bos> I'm a freshman and I enjoy singing a lot, but not a vocal major. I was mainly a part of choir/madrigals and also did IMEA. Are there any groups that still want people or is that basically over with? Also, do most groups want members to be proficient in theory? What are the options around for now or for future reference? Thanks guys <eos> \n",
            "<bos> I'm having issues joining a PS3 party (specifically one in COD: Ghosts) with my roommate. We are both connected to IU DeviceNet. I'm aware of an issue where two gaming devices that are connected to the same router have issues with parties. I suspect this is a similar problem, but since we're on campus we can't access network settings to configure a DMZ or mess with ports. Has anyone else experienced this issue/can anyone help fix it?  Edit: My next idea is to try to connect one of the devices to IU Secure. Maybe getting the consoles on two different networks will help. This is the first time I've lived on campus and dealt with IU DeviceNet, so does anyone know if consoles can even be connected through Ethernet to IU Secure anymore? <eos> \n",
            "<bos> I was accepted to Bloomington campus starting this fall and it is one of my first choice schools. However, I was given no financial aid at all and I am dying inside hearing my parents talk about putting down the deposit to my fourth (and only in-state) choice school. I am curious to know if it is possible to defer for a whole year in order to work full time here (or maybe move to Indiana and work) and then have some money saved up in order to attend the school of my dreams. <eos> \n",
            "<bos> Hey, so I want to try and get out of W131. If i were to take the Act or sat and score above a certain threshold, could I just send the score to IU admissions and not have to take the class? Thanks <eos> \n",
            "<bos> Basically what the title says. I have head nothing but good things about Indiana University Bloomington from alumni, but not from current students. How's the social life? Clubs? Classes?  <eos> \n",
            "<bos> For anyone in here who has experience with being an AI/TA at IU...do you know what the pay schedule is for this work? Is it monthly, and if so, when are the first payments made to the AI/TAs? I'm trying to figure out my budgeting for the fall and haven't found this information anywhere. Thanks! Edit: To be more specific, I'll be an AI for the Geography department. Any experience in that particular department would be especially helpful. Thanks for the replies so far! <eos> \n",
            "<bos> If you live there now (2015-16 year), how is it? Or if you have lived there within the past two years how it's been as well. Please advise me. Thanks. <eos> \n",
            "<bos> Hi! I’m transferring to IU this fall. Didn’t do any sports in high school because I was too busy being elitist against the jocks. But hell- sports look fun. Toxic environments are not. What are some good women’s sports on campus that will be welcome to beginners and have friendly communities? Is it a sort of thing that you have to take as a gym class? I’d love to get involved with a team but have no idea where to start! I’m open to all kinds of sports, because I’ll be uncoordinated wherever I go.  Thanks! Go Hoosiers 💪 <eos> \n",
            "<bos> Anyone taken calc (201) online through Ivy tech? Just wondering how hard the midterm and final are, if there's a curve, etc... <eos> \n",
            "<bos> I'm craving a Slurpee something fierce and Google says the only 7-11 in town is closed permanently. Anyone know of a gas station that sells slurpees? <eos> \n",
            "<bos> So I'm a huge UFC fan and I'm looking for a place relatively close to campus to watch UFC 194 tomorrow night. I'm under 21 so I cannot access certain bars. I would go to Buffalo Wild Wings, but it's several miles off campus and I don't have a car. I would greatly appreciate any help or suggestions.  <eos> \n",
            "<bos> Hey, would anyone who has lived in on-campus apartments, especially Tulip Tree and Mason, be willing to talk back and forth with me and answer some questions for my friends and I? Thanks, all! <eos> \n",
            "<bos> Where do you think has a nice view? Favorite study spot? Cool little corner somewhere? I've explored so much of campus the past few years but feel like there is so much more to see. <eos> \n",
            "<bos> I can't find a good time to take calc that fits my schedule and I noticed the online one is an option I've never taken an online class before would anyone recommend this ? or should I steer clear and take the in class version <eos> \n",
            "<bos> I'm looking for a new computer, has anyone had any luck or know of anyone that has gotten something half decent at an even more decent price?  <eos> \n",
            "<bos> Hi! I'm hoping for a little Big10 support: I'm attending a grad party this weekend, and I need a gift. The graduate is a girl who will be starting at IU in the fall. I thought it would be cool to get her gift cards to restaurants on or near campus for those nights she needs a break from dorm food. I don't actually know her, so I can't speak to her preferences. I was going to do Chipotle, but I think it would be better to get local student favorites. I need to be able to purchase online or from Chicago suburbs. Any ideas? Thanks for any help you can offer! <eos> \n",
            "<bos> Hello all. I have a question regarding how does in state tuition work at Indiana University.  For some background information, my family and I are US Citizens, living in a foreign country. After applying to colleges and reviewing my options, I have committed to IU-Bloomington. As of now, I am an out of state resident, as my parents currently have no state residency. They are planning on moving with me to Bloomington, if not immediately, than at most in a few months. My question is, how soon after they move to Indiana can I claim in state tuition? Can it be right in the second semester? Or will it only be in the next year? If in the second semester, how do I go about claiming residency? Again, my parents don't have a state residency currently, so I am assuming that the process of actually gaining residency in Indiana should be fast.  Additionally, my family wants to move back to US, to settle there for at least ten to twenty years. If they get an apartment, and my parents get a job, do you think that after a year, after taxes are paid, we would be able to prove residency? <eos> \n",
            "<bos> Hi all, I'll be starting as a PhD student at IU in the fall. When I visited campus this spring, my T-Mobile phone had coverage almost nowhere. I'm thinking of switching to Sprint. Can anyone report on the coverage quality in Bloomington? <eos> \n",
            "<bos> Seeing people ask about Wright and Read, I figure there are probably other incoming freshman curious about their dorms. May as well just have one place where they can compare dorms. I'll start. I lived in Foster last year and it was pretty good. I'll say it's probably the worst of the northwest neighborhood, but it has some perks. One pro is having Gresham cafeteria, Hoo Den, and the Crimson Creamery right outside your door. It's also very close to the SRSC (gym) and a short walk from Assembly Hall. There are definitely some cons though... laundry isn't as convenient as it is in some dorms, the bathrooms are community so they're generally trashed (at least on guys' floors), and it's probably gonna be loud most nights. <eos> \n",
            "<bos> Hey Bloomingtonites, Being someone that doesn't attend bars too often, I'm not well versed on the best drink specials. Thinking of going out tonight (Thursday), and figured I'd ask for some advice from you guys. Any thoughts?  <eos> \n",
            "<bos> Gaming @ IU is proud to announce LAN War XXXII - our 32nd event at Indiana University, coming this April 8th, and we'd be happy to see you again, or for the first time! For event details, registration, and other information, please visit: [url link] We’re happy to announce that Tourney voting is back. All early registrants can nominate up to 3 games they want to have be sponsored tourneys. There will be 4 official, prize supported tournaments, voted on by early registrants. Prize pools are generally about $100-$125. That aside, there are dozens of other games being played all the event, both in tournament fashion, and in casual play. The raffle prizes generally exceed $10k in value, and easily make the event more \"worthwhile\" than the tournament prizes do.  <eos> \n",
            "<bos> I made the mistake of slacking off a bit in high school and ended up getting just below the requirements for being a direct admit (3.68 GPA 1200 SAT) because I didn't know about direct admission at the time. It sounds like getting into Kelley and getting signed up for the classes you need is just so difficult and I just get the feeling that I might end up hating everything and not enjoying my experience at all. I'm wanting to major in Accounting, but I don't know much about accounting and I'm basically wanting that major based on the salary and high demand for the job.  I'm considering maybe switching to Informatics - Information Technology. I'm good/interested in computers and while I'm sure this degree isn't easy, it probably won't be as stressful as trying to get into Kelley for a job I'm not even sure I'd enjoy. <eos> \n",
            "<bos> Thinking about housing for next year, what is Wells quad like? I'm always at Goodbody for food/coffee and plus most of my classes are in Ballantine/that area. Plus, I've heard that after the renovations, it's really nice.  Otherwise, I'm in Wilkie this year and enjoy the single/private bath (don't mind sharing with another person) and A/C. Any other recommendations for good single dorms on Campus?  <eos> \n",
            "<bos>  Ballantine Parking Garage will be closed starting Monday, October 8, 2018....... through May 31, ***2020***!! <eos> \n",
            "<bos> I will be moving into the Teter honors community tomorrow morning. Any tips or recommendations for move-in days? <eos> \n",
            "<bos> Hi, I was wondering about the language flagship program, specifically the Chinese one. I was researching the website for IU and there was some information but it was hard to come by some actual experience from other people in recent years. I was wondering if you guys could answer some questions if you know anything about it. How much extra work do you guys know would it take to do the language flagship and would it interfere with my other opportunities because I am a prospective Kelley student so I would like to be flexible but take all the advantages offered to me. Thanks very much, this sub is extremely helpful and I appreciate it. <eos> \n",
            "<bos> Is rush at IU in the fall or spring? Both? How long is it? Some friends say that the IFC is ruining greek life at IU, whats your opinion? Any other details you want to share would be appreciated.  <eos> \n",
            "<bos> I'm at the lanwar at Briscoe and when I go outside I hear fireworks going off near here. Anyone know what's going on?  <eos> \n",
            "<bos> I'm an incoming second year from out of state and I don't know anybody. Not really trying to live in the dorms. Are there any apartments that do roommate matching? Also what area would be best to live in? I like being close to restaurants and things and I don't want to live in a social dead zone. <eos> \n",
            "<bos> I'm a senior in high school currently who has been accepted to IU.. I was offered a 5k a year deans scholarship with my 29 ACT, but I retook the test and now have a 30 superscored.  This will get me into Kelley, but I was wondering if they will automatically reconsider my scholarship or do I have to email them asking for more money? And if so what are the chances they'll actually give me a better scholarship? Thanks.  <eos> \n",
            "<bos> I was planning on taking history of rock n' roll but apparently it's not available for Spring 2017. Anyone has recommendations for easy IUB AH credits? I need a 3 credits class. <eos> \n",
            "<bos> Looking for a place to stay for next year (Aug-May). Relatively close to campus is key, otherwise I'm not too picky. Let me know in the comments, and we can talk details.  <eos> \n",
            "<bos> Hey, I am an international student who has been admitted to IU Bloomington and although I am contemplating between majoring in either business or computer science, I'm leaning more towards comp. sci. I have also received an acceptance from University of Colorado, Boulder which is one of my top choices. So I would like to know what the IU computer science program is actually like. <eos> \n",
            "<bos> I just failed finite online at ivy tech (because I'm a fucking idiot) and was just wondering if it's going to fuck my GPA. Probably going to have to withdraw from the university because I really can't advance without finite.  <eos> \n",
            "<bos> I am an exchange student who will probably be at Indiana University Bloomington for a couple of months during the summer. I tried looking at the meal plans, but it doesn't seem very clear how much a single meal costs (breakfast, lunch and dinner). Could someone please help me out with the prices and let me know if it is worth it, or is it better to get food off campus/ prepare yourself? <eos> \n",
            "<bos> So...uh...I have a weird question. I want to view porn and stuff at IU, but all I have so far is some stuff I downloaded at home. Will they care if I watch porn? As long as it's not stuff that's illegal or illegally downloading will they care about what I look at on the wifi? <eos> \n",
            "<bos> Does anyone know of any effort to make a Harlem Shake video for IU? That would be so awesome if we had a few thousand students do one in the arboretum. Or maybe in assembly hall on Saturday! <eos> \n",
            "<bos> Like the title says, I was accepted into the Media LLC and want to know if it is worth while or not. I am going to be a Freshman in the fall 2015 <eos> \n",
            "<bos> I've an incoming freshman and was accepted into the Hutton Honors College. What benefits do I get from being in the class? I know for other schools honors students get preferential treatment for signing up for classes.  <eos> \n",
            "<bos> (I'm a freshman in Kelley) I currently have about a C in Economics, and so I really want to drop it in order for it to not affect my GPA, however if I do so, I'll only be enrolled in 11 credit hours, and I've been told that this could have some significant ramifications. Does anyone have any advice about what step I should take here? <eos> \n",
            "<bos> Has anyone tried it? Would your online security be any different than using a non-campus network? <eos> \n",
            "<bos> Hi, I am an incoming freshmen international student. Back home there was no exam that could earn me U.S. college credits. My question will be what's IU take on this? Would IU accept CLEP credit? Even is taken by international students? I really want to find a way to save some cost that I think could be done self-study. Also I am inclined major in accounting. Also a good way to accumulate credits for CPA exam.  <eos> \n",
            "<bos> My first week here the WiFi was amazing. Now it's awful and it drops frequently. What the hell happened. Why does it suck so bad? <eos> \n",
            "<bos> I'm going to be an incoming freshman from Southern California and was wondering what clothes are a necessity for Indiana winters. Thanks! <eos> \n",
            "<bos> On Jan 17th, I recieved an invoice for 1800 dollars for tuition. I've already paid my $2,800 in-state tuition, which is the total once my scholarships are applied. I am concerned - why do I suddenly owe so much random money? Help. <eos> \n",
            "<bos> I've been here for four nights now and have met a ton of people and I swear they're all the same. Nobody has anything on the mind except for trying to find where the parties are at that night so they can go get fucked up. Is there anything here for the non-alcoholics to do? Is this just a freshman thing? <eos> \n",
            "<bos> I'm a freshman this year and I lived in Ashton but I was very disappointed. I hadn't requested a single but got put in one and had an awful time. Next year I want to live somewhere else on campus with my cousin who will be a freshman. Does anyone have any advice on where would be the best? I'd prefer somewhere where people on the floor will actually talk and not act like total introverts all the time <eos> \n",
            "<bos> Does anybody know my chances of getting in as a non-degree student for spring 2018? Or does anyone know much about the program in general? I would've gone through intercampus transfer but i don't have my official transcript or 12 required credits yet, of course.  <eos> \n",
            "<bos> Are there any cars and coffee meets for IU students? Must be with all the exotic cars on campus <eos> \n",
            "<bos> Hello Hoosiers! I am a sophomore studying exercise science and I am having some difficulties regarding my calculus class. The class is M119 with Professor Orrick. I am just having some general difficulties and it is beginning to be reflected in my grade. Is there anyone out there who could provide some help like once a week? I can trade cool stuff for lessons, like how to spin items on your finger or how to throw frisbees in a variety of ways. PM me or respond here if you are willing to show me some cool calc stuff. Thanks! <eos> \n",
            "<bos> I'm hired on for working at Union Street Market. Just wanting to get more information on the job and what to expect before I start! Thanks!  <eos> \n",
            "<bos> Seeing four posts in as many days from prospective students, I feel that a megathread would make it more convenient for everybody on both ends to ask and answer questions. <eos> \n",
            "<bos> I was just wondering if any of you out there would be interested in getting something together for the finals match of the LoL Worlds on October 4th.  PM me if interested! <eos> \n",
            "<bos> So I pulled an all-nighter last night because I needed to see a friend off at his shuttle at 6:50 AM. The shuttle took off from the Union so we were wandering around inside for a while. I decided to take a look at the campus architectural model by the elevators for the hotel (you should all know what the hell I'm talking about) and discovered something kind of ridiculous. Turns out IU has plans to extend Law Ln (north side of train tracks) to the part of 10th street that just crosses from the south side to the north side of the tracks. If you know the area I'm talking about, then you should know that this sounds like a really stupid idea. To come out at Law Ln onto 10th street would mean that you're trying to merge with a complete blind spot to your right. The best thing you could do is add a stop light which would increase congestion on 10th street to ludicrous proportions. The second piece of future construction I noticed was pushing Woodlawn further north, through the train tracks, and meeting at the bypass. This I don't have as big of an issue with except for the fact that to do this, they'd effectively be splitting Assembly Hall and Memorial Stadium. I don't know about you guys, but I feel like there's just something incredibly wrong with that. Downvote if you wish, but I thought this is something all of us need to know, and maybe even discuss about bringing to the administration. tl;dr: More road construction meaning more congestion, and the splitting of two of our most iconic teams (maybe one of those teams is iconic for the wrong reason, but whatever it's still the idea). <eos> \n",
            "<bos> Are lines usually long? Which store are you going to? <eos> \n",
            "<bos> We play everything from Sublime to Motion City Soundtrack to Fall Out Boy, and are open to suggestions. We really need a drummer with a kit, or even just a cheap kit if you know where to get one. Sorry to bother you guys again, and have a good day. <eos> \n",
            "<bos> I have a student section ticket tonight for the UNC game, and am unable to go. I've been trying to get rid of it but to no avail. I think $20 is a reasonable price seeing as this will been an intense game. PM me if you're interested. Thanks Edit: Sorry everyone due to the high volume of responses, I had to choose one. The ticket is no longer available <eos> \n",
            "<bos> Hi, I will be an incoming DA freshman to KSB next year and will be taking the calculus placement exam during my Summer Orientation to potentially be exempt from Calculus Courses. I was wondering if anyone had any experience with this placement exam in terms of difficulty, length, and how hard it is to actually achieve the score necessary to be exempt.  Thank you in advance <eos> \n",
            "<bos> What are your best tips or information for an incoming freshman during Welcome Week? What are the best events, secret events, lame events, etc. Also, what is some good info for freshman regarding parties during this week? <eos> \n",
            "<bos> If so, you should have received a code in your email with a special password. I was wishing to attend the concert but there is a VERY strong chance it will sell out. If you could pm me the code that would be great! <eos> \n",
            "<bos> I know prospective freshman questions are looked down upon in this sub, so I apologize in advance. I just received an email regarding Standard Admission to Kelley and it gave me these requirements: •\tCompletion of 30 hours of college course work (AP, IB or college credit will count) •\tCompletion of these courses on the IU Bloomington campus: – BUS-K 201 or BUS-K 303 – Choose one: ENG-W 131, BUS-C 104, BUS-C 204, BUS-L 201 or BUS-G202 and BUS-D270 – Choose two: BUS-A 201, BUS-A 202, ECON-E 201, ECON-E 202, MATH-M 118, MATH-M 119, ECON-E 370, or BUS-A 100 and BUS-G 202 •\tMaintain grades of B's and above in every class.   Which combinations of classes would give me the best shot at getting into Kelley? <eos> \n",
            "<bos> I currently plan to go to another Big 10 which is ranked in the top 5 for CS. I really didn't like the campus and the atmosphere when I visited, but I chose it because it was in state and close to home. I really loved IU when I visited and feel like I made the wrong choice. Is the CS program any good at IU and is it worth it to transfer just because I liked the university as a whole better? There's no doubt I will have more/better opportunities at my current school.  <eos> \n",
            "<bos> Hey, /r/indianauniversity! Quick question: is there anywhere I can go to record some piano?  <eos> \n",
            "<bos> Anyone taken Russian for their language?? Wondering the difficulty, thoughts on class, exams...? Etc.. <eos> \n",
            "<bos> Looking for weed, rolling paper, willing to pay cash. <eos> \n",
            "<bos> I am currently a Informatics major with a specialization in Business. I am also getting a minor in Entrepreneurship and Corporate Innovation from Kelley. I was wondering what type of career fields I could enter with this and how the job availability would be? Informatics Majors, what job/career field are you aiming for upon graduation? Personally, I would love to become a Business Analyst.  <eos> \n",
            "<bos> On one.iu.edu at student center, it says that I am pre-linguistics University Division. My UD advisor said that to get into the actual linguistics program, i need to be enrolled in the college. On iu website, it says you need to have 26 credits and do the composition requirement. I have around 13 ap credits and am doing the W131 class this semester and am doing total of 15 credits this sem. can I be admitted into the college after my first semester? <eos> \n",
            "<bos> I am a junior in high school, and am considering applying to Kelley in a couple months. I currently have an ACT of 32 and an SAT 1420. However, my GPA is a 3.6 which is under the required GPA. Would I have a good chance of getting a direct admission if I petitioned? Thank you. <eos> \n",
            "<bos> I just got my housing assignment and I applied for northwest but I ended up getting eigenmann in central. Is this bad? Im worried I may not end up meeting as many people as I would if i was in northwest. <eos> \n",
            "<bos> I'm looking at you alums. What IU campus pranks have gone down in history? I'm on the hunt for ideas and possibly looking to carry on the legacy of past IU pranksters. However, I want creative ideas (i.e. dish soap in the fountain), not douchbaggary (i.e. TPing the campus) <eos> \n",
            "<bos> which of those two is easier? I need one more math course and I'm trying to take one through ivytech this summer. also if a course isn't offered in the bloomington ivytech campus, can i take it online through another campus and take the test in bloomington? if finite, do i just take the math 135 one or is there an even easier version of it at ivytech i should be aware of, because you know there are like 2 or 3 different versions of stats math at iu depending on which department you take it from Edit: I'm taking calc 2 Edit 2: turns out finite doesn't meet my degree requirements anyway. So it's settled <eos> \n",
            "<bos> Hey guys, I'm an incoming junior this fall and I really would like to find a job so that I can have some extra cash for various expenses. Unfortunately I don't qualify for work study though, so I am kind of limited in jobs I can pursue on-campus. Does anyone know of any places on/around campus (not too far cause I don't have a car) that are open to hiring poor college students like me? I have heard that RPS generally hires just about anyone, so I might look into that but I was wondering if you all had any other suggestions. Thanks! <eos> \n",
            "<bos> Hey everyone, I'm a junior and my boyfriend and I are looking for somewhere on campus where we can live together alone. Union doubles got filled up and we didn't get a chance to grab one, so we are left looking for other options. We are really interested in living in Willkie because of the apartment style living with a kitchen on each floor. So my question is: What kind of furniture is included in the [2 bedroom Suites]([url link] I assume there will be a bed, chair, and desk, but is there anything else? And is there any furniture in the \"living room\"? Also, how is living there? Thanks edit: Would anyone living in a 2 person Willkie suite be willing to let my boyfriend and I come look at it this weekend?  <eos> \n",
            "<bos> Obviously they are did fall and are doing Spring, but i've heard that some are doing a winter rush. Is that true? <eos> \n",
            "<bos> -- Every Mobile User on Campus <eos> \n",
            "<bos> did IU change anything? Is my tuition cut in half? Can I make 12 dollars an hour cleaning toilets? <eos> \n",
            "<bos> Southwest side of campus. Pretty much assuming it was stolen and then dumped cause the brake lines are cut. Really want to return it to the rightful owner and get it out of my apartment!! <eos> \n",
            "<bos> Are there any others who believe that the issues with this nation will never be solved by a group of people camping out for change? Can IU organize in a meaningful way? In a way that could possibly bring change? Are we even capable of inciting a movement that would gain attention? I believe that it is time to ask ourselves a serious question: What exactly do we stand for when it is clear we are being lied to <eos> \n",
            "<bos> Edit: On Friday, September 6th, at 5:30 p.m., in room 123 of the Maurer School of Law Panelists will include Rep. Lee Hamilton (SPEA) and Professors Fred Cate (School of Law), Nick Cullather (History), David Fidler (School of Law) and Bill Scheuerman (Political Science). Panel moderated by Professor Sumit Ganguly (Political Science). source: [url link] Thanks /u/suziemeow!  <eos> \n",
            "<bos> I'm sure you all know about the unfortunate spike in sexual assaults happening at night. Our Finite teacher has scheduled an exam at 9:30-10:30 tonight, which means a lot of students will be walking across campus at night in possible danger. I was wondering who I should voice my concern to regarding this. <eos> \n",
            "<bos> So there was an orientation/kickoff today at 10:30AM for the Serve IT program under Matthew Hottell (Director of Serve IT Non-Profit Clinic) that I was supposed to attend but I cannot move into campus until tomorrow. I already emailed the director yesterday informing him that I could not make it but that I enrolled into the INFO-I391 class and intend to still be a part of the program. For those of you who are or have been in the Serve IT program, will I still be able to be enrolled in the program if I could not make orientation?  <eos> \n",
            "<bos> I realize IU is well known for their informatics program since it is one of the few in the country, but I was wondering how good their Computer Science program is? I looked into informatics and it just seems like a watered down computer science degree mixed with telecommunications due to the degree requirements. <eos> \n",
            "<bos> It's for my dad, who coaches middle school soccer out in CO. I can't find any IU soccer baseball cap from Google searches, could anyone help me out? <eos> \n",
            "<bos> I got a 5 on my AP Calculus AB exam and 90 on the ALEKS math placement test score, but I never took the optional calculus placement exam. My major is biochemistry, which requires Calc 1 and 2. When signing up for classes during my orientation, which was before I received my AP scores, the advisor spoke of how difficult Calc 2 is in comparison of high school AP Calculus. With GPA being very important to me, would I be able to do well in Calc 2 or should I retake Calc 1, maybe honors Calc 1, as a refresher?  <eos> \n",
            "<bos> Next year I'll be living in my off campus fraternities social house, and we were looking to do house shows regularly next year - beginning with Welcome Week. Probably 1-3 bands and maybe a DJ, hopefully. Our house is a pretty decent size, plenty of room outside, and is located such that we only have 3 close neighbors. We're also only about a 15 minute walk from one of the night owl bus stops.  So, any local bands looking for a place to party/perform for exposure, PM me.  <eos> \n",
            "<bos> Hello I'm in my senior year at IU, and finally have some free time. Looking to join a club or two, at least next semester if not now. I'm a passable pool player and love it. Want to get better, but I can't find any online information or anything posted at the IMU about a club. I seem to remember there being one, at least a couple years ago.  Anyone have any information? <eos> \n",
            "<bos> Me and my friend were looking to get an apartment off campus for next year. One complex we were looking at was The Dillon.  It looks pretty nice and a decent price, but I wanted to ask some people who may have experience with living there, or have heard anything from people that do. If you guys have any recommendations for buildings besides The Dillon (if TD isn't recommended or you just have somewhere else) let me know! I'm a Computer Science major, so idk if my classes would be super far away or not. Thanks! <eos> \n",
            "<bos> I'm a sophmore looking for somewhere to live next year (i know I waited way too late). I'm looking for somewhere clean where upperclassmen live preferably. I have 21st century scholarship does anyone know how much it covers for the more expensive apartments or dorms on campus? Thanks in advance.  <eos> \n",
            "<bos> That's about it. I just want to get it back to it's rightful owner. <eos> \n",
            "<bos> Hey ladies and gents Pretty much exactly the title. SPH 151, one crédit hour. Could be a fun buffer class and it’s always a great idea to know how to protect yourself!  <eos> \n",
            "<bos> Hello redditors at Bloomington! I have some cash credited on Crimson Card by my advisor, though it is great to have food and stuff where it works, but I would like to buy some clothes (except at IMU (they are so pricey!! ) ) or electronics with that. I tried buying gift cards (Amazon etc.) using Campus Access but apparently that is not alllowed. Are there some hacks or tips on how to get more juice out of my crimson cash ? :-) <eos> \n",
            "<bos> I'm a sophomore and a lesbian. The girls I met last year fell into three categories: * Straight * Homophobic * Lived at Collins and was a Queer Biromantic Polysexual Transethnic Otherkin with 45 headmates I (stupidly?) didn't join any LGBT groups because everyone I had met (all gay men) said they were awful.  So advice and tips for finding someone if you're LGBT?  <eos> \n",
            "<bos> You guys probably get these types of posts a lot so sorry about this, but it's been weighing on my mind recently.  I'm interested in business school (accountancy) and IUB obviously has an amazing business school.  I have a high Weighted GPA (4.4) and a high ACT score (35) but my UW drops really low, down to a 3.6. In addition, It would be really helpful if I could get aid given that I have an older brother who is in college without any aid whatsoever currently.  My current goal is to apply in early September so I can hopefully hear back around early October and take a load off of my shoulder regarding college. However, if I were to do that, I wouldn't be submitting recommendation letters.  Should I wait to submit my application so that I can get letters of recommendation or should I just submit my application after I feel like I have a decent essay? How likely is it that I would get in, given that I have an UW gpa beneath the average and I'm OOS?  Thanks.   <eos> \n",
            "<bos> Long story short, I already have credit for the english class that i'm in and my adviser told me to enroll in an 8 week class. I'd prefer that it be on M, W,F. there's a gap on my MWF's from 9-11:15am. Any help/advice is welcomed! Edit: [url link] <eos> \n",
            "<bos> Hi! I'm looking to transfer out of one of my classes due to the work load, and I was wondering if anyone had recommendations for a relatively easy, lecture based 3 credit class to replace it? Thanks! <eos> \n",
            "<bos> The employers' list is so long, I don't know which ones are the best to focus my time on. Any suggestions would be great Here is the list: AccessAbilities, Inc. ACUI Apple Azzip Pizza Bell Trace Senior Living Inc. Bloomington Meadows Hospital Bloomington Project School Boys  Girls Clubs of Bloomington Bruce Wilds' Securitys Bub's Burgers and Ice Cream - Bloomington Buckle Buskirk-Chumley Theater Carl Lamb  Associates Centerstone Chabad House Chemistry Teaching Labs Chick-fil-A College Mall Collegiate Charities Comfort Keepers Crew Carwash Employbridge ESG Security Inc. Express Employment Girls Inc - Monroe County Goodwill of Southern  Central Indiana Harmony School Education Center Home Instead Senior Care Hoosier Hills Food Bank IUB - Academic Support Center IUB - Athletic Ticket Office IUB - Business/SPEA Library IUB - Campus Recreational Sports IUB - Career Development Center IUB - Center of Excellence for Women in Technology (CEWiT) IUB - CHG (Center for Human Growth) Counseling Services IUB - Contact Center IUB - Department of Theatre  Drama IUB - Document Delivery Services IUB - Event Services IUB - Facilities Services IUB - FMS Payroll IUB - Foundation Telefund IUB - Gresham Food Court/ McNutt Hoosier Cafe IUB - Herman B Wells Library Media Services IUB - Herman B Wells Library/Access Services-Circulation IUB - Hillel Center IUB - IMU Catering IUB - Mathers Museum of World Cultures IUB - Musical Arts Center-Opera Theater IUB - Office of Admissions IUB - Office of Student Financial Assistance - OSFA IUB - Residential Programs  Services (RPS) IUB - RPS Dining Services IUB - School of Art and Design IUB - The Restaurants at Woodland Kilroy's Bar Group Knee High Daycare Cooperative Lids Sports Group Lifedesigns Little Star Center Lowe's Lucky's MCCSC School Age Care McDonald's Middle Way House, Inc. Monroe County Community School Corporation Monroe County Court Appointed Special Advocates (CASA) Monroe County, IN - Probation Department Monroe County, IN - Public Library Nolan's Lawn Care Service, Inc. Pizza X Shalom Community Center Shire (Biolife) St. Mark's United Methodist Church - Nursery School and Kindergarten Stone Belt Arc, Inc. Sunflower Cooperative Daycare The Bee Corp The Kroger Company United States Army UPS Vibe Yoga Studio Vintage Vogue by GW/ Goodwill of central and southern Indiana WonderLab Museum of Science, Health and Technology WorkHere WorkOne <eos> \n",
            "<bos> Does anybody know what percentage of applicants to the SPEA MPA program get accepted? How many students are in the program? How many applications each year? Not sure if anybody knows these things, but if they do I would like to know. Thanks for the help :) <eos> \n",
            "<bos> I got directly admitted to Kelley and I'm looking at majoring in Accounting but I also want to major in something else. Whether it be another business major such as finance, or a language like Mandarin or German. Is it possible to major in something outside of Kelley? I've scoured the website but haven't found much, thought I'd try here. <eos> \n",
            "<bos> Went there last night and they weren't open, anyone know what date the ASCs and the one at teter specifically open? <eos> \n",
            "<bos> Hello again Hoosiers, So my class did not have enough enrollment to make it as a 16-week course, so it was rescheduled as a second eight weeks course. I've made some tweaks to the syllabus that I think will make the course even better. I've also thought up a sexy new title: \"Cyborgs, Babe Scientists, and Hermaphrodites with Attitude: Power, Technology, Difference.\"   The course will now meet from 11:15-1:45 Tuesdays and Thursdays, starting 10/16.  I realize this is probably not ideal for most of you, schedule-wise, but I'd love it if some of you fine folks can join me!   <eos> \n",
            "<bos> Basically what the title says, any places on campus that are less crowded than library/union that are still good to study with outlets? <eos> \n",
            "<bos> Here's the deal: I'm stuck in Bloomington working a day job for the summer. Very few of my friends are still in town, and we tend to get opposite work schedules as I work days and they work nights. I'm sure a lot of people are in a similar situation, so let's get a beer or something. Details: I'm a guy, mid 20's, IU grad student. I'm a nerd but social. I like beer, nature, gaming, and trees. I'm generally pretty normal and not a creeper. Similar interests? Similar lack of creepiness? Let's chat. PM me or reply to this post. <eos> \n",
            "<bos> I am trying to expand my tastes before I leave for the summer. What do you think of these restaurants? Could you rate them on a scale from 1 to 10 if you have been there?  The Runcible Spoon Siam House Taste Of India The Farm Malibu Grill Scholar’s Inn  Bub’s burgers  Which one would be the best to take my parents for a graduation dinner? Which one for a date? Are there any other unique places around that are great for food?  <eos> \n",
            "<bos> There's no good macro times available and I heard getting the credits through ivy tech online is easier , can I take the class during the semester along with my normal IU class work? <eos> \n",
            "<bos> The Company Stores is a modern folk/blues band out of Charleston, WV. We are going on tour in October and hoping to stop by Bloomington. We need a local band with a good draw to play with us. In turn we are offering a spot in Charleston whenever the Bloomington band wants to come down. <eos> \n",
            "<bos> Hello, everyone. Can you please take this short survey about academic rivalry between Purdue and IU for my project? This will take only a very short time. I would be very grateful if you can do me a favor by taking this survey. Thank you! [url link] <eos> \n",
            "<bos> I'm an incoming freshmen and I'm looking for an intramural/rec soccer league. I played in middle school and was decent, didn't play at all during high school so nothing too intense. Any help would be appreciated! <eos> \n",
            "<bos> Some questions on the ST parking pass and how it works -It says it isn't valid until 9/1/16. Class starts before then, surely they will make exceptions and not give tickets?  -If I buy it now should I put the address to send it to as my home address where I currently am for the summer, or my house for next year in Bloomington? <eos> \n",
            "<bos> I did a quick google search and couldn't really find anything, admittedly I didn't spend too much time but I thought some of you on here would have better information to provide than a webpage. Any laptop recommendations for CS majors or any other advice is much appreciated.  <eos> \n",
            "<bos> First, what food places are open on campus right now besides the ones in the IMU and those little campus cafe things? Are there any ghetto/lax liquor stores that will take my mediocre fake ID? Everyone here looks like they're about to work out at any moment. Where does the hipster crowd hang? Any hipster kids wanna be my in? Any cool 18+ venues for touring bands I should check out?  <eos> \n",
            "<bos> I'm a freshman and I'm looking for gyms to go climbing, particularly bouldering. Any information would be helpful. <eos> \n",
            "<bos> As my junior year starts winding down, I am getting more and more serious about the college look. I am from California and have been doing research all year about what school would be best for me. Indiana seems to be one of the perfect fits for me, but I was wondering if I could get your opinions. I love sports, especially college basketball and football and I know IU has one of the biggest (and best) student sections. I am definitely interested in going into business and I know Kelley has one of the best reputations around. Thanks in advance! <eos> \n",
            "<bos> Looking to get a hold of notes and such. TIA. <eos> \n",
            "<bos> Hey guys, I need pretty extensive repairs done on my 96 Ford Mustang. I was wondering if any of you have had good or bad experiences with any of the local auto shops. I'm really just looking for some places to call and get quotes from. Thanks for any help you can give me! <eos> \n",
            "<bos> title says it all <eos> \n",
            "<bos> Im an incoming freshman majoring in cs, and was wondering if a lot of people do internships, or even if there are a lot of recruiting events for them <eos> \n",
            "<bos> I'm a Kelley student living in the KLLC and I chose random roommate. Those who did the same what was your experience? Is there any other way to get one? <eos> \n",
            "<bos> [url link]  It's a silver Yamaha C3. It was taken from my apartment at 1st and Walker between 11am and noon today. C3s have a failsafe and cannot be started without the key. I did a walk around my neighbourhood as best as I could but it wasn't ditched anywhere. The thieves probably had a truck. I'm disabled following a surgery that didn't go well and cannot walk without pain. I require painkillers just to get to the bus stop. Without my scooter, I am homebound. Shittiest part is, today was supposed to be my first day at my new job after 5 months of being unemployed because of my knee. BPD has a report on file but, of course, don't really care if it gets found or not. If you see it - and it's only one of 2 silver C3s in Bloomington - please call them.  <eos> \n",
            "<bos> To whoever owns the car parked behind Wright quad with a LUNA music sticker on it, you are awesome. That is all thanks <eos> \n",
            "<bos> I have the option to take math-m119 this fall online at iu. Is this a good idea? <eos> \n",
            "<bos> My roomie and I are in Wright Quad sweating our asses off in our room. Does anyone here have any great ideas on fan positions, or other ways to keep the room relatively comfortable? <eos> \n",
            "<bos> I hope this post doesn't break any subreddit rules, but here goes! I'm from the St. Louis subreddit, where the word \"Hoosier\" actually means something very different, I've discovered. I'm Chris, and we are taking our little geek game show on the road for the first time ever this summer: we'll be in Bloomington on June 17! It's called \"Loser: A Live Action ~~Game~~ Shame Show\" and it involves live karaoke (with tiny instruments), video game and pizza roll challenges, bar trivia, Shitty Accent Superhero Charades, Inter-Gender Sitcom Theatre and more. [Here's a YouTube promo.]([url link] Think this sounds like fun? Boy howdy, it really is. [SO, if you'd like to be a contestant and join us, please fill out this Google Form so we can include you.]([url link] And, if not, we hope you'll come out and watch, scream and get drunk with us.  Warning: [this links to the Facebook event.]([url link] XOXOX Topsiders  <eos> \n",
            "<bos> I'm trying to mail a surprise care package to a residence hall, but I'm unsure of the room number and don't want to give anything away by asking. I know the residence hall, building and floor but just not the room number. If I send it anyway is it likely it will reach the recipient just by name?  <eos> \n",
            "<bos> Hello everybody. I have recently been accepted to Indiana, and started to do some more research into the school. I found this website, [studentreviews]([url link] where surprisingly, there are a lot of negative comments about Indiana. Are they true? And if so, how prevalent? I just want to know before I make my decision to attend IU. <eos> \n",
            "<bos> I'm a biology major, and I need to take 2 AH courses (that are approved by College of Arts and Sciences). Naturally I'm trying to pick the easiest two. Looking for: minimal effort / easy A the least writing possible (i hate papers) interesting subject good professor Any suggestions? <eos> \n",
            "<bos> What sophomore business classes can I take as a freshman and succeed in? Also, are there any easy / fun classes that you guys enjoyed? Thanks!  <eos> \n",
            "<bos> I am considering the Data Science program at IU for my Masters, probably online but not 100% yet. I was wondering if anyone had any experience with this program, the school of informatics and computing, or online learning at IU. The program and IU both seem great, and I know a degree from there is pretty valuable.. My undergrad degree is Geography but I currently work in a data-heavy environment using GIS. Thanks! <eos> \n",
            "<bos> My husband and I are going, and we have two (albeit small) free seats. If anyone else is interested in coming, we will be leaving at 10AM. Send me a PM, and we can exchange phone numbers. [Facebook info]([url link] [Blogspot]([url link] <eos> \n",
            "<bos> I signed up for my spring semester classes, and I wanted to sign up for BUS-K 204 as opposed to K 201, but SIS told me that I needed some sort of code. Is anybody familiar with this? How can I get into K 204? I'm already in Hutton, so I should be able to take honors courses. <eos> \n",
            "<bos> Hi I can't find the acceptance rate for Kelley Direct Admission anywhere online, does anyone have an estimate? Thanks <eos> \n",
            "<bos> Hey homies. I'm graduating in December, and I need housing in the fall. Right after I graduate, I'm moving to Denver, so I really want to avoid the hassle of signing a 12 month lease and finding someone to sublet for the spring/summer. I'm REALLY having a hell of a time finding anything at all, let alone in my price range ($4-600/month). Does anyone know of short-term housing options round these parts? <eos> \n",
            "<bos> I'm currently a freshman and looking for a couple roommates for next year. An apartment would be ideal, but I'm open to a house. I'm a pretty down to earth guy, not a big partier but it's not something I never do. My major is Informatics, and I'm really into music, vinyl, the whole deal. Message or comment if interested, or if anyone knows of any roommate matching services at certain complexes that would be great, I've heard thats a thing at some places. Thanks! <eos> \n",
            "<bos> Planning on taking it this next year and I'm not sure what to expect. Says there's a lot of calculus applications so I just want to make sure I'm where I need to be. <eos> \n",
            "<bos> I'm thinking about buying the season ticket package football/basketball combo. I saw that it's $380 but it says the price may change in the future, what exactly does that mean? Could the price go higher?  <eos> \n",
            "<bos> Hey guys, I have a guest coming to town today, but she's coming later in the evening so I will not be able to pick up a 24 hour parking pass. Do you guys know of anywhere that she could park for the night until we are able to pick up a pass the next morning? Thanks a ton! <eos> \n",
            "<bos> I'll be doing the Russian workshop this year; wondering if anyone else is participating! <eos> \n",
            "<bos> im a freshman here and havent played with other people in a long time and its driving me crazy <eos> \n",
            "<bos> Hello everyone! I'm coming to Bloomington for my Ph.D this Fall and looking for a place to live. I wonder if anyone has experience with 1) Heritage Apartments or 2) Lincoln Hill Apartments.  Heritage Apartments seem OK to me, but I'm not sure about their distance from the campus. Is it walkable from there to the campus, or is the transportation system reliable? And I'm planning to cook most of my meals, so I want to know if this place is convenient for grocery shopping. On the other hand, I couldn't find any review on Lincoln Hill Apartments. Does anyone know about this place or its owner, Grant Property? I'll really appreciate it if you can give any information or if you can recommend any other place with similar conditions and price (my budget is around 700$ maximum). Please advice. Thanks a lot! <eos> \n",
            "<bos> On btownmenus. I know I needed it after this \"dead\"week. <eos> \n",
            "<bos> Last Halloween I met the most amazing woman at Brothers. Since it was a one-night stand I've been trying to forget it, but honestly I *still* can't stop thinking about her. I need to at least talk to her again, see if there's something more to be had. She gave me her contact info, but I was so hung-over I forgot it (I know, I'm an asshole).  Here's what I remember about her: * Her first name's McKenzie * She's a senior * She's studying psychology * Dark hair, eclectic taste in music If you have any idea who I'm talking about, please *please* PM me her name. You have no idea how much it means to me. Thanks in advance. <eos> \n",
            "<bos> I plan to be going to IU next fall, and I'm currently looking up housing options. Both the Hutton Honors College and the Global Village stand out as unique residences, but I'd like to know more about them, from a student standpoint. Has anyone here resided in either of these, and if so could you tell me more about them. Upsides, downsides, etc. Thanks. <eos> \n",
            "<bos> Hey all, so I'm a sophomore getting ready to enroll for I-Core for next fall and was wondering if it is wise/feasible to take ECON E-202 Macroeconomics along with I-Core. I'm required to take Macro by the time I graduate but I would need to take it (correct me if I'm wrong on this) first semester next year to be eligible to apply for study abroad programs. I know a lot of people suggest taking it over the summer but I'm not sure I would be interested in doing that this summer as I will be abroad for 10 days and then beginning an internship. Please let me know what to expect from this class, and any suggested professors as well! I appreciate the help! <eos> \n",
            "<bos> Hi there /r/IndianaUniversity! I figured I'd start a discussion about welcome week events and which ones reddit thinks are worth attending. I will be in advising tomorrow, but once I'm out, I'll be looking for some fun things to do until the transfer student party at the bowling alley, anyone else going to that? (transfer students only!)  <eos> \n",
            "<bos> I know IU has a league of legends team, multiple at that, but does IU have a csgo team at all? <eos> \n",
            "<bos> So. I am a current residence hall dweller and I am having issues with my neighbors. Every single night- I mean EVERY SINGLE NIGHT- they go out and then roll back in between 2-3 a.m.. This is totally fine by me. However, they are the loudest human beings I've ever encountered. Screaming and yelling, slamming the door, multiple people in and out of the room/hall for at least an hour. Every night. They have been reported for noise multiple times to no avail and several people, including myself, have asked them to tone it back. My question is- at this point what is there to do? They are violating the quiet hours policy and have been reported multiple times but it doesn't seem like there is an actual repercussion for this. Help? <eos> \n",
            "<bos> Hello! I am visiting IU for a regional conference and I wanted to get some info/advice on how to best spend my time while on campus. Where are the must sees, must eats, must dos on campus? I'm basically trying to leave feeling like a student here. Thanks in advance for any help. <eos> \n",
            "<bos> Would it be getting founders scholar? You only need a 3.8 to get it. Are there any higher academic honors. Sorry if this comes across as pretentious.  <eos> \n",
            "<bos> Has anyone used them? Is there a better option? I don't have a car so I can't get my own storage unit. <eos> \n",
            "<bos> Technically because we don't own the software we obtain through IUWare, we have to uninstall any programs (except Microsoft ones) after graduation. My question is, does anyone actually do this? Is it possible for them to know if you don't uninstall programs? <eos> \n",
            "<bos> Hi, this is probably a dumb question but I'm going to a basketball game with my grandpa on Tuesday and I was wondering what the parking situation is. Do I have to pay a lot for a parking pass just for the game? Do I have to purchase it beforehand? Would it be better to take a taxi to and from the stadium?  I've never been to a college game so I don't know how this stuff works.  <eos> \n",
            "<bos> Hi everyone! My girlfriend and I are looking for a new apartment complex and found both Bradford and Forest ridge to offer what we were looking for. Does anyone have any experience with these complexes that could help us with our decision? Any help would be greatly appreciated. <eos> \n",
            "<bos> So I'm a sophomore right now, and I'm wondering how risky it actually is trying to get into bars with a fake. Like my friends have never had any trouble using theirs at liquor stores, but I've always been told it's pretty risky. Is it dependent on which bar?  <eos> \n",
            "<bos> I am transferring to IU from LA this fall. I wanted some insight on which building is the best to transfer to. I'm moving to IU for their famous Kelley business program but I'm also looking to make the best out of the next two years. Which building will I find the most social/ partier colligates? Does the junior crowd move into apartments by the third year? Would it be best to get an apartment? Any tips on how to make the most out of this experience since I'm transferring and obviously cutting it down to two years... <eos> \n",
            "<bos> I have signed a lease to live with a friend in a two bedroom apartment next school year. I am considering studying abroad for the spring 2018 semester. My question is, if I follow through with this, what do I do with my living arrangement? Will I be able to find someone to sublease for the spring semester while I study abroad? Idk what to do if anyone has any advice. Thank you, greatly appreciated.  <eos> \n",
            "<bos> I'm about ready to sign a lease with them, but after doing some simple Google-based research, I've heard some terrible, terrible things about them. Has anyone had any experience renting from them? Specifically I'm wondering about their property located at 3939 Roll Avenue. I think it might be a new property of theirs and maybe it hasn't had a chance to be fully neglected by the landlord like the rest of their properties. Thanks! <eos> \n",
            "<bos> Hey guys so I was wondering if someone could enlighten me on which major at Kelley is the most difficult compared to one that is least. I was interested in a finance degree, so how difficult is that? Befor you comment something like \"oh pick your interests then it's easiest \" or \"life is never easy\" please don't I'm just asking a general question so I know what I'm getting Into. Also are there hot water showers st Crone and Bryan? <eos> \n",
            "<bos> I was wondering if any current IU students could give me some reviews on these courses. Specifically I was wondering what the writing/report load is. If any other incoming freshman having anything to add, please do. Thanks! <eos> \n",
            "<bos> Hey all! So I just wanted to ask you if you had any ideas on what I should do in terms of advertising my short film that I am going to be directing this fall. Before jumping into it, here is what is going on: I wrote and am going to direct a short film called Dream of Me, a 30-minute story about two best friends that are separated when the girl mysteriously finds herself in an alternate reality. The guy joins her a year later, and they realize their relationship could have changed in an instant. This story doesn't focus too much on the fact that there is a huge supernatural event that occurs, but more so on the relationship of the two characters.  I've been talking to a particular office at IU about receiving funds so I can pay the professional personnel on set. I am not sure how much I would receive from them, so I decided to reach out here for any ideas about how to make my GoFundMe page for this project more noticeable. Now, that does not necessarily mean I want you guys to donate, although that would be much appreciated, but I would like to know if there are certain things I should do with this. Alternatively, does anyone know who I could go to on campus to maybe help receive more funds?  Let me know of any thoughts or ideas! And please ask me questions if you have any. I have a terrible habit of not explaining myself very well. <eos> \n",
            "<bos> Hey fellow Hoosiers! I'm living in Wright in the central neighborhood and I need to send a couple letters and a package. Where is the nearest place I can get stamps and envelopes? <eos> \n",
            "<bos> I recently got in a bit of trouble since I had BitTorrent on my computer. It had been seeding some of my rightfully owned music, etc... Basically, I understand it's still my fault and I deleted it, but now have to go to the Copyright Violation Seminar. Just wondering if anyone else has had to do this and what it entails? I, being a nervous freshman, am just stressing over the whole thing. <eos> \n",
            "<bos> Hey everyone, I am a Sophomore looking for housing for next Junior year. Myself and two others are looking for a place to live off-campus that is pretty nice (think Hamptons) and close to campus. Any options? <eos> \n",
            "<bos> Hi, I'm going to be a freshman next year! I was wondering if there was anyone out of the meal plan? And also I was looking at the meal plan costs and it showed the cost and operational costs. Does that mean I have to pay the meal plan cost plus the operational cost? Or is already factored in? <eos> \n",
            "<bos> Hi there, I am a high school student currently considering applying to Indiana (Bloomington). I was wondering how the fraternity rush process works at IU. When does recruitment take place? Can anyone get into any rush event? If not, how does one go about getting recruited by a fraternity? How selective are the fraternities? I am from Texas, and I don't have any connections to Indiana greek life. I have two cousins from Indianapolis who may know people involved with IU greek life, but that's unlikley. I'd just like some more information about how the fraternity rush process works at Indiana. Thanks for your help! <eos> \n",
            "<bos> Is there anywhere on campus you can safely/legally get onto the roof of? I love a good view <eos> \n",
            "<bos> I've got a question about classes, and I would be very grateful for any advice. I switched majors, so I have to take an extra year (2 semesters) to get my CS degree done. It is doable, but will be a heavy class load. I'm going to start taking specialization classes next semester, and will hopefully wrap up by May 2014.  My question is this: What is the easiest specialization, or the one that could be completed in a short amount of time the easiest? Honestly, I've gone through 3 advisors so far, and they're all garbage. I know they're trying their best, but my last advisor flat out told me \"I don't see many CS majors\" and \"I'm not really familiar with CS classes\" in our last meeting. AI seems to have the least amount of classes, credit-hrs wise, but also seems extremely hard. Thanks in advance for any advice. <eos> \n",
            "<bos> I am a sophomore currently attending another university and I am going to be applying for transfer this coming spring semester. I was wondering how hard it is to transfer into IU? <eos> \n",
            "<bos> I'm a new grad student moving to Btown in August. After reading the best/worst places to eat around town, I've gotta know! What are the best places to drink? <eos> \n",
            "<bos> Hi, everyone!  Have you ever fantasized about being a samurai? Perhaps not, but you have to admit, dressing in armor and battling with swords is [pretty badass]([url link]  Once upon a time, IU had a thriving [kendo club]([url link] but some time after I was no longer a graduate student, the club went inactive. Now, there is an entire cage room full of armor and swords and such, over between the gyms in HPER, waiting for someone to love them and use them, again.   I'm looking for students who are interested in getting the club up and running, again. I can serve as the faculty/staff adviser, and non-students can join, but students must serve as the officers and such.   Let me know if you're interested - it would take a little bit of work, but the payoff would be pretty fantastic. Edit: [Here's a picture of me]([url link] from a demo, back in the day. (I'm the short one, on the right. Sadly, I couldn't find an action shot of myself.) <eos> \n",
            "<bos> Is there anywhere on campus where someone can jump in the booth? <eos> \n",
            "<bos> The food courts at IUPUI weren’t the greatest of food so I just spent my crimson Card on Chick Fil A and Papa Johns all the time. I was wondering are the food courts at IUB pretty good, and also what’s some of the best places to eat around Central Neighborhood? Thanks! <eos> \n",
            "<bos> Greetings, It's that time of year again, when we get a lot of questions from people who refuse to Google search. But that's fine! Please feel free to ask your questions about IU here! You'll be free of harassment and ridicule while on your informational questing.  I'll be closing all of the simple question posts, so if I closed one of your posts, I'm sorry but please feel free to re-post the questions here. <eos> \n",
            "<bos> Does anyone have access to the WIUX 99.1 / B-side schedule? I looked for it at the WIUX homepage, but it hasn't been uploaded yet.  <eos> \n",
            "<bos> Just watched the parking police guy write someone a ticket for having one of their wheels touching the white line. I've also heard of people getting tickets for having their front bumper over the line in front. Just a heads up. <eos> \n",
            "<bos> If this is even possible an answer would be appreciated. I'm using an Airport Express and trying to use the McNutt ethernet cable to set it up.  <eos> \n",
            "<bos> I was thinking of getting a few people together for Wednesday night trivia at KOK and I was wondering a few things.   How many people are allowed per team?  What can you win?  What do the topics generally cover?  What time does it normally start at? <eos> \n",
            "<bos> Anyone know anyone who is subleasing their housing this fall? (August - December) for an exchange student. Or does anyone know any apartments that do short term leases?  Thanks!!!  <eos> \n",
            "<bos> Hey all, So I'm currently in the process of applying for the accelerated Master's of Public Affairs program in SPEA with a concentration in economic development. My undergraduate degree is in SPEA with my honors thesis being about German economics. I figured I would look into doing the dual MPA-MA program in European Studies.  It looks really interesting and doable for me! However, I'm having a heck of a time finding admissions information for the MA program! What's the average GPA/GRE? What are good softs for the program? If anyone can provide/help find this information, it'd be greatly appreciated! Thanks, -- <eos> \n",
            "<bos> anyone know anything about this class? It is a 1 credit research class taught by Li Liang-Shi. Is it worth taking? Thanks <eos> \n",
            "<bos> Cause mine doesn't  <eos> \n",
            "<bos> My laptop recently stopped working so I've occasionally been tasked with trying to find a public computer at 1 or 2 am. I live in willkie and the willkie center closes at midnight.  I don't have access to the teter nst now that I live in willkie. Does anyone know of any 24/7 places to use a computer aside from the Wells info Commons? <eos> \n",
            "<bos> Im new here. I would assume they get posted to student center. Monday or Tuesday maybe? <eos> \n",
            "<bos> Has anyone lived here? Is it worth the $9000+? Hows the social life? I’m living in Mcnutt right now and it’s a bit loud sometimes but I like the talkative atmosphere.  Also: What about Campus view, Tulip Tree, etc? How do these all compare?  <eos> \n",
            "<bos> I just got the warning text... Of course, I wasn't doing any partying and I live in the dorms, but I'm definitely feeling uneasy now. Any Hoosiers still up? <eos> \n",
            "<bos> any osrs players out there?  <eos> \n",
            "<bos> I have a spontaneous desire to see a flash mob this school year .&lt;  Blast you youtube vidoes! [UW Flash mob]([url link] [Denver Airport Flash mob]([url link] [Sing Mob :3]([url link] <eos> \n",
            "<bos> Hey Hoosiers, I recently got accepted to IU, among other universities, and I'd like to find out more about IU. My first question is do you have to be in a fraternity to have fun at IU? The second question I have is how awesome are the basketball games? I'm a huge basketball fan but the atmosphere would be pretty difficult to match up against one of the other two schools I got into. Thanks for your time, go Hoosiers! EDIT: Third question- What is the suggested dorm? I've heard Briscoe, McNutt, and Teter are all good, but what do you guys think? <eos> \n",
            "<bos> I´m trying to knock about an NM this summer online. I have looked into IUPUI and Ivy Tech a little bit, but overall I am curious about which classes and programs you guys have enjoyed. <eos> \n",
            "<bos> I remember back in orientation, it was stated that we were allowed 1 free massage a semester and therapist visits. I've been feeling really stressed out with organic chemistry coming up. Where would I find these services? <eos> \n",
            "<bos> As it sounds.. PM me if you can/know how to get one. <eos> \n",
            "<bos> From the IU Alert (for those who don't get them): IU Bloomington Alert: At approximately 0510 hours, a male was assaulted involving a knife in the parking lot located on the east side of Eigenmann Hall. The suspect was described as a black male, approximately 6’2”, thin build, with long hair, wearing a black top and blue jeans. The male suspect was also believed to be between the ages of 22 to 30 years old. After the assault the suspect took off running in an unknown direction. IUPD officers searched the area in a several block radius but were unable to locate a suspect matching the description.  Anyone with information regarding this incident should contact the Indiana University Police Department at 812-855-4111 or 911. The Indiana University Police Department urges everyone to follow these tips to avoid unsafe situations: Be aware of your surroundings and avoid unsafe situations. Walk with a friend, especially at night or in the early morning, whenever possible. Stick to well lit, well-traveled areas. Indiana University Police will send alerts and information such as this to members of the campus community, if there is potential danger to people or property. For additional security and safety tips go to the Protect IU site [url link] ; check the Crime Prevention section [url link] .  <eos> \n",
            "<bos> Just like the previous post about Wright, I was given my housing assignment in Teter, specifically Rabb. Could I get a rundown of Teter? Such as tips and tricks, party scene, best dorm configuration, etc. Any info is appreciated and thanks in advance. <eos> \n",
            "<bos> Visiting a grad student for the weekend, what is the scene going to be like in Bloomington. I know it's the last home game for the football team, but the undergrads will all be on Thanksgiving Break right?  We're curious about how crowded Kirkwood will be, with Breakfast Club, and then Nicks for the actual game. Thanks! <eos> \n",
            "<bos> Has anyone had experience with this situation? My apartment complex allows dogs in downstairs units, but only smaller dogs. I live in an upstairs unit, so apparently I'm not allowed to have a dog at all. Has anyone had any experience circumventing a property's rules? Or just convincing your landlord to hear your case? Keep in mind that this neighborhood has hundreds of units, and it probably ran by a big holding company. <eos> \n",
            "<bos> I'm going to be a sophomore and am wondering if my tuition will stay the same as last year or if it changes every year. I know some schools lock in your freshman years tuition for all 4 years and am hoping that IU does the same.  <eos> \n",
            "<bos> Hello, all at IU! I am a high school senior, enrolled at IU and aiming for a CS degree. I am looking for suggestions / requirements for laptops. I found [these recommendations]([url link] but no requirements from the College of Informatics. My budget is ~$800, and I am currently looking at the [Lenovo T430]([url link] What do you have to say? <eos> \n",
            "<bos> I have Dr. Jeana Jorgensen <eos> \n",
            "<bos> I'm an incoming freshman and will be living in an eigenmann dorm. Since we don't have our own bathrooms how are we supposed to shave/trim and dispose of our pubic hair? I know this is a weird question but I'm serious. If I just go into a bathroom stall and trim I don't want to leave a disgusting pile of pubic hair for the next person who uses the bathroom but I don't know what proper edicate is. <eos> \n",
            "<bos> Why and how did this happen for IU? Probably Purdue students. Still unhappy about it. [Link Here]([url link] <eos> \n",
            "<bos> Fuck all of you. Seriously? Why don't you call up your mothers and say, \"Hey mom, I tried waking up 4,000 college kids last night and got the police called on me!\"  I mean seriously, it would've been fine tonight or tomorrow night. But on a school night? Fucking, prick thing to do. (For those who don't live in the Village, last night 4 cars pulled into our parking lot, laid on their horns, and all of them got out of their cars and chanted stupid shit for 10 minutes, then left.) <eos> \n",
            "<bos> That's what I've been told by a couple of friends. I checked the website and they haven't opened an application for the class of 2017 which kind of confirms my fears. I'm not going to be able to do the workshop because I'm a sophomore transfer and I didn't quite hit the 3.5 requirement last semester so I was really hoping to be able to do the seminar as a senior. <eos> \n",
            "<bos> Shpongle is playing in Lafayette on March 27th, a group of friends and I plan on going. Usually for things like this, there's a certain hotel most people that go to the show stay at for an after-party type thing, was wondering if anyone planned on going and staying? [url link] <eos> \n",
            "<bos> I’m searching around (yeah, I know it’s a little late) and I figured you guys would have a good idea of what to get. I’m considering the Lenovo ThinkPad and the HP Envy 13t among others, but I’m open to other suggestions <eos> \n",
            "<bos> Is it difficult to land a job in San Francisco from Kelley? The stats on the Kelley website say 4% of grads go to SF, and most go to Chicago/NYC/Indy. If I wanted to go to SF, would it be challenging? Or is the low rate because most people want to stay close to home? <eos> \n",
            "<bos> Hello all, I'm writing from Virginia! I'm gonna be moving out to Bloomington in a few months for grad school (master's in public health), and I was hoping you all may be able to give me some information on the town and school from the perspectives of students who are (or were) living there. So, some general questions: 1.) What are the best places to live for someone who is looking for a calm and professional environment? I don't want an old-folks home, but I'm done with the whole university party/frat scene. 2.) What's the bus situation like there? Is it free public transit for IU students? Do you pay for it with cash/some kind of card? Is the bus even worth it? 3.) Best places to eat or hang downtown? Best places to go outside and adventure? I'm used to Appalachia; I'm going to guess there's not a whole lot in the way of mountains and hiking, near Bloomington. 4.) What the hell is a Hoosier...? Can someone explain that to me, and any other colloquialisms y'all have out there that I should know? Thanks! <eos> \n",
            "<bos> I was accepted to IU as a transfer student, but this semester is not going well for me for multiple reasons(some are very personal so I won't get into the details.) I'm most definitely going to fail one of my classess which will deal a pretty big blow to my overall GPA... I've emailed AskIU and have not recieved a response in ~2 weeks; at this point I am getting very anxious What do I do? Should I call the office of admissions? <eos> \n",
            "<bos> Why isn't there an IU Personals subreddit?!? Or is there and I'm an idiot?  <eos> \n",
            "<bos> Freshman business major here.  <eos> \n",
            "<bos> How early do I need to start? <eos> \n",
            "<bos> The file for printing can be found [here]([url link] 20 years ago these guys changed television. Before the interwebs was a common thing, these guys took it to the streets and filmed their lives for our satisfaction. It was the first show on the internet, and possibly the inspiration for Wayne's World. I would put them up myself but between work, class and the 300 DVDs I've burnt for this shin dig, I really don't have the time. tldr; Party at The Comedy Attic on July 3rd at 8pm, could you (pretty please) put some flyers up on campus? <eos> \n",
            "<bos> I tried looking this up on IU's site but I think they only talk about firearms. Obviously guns and knives are out of the equation. But what kinds of other concealable weapons can I carry on me without getting in trouble with the law? Things such as pepper spray, tactical pens, extendable batons, police flashlights? <eos> \n",
            "<bos> What are the rules for people searching dorm rooms over thanksgiving break?  <eos> \n",
            "<bos> Hi, language is definitely my weakest subject and I need 4 semesters of it for my media school BA. What is the easiest language offered? Thanks. <eos> \n",
            "<bos> I purchased some tickets off of stubhub for my grandpa and I was wondering what student tickets look like. I am hoping I got general public tickets.  Will it say on the tickets if they are for students? <eos> \n",
            "<bos> Hi, I am a freshman in IUB, and also a huge league of legends fan. I tried to play couple matches in my dorm (wright), but I can't log in. It happens with Steam games and blizzard games too. Is this normal, any ways to get through the block? <eos> \n",
            "<bos> I am considering the Kelley Direct Online MBA program. The online format is not the most appealing to me, but it is convenient for someone working out-of-state. Can anyone share insight in the program? I think a lot of intangible skills are gained by going to class on campus and interacting with peers. Is the online format designed in such a way to make up for this? Are the academics comparable to those on campus? Does anyone have thoughts on pursuing a dual MS Finance/MBA. <eos> \n",
            "<bos> Do you get penalized for just watching porn on the IU secure wifi? Not downloading it or anything just streaming. <eos> \n",
            "<bos> I've really been itching to play some DD lately, but I have no idea where to find a group. So, if anyone here is interested in having me starting this upcoming semester, I run the following characters: -NG Halfling Bard, male, preferably good campaigns -NN Human Warrior, female, Mercenary, good for any campaign -LN Human War Mage, female, neutral or good campaigns -CN Gnome Druid, male, \"Garden gnome\" (hehe) <eos> \n",
            "<bos> Transfer kid here... which one would you guys say is better? and/or more social or whatever I don't really know anyone here I'm coming from outta state. Stoner friendly?🤔 <eos> \n",
            "<bos>  Is it Kelley or is there one that's ranked better than that? <eos> \n",
            "<bos> Just added a second 8 weeks through the late add/drop form and was wondering how long it would take to be approved (it currently says pending). The second 8-weeks hasn’t started yet fortunately but I was wondering if I would know/receive approval by then?  <eos> \n",
            "<bos> I was giving some major thought into transferring into a different college this next semester and wanted to get advice from as many people as I possibly could. To give y'all some background, I am currently a freshman at Indiana University as a direct admit into the Kelley School of Business. I came into IU not knowing a soul. I came from out of state (from the south) and no one from my high school went here either. However, in the semester and a half that I have been here, I have failed to make a single friend. I think there are a couple reasons for this, but there are three main ones. Firstly, I chose to live on the honors floor, and quite frankly, about 3/5 of the people on my floor have a hard time interacting socially, and it's been hard connecting with the other 2/5 because everyone's doors are always closed and everyone is studying the majority of the time. With that in mind, I am still a pretty introverted person and find it hard to start conversations randomly, and I feel like if I can't find friends in a school with 40,000 people, the problem is probably with me. To try and combat this, I've joined three different clubs to try and meet new people, but nothing has seemed to work. At this point, about 8 months into college, I am pretty tired of having no friends and no one to talk to. My day consists of eating, working at my job, doing lots of busy work homework, attempting and failing to make friends, and sleeping. I am honestly tired of this routine and am seriously considering transferring to a different school. The only reason that I am hesitant to transfer is that the prestige of the degree and the opportunities I would get from IU is probably greater than any other degree I could get if I transferred. Getting the degree from IU would most likely set me up for my future career better than any other degree, but it is hard to justify going through 4 years of unhappiness, loneliness, and not enjoying my college experience in the slightest in order to get that, especially when I have a lot of options as to possible colleges I could go to (4.3 HS, 3.9 College GPA). I was hoping to get some advice on if you guys have gone through something similar and what did you do to make a \"breakthrough\" to find friends here/ any tips on doing so. Any advice would be greatly appreciated or just any advice in general. Thanks so much! <eos> \n",
            "<bos> I have heard that you have to be part of a group in order to be eligible to qualify, but is that different than just finding 3 other guys to be a 4-person team? Do you have to have a specific group (frat, ROTC, Cutters, etc) or could it just be a random team with random name. What if we did a Reddit team? <eos> \n",
            "<bos> The interview can be anonymous if you want. I'm doing this with ASR, a student group on campus. [Here's some of the other stuff they've done.] ([url link]  <eos> \n",
            "<bos> I'm moving to Wright next year and I'm not planning on getting a meal plan. What is the kitchen like in the dorm, if there is one? I live in Collins now and the kitchen sucks-- it's locked and there are only two keys, which are usually unavailable. Is it like this in Wright too? <eos> \n",
            "<bos> I was reminiscing about my time at IU the other day and I would very much like to relive one of my favorite Kirkwood pastimes. The problem is that a bucket, highball glass, and liner package from Nick's is SIXTY dollars with shipping.  Does anyone know the size of the Sink the Biz bucket? I'd like to find a more frugal option. <eos> \n",
            "<bos> I think there is an application but I've been looking everywhere and I can't find it. Is this the first test to joining residence scholars?? <eos> \n",
            "<bos> A few questions: Is this a predominantly female class? Is it for someone who has no prior experience? What did you think of it? I'm looking for a fun 1credit course. (Thoughts/Comments?)  <eos> \n",
            "<bos> Considered posting to r/bloomington since I'm willing to walk decently far(50 min max). The ones near me are withdrawal only(Forest). Thanks a bunch! Oh yeah and i have a Bank of America Visa if that helps <eos> \n",
            "<bos> I'm thinking about majoring/minoring in some combination of English and Computer Science, but I'm willing to take a class in anything. I'm looking for something interesting and fun, though! Let me know if you've taken a fun class! <eos> \n",
            "<bos> people have told me that they have downloaded parallels from IUWare for their mac, but i can't seem to find it. Can anyone tell me if parallels is in fact on IUWare, and if so provide me with a link or tell me how to find it? <eos> \n",
            "<bos> I figure I may as well take advantage of the recreational facilities at IU since that's what the 'activity' fee pays for, right? Only problem is that I'm not real good at doing things alone. Also, I'm a transfer student starting this year and come from a much smaller school. So I don't know a whole lot about how any of this stuff works, or where anything is. I was wondering if anyone would basically be my workout partner? Help a new student out? I have mostly afternoon classes, so before, after or in-between those would be fine for me. <eos> \n",
            "<bos> So I'm now an IU student living roughly 25 minuts west of campus (stanford if you're familiar). I started today and need to find the most cost effective way to park close to campus and get to classes. Anywhere near a bus stop or within a reasonable walking distance from Wells Library would get the job done. My question is, do places like this exist without purchasing a parking pass, or how do you other IU commuters do it? <eos> \n",
            "<bos> I bought one, but then ended up getting a ride with family. I figure since the semester just ended and everyone's moving out, one of you fine people might be able to use it. It's good for any airport shuttle in May, so if you can use it PM me! <eos> \n",
            "<bos> Hey guys, it's getting close to the time where I need to cut my hair.. Was wondering where the best barber in Bloomington is. I usually get an undercut type haircut if that helps. Thanks! <eos> \n",
            "<bos> I think I might be the last person to receive an Associate's degree from IU. <eos> \n",
            "<bos> Just as the title says. YES, I know that an \"official\" your can show my niece this, but she is here this weekend and my wife  I are going to showing her around. Was wanting to see if someone would be willing to let her \"glance\" at their dorm room just so she can get an idea of what it would look like. Anywhere would be helpful but Ashton, Wright, or Teeter would be preferred.  Anyone that could help out tomorrow just let me know.  <eos> \n",
            "<bos> I posted this in the Bloomington Reddit as well, however I thought I would post it here too. Was thinking of going to go somewhere to watch the Wild/Blues game tonight and was wondering if anyone was interested in going.  <eos> \n",
            "<bos> Hey Hoosiers! Currently I am a public health major with minors in human sexuality and psychology but I honestly can't see myself in this career anymore. I've always loved computers and it sounds like a promising career. If i switch now I can graduate on time or maybe a semester later.  For those that are in SoIC, what has been your experience? Were you able to get a job after college? Did you find that you needed your masters? What are the classes like? Any information from real people (have read everything on the web already) would help! Thanks! <eos> \n",
            "<bos> Does anyone want DOTA 2? I noticed I've got a few copies on Steam I have no use for. Just lemme know Edit: PM me your e-mail address if you want it. <eos> \n",
            "<bos> I'm looking for something part-time with reasonably flexible hours. I'm not gonna lie, the less effort required, the better. I applied to UITS and the college mall Kroger but to no avail. Does anyone know of places on campus (or relatively close) that are 1) not super selective in their hiring and 2) offer relatively simple jobs? Thanks! <eos> \n",
            "<bos> The plan I had for my summer housing fell through and now I'm considering just staying in a dorm for one of the summer sessions. I don't see any info online about when applications for them open up. Anyone know when they will? <eos> \n",
            "<bos> I'm wanting to go to Franklin University (50 minutes away) for Labor Day Weekend to see my girlfriend. The only problem is that I don't have a car. What are some good services to help me go about finding a ride? <eos> \n",
            "<bos> I've gotten three in the last 2 days. Nothing in the last 5 years.  Anyone else?  <eos> \n",
            "<bos> Just got deferred from Kelley and I must take 3 courses out of the following: math-k 310, c204, bus-k 303, and bus-L 201. I'm taking L201 as an 8am even though I'm rushing (and hopefully pledging) because I don't want to take c204 and k303 at the same time. 3.0 semester GPA gets me in kelley. Which course do u guys suggest? <eos> \n",
            "<bos> I am a male transfer student (26+ credits) who is 19, starting in the fall. Can I room with someone I know personally who is female, 18, and going to be a new student (freshman) in the fall? IUB specifically. Thanks for any info. <eos> \n",
            "<bos> I've gotten mixed results as to googling it, and considering that my school uses a weird-ass 12 point scale that can't be easily converted to 4 point, I can't use it for calculating my odds. I got like a 7.66... GPA this year. My friend also wants to attend with me, and he's quite a bit worse than me. He's failed a class or two this year, same as freshman year. Any help is appreciated :) <eos> \n",
            "<bos> I received a bunch of AP credits when I came in as a freshman, but I was never really sure how they were spent. Does my \"Undistributed Political Science\" AP credit not count toward my political science minor? If it does, I've completed my minor - if not, I need another class.  <eos> \n",
            "<bos> Hey guys, I start at IU in the fall and I'm moving up from Louisville, I have been traveling between there Louisville and Indy quite a bit because of work and to sort out things at school. I have been doing all this driving in a fairly large truck that has been empty and I was recently thinking that it's kinda been a waste of gas and space. If anyone is on the way and has some things they need moved, I would be more than happy to help you move it, if you could help with money for gas that would be preferable, however if you can't I understand. I had heard that other students are having difficulty moving and I would like to try and help if I could, as I had people do it for me when I first moved to the states. Cheers, <eos> \n",
            "<bos> I'm trying to spend a night in Indy this weekend but I don't have a car. What's the best way to get to the city? Thanks! <eos> \n",
            "<bos> I currently live in Michigan and I have been researching Indiana University and what can I say? I completely fell in love with it. I would love to go to IUB but the out-of-state tuition is around $30,000 a year. My question to anybody that has attended IU or is currently going to school there. Is this school worth the money? What are the chances I can possibly get in-state tuition because I live in a neighboring state? <eos> \n",
            "<bos> This summer I took in a stray cat and she turned out to be pregnant. Now the kittens are 7 weeks old and I still need to find a home for three of them. They're free to a good home so please let me know if you or anyone you know is interested in adopting one of these adorable kittens. [Picture of the kittens]([url link] <eos> \n",
            "<bos> Hey all, So me and my sibling (I'm a sophomore, they're a freshman) are signed up to live at Campus View next year, which is an RPS on-campus 2 bedroom apartment. My sibling and our parents visited Campus View just once before deciding this was our best option to live at next year, so I was wondering if anybody can give me any insight on what to expect for next year. I'm currently living in the dorms as a sophomore so I am almost certain this will be a big-time upgrade, but if anybody has any experience with this particular or other on-campus apartments in general please give me your thoughts! Thank you and I appreciate your response :) <eos> \n",
            "<bos> Hey, everyone. I'm moving back to IU from IPFW in the spring and I'm looking for a room to rent. I don't care about the size (smaller the better, in fact) but the rent needs to be around $400 a month. I'm looking for something basic that's within walking/biking distance of campus. Wherever that happens to be I don't really care, though being closer to downtown would be a plus. Does anyone have any leads for me? About myself: I'm currently a junior studying computer science. I'm quiet and mostly keep to myself, but I am also friendly. I'm very willing to do my share of chores. I don't smoke, I only drink socially, and I won't be having many parties.  <eos> \n",
            "<bos> Dave (and his non-internet friend Eric) walked me home from Dunkirk and ensured that I did not get raped. He is a fucking sir and deserves all of the upvotes. Thank you, Dave! <eos> \n",
            "<bos> Hi!  I was wondering when Fall 2016 midterms are supposed to be. I'm trying to plan a trip over Thanksgiving break, but don't want to miss anything big! Appreciate any help/information :) <eos> \n",
            "<bos> Got in to IU for spring 2018, not sure if im actually attending IU yet but I was wondering if anyone on here knows anything about the eligibility of transfers  rushing? As in are spring transfers allowed to Rush ? <eos> \n",
            "<bos> I got this idea while speaking with an international student. His family is 1st generation rich and I was asking him how they were able to make that happen. He began telling me about how his parents had a group of friends who came from mixed backgrounds and created a very close nit group. That group pooled resources (physical and intellectual) in order to help each other succeed. Essentially if one of them was looking for investors or partners or workers for a business venture, he first went to the group to see if anyone could help. They helped each other out by investing in each other's businesses, helping connect each other with important people in the field, etc. As a result everyone in the group is very successful. I am unsure about their concept in our situation, but I find it interesting how different people define success differently and have such different goals in life. I think many of us run into the issue of how to actually be financially successful if our families aren't. Many of us have never had someone take us under their wing and explain how to make it in the world. Many of us are limited in our thinking and we dream small. Many of us feel lost and hopeless about our financial futures.  I think that a good first step would be for a small group of us to get together on a bi-weekly or monthly basis and simply talk about it. Think of it like a round table discussion. We will have it set up where each person gets to submit their ideas and issues, and the rest of us will weigh in on what we think that best option is any why.  I would prefer to host the first meeting or two in public, once I feel that I can trust the group members, I am willing to host the meetings in my home. I called the registrar about reserving a room on campus for these meetings, but was told that we must be either an official IU club and fill out a form, or we would need to get someone from a department to sign for the room. If we have too many people to fit in my home we can just meet somewhere, find an empty room that accommodates us, and take it. We will just be ready to move at any time if someone else comes in and needs it. We can meet in the arboretum or some other outdoors place on campus as well for the time being until it's too cold. Comment or pm if you're interested. <eos> \n",
            "<bos> I was accepted to a graduate program at IU, and I'm not sure if I need to pay the intent to enroll deposit. Is that just for undergrads? I'm worried because the deadline is today. I was accepted to the program and wrote them back that I was attending the university, but I haven't gotten a student ID number or anything. Sorry of this is the wrong place to post this, just a worried student with no where else to turn! <eos> \n",
            "<bos> Where's good to eat in walking distance of the football stadium? <eos> \n",
            "<bos> Does anyone know if I can listen to Friday's game on the radio? What station in Bloomington/Nashville?  <eos> \n",
            "<bos> I'm humbly asking if anyone who does not plan on using their codes for Microsoft Office or the Adobe Suite would be so kind as to donate one to a fellow college freshman. If anyone is feeling generous it would be GREATLY appreciated and to please PM it to me. <eos> \n",
            "<bos> Here's the con. It's short. I register for classes and apply for financial aid with IU. They send me a hefty bill with a specific due date. The financial aid office will not disburse any aid until after this due date. Furthermore, I'll have no idea what the aid is worth until after the same due date. If I don't pay on time, they charge a hefty late fee. I can't pay before the due date. That's why I need financial aid.  My question is this: When do you remember buying something whose price was indeterminate until seeing the receipt? This isn't a perfect analogy, but it sure feels pretty close. I don't know how this is ethical. <eos> \n",
            "<bos> Hey guys, I was at the University of Illinois as a freshman for electrical engineering, but unfortunately was dropped in my second semester. Since then, I've been taking courses at Parkland College, a school nearby. I've been taking classes that are applicable to an accounting or finance major, and have been actively involved in my work experiences, extracurricular activities, and have a GPA around a 3.3 now. I was wondering, how competitive is it to transfer into the business school now? My ACT score was a 33 and my SAT was a 2030, if that matters. Any help is appreciated! <eos> \n",
            "<bos> Hey guys so I'm thinking of studying computer science at IU. I'm going to be a freshman next year and if anyone could give me advice on what intro classes I should take and professors I should watch out for that would be great. Thank you. <eos> \n",
            "<bos> Why is Indiana University (Bloomington) such a crazy town for being in the middle of nowhere? I have lived in many different cities all over the US and this takes the cake as the amount of crime per capita. ATO, Cafe strangling, Kidnappings, mystery drowning by lake, apartment murder, rape recently in apartment.... and I've only been here for 2 months.  <eos> \n",
            "<bos> Or have you taken any of the other online grad courses and degrees through Kelley? <eos> \n",
            "<bos> Yesterday I was walking from 10th up Fee and there was a guy lying in the middle of the street with a trail of blood running from what looked like his head. There were tons of people surrounding him, some clearly on the phone with 911, so I kept moving because there was nothing I could do to help. Does anyone know what happened? It looked like it may have been a scooter accident. I really hope the guy is okay. <eos> \n"
          ]
        }
      ],
      "source": [
        "for pt in val_posts:\n",
        "  print(pt)"
      ]
    },
    {
      "cell_type": "code",
      "execution_count": null,
      "metadata": {
        "colab": {
          "base_uri": "https://localhost:8080/"
        },
        "id": "9Ta_z5YynOfD",
        "outputId": "894fac46-018e-46ae-c534-1de3d722bc20"
      },
      "outputs": [
        {
          "name": "stdout",
          "output_type": "stream",
          "text": [
            "[\"<bos> I am an intercampus transfer and there is orientation tomorrow and the day after. It's 2 days long. I don't feel like attending that long of an orientation, most other schools have orientations a day long especially for transfer students. Can I skip most of the orientation and just have the advising appointment? Or will that not work and they will place a hold to not let me sign up for classes? Can I have the 411 please. <eos> \", '<bos> I know you can snag free condoms at the health center and a copy of either the USA TODAY or the New York Times in Woodburn. <eos> ', \"<bos> Hello fellow Hoosiers. I am a student who lives in the University Residence Halls. Today my cousin came to visit unannounced, and I told him he would be alright to park in a D spot for only a few minutes so he could check out my place. When we got back he had a $50 ticket for not having a permit. I felt bad and told him I would pay it since I told him he could park there.  I am just wondering what would happen if I don't pay the ticket. Since he had no permit, there is no way to track it to me, so I could not get billed. They got his license plate number and car description though. If it does not get paid, will they look him up based on this or just let it go assuming he doesn't get another ticket here? I got one last year for parking over the line in my spot, but was able to appeal it, but this one I don't think could be appealed since the car was blatantly parked without a permit, and it was clearly posted. Any advice is appreciated. I won't be heartbroken if I end up having to pay it, but I just am wondering what would happen if I do not. <eos> \", \"<bos> As you may know, there's a pretty big football game this weekend. Actually, it's probably the biggest IUFB game in the last 20 years. If IU can knock off Wisconsin on Saturday, they'll have the inside track for a berth in the B1G title game. If they can win that, Rose Bowl! I shouldn't need to tell anyone how historic that'd be. Whether you like football or not, this team has worked their asses off all year to represent IU and now it's our last chance this year to show them some love. These guys deserve a packed house, especially for the seniors.  So tell all your friends, wake up early, hit the bars, hit the tailgate, get rowdy and be in the game by noon to rock The Rock! Rose Bowl here we come! <eos> \", \"<bos> I'm looking to take an elective for fun next semester and was wondering if there are any classes through IU that teach cooking. <eos> \", '<bos> I know that I can get the New York times in print with my ID card in the IMU, but I was wondering if anyone know where else I can get it, maybe closer to the law school. Even better, a list of all locations would be greatly appreciated. Thanks. <eos> ', '<bos> Is there an obituary or something?? Or just a rumor? <eos> ', \"<bos> Hey IU....  The [IU Ski and Snowboard Club]([url link] is once again hosting our annual Rail Jam in Dunn Meadow. We're bring in real rails from Paoli Peaks, and real snow from the local ice rinks. We'll also have a DJ, redbull girls, and some other fun stuff going on. Come watch, come ride, join us! **Friday November 30th- 6pm to 9pm** Dunn Meadow- Right outside of the Indiana Memorial Union along 7th, Indiana Ave.  [MORE DETAILS HERE]([url link] All participants must wear a helmet and sign our waiver.  ----- The [IU Ski and Snowboard Club]([url link] in partnership with the Bloomington Alpine Club, and Paoli Peaks is premiering MSP's Superheros of Stoke on Sunday December 2nd. **Where:** Indiana Memorial Union-- Whittenberger Auditorium on the campus of Indiana University- Bloomington **When:** Doors open at 6PM **What:** We're premiering Superheros of Stoke along with Burtons 13. We will also be raffling off thousands of dollars in prizes including some goggles from Zeal Optics, lift passes, and a bunch of other items. [More Information Here]([url link] $5.00 for Adults $1.00 for Children and Students Free for club members <eos> \", '<bos> Hey I’m from NC and I got accepted to IU. Problem is tho I got waitlisted for Chapel and NC state and I didn’t direct admit for the business school at IU. I got accepted into my in state schools (UNC Charlotte, Appalachian State) and of course they are much cheaper than IU. So is IU worth out of state money? I didn’t get any aid but my parents agreed to pay for my housing.  <eos> ', '<bos> Are there any online search sites for roommates for sophomores, juniors, seniors similar to the dorm matching facebook page for admitted freshmen? <eos> ', \"<bos> I was just sitting in a lounge about 15 minutes ago when I heard tires screech and then a loud booming sound. Looked out the window and there was an SUV in the circle drive that was flipped on it's side. It looks like the driver hit the brick formation near the driveway. It didn't look like anyone was seriously injured. Damn. Does anybody know anything else about this? <eos> \", \"<bos> I thought they were supposed to come back in August, but I can't find ANY information as to what's going on...Anyone know anything? <eos> \", '<bos> Is this an anomaly or a perennial conflict? <eos> ', '<bos> Either an EM-P pass or would consider a pass to park at certain dorms. <eos> ', \"<bos> Hey friends. I'm a senior at IU Bloomington this semester, I've been at IUB my whole college career. My question is how do I sign up for an online spanish course that is offered out of IU East? I tried emailing my adviser but seeing as it's officially winter break, I don't think she's going to get back with me in time. The reason I'm interested in the online class is because I didn't pass HispS200 this semester and have to retake it, however, I already have my set schedule for next semester and I need to take it online. I did some research and found that IU East has Span-S200 (which is the equivalent) 100% online, but it won't let me register for it (I'm assuming because I'm enrolled at IUB). Please help, I need to take this class and I need to take it online and it has to be next semester or I won't graduate on time. TLDR: I need to figure out how to enroll in an online spanish course from IU East while I'm currently attending IU Bloomington. <eos> \", \"<bos> hi! if you know anyone who's looking for housing now or for the spring semester, i'm looking for someone to take over my lease. i'm starting a new job in TN next month. the apartment is in sassafras hill at 100 e. miller dr. it's a 2 bedroom, 1.5 bath townhouse, 1100 sq ft, pets allowed. we've really enjoyed our time living here--it's a nice, quiet community and on the 7 bus line so it's an easy trip to campus. here's the craiglist link, but i'd be happy to answer any questions here, as well. thanks! [craigslist ad]([url link] <eos> \", '<bos> I bought a basketball/football season ticket online. I assume this takes the form of a ticket booklet? If so, will this be sent to me or do I have to collect it from somewhere?  <eos> ', \"<bos> Incoming Freshman here. I got an email saying that the housing deposit was due before May 1. I'm having trouble finding much info about how much or where to pay. I'm a 21st Century Scholar, which apparently pays for $100 of the $300, but I'm not sure if I have to pay the other $200 now or if it gets put off for later or what. If anyone has any idea that would be helpful. <eos> \", '<bos> I lost my wallet yesterday near eigenmann hall. If anyone finds it you can have all the money I just want my cards and ID back. Its a black wallet and there will be a reward. Any help on finding it would also be appreciated  <eos> ', '<bos> Is it worth bringing a bike, skateboard, or long board on campus? Do most students use these?  <eos> ', \"<bos> Recently 21, had to renew, still waiting on the BMV to mail my card. I'm doing a bar crawl on Thursday and I'm afraid I won't get it by then but I have the paper print out and the receipt from renewing plus, obviously, the old card that expires between now and then. Anyone done this before?  <eos> \", '<bos> I am looking for any on campus job next sem. Does anyone know a good place to get hired that isnt a cafeteria? <eos> ', \"<bos> Hey all. I would be an incoming freshman and Direct Kelley Admit. I don't have a roommate or a clue as to what each dorm is like. Id like an active floor, with hopefully some people that like listening to music/hanging out. I'm not a huge partier but Im always down with smoking a little something something/drinking. Kind've a night owl too.  What should I do? Should I apply for housing, even if Im not certain? Is there a dorm Id fit in at? Where should I apply!  Thanks guys. <eos> \", \"<bos> I invited a good friend to the Honor's Ball, and since she's from another college, she'll be staying with me for the weekend. It'll also be her first time at IU, so I want to show her around and do things that would leave her with good memories of the school. But, I'm not entirely sure what all to do. Any advice? Also, we're not big party people <eos> \", \"<bos> Hello from the St. Louis subreddit! We just hit town and everything is sticking to everything. We are arguing over Scotty's or something called Taco Rocket. SO, we will be at the Comedy Attic tonight with Loser: A Live Action Game Show. It's got tiny karaoke challenges, beer chugging contests, pizza roll contests, video game challenges, and inter-gender sitcom theatre and more. [Here are the details!]([url link] if any Redditors want to drink and get nuts with us, we promise you a good time or your karma back! Xoxoxo Topsiders @losershameshow is where we post shit  <eos> \", \"<bos> I was just invited to apply. I'm a freshmen about to start my second semester and match the GPA requirement and necessary graded credits. I was wondering if anyone else applied and got in at IU rather than before their freshman year. Can anyone tell me what the application process is like?  <eos> \", '<bos> So quick disclouser, I\\'m leaveing the service in the next month or so. I got my acceptance letter from IU. And now I have no idea what I\\'m doing. I\\'m trying to find an appartment (something I\\'ve never done), look for a part time job and really trying to be a \"civilian\" for the first time in 7 years. So can anyone point near a good realator, places that will be hiring in the next few months, and any general information about IU and Bloomington that will make this transition a little less stressful? <eos> ', '<bos> Is there a way to request funding from IU for my organization? How do I reserve rooms? Who do I go to ask for the room reservation? Is there a link to some forms or something? <eos> ', \"<bos> I'm a transfer sophomore and am currently living in an apartment on campus. I am looking for somewhere different to live come next fall. Many of the lurkers on here have lived all over B-Town and I was just seeking advice on places to check out.  My hope is that this can be a thread for advice on great places to live, places NOT to live and why, etc. I do not wish for this to be a place for people to post ads looking for sub-leasers.  More specifically, I'm looking for 1-2 bedrooms (preferably one) at least as many bathrooms as bedrooms, W/D, relatively inexpensive ($300-$800/month/person), parking available and for guests, private entrance, proximity to campus can vary, but obviously in Bloomington.  <eos> \", '<bos> Anyone know of any links or ways to view security cameras on the campus? <eos> ', \"<bos> I have a statistics course requirement for Informatics. I have been suggested the following from an Info advisor: CJUS K300, SPEA K300, and PSY K300. I am not particularly good at math, and If anyone could tell me which of these is the easiest among the statistics courses or which has the best teacher I'd really appreciate it. Thanks in advance :) <eos> \", '<bos> Anyone here at IU doing National Novel Writing Month? I just started writing today and was wondering if anyone else here was doing it too? edit: spelling <eos> ', '<bos> Spacious and clean apartment on south Sare Rd., sublease (375/month) 1 bedroom in a 2-bedroom / 1.5 bath two-story townhouse on south Sare Rd. Female house-mate (Redditor), very clean and quiet. All utilities paid except electric and internet. Right on 5 Bloomington Transit bus line, free parking, lots of nearby trails and parks. 3-minute drive from Kroger on College Ave. Available now! <eos> ', '<bos> My iphone screen just cracked and I was wondering if anyone here could fix it. I would buy the replacement screen, as well as pay you for your time and effort. (Payment is negotiable.) Anyway, let me know if you can! My email is samjhigg@indiana.edu. <eos> ', \"<bos> Can graduate students study in the law library, or are only law students able to do so? I know that the library doesn't allow undergraduates to study in it, but I'm not sure about graduate students. <eos> \", '<bos> Disclaimer: I am one person involved in a multi-faceted social movement. I do NOT claim to speak for anybody but myself, but I like to believe I am fairly knowledgeable on these issues and will do my best to answer all questions. Also, it\\'s okay if you disagree with me or the strike. Let\\'s just keep this conversation civil. Please try to ask questions or substantive thoughts instead of posting \"the strike is dumb hurr durr\". Thanks! For general information check out the tumblr: [url link] <eos> ', '<bos> I saw that there are auditions tonight and tomorrow. Does anyone have any experience or advice on what to expect? Thanks! <eos> ', \"<bos> Hi. I was just admitted to a graduate program here at IU, and I was wondering, how on earth am I going to pay for it? I took two years off after I finished my undergrad, and so far it looks like my only options are loans. I've looked at fellowships and the like, but those mostly seem geared towards current students who can get nominated and such. I've been doing a ridiculous amount of scholarship work, but those have mostly fallen through. I would continue to work, but I work 40 hours over the course of three days, and if I continue to do that my first semester, I'm afraid it'll destroy me. Am I missing some sort of obvious solution besides loans? Thanks for helping. <eos> \", \"<bos> My decision is between a race/road bike and a mountain bike to bring to school. I will be using it to ride to class which is not very far as I'm just off campus and the occasional ride around the city for leisure. Mountain bike is heavier/bigger and has thick tires, while the race/road bike is older, smaller, lighter, and has thin tires. Any advice? <eos> \", '<bos> I am trying to submit an appeal to the Academic Standards Committe. I have outlined what I want to write in the appeal, and I have a copy of the sheet that says how to properly address the letter, however, there is nothing that gives a suggestion to the length of the letter. Does anyone have any suggestions or advice to give me about submitting this appeal? <eos> ', '<bos> I live in Foster and I have friends coming down this weekend. Where can they park for the weekend?  <eos> ', \"<bos> I'm gonna be a freshman at IU and I'm from New York so I'm really not familiar with Indiana the state and don't have the connections there that some of the in-state kids have, along with being 14 hours from home. I'm in Kelley and am taking Finite Math, Creative Writing, Comp. in Business, Pre-Law, and Kelley Compass. I'm also living in the new dorm Rose, which apparently is very nice. I'm also very into stand-up comedy and improv, along with baseball. Obviously I'm nervous to start IU, so I just wanted to ask any current/former Hoosiers for any advice they can give a freshman.  Also I plan on getting drunk SOMETIMES. I'm not really into getting constantly trashed and being drunk on a Tuesday morning. Oh and also I want to join a fraternity. <eos> \", \"<bos> Can I get some opinions from people who have taken this class on professors, and difficulty? I have 16 credit hours and am looking for a class that isn't too challenging, so that I don't end up overworking myself. Thank you! <eos> \", \"<bos> I'm interested in all sorts of things. I have a pretty busy schedule with only 4 classes and 12 credits, but I'm a Junior and I'm running out of time to take advantage of all the great classes and professors that IU has to offer. So, what are your recommendations? <eos> \", \"<bos> So i recently got a ticket for possession of paraphernalia. I was vaping weed in my dorm room and got caught. Which i know was a dumb idea but its been too cold to go outside. I was just wondering if anyone else has dealt with this and could give me some advise? I'm 18 years old and have no priors, drinking tickets or anything of the sort. The cops took my grinder and magic flight box (vaporizer). I only had roughly .3g of weed which is about $4, but they didnt add possession of under an oz which is good.  <eos> \", '<bos> Does anyone know of any good places around Bloomington to volunteer with? <eos> ', '<bos> Anyone? Have a few questions! <eos> ', '<bos> I need one more credit to be elligible to apply to the honors college at the end of the semester. I think the class has to be graded, but regardless of the grading what were your favorites?  <eos> ', \"<bos> Hello IU Reddit, I am a first year student at the Kelley School of Business, and I was given three charges over the weekend for personal Misconduct on University property for pushing over a trashcan in my hall and throwing a burnt Piece of paper in it (it was not lit when I threw it into it) one month ago. I was very angry at the time, I've been calm since then, and it was my first ever charge. I have to go to a judicial conference tomorrow, and I have no idea what will happen. I talked to a friend who had to go to a conference before for illegal drinking, and he said that I will be fine, but I don't know. Does anyone know what could happen? Will I be kicked out or lose my scholarship?  <eos> \", \"<bos> Looking for at least two other roommates for the 2016-17 year. Planning to live by the stadium, likely Varsity Court. Rent would be around $310-$370 a month plus utilities. Open to living somewhere else if it was around that price range. We can get into more details later, but right now I'm just looking for good, chill people who are in need of roommates for next year. <eos> \", '<bos> ...you should check out the Root Cellar tonight. My friend and I are playing our first house/trance/downtempo gig and it\\'s free!  We\\'re sort of worried that all 12 or 13 dance music fans will be partied out from Above and Beyond, but we\\'re not, don\\'t worry. And we named the show \"[Space Jam]([url link] so it\\'s gotta be fun, right?   <eos> ', \"<bos> I got the full 6000 for the Provost merit scholarship. I've heard that some schools only apply merit scholarships towards tuition. But, I already have my tuition paid for through 21st Century. If I get all of my direct costs paid for through Groups/Covenant, will my merit scholarship be applied to any extra costs (i.e. bigger meal plan, better dorm room, etc.)? I've tried to look around on the IUB site what exactly the scholarship can be put towards but I can't find an answer. Also, I'm eligible for a Pell Grant, the full amount. Does anyone know how that will all work out? <eos> \", '<bos> Just wondering <eos> ', '<bos> What is the minimum grade you need for a course in your major to not have to take it over. Is it a C-, C, or C+? Thanks <eos> ', \"<bos> I am a senior in computer science at IUSB who spent my first 2 years at Bloomington campus before taking a year off then transferring to IUSB to save money on tuition.  I have some research projects and 2 decent internships, data science/viz and machine learning have been interests of mine for several years so I consider myself fairly knowledgeable for an undergrad. Python, R and related ML  scientific computing libraries (tensorflow, numpy/pandas, matplotlib, sklearn etc.) I've worked with Karst and other similar resources for ML purposes such as AWS EC2 instances.  With this masters I'm trying to improve my resume a bit and ideally go into something directly data science related instead of general software engineering. But if it just helps me get a higher paying job somewhere nice through IU career services that's also a perfectly acceptable outcome to me.  So my main question is how competitive is admissions to the program? Should I try to go for the online program? Or half and half online/on-campus option? Get myself an extra year or 2 of job experience? What's the typical accepted student profile? The soic website is uncharacteristically lacking in general info.  My cumulative GPA is a 3.1 something and I have no true work experience in the field. I have taken a couple practice GREs and gotten in the top 20th percentile range.  Thanks for all replies and advice  <eos> \", '<bos> As of now, I am planning on taking Organic Chem Spring 2012 and debating whether or not to take Organic Chem II the following Summer or wait until Fall of 2012. The reason I want to take it this summer is so that I can only focus on that class and nothing else, but I do not know if shortened time will outweigh the fact it is the only class I will be taking. <eos> ', \"<bos> I just found out that there is a concert in September at Bluebird in Bloomington that I want go to. However, Bluebird is a bar and I'm not 21. Does anyone know if they let minors in for shows? I know of some places that do this (they usually put X's on the back of your hands so the bartenders know you can't drink) and I really hope the Bluebird is one of them. If you have any information, that would be great. <eos> \", '<bos> I bought football/basketball tickets for the first time this year. Not really interested in attending any of the games. How do I go about selling the tickets? I believe football tickets are on your student ID, can I still sell those tickets?  <eos> ', '<bos> My roomate and I would throw gas money without a problem. Please let me know if you are interested our ride cancelled on us :/ Thanks Reddit <eos> ', \"<bos> I live off campus and I have Popcorn Time on my computer which I believe uses torrents to watch movies. Will I get in trouble if I have it on my computer when I'm on IU secure? If I don't use it while I'm on IU secure can I still get in trouble just for having it? <eos> \", '<bos> My K201 mid-term is coming up in a few weeks. Does anyone know of, or where to find any review sessions?? I heard there are review sessions at Briscoe but have not heard any specifics.  Also, has anyone received tutoring in K201? Was it beneficial? Thanks Go Hoosiers <eos> ', '<bos> Considering Indiana if my Kelley petition is approved. I understand there are multiple levels of the meal plan. I work out daily so can someone explain the meal plan and which would be best for someone active? Thanks! <eos> ', \"<bos> I'm a freshman and I enjoy singing a lot, but not a vocal major. I was mainly a part of choir/madrigals and also did IMEA. Are there any groups that still want people or is that basically over with? Also, do most groups want members to be proficient in theory? What are the options around for now or for future reference? Thanks guys <eos> \", \"<bos> I'm having issues joining a PS3 party (specifically one in COD: Ghosts) with my roommate. We are both connected to IU DeviceNet. I'm aware of an issue where two gaming devices that are connected to the same router have issues with parties. I suspect this is a similar problem, but since we're on campus we can't access network settings to configure a DMZ or mess with ports. Has anyone else experienced this issue/can anyone help fix it?  Edit: My next idea is to try to connect one of the devices to IU Secure. Maybe getting the consoles on two different networks will help. This is the first time I've lived on campus and dealt with IU DeviceNet, so does anyone know if consoles can even be connected through Ethernet to IU Secure anymore? <eos> \", '<bos> I was accepted to Bloomington campus starting this fall and it is one of my first choice schools. However, I was given no financial aid at all and I am dying inside hearing my parents talk about putting down the deposit to my fourth (and only in-state) choice school. I am curious to know if it is possible to defer for a whole year in order to work full time here (or maybe move to Indiana and work) and then have some money saved up in order to attend the school of my dreams. <eos> ', '<bos> Hey, so I want to try and get out of W131. If i were to take the Act or sat and score above a certain threshold, could I just send the score to IU admissions and not have to take the class? Thanks <eos> ', \"<bos> Basically what the title says. I have head nothing but good things about Indiana University Bloomington from alumni, but not from current students. How's the social life? Clubs? Classes?  <eos> \", \"<bos> For anyone in here who has experience with being an AI/TA at IU...do you know what the pay schedule is for this work? Is it monthly, and if so, when are the first payments made to the AI/TAs? I'm trying to figure out my budgeting for the fall and haven't found this information anywhere. Thanks! Edit: To be more specific, I'll be an AI for the Geography department. Any experience in that particular department would be especially helpful. Thanks for the replies so far! <eos> \", \"<bos> If you live there now (2015-16 year), how is it? Or if you have lived there within the past two years how it's been as well. Please advise me. Thanks. <eos> \", '<bos> Hi! I’m transferring to IU this fall. Didn’t do any sports in high school because I was too busy being elitist against the jocks. But hell- sports look fun. Toxic environments are not. What are some good women’s sports on campus that will be welcome to beginners and have friendly communities? Is it a sort of thing that you have to take as a gym class? I’d love to get involved with a team but have no idea where to start! I’m open to all kinds of sports, because I’ll be uncoordinated wherever I go.  Thanks! Go Hoosiers 💪 <eos> ', \"<bos> Anyone taken calc (201) online through Ivy tech? Just wondering how hard the midterm and final are, if there's a curve, etc... <eos> \", \"<bos> I'm craving a Slurpee something fierce and Google says the only 7-11 in town is closed permanently. Anyone know of a gas station that sells slurpees? <eos> \", \"<bos> So I'm a huge UFC fan and I'm looking for a place relatively close to campus to watch UFC 194 tomorrow night. I'm under 21 so I cannot access certain bars. I would go to Buffalo Wild Wings, but it's several miles off campus and I don't have a car. I would greatly appreciate any help or suggestions.  <eos> \", '<bos> Hey, would anyone who has lived in on-campus apartments, especially Tulip Tree and Mason, be willing to talk back and forth with me and answer some questions for my friends and I? Thanks, all! <eos> ', \"<bos> Where do you think has a nice view? Favorite study spot? Cool little corner somewhere? I've explored so much of campus the past few years but feel like there is so much more to see. <eos> \", \"<bos> I can't find a good time to take calc that fits my schedule and I noticed the online one is an option I've never taken an online class before would anyone recommend this ? or should I steer clear and take the in class version <eos> \", \"<bos> I'm looking for a new computer, has anyone had any luck or know of anyone that has gotten something half decent at an even more decent price?  <eos> \", \"<bos> Hi! I'm hoping for a little Big10 support: I'm attending a grad party this weekend, and I need a gift. The graduate is a girl who will be starting at IU in the fall. I thought it would be cool to get her gift cards to restaurants on or near campus for those nights she needs a break from dorm food. I don't actually know her, so I can't speak to her preferences. I was going to do Chipotle, but I think it would be better to get local student favorites. I need to be able to purchase online or from Chicago suburbs. Any ideas? Thanks for any help you can offer! <eos> \", \"<bos> Hello all. I have a question regarding how does in state tuition work at Indiana University.  For some background information, my family and I are US Citizens, living in a foreign country. After applying to colleges and reviewing my options, I have committed to IU-Bloomington. As of now, I am an out of state resident, as my parents currently have no state residency. They are planning on moving with me to Bloomington, if not immediately, than at most in a few months. My question is, how soon after they move to Indiana can I claim in state tuition? Can it be right in the second semester? Or will it only be in the next year? If in the second semester, how do I go about claiming residency? Again, my parents don't have a state residency currently, so I am assuming that the process of actually gaining residency in Indiana should be fast.  Additionally, my family wants to move back to US, to settle there for at least ten to twenty years. If they get an apartment, and my parents get a job, do you think that after a year, after taxes are paid, we would be able to prove residency? <eos> \", \"<bos> Hi all, I'll be starting as a PhD student at IU in the fall. When I visited campus this spring, my T-Mobile phone had coverage almost nowhere. I'm thinking of switching to Sprint. Can anyone report on the coverage quality in Bloomington? <eos> \", \"<bos> Seeing people ask about Wright and Read, I figure there are probably other incoming freshman curious about their dorms. May as well just have one place where they can compare dorms. I'll start. I lived in Foster last year and it was pretty good. I'll say it's probably the worst of the northwest neighborhood, but it has some perks. One pro is having Gresham cafeteria, Hoo Den, and the Crimson Creamery right outside your door. It's also very close to the SRSC (gym) and a short walk from Assembly Hall. There are definitely some cons though... laundry isn't as convenient as it is in some dorms, the bathrooms are community so they're generally trashed (at least on guys' floors), and it's probably gonna be loud most nights. <eos> \", \"<bos> Hey Bloomingtonites, Being someone that doesn't attend bars too often, I'm not well versed on the best drink specials. Thinking of going out tonight (Thursday), and figured I'd ask for some advice from you guys. Any thoughts?  <eos> \", '<bos> Gaming @ IU is proud to announce LAN War XXXII - our 32nd event at Indiana University, coming this April 8th, and we\\'d be happy to see you again, or for the first time! For event details, registration, and other information, please visit: [url link] We’re happy to announce that Tourney voting is back. All early registrants can nominate up to 3 games they want to have be sponsored tourneys. There will be 4 official, prize supported tournaments, voted on by early registrants. Prize pools are generally about $100-$125. That aside, there are dozens of other games being played all the event, both in tournament fashion, and in casual play. The raffle prizes generally exceed $10k in value, and easily make the event more \"worthwhile\" than the tournament prizes do.  <eos> ', \"<bos> I made the mistake of slacking off a bit in high school and ended up getting just below the requirements for being a direct admit (3.68 GPA 1200 SAT) because I didn't know about direct admission at the time. It sounds like getting into Kelley and getting signed up for the classes you need is just so difficult and I just get the feeling that I might end up hating everything and not enjoying my experience at all. I'm wanting to major in Accounting, but I don't know much about accounting and I'm basically wanting that major based on the salary and high demand for the job.  I'm considering maybe switching to Informatics - Information Technology. I'm good/interested in computers and while I'm sure this degree isn't easy, it probably won't be as stressful as trying to get into Kelley for a job I'm not even sure I'd enjoy. <eos> \", \"<bos> Thinking about housing for next year, what is Wells quad like? I'm always at Goodbody for food/coffee and plus most of my classes are in Ballantine/that area. Plus, I've heard that after the renovations, it's really nice.  Otherwise, I'm in Wilkie this year and enjoy the single/private bath (don't mind sharing with another person) and A/C. Any other recommendations for good single dorms on Campus?  <eos> \", '<bos>  Ballantine Parking Garage will be closed starting Monday, October 8, 2018....... through May 31, ***2020***!! <eos> ', '<bos> I will be moving into the Teter honors community tomorrow morning. Any tips or recommendations for move-in days? <eos> ', '<bos> Hi, I was wondering about the language flagship program, specifically the Chinese one. I was researching the website for IU and there was some information but it was hard to come by some actual experience from other people in recent years. I was wondering if you guys could answer some questions if you know anything about it. How much extra work do you guys know would it take to do the language flagship and would it interfere with my other opportunities because I am a prospective Kelley student so I would like to be flexible but take all the advantages offered to me. Thanks very much, this sub is extremely helpful and I appreciate it. <eos> ', '<bos> Is rush at IU in the fall or spring? Both? How long is it? Some friends say that the IFC is ruining greek life at IU, whats your opinion? Any other details you want to share would be appreciated.  <eos> ', \"<bos> I'm at the lanwar at Briscoe and when I go outside I hear fireworks going off near here. Anyone know what's going on?  <eos> \", \"<bos> I'm an incoming second year from out of state and I don't know anybody. Not really trying to live in the dorms. Are there any apartments that do roommate matching? Also what area would be best to live in? I like being close to restaurants and things and I don't want to live in a social dead zone. <eos> \", \"<bos> I'm a senior in high school currently who has been accepted to IU.. I was offered a 5k a year deans scholarship with my 29 ACT, but I retook the test and now have a 30 superscored.  This will get me into Kelley, but I was wondering if they will automatically reconsider my scholarship or do I have to email them asking for more money? And if so what are the chances they'll actually give me a better scholarship? Thanks.  <eos> \", \"<bos> I was planning on taking history of rock n' roll but apparently it's not available for Spring 2017. Anyone has recommendations for easy IUB AH credits? I need a 3 credits class. <eos> \", \"<bos> Looking for a place to stay for next year (Aug-May). Relatively close to campus is key, otherwise I'm not too picky. Let me know in the comments, and we can talk details.  <eos> \", \"<bos> Hey, I am an international student who has been admitted to IU Bloomington and although I am contemplating between majoring in either business or computer science, I'm leaning more towards comp. sci. I have also received an acceptance from University of Colorado, Boulder which is one of my top choices. So I would like to know what the IU computer science program is actually like. <eos> \", \"<bos> I just failed finite online at ivy tech (because I'm a fucking idiot) and was just wondering if it's going to fuck my GPA. Probably going to have to withdraw from the university because I really can't advance without finite.  <eos> \", \"<bos> I am an exchange student who will probably be at Indiana University Bloomington for a couple of months during the summer. I tried looking at the meal plans, but it doesn't seem very clear how much a single meal costs (breakfast, lunch and dinner). Could someone please help me out with the prices and let me know if it is worth it, or is it better to get food off campus/ prepare yourself? <eos> \", \"<bos> So...uh...I have a weird question. I want to view porn and stuff at IU, but all I have so far is some stuff I downloaded at home. Will they care if I watch porn? As long as it's not stuff that's illegal or illegally downloading will they care about what I look at on the wifi? <eos> \", '<bos> Does anyone know of any effort to make a Harlem Shake video for IU? That would be so awesome if we had a few thousand students do one in the arboretum. Or maybe in assembly hall on Saturday! <eos> ', '<bos> Like the title says, I was accepted into the Media LLC and want to know if it is worth while or not. I am going to be a Freshman in the fall 2015 <eos> ', \"<bos> I've an incoming freshman and was accepted into the Hutton Honors College. What benefits do I get from being in the class? I know for other schools honors students get preferential treatment for signing up for classes.  <eos> \", \"<bos> (I'm a freshman in Kelley) I currently have about a C in Economics, and so I really want to drop it in order for it to not affect my GPA, however if I do so, I'll only be enrolled in 11 credit hours, and I've been told that this could have some significant ramifications. Does anyone have any advice about what step I should take here? <eos> \", '<bos> Has anyone tried it? Would your online security be any different than using a non-campus network? <eos> ', \"<bos> Hi, I am an incoming freshmen international student. Back home there was no exam that could earn me U.S. college credits. My question will be what's IU take on this? Would IU accept CLEP credit? Even is taken by international students? I really want to find a way to save some cost that I think could be done self-study. Also I am inclined major in accounting. Also a good way to accumulate credits for CPA exam.  <eos> \", \"<bos> My first week here the WiFi was amazing. Now it's awful and it drops frequently. What the hell happened. Why does it suck so bad? <eos> \", \"<bos> I'm going to be an incoming freshman from Southern California and was wondering what clothes are a necessity for Indiana winters. Thanks! <eos> \", \"<bos> On Jan 17th, I recieved an invoice for 1800 dollars for tuition. I've already paid my $2,800 in-state tuition, which is the total once my scholarships are applied. I am concerned - why do I suddenly owe so much random money? Help. <eos> \", \"<bos> I've been here for four nights now and have met a ton of people and I swear they're all the same. Nobody has anything on the mind except for trying to find where the parties are at that night so they can go get fucked up. Is there anything here for the non-alcoholics to do? Is this just a freshman thing? <eos> \", \"<bos> I'm a freshman this year and I lived in Ashton but I was very disappointed. I hadn't requested a single but got put in one and had an awful time. Next year I want to live somewhere else on campus with my cousin who will be a freshman. Does anyone have any advice on where would be the best? I'd prefer somewhere where people on the floor will actually talk and not act like total introverts all the time <eos> \", \"<bos> Does anybody know my chances of getting in as a non-degree student for spring 2018? Or does anyone know much about the program in general? I would've gone through intercampus transfer but i don't have my official transcript or 12 required credits yet, of course.  <eos> \", '<bos> Are there any cars and coffee meets for IU students? Must be with all the exotic cars on campus <eos> ', '<bos> Hello Hoosiers! I am a sophomore studying exercise science and I am having some difficulties regarding my calculus class. The class is M119 with Professor Orrick. I am just having some general difficulties and it is beginning to be reflected in my grade. Is there anyone out there who could provide some help like once a week? I can trade cool stuff for lessons, like how to spin items on your finger or how to throw frisbees in a variety of ways. PM me or respond here if you are willing to show me some cool calc stuff. Thanks! <eos> ', \"<bos> I'm hired on for working at Union Street Market. Just wanting to get more information on the job and what to expect before I start! Thanks!  <eos> \", '<bos> Seeing four posts in as many days from prospective students, I feel that a megathread would make it more convenient for everybody on both ends to ask and answer questions. <eos> ', '<bos> I was just wondering if any of you out there would be interested in getting something together for the finals match of the LoL Worlds on October 4th.  PM me if interested! <eos> ', \"<bos> So I pulled an all-nighter last night because I needed to see a friend off at his shuttle at 6:50 AM. The shuttle took off from the Union so we were wandering around inside for a while. I decided to take a look at the campus architectural model by the elevators for the hotel (you should all know what the hell I'm talking about) and discovered something kind of ridiculous. Turns out IU has plans to extend Law Ln (north side of train tracks) to the part of 10th street that just crosses from the south side to the north side of the tracks. If you know the area I'm talking about, then you should know that this sounds like a really stupid idea. To come out at Law Ln onto 10th street would mean that you're trying to merge with a complete blind spot to your right. The best thing you could do is add a stop light which would increase congestion on 10th street to ludicrous proportions. The second piece of future construction I noticed was pushing Woodlawn further north, through the train tracks, and meeting at the bypass. This I don't have as big of an issue with except for the fact that to do this, they'd effectively be splitting Assembly Hall and Memorial Stadium. I don't know about you guys, but I feel like there's just something incredibly wrong with that. Downvote if you wish, but I thought this is something all of us need to know, and maybe even discuss about bringing to the administration. tl;dr: More road construction meaning more congestion, and the splitting of two of our most iconic teams (maybe one of those teams is iconic for the wrong reason, but whatever it's still the idea). <eos> \", '<bos> Are lines usually long? Which store are you going to? <eos> ', '<bos> We play everything from Sublime to Motion City Soundtrack to Fall Out Boy, and are open to suggestions. We really need a drummer with a kit, or even just a cheap kit if you know where to get one. Sorry to bother you guys again, and have a good day. <eos> ', \"<bos> I have a student section ticket tonight for the UNC game, and am unable to go. I've been trying to get rid of it but to no avail. I think $20 is a reasonable price seeing as this will been an intense game. PM me if you're interested. Thanks Edit: Sorry everyone due to the high volume of responses, I had to choose one. The ticket is no longer available <eos> \", '<bos> Hi, I will be an incoming DA freshman to KSB next year and will be taking the calculus placement exam during my Summer Orientation to potentially be exempt from Calculus Courses. I was wondering if anyone had any experience with this placement exam in terms of difficulty, length, and how hard it is to actually achieve the score necessary to be exempt.  Thank you in advance <eos> ', '<bos> What are your best tips or information for an incoming freshman during Welcome Week? What are the best events, secret events, lame events, etc. Also, what is some good info for freshman regarding parties during this week? <eos> ', '<bos> If so, you should have received a code in your email with a special password. I was wishing to attend the concert but there is a VERY strong chance it will sell out. If you could pm me the code that would be great! <eos> ', \"<bos> I know prospective freshman questions are looked down upon in this sub, so I apologize in advance. I just received an email regarding Standard Admission to Kelley and it gave me these requirements: •\\tCompletion of 30 hours of college course work (AP, IB or college credit will count) •\\tCompletion of these courses on the IU Bloomington campus: – BUS-K 201 or BUS-K 303 – Choose one: ENG-W 131, BUS-C 104, BUS-C 204, BUS-L 201 or BUS-G202 and BUS-D270 – Choose two: BUS-A 201, BUS-A 202, ECON-E 201, ECON-E 202, MATH-M 118, MATH-M 119, ECON-E 370, or BUS-A 100 and BUS-G 202 •\\tMaintain grades of B's and above in every class.   Which combinations of classes would give me the best shot at getting into Kelley? <eos> \", \"<bos> I currently plan to go to another Big 10 which is ranked in the top 5 for CS. I really didn't like the campus and the atmosphere when I visited, but I chose it because it was in state and close to home. I really loved IU when I visited and feel like I made the wrong choice. Is the CS program any good at IU and is it worth it to transfer just because I liked the university as a whole better? There's no doubt I will have more/better opportunities at my current school.  <eos> \", '<bos> Hey, /r/indianauniversity! Quick question: is there anywhere I can go to record some piano?  <eos> ', '<bos> Anyone taken Russian for their language?? Wondering the difficulty, thoughts on class, exams...? Etc.. <eos> ', '<bos> Looking for weed, rolling paper, willing to pay cash. <eos> ', '<bos> I am currently a Informatics major with a specialization in Business. I am also getting a minor in Entrepreneurship and Corporate Innovation from Kelley. I was wondering what type of career fields I could enter with this and how the job availability would be? Informatics Majors, what job/career field are you aiming for upon graduation? Personally, I would love to become a Business Analyst.  <eos> ', '<bos> On one.iu.edu at student center, it says that I am pre-linguistics University Division. My UD advisor said that to get into the actual linguistics program, i need to be enrolled in the college. On iu website, it says you need to have 26 credits and do the composition requirement. I have around 13 ap credits and am doing the W131 class this semester and am doing total of 15 credits this sem. can I be admitted into the college after my first semester? <eos> ', '<bos> I am a junior in high school, and am considering applying to Kelley in a couple months. I currently have an ACT of 32 and an SAT 1420. However, my GPA is a 3.6 which is under the required GPA. Would I have a good chance of getting a direct admission if I petitioned? Thank you. <eos> ', '<bos> I just got my housing assignment and I applied for northwest but I ended up getting eigenmann in central. Is this bad? Im worried I may not end up meeting as many people as I would if i was in northwest. <eos> ', \"<bos> I'm looking at you alums. What IU campus pranks have gone down in history? I'm on the hunt for ideas and possibly looking to carry on the legacy of past IU pranksters. However, I want creative ideas (i.e. dish soap in the fountain), not douchbaggary (i.e. TPing the campus) <eos> \", \"<bos> which of those two is easier? I need one more math course and I'm trying to take one through ivytech this summer. also if a course isn't offered in the bloomington ivytech campus, can i take it online through another campus and take the test in bloomington? if finite, do i just take the math 135 one or is there an even easier version of it at ivytech i should be aware of, because you know there are like 2 or 3 different versions of stats math at iu depending on which department you take it from Edit: I'm taking calc 2 Edit 2: turns out finite doesn't meet my degree requirements anyway. So it's settled <eos> \", \"<bos> Hey guys, I'm an incoming junior this fall and I really would like to find a job so that I can have some extra cash for various expenses. Unfortunately I don't qualify for work study though, so I am kind of limited in jobs I can pursue on-campus. Does anyone know of any places on/around campus (not too far cause I don't have a car) that are open to hiring poor college students like me? I have heard that RPS generally hires just about anyone, so I might look into that but I was wondering if you all had any other suggestions. Thanks! <eos> \", '<bos> Hey everyone, I\\'m a junior and my boyfriend and I are looking for somewhere on campus where we can live together alone. Union doubles got filled up and we didn\\'t get a chance to grab one, so we are left looking for other options. We are really interested in living in Willkie because of the apartment style living with a kitchen on each floor. So my question is: What kind of furniture is included in the [2 bedroom Suites]([url link] I assume there will be a bed, chair, and desk, but is there anything else? And is there any furniture in the \"living room\"? Also, how is living there? Thanks edit: Would anyone living in a 2 person Willkie suite be willing to let my boyfriend and I come look at it this weekend?  <eos> ', \"<bos> Obviously they are did fall and are doing Spring, but i've heard that some are doing a winter rush. Is that true? <eos> \", '<bos> -- Every Mobile User on Campus <eos> ', '<bos> did IU change anything? Is my tuition cut in half? Can I make 12 dollars an hour cleaning toilets? <eos> ', '<bos> Southwest side of campus. Pretty much assuming it was stolen and then dumped cause the brake lines are cut. Really want to return it to the rightful owner and get it out of my apartment!! <eos> ', '<bos> Are there any others who believe that the issues with this nation will never be solved by a group of people camping out for change? Can IU organize in a meaningful way? In a way that could possibly bring change? Are we even capable of inciting a movement that would gain attention? I believe that it is time to ask ourselves a serious question: What exactly do we stand for when it is clear we are being lied to <eos> ', '<bos> Edit: On Friday, September 6th, at 5:30 p.m., in room 123 of the Maurer School of Law Panelists will include Rep. Lee Hamilton (SPEA) and Professors Fred Cate (School of Law), Nick Cullather (History), David Fidler (School of Law) and Bill Scheuerman (Political Science). Panel moderated by Professor Sumit Ganguly (Political Science). source: [url link] Thanks /u/suziemeow!  <eos> ', \"<bos> I'm sure you all know about the unfortunate spike in sexual assaults happening at night. Our Finite teacher has scheduled an exam at 9:30-10:30 tonight, which means a lot of students will be walking across campus at night in possible danger. I was wondering who I should voice my concern to regarding this. <eos> \", '<bos> So there was an orientation/kickoff today at 10:30AM for the Serve IT program under Matthew Hottell (Director of Serve IT Non-Profit Clinic) that I was supposed to attend but I cannot move into campus until tomorrow. I already emailed the director yesterday informing him that I could not make it but that I enrolled into the INFO-I391 class and intend to still be a part of the program. For those of you who are or have been in the Serve IT program, will I still be able to be enrolled in the program if I could not make orientation?  <eos> ', '<bos> I realize IU is well known for their informatics program since it is one of the few in the country, but I was wondering how good their Computer Science program is? I looked into informatics and it just seems like a watered down computer science degree mixed with telecommunications due to the degree requirements. <eos> ', \"<bos> It's for my dad, who coaches middle school soccer out in CO. I can't find any IU soccer baseball cap from Google searches, could anyone help me out? <eos> \", '<bos> I got a 5 on my AP Calculus AB exam and 90 on the ALEKS math placement test score, but I never took the optional calculus placement exam. My major is biochemistry, which requires Calc 1 and 2. When signing up for classes during my orientation, which was before I received my AP scores, the advisor spoke of how difficult Calc 2 is in comparison of high school AP Calculus. With GPA being very important to me, would I be able to do well in Calc 2 or should I retake Calc 1, maybe honors Calc 1, as a refresher?  <eos> ', \"<bos> Next year I'll be living in my off campus fraternities social house, and we were looking to do house shows regularly next year - beginning with Welcome Week. Probably 1-3 bands and maybe a DJ, hopefully. Our house is a pretty decent size, plenty of room outside, and is located such that we only have 3 close neighbors. We're also only about a 15 minute walk from one of the night owl bus stops.  So, any local bands looking for a place to party/perform for exposure, PM me.  <eos> \", \"<bos> Hello I'm in my senior year at IU, and finally have some free time. Looking to join a club or two, at least next semester if not now. I'm a passable pool player and love it. Want to get better, but I can't find any online information or anything posted at the IMU about a club. I seem to remember there being one, at least a couple years ago.  Anyone have any information? <eos> \", \"<bos> Me and my friend were looking to get an apartment off campus for next year. One complex we were looking at was The Dillon.  It looks pretty nice and a decent price, but I wanted to ask some people who may have experience with living there, or have heard anything from people that do. If you guys have any recommendations for buildings besides The Dillon (if TD isn't recommended or you just have somewhere else) let me know! I'm a Computer Science major, so idk if my classes would be super far away or not. Thanks! <eos> \", \"<bos> I'm a sophmore looking for somewhere to live next year (i know I waited way too late). I'm looking for somewhere clean where upperclassmen live preferably. I have 21st century scholarship does anyone know how much it covers for the more expensive apartments or dorms on campus? Thanks in advance.  <eos> \", \"<bos> That's about it. I just want to get it back to it's rightful owner. <eos> \", '<bos> Hey ladies and gents Pretty much exactly the title. SPH 151, one crédit hour. Could be a fun buffer class and it’s always a great idea to know how to protect yourself!  <eos> ', '<bos> Hello redditors at Bloomington! I have some cash credited on Crimson Card by my advisor, though it is great to have food and stuff where it works, but I would like to buy some clothes (except at IMU (they are so pricey!! ) ) or electronics with that. I tried buying gift cards (Amazon etc.) using Campus Access but apparently that is not alllowed. Are there some hacks or tips on how to get more juice out of my crimson cash ? :-) <eos> ', \"<bos> I'm a sophomore and a lesbian. The girls I met last year fell into three categories: * Straight * Homophobic * Lived at Collins and was a Queer Biromantic Polysexual Transethnic Otherkin with 45 headmates I (stupidly?) didn't join any LGBT groups because everyone I had met (all gay men) said they were awful.  So advice and tips for finding someone if you're LGBT?  <eos> \", \"<bos> You guys probably get these types of posts a lot so sorry about this, but it's been weighing on my mind recently.  I'm interested in business school (accountancy) and IUB obviously has an amazing business school.  I have a high Weighted GPA (4.4) and a high ACT score (35) but my UW drops really low, down to a 3.6. In addition, It would be really helpful if I could get aid given that I have an older brother who is in college without any aid whatsoever currently.  My current goal is to apply in early September so I can hopefully hear back around early October and take a load off of my shoulder regarding college. However, if I were to do that, I wouldn't be submitting recommendation letters.  Should I wait to submit my application so that I can get letters of recommendation or should I just submit my application after I feel like I have a decent essay? How likely is it that I would get in, given that I have an UW gpa beneath the average and I'm OOS?  Thanks.   <eos> \", \"<bos> Long story short, I already have credit for the english class that i'm in and my adviser told me to enroll in an 8 week class. I'd prefer that it be on M, W,F. there's a gap on my MWF's from 9-11:15am. Any help/advice is welcomed! Edit: [url link] <eos> \", \"<bos> Hi! I'm looking to transfer out of one of my classes due to the work load, and I was wondering if anyone had recommendations for a relatively easy, lecture based 3 credit class to replace it? Thanks! <eos> \", \"<bos> The employers' list is so long, I don't know which ones are the best to focus my time on. Any suggestions would be great Here is the list: AccessAbilities, Inc. ACUI Apple Azzip Pizza Bell Trace Senior Living Inc. Bloomington Meadows Hospital Bloomington Project School Boys  Girls Clubs of Bloomington Bruce Wilds' Securitys Bub's Burgers and Ice Cream - Bloomington Buckle Buskirk-Chumley Theater Carl Lamb  Associates Centerstone Chabad House Chemistry Teaching Labs Chick-fil-A College Mall Collegiate Charities Comfort Keepers Crew Carwash Employbridge ESG Security Inc. Express Employment Girls Inc - Monroe County Goodwill of Southern  Central Indiana Harmony School Education Center Home Instead Senior Care Hoosier Hills Food Bank IUB - Academic Support Center IUB - Athletic Ticket Office IUB - Business/SPEA Library IUB - Campus Recreational Sports IUB - Career Development Center IUB - Center of Excellence for Women in Technology (CEWiT) IUB - CHG (Center for Human Growth) Counseling Services IUB - Contact Center IUB - Department of Theatre  Drama IUB - Document Delivery Services IUB - Event Services IUB - Facilities Services IUB - FMS Payroll IUB - Foundation Telefund IUB - Gresham Food Court/ McNutt Hoosier Cafe IUB - Herman B Wells Library Media Services IUB - Herman B Wells Library/Access Services-Circulation IUB - Hillel Center IUB - IMU Catering IUB - Mathers Museum of World Cultures IUB - Musical Arts Center-Opera Theater IUB - Office of Admissions IUB - Office of Student Financial Assistance - OSFA IUB - Residential Programs  Services (RPS) IUB - RPS Dining Services IUB - School of Art and Design IUB - The Restaurants at Woodland Kilroy's Bar Group Knee High Daycare Cooperative Lids Sports Group Lifedesigns Little Star Center Lowe's Lucky's MCCSC School Age Care McDonald's Middle Way House, Inc. Monroe County Community School Corporation Monroe County Court Appointed Special Advocates (CASA) Monroe County, IN - Probation Department Monroe County, IN - Public Library Nolan's Lawn Care Service, Inc. Pizza X Shalom Community Center Shire (Biolife) St. Mark's United Methodist Church - Nursery School and Kindergarten Stone Belt Arc, Inc. Sunflower Cooperative Daycare The Bee Corp The Kroger Company United States Army UPS Vibe Yoga Studio Vintage Vogue by GW/ Goodwill of central and southern Indiana WonderLab Museum of Science, Health and Technology WorkHere WorkOne <eos> \", '<bos> Does anybody know what percentage of applicants to the SPEA MPA program get accepted? How many students are in the program? How many applications each year? Not sure if anybody knows these things, but if they do I would like to know. Thanks for the help :) <eos> ', \"<bos> I got directly admitted to Kelley and I'm looking at majoring in Accounting but I also want to major in something else. Whether it be another business major such as finance, or a language like Mandarin or German. Is it possible to major in something outside of Kelley? I've scoured the website but haven't found much, thought I'd try here. <eos> \", \"<bos> Went there last night and they weren't open, anyone know what date the ASCs and the one at teter specifically open? <eos> \", '<bos> Hello again Hoosiers, So my class did not have enough enrollment to make it as a 16-week course, so it was rescheduled as a second eight weeks course. I\\'ve made some tweaks to the syllabus that I think will make the course even better. I\\'ve also thought up a sexy new title: \"Cyborgs, Babe Scientists, and Hermaphrodites with Attitude: Power, Technology, Difference.\"   The course will now meet from 11:15-1:45 Tuesdays and Thursdays, starting 10/16.  I realize this is probably not ideal for most of you, schedule-wise, but I\\'d love it if some of you fine folks can join me!   <eos> ', '<bos> Basically what the title says, any places on campus that are less crowded than library/union that are still good to study with outlets? <eos> ', \"<bos> Here's the deal: I'm stuck in Bloomington working a day job for the summer. Very few of my friends are still in town, and we tend to get opposite work schedules as I work days and they work nights. I'm sure a lot of people are in a similar situation, so let's get a beer or something. Details: I'm a guy, mid 20's, IU grad student. I'm a nerd but social. I like beer, nature, gaming, and trees. I'm generally pretty normal and not a creeper. Similar interests? Similar lack of creepiness? Let's chat. PM me or reply to this post. <eos> \", '<bos> I am trying to expand my tastes before I leave for the summer. What do you think of these restaurants? Could you rate them on a scale from 1 to 10 if you have been there?  The Runcible Spoon Siam House Taste Of India The Farm Malibu Grill Scholar’s Inn  Bub’s burgers  Which one would be the best to take my parents for a graduation dinner? Which one for a date? Are there any other unique places around that are great for food?  <eos> ', \"<bos> There's no good macro times available and I heard getting the credits through ivy tech online is easier , can I take the class during the semester along with my normal IU class work? <eos> \", '<bos> The Company Stores is a modern folk/blues band out of Charleston, WV. We are going on tour in October and hoping to stop by Bloomington. We need a local band with a good draw to play with us. In turn we are offering a spot in Charleston whenever the Bloomington band wants to come down. <eos> ', '<bos> Hello, everyone. Can you please take this short survey about academic rivalry between Purdue and IU for my project? This will take only a very short time. I would be very grateful if you can do me a favor by taking this survey. Thank you! [url link] <eos> ', \"<bos> I'm an incoming freshmen and I'm looking for an intramural/rec soccer league. I played in middle school and was decent, didn't play at all during high school so nothing too intense. Any help would be appreciated! <eos> \", \"<bos> Some questions on the ST parking pass and how it works -It says it isn't valid until 9/1/16. Class starts before then, surely they will make exceptions and not give tickets?  -If I buy it now should I put the address to send it to as my home address where I currently am for the summer, or my house for next year in Bloomington? <eos> \", \"<bos> I did a quick google search and couldn't really find anything, admittedly I didn't spend too much time but I thought some of you on here would have better information to provide than a webpage. Any laptop recommendations for CS majors or any other advice is much appreciated.  <eos> \", \"<bos> First, what food places are open on campus right now besides the ones in the IMU and those little campus cafe things? Are there any ghetto/lax liquor stores that will take my mediocre fake ID? Everyone here looks like they're about to work out at any moment. Where does the hipster crowd hang? Any hipster kids wanna be my in? Any cool 18+ venues for touring bands I should check out?  <eos> \", \"<bos> I'm a freshman and I'm looking for gyms to go climbing, particularly bouldering. Any information would be helpful. <eos> \", '<bos> As my junior year starts winding down, I am getting more and more serious about the college look. I am from California and have been doing research all year about what school would be best for me. Indiana seems to be one of the perfect fits for me, but I was wondering if I could get your opinions. I love sports, especially college basketball and football and I know IU has one of the biggest (and best) student sections. I am definitely interested in going into business and I know Kelley has one of the best reputations around. Thanks in advance! <eos> ', '<bos> Looking to get a hold of notes and such. TIA. <eos> ', \"<bos> Hey guys, I need pretty extensive repairs done on my 96 Ford Mustang. I was wondering if any of you have had good or bad experiences with any of the local auto shops. I'm really just looking for some places to call and get quotes from. Thanks for any help you can give me! <eos> \", '<bos> title says it all <eos> ', '<bos> Im an incoming freshman majoring in cs, and was wondering if a lot of people do internships, or even if there are a lot of recruiting events for them <eos> ', \"<bos> I'm a Kelley student living in the KLLC and I chose random roommate. Those who did the same what was your experience? Is there any other way to get one? <eos> \", \"<bos> [url link]  It's a silver Yamaha C3. It was taken from my apartment at 1st and Walker between 11am and noon today. C3s have a failsafe and cannot be started without the key. I did a walk around my neighbourhood as best as I could but it wasn't ditched anywhere. The thieves probably had a truck. I'm disabled following a surgery that didn't go well and cannot walk without pain. I require painkillers just to get to the bus stop. Without my scooter, I am homebound. Shittiest part is, today was supposed to be my first day at my new job after 5 months of being unemployed because of my knee. BPD has a report on file but, of course, don't really care if it gets found or not. If you see it - and it's only one of 2 silver C3s in Bloomington - please call them.  <eos> \", '<bos> To whoever owns the car parked behind Wright quad with a LUNA music sticker on it, you are awesome. That is all thanks <eos> ', '<bos> I have the option to take math-m119 this fall online at iu. Is this a good idea? <eos> ', '<bos> My roomie and I are in Wright Quad sweating our asses off in our room. Does anyone here have any great ideas on fan positions, or other ways to keep the room relatively comfortable? <eos> ', '<bos> I hope this post doesn\\'t break any subreddit rules, but here goes! I\\'m from the St. Louis subreddit, where the word \"Hoosier\" actually means something very different, I\\'ve discovered. I\\'m Chris, and we are taking our little geek game show on the road for the first time ever this summer: we\\'ll be in Bloomington on June 17! It\\'s called \"Loser: A Live Action ~~Game~~ Shame Show\" and it involves live karaoke (with tiny instruments), video game and pizza roll challenges, bar trivia, Shitty Accent Superhero Charades, Inter-Gender Sitcom Theatre and more. [Here\\'s a YouTube promo.]([url link] Think this sounds like fun? Boy howdy, it really is. [SO, if you\\'d like to be a contestant and join us, please fill out this Google Form so we can include you.]([url link] And, if not, we hope you\\'ll come out and watch, scream and get drunk with us.  Warning: [this links to the Facebook event.]([url link] XOXOX Topsiders  <eos> ', \"<bos> I'm trying to mail a surprise care package to a residence hall, but I'm unsure of the room number and don't want to give anything away by asking. I know the residence hall, building and floor but just not the room number. If I send it anyway is it likely it will reach the recipient just by name?  <eos> \", '<bos> Hello everybody. I have recently been accepted to Indiana, and started to do some more research into the school. I found this website, [studentreviews]([url link] where surprisingly, there are a lot of negative comments about Indiana. Are they true? And if so, how prevalent? I just want to know before I make my decision to attend IU. <eos> ', \"<bos> I'm a biology major, and I need to take 2 AH courses (that are approved by College of Arts and Sciences). Naturally I'm trying to pick the easiest two. Looking for: minimal effort / easy A the least writing possible (i hate papers) interesting subject good professor Any suggestions? <eos> \", '<bos> What sophomore business classes can I take as a freshman and succeed in? Also, are there any easy / fun classes that you guys enjoyed? Thanks!  <eos> ', '<bos> I am considering the Data Science program at IU for my Masters, probably online but not 100% yet. I was wondering if anyone had any experience with this program, the school of informatics and computing, or online learning at IU. The program and IU both seem great, and I know a degree from there is pretty valuable.. My undergrad degree is Geography but I currently work in a data-heavy environment using GIS. Thanks! <eos> ', '<bos> My husband and I are going, and we have two (albeit small) free seats. If anyone else is interested in coming, we will be leaving at 10AM. Send me a PM, and we can exchange phone numbers. [Facebook info]([url link] [Blogspot]([url link] <eos> ', \"<bos> I signed up for my spring semester classes, and I wanted to sign up for BUS-K 204 as opposed to K 201, but SIS told me that I needed some sort of code. Is anybody familiar with this? How can I get into K 204? I'm already in Hutton, so I should be able to take honors courses. <eos> \", \"<bos> Hi I can't find the acceptance rate for Kelley Direct Admission anywhere online, does anyone have an estimate? Thanks <eos> \", \"<bos> Hey homies. I'm graduating in December, and I need housing in the fall. Right after I graduate, I'm moving to Denver, so I really want to avoid the hassle of signing a 12 month lease and finding someone to sublet for the spring/summer. I'm REALLY having a hell of a time finding anything at all, let alone in my price range ($4-600/month). Does anyone know of short-term housing options round these parts? <eos> \", \"<bos> I'm currently a freshman and looking for a couple roommates for next year. An apartment would be ideal, but I'm open to a house. I'm a pretty down to earth guy, not a big partier but it's not something I never do. My major is Informatics, and I'm really into music, vinyl, the whole deal. Message or comment if interested, or if anyone knows of any roommate matching services at certain complexes that would be great, I've heard thats a thing at some places. Thanks! <eos> \", \"<bos> Planning on taking it this next year and I'm not sure what to expect. Says there's a lot of calculus applications so I just want to make sure I'm where I need to be. <eos> \", \"<bos> I'm thinking about buying the season ticket package football/basketball combo. I saw that it's $380 but it says the price may change in the future, what exactly does that mean? Could the price go higher?  <eos> \", \"<bos> Hey guys, I have a guest coming to town today, but she's coming later in the evening so I will not be able to pick up a 24 hour parking pass. Do you guys know of anywhere that she could park for the night until we are able to pick up a pass the next morning? Thanks a ton! <eos> \", \"<bos> I'll be doing the Russian workshop this year; wondering if anyone else is participating! <eos> \", '<bos> im a freshman here and havent played with other people in a long time and its driving me crazy <eos> ', \"<bos> Hello everyone! I'm coming to Bloomington for my Ph.D this Fall and looking for a place to live. I wonder if anyone has experience with 1) Heritage Apartments or 2) Lincoln Hill Apartments.  Heritage Apartments seem OK to me, but I'm not sure about their distance from the campus. Is it walkable from there to the campus, or is the transportation system reliable? And I'm planning to cook most of my meals, so I want to know if this place is convenient for grocery shopping. On the other hand, I couldn't find any review on Lincoln Hill Apartments. Does anyone know about this place or its owner, Grant Property? I'll really appreciate it if you can give any information or if you can recommend any other place with similar conditions and price (my budget is around 700$ maximum). Please advice. Thanks a lot! <eos> \", '<bos> On btownmenus. I know I needed it after this \"dead\"week. <eos> ', \"<bos> Last Halloween I met the most amazing woman at Brothers. Since it was a one-night stand I've been trying to forget it, but honestly I *still* can't stop thinking about her. I need to at least talk to her again, see if there's something more to be had. She gave me her contact info, but I was so hung-over I forgot it (I know, I'm an asshole).  Here's what I remember about her: * Her first name's McKenzie * She's a senior * She's studying psychology * Dark hair, eclectic taste in music If you have any idea who I'm talking about, please *please* PM me her name. You have no idea how much it means to me. Thanks in advance. <eos> \", \"<bos> I plan to be going to IU next fall, and I'm currently looking up housing options. Both the Hutton Honors College and the Global Village stand out as unique residences, but I'd like to know more about them, from a student standpoint. Has anyone here resided in either of these, and if so could you tell me more about them. Upsides, downsides, etc. Thanks. <eos> \", \"<bos> Hey all, so I'm a sophomore getting ready to enroll for I-Core for next fall and was wondering if it is wise/feasible to take ECON E-202 Macroeconomics along with I-Core. I'm required to take Macro by the time I graduate but I would need to take it (correct me if I'm wrong on this) first semester next year to be eligible to apply for study abroad programs. I know a lot of people suggest taking it over the summer but I'm not sure I would be interested in doing that this summer as I will be abroad for 10 days and then beginning an internship. Please let me know what to expect from this class, and any suggested professors as well! I appreciate the help! <eos> \", \"<bos> Hi there /r/IndianaUniversity! I figured I'd start a discussion about welcome week events and which ones reddit thinks are worth attending. I will be in advising tomorrow, but once I'm out, I'll be looking for some fun things to do until the transfer student party at the bowling alley, anyone else going to that? (transfer students only!)  <eos> \", '<bos> I know IU has a league of legends team, multiple at that, but does IU have a csgo team at all? <eos> ', \"<bos> So. I am a current residence hall dweller and I am having issues with my neighbors. Every single night- I mean EVERY SINGLE NIGHT- they go out and then roll back in between 2-3 a.m.. This is totally fine by me. However, they are the loudest human beings I've ever encountered. Screaming and yelling, slamming the door, multiple people in and out of the room/hall for at least an hour. Every night. They have been reported for noise multiple times to no avail and several people, including myself, have asked them to tone it back. My question is- at this point what is there to do? They are violating the quiet hours policy and have been reported multiple times but it doesn't seem like there is an actual repercussion for this. Help? <eos> \", \"<bos> Hello! I am visiting IU for a regional conference and I wanted to get some info/advice on how to best spend my time while on campus. Where are the must sees, must eats, must dos on campus? I'm basically trying to leave feeling like a student here. Thanks in advance for any help. <eos> \", '<bos> Would it be getting founders scholar? You only need a 3.8 to get it. Are there any higher academic honors. Sorry if this comes across as pretentious.  <eos> ', \"<bos> Has anyone used them? Is there a better option? I don't have a car so I can't get my own storage unit. <eos> \", \"<bos> Technically because we don't own the software we obtain through IUWare, we have to uninstall any programs (except Microsoft ones) after graduation. My question is, does anyone actually do this? Is it possible for them to know if you don't uninstall programs? <eos> \", \"<bos> Hi, this is probably a dumb question but I'm going to a basketball game with my grandpa on Tuesday and I was wondering what the parking situation is. Do I have to pay a lot for a parking pass just for the game? Do I have to purchase it beforehand? Would it be better to take a taxi to and from the stadium?  I've never been to a college game so I don't know how this stuff works.  <eos> \", '<bos> Hi everyone! My girlfriend and I are looking for a new apartment complex and found both Bradford and Forest ridge to offer what we were looking for. Does anyone have any experience with these complexes that could help us with our decision? Any help would be greatly appreciated. <eos> ', \"<bos> So I'm a sophomore right now, and I'm wondering how risky it actually is trying to get into bars with a fake. Like my friends have never had any trouble using theirs at liquor stores, but I've always been told it's pretty risky. Is it dependent on which bar?  <eos> \", \"<bos> I am transferring to IU from LA this fall. I wanted some insight on which building is the best to transfer to. I'm moving to IU for their famous Kelley business program but I'm also looking to make the best out of the next two years. Which building will I find the most social/ partier colligates? Does the junior crowd move into apartments by the third year? Would it be best to get an apartment? Any tips on how to make the most out of this experience since I'm transferring and obviously cutting it down to two years... <eos> \", '<bos> I have signed a lease to live with a friend in a two bedroom apartment next school year. I am considering studying abroad for the spring 2018 semester. My question is, if I follow through with this, what do I do with my living arrangement? Will I be able to find someone to sublease for the spring semester while I study abroad? Idk what to do if anyone has any advice. Thank you, greatly appreciated.  <eos> ', \"<bos> I'm about ready to sign a lease with them, but after doing some simple Google-based research, I've heard some terrible, terrible things about them. Has anyone had any experience renting from them? Specifically I'm wondering about their property located at 3939 Roll Avenue. I think it might be a new property of theirs and maybe it hasn't had a chance to be fully neglected by the landlord like the rest of their properties. Thanks! <eos> \", '<bos> Hey guys so I was wondering if someone could enlighten me on which major at Kelley is the most difficult compared to one that is least. I was interested in a finance degree, so how difficult is that? Befor you comment something like \"oh pick your interests then it\\'s easiest \" or \"life is never easy\" please don\\'t I\\'m just asking a general question so I know what I\\'m getting Into. Also are there hot water showers st Crone and Bryan? <eos> ', '<bos> I was wondering if any current IU students could give me some reviews on these courses. Specifically I was wondering what the writing/report load is. If any other incoming freshman having anything to add, please do. Thanks! <eos> ', \"<bos> Hey all! So I just wanted to ask you if you had any ideas on what I should do in terms of advertising my short film that I am going to be directing this fall. Before jumping into it, here is what is going on: I wrote and am going to direct a short film called Dream of Me, a 30-minute story about two best friends that are separated when the girl mysteriously finds herself in an alternate reality. The guy joins her a year later, and they realize their relationship could have changed in an instant. This story doesn't focus too much on the fact that there is a huge supernatural event that occurs, but more so on the relationship of the two characters.  I've been talking to a particular office at IU about receiving funds so I can pay the professional personnel on set. I am not sure how much I would receive from them, so I decided to reach out here for any ideas about how to make my GoFundMe page for this project more noticeable. Now, that does not necessarily mean I want you guys to donate, although that would be much appreciated, but I would like to know if there are certain things I should do with this. Alternatively, does anyone know who I could go to on campus to maybe help receive more funds?  Let me know of any thoughts or ideas! And please ask me questions if you have any. I have a terrible habit of not explaining myself very well. <eos> \", \"<bos> Hey fellow Hoosiers! I'm living in Wright in the central neighborhood and I need to send a couple letters and a package. Where is the nearest place I can get stamps and envelopes? <eos> \", \"<bos> I recently got in a bit of trouble since I had BitTorrent on my computer. It had been seeding some of my rightfully owned music, etc... Basically, I understand it's still my fault and I deleted it, but now have to go to the Copyright Violation Seminar. Just wondering if anyone else has had to do this and what it entails? I, being a nervous freshman, am just stressing over the whole thing. <eos> \", '<bos> Hey everyone, I am a Sophomore looking for housing for next Junior year. Myself and two others are looking for a place to live off-campus that is pretty nice (think Hamptons) and close to campus. Any options? <eos> ', \"<bos> Hi, I'm going to be a freshman next year! I was wondering if there was anyone out of the meal plan? And also I was looking at the meal plan costs and it showed the cost and operational costs. Does that mean I have to pay the meal plan cost plus the operational cost? Or is already factored in? <eos> \", \"<bos> Hi there, I am a high school student currently considering applying to Indiana (Bloomington). I was wondering how the fraternity rush process works at IU. When does recruitment take place? Can anyone get into any rush event? If not, how does one go about getting recruited by a fraternity? How selective are the fraternities? I am from Texas, and I don't have any connections to Indiana greek life. I have two cousins from Indianapolis who may know people involved with IU greek life, but that's unlikley. I'd just like some more information about how the fraternity rush process works at Indiana. Thanks for your help! <eos> \", '<bos> Is there anywhere on campus you can safely/legally get onto the roof of? I love a good view <eos> ', '<bos> I\\'ve got a question about classes, and I would be very grateful for any advice. I switched majors, so I have to take an extra year (2 semesters) to get my CS degree done. It is doable, but will be a heavy class load. I\\'m going to start taking specialization classes next semester, and will hopefully wrap up by May 2014.  My question is this: What is the easiest specialization, or the one that could be completed in a short amount of time the easiest? Honestly, I\\'ve gone through 3 advisors so far, and they\\'re all garbage. I know they\\'re trying their best, but my last advisor flat out told me \"I don\\'t see many CS majors\" and \"I\\'m not really familiar with CS classes\" in our last meeting. AI seems to have the least amount of classes, credit-hrs wise, but also seems extremely hard. Thanks in advance for any advice. <eos> ', '<bos> I am a sophomore currently attending another university and I am going to be applying for transfer this coming spring semester. I was wondering how hard it is to transfer into IU? <eos> ', \"<bos> I'm a new grad student moving to Btown in August. After reading the best/worst places to eat around town, I've gotta know! What are the best places to drink? <eos> \", \"<bos> Hi, everyone!  Have you ever fantasized about being a samurai? Perhaps not, but you have to admit, dressing in armor and battling with swords is [pretty badass]([url link]  Once upon a time, IU had a thriving [kendo club]([url link] but some time after I was no longer a graduate student, the club went inactive. Now, there is an entire cage room full of armor and swords and such, over between the gyms in HPER, waiting for someone to love them and use them, again.   I'm looking for students who are interested in getting the club up and running, again. I can serve as the faculty/staff adviser, and non-students can join, but students must serve as the officers and such.   Let me know if you're interested - it would take a little bit of work, but the payoff would be pretty fantastic. Edit: [Here's a picture of me]([url link] from a demo, back in the day. (I'm the short one, on the right. Sadly, I couldn't find an action shot of myself.) <eos> \", '<bos> Is there anywhere on campus where someone can jump in the booth? <eos> ', '<bos> The food courts at IUPUI weren’t the greatest of food so I just spent my crimson Card on Chick Fil A and Papa Johns all the time. I was wondering are the food courts at IUB pretty good, and also what’s some of the best places to eat around Central Neighborhood? Thanks! <eos> ', \"<bos> Greetings, It's that time of year again, when we get a lot of questions from people who refuse to Google search. But that's fine! Please feel free to ask your questions about IU here! You'll be free of harassment and ridicule while on your informational questing.  I'll be closing all of the simple question posts, so if I closed one of your posts, I'm sorry but please feel free to re-post the questions here. <eos> \", \"<bos> Does anyone have access to the WIUX 99.1 / B-side schedule? I looked for it at the WIUX homepage, but it hasn't been uploaded yet.  <eos> \", \"<bos> Just watched the parking police guy write someone a ticket for having one of their wheels touching the white line. I've also heard of people getting tickets for having their front bumper over the line in front. Just a heads up. <eos> \", \"<bos> If this is even possible an answer would be appreciated. I'm using an Airport Express and trying to use the McNutt ethernet cable to set it up.  <eos> \", '<bos> I was thinking of getting a few people together for Wednesday night trivia at KOK and I was wondering a few things.   How many people are allowed per team?  What can you win?  What do the topics generally cover?  What time does it normally start at? <eos> ', '<bos> Anyone know anyone who is subleasing their housing this fall? (August - December) for an exchange student. Or does anyone know any apartments that do short term leases?  Thanks!!!  <eos> ', \"<bos> Hey all, So I'm currently in the process of applying for the accelerated Master's of Public Affairs program in SPEA with a concentration in economic development. My undergraduate degree is in SPEA with my honors thesis being about German economics. I figured I would look into doing the dual MPA-MA program in European Studies.  It looks really interesting and doable for me! However, I'm having a heck of a time finding admissions information for the MA program! What's the average GPA/GRE? What are good softs for the program? If anyone can provide/help find this information, it'd be greatly appreciated! Thanks, -- <eos> \", '<bos> anyone know anything about this class? It is a 1 credit research class taught by Li Liang-Shi. Is it worth taking? Thanks <eos> ', \"<bos> Cause mine doesn't  <eos> \", \"<bos> My laptop recently stopped working so I've occasionally been tasked with trying to find a public computer at 1 or 2 am. I live in willkie and the willkie center closes at midnight.  I don't have access to the teter nst now that I live in willkie. Does anyone know of any 24/7 places to use a computer aside from the Wells info Commons? <eos> \", '<bos> Im new here. I would assume they get posted to student center. Monday or Tuesday maybe? <eos> ', '<bos> Has anyone lived here? Is it worth the $9000+? Hows the social life? I’m living in Mcnutt right now and it’s a bit loud sometimes but I like the talkative atmosphere.  Also: What about Campus view, Tulip Tree, etc? How do these all compare?  <eos> ', \"<bos> I just got the warning text... Of course, I wasn't doing any partying and I live in the dorms, but I'm definitely feeling uneasy now. Any Hoosiers still up? <eos> \", '<bos> any osrs players out there?  <eos> ', '<bos> I have a spontaneous desire to see a flash mob this school year .&lt;  Blast you youtube vidoes! [UW Flash mob]([url link] [Denver Airport Flash mob]([url link] [Sing Mob :3]([url link] <eos> ', \"<bos> Hey Hoosiers, I recently got accepted to IU, among other universities, and I'd like to find out more about IU. My first question is do you have to be in a fraternity to have fun at IU? The second question I have is how awesome are the basketball games? I'm a huge basketball fan but the atmosphere would be pretty difficult to match up against one of the other two schools I got into. Thanks for your time, go Hoosiers! EDIT: Third question- What is the suggested dorm? I've heard Briscoe, McNutt, and Teter are all good, but what do you guys think? <eos> \", '<bos> I´m trying to knock about an NM this summer online. I have looked into IUPUI and Ivy Tech a little bit, but overall I am curious about which classes and programs you guys have enjoyed. <eos> ', \"<bos> I remember back in orientation, it was stated that we were allowed 1 free massage a semester and therapist visits. I've been feeling really stressed out with organic chemistry coming up. Where would I find these services? <eos> \", '<bos> As it sounds.. PM me if you can/know how to get one. <eos> ', \"<bos> From the IU Alert (for those who don't get them): IU Bloomington Alert: At approximately 0510 hours, a male was assaulted involving a knife in the parking lot located on the east side of Eigenmann Hall. The suspect was described as a black male, approximately 6’2”, thin build, with long hair, wearing a black top and blue jeans. The male suspect was also believed to be between the ages of 22 to 30 years old. After the assault the suspect took off running in an unknown direction. IUPD officers searched the area in a several block radius but were unable to locate a suspect matching the description.  Anyone with information regarding this incident should contact the Indiana University Police Department at 812-855-4111 or 911. The Indiana University Police Department urges everyone to follow these tips to avoid unsafe situations: Be aware of your surroundings and avoid unsafe situations. Walk with a friend, especially at night or in the early morning, whenever possible. Stick to well lit, well-traveled areas. Indiana University Police will send alerts and information such as this to members of the campus community, if there is potential danger to people or property. For additional security and safety tips go to the Protect IU site [url link] ; check the Crime Prevention section [url link] .  <eos> \", '<bos> Just like the previous post about Wright, I was given my housing assignment in Teter, specifically Rabb. Could I get a rundown of Teter? Such as tips and tricks, party scene, best dorm configuration, etc. Any info is appreciated and thanks in advance. <eos> ', \"<bos> Visiting a grad student for the weekend, what is the scene going to be like in Bloomington. I know it's the last home game for the football team, but the undergrads will all be on Thanksgiving Break right?  We're curious about how crowded Kirkwood will be, with Breakfast Club, and then Nicks for the actual game. Thanks! <eos> \", \"<bos> Has anyone had experience with this situation? My apartment complex allows dogs in downstairs units, but only smaller dogs. I live in an upstairs unit, so apparently I'm not allowed to have a dog at all. Has anyone had any experience circumventing a property's rules? Or just convincing your landlord to hear your case? Keep in mind that this neighborhood has hundreds of units, and it probably ran by a big holding company. <eos> \", \"<bos> I'm going to be a sophomore and am wondering if my tuition will stay the same as last year or if it changes every year. I know some schools lock in your freshman years tuition for all 4 years and am hoping that IU does the same.  <eos> \", '<bos> Hello, all at IU! I am a high school senior, enrolled at IU and aiming for a CS degree. I am looking for suggestions / requirements for laptops. I found [these recommendations]([url link] but no requirements from the College of Informatics. My budget is ~$800, and I am currently looking at the [Lenovo T430]([url link] What do you have to say? <eos> ', '<bos> I have Dr. Jeana Jorgensen <eos> ', \"<bos> I'm an incoming freshman and will be living in an eigenmann dorm. Since we don't have our own bathrooms how are we supposed to shave/trim and dispose of our pubic hair? I know this is a weird question but I'm serious. If I just go into a bathroom stall and trim I don't want to leave a disgusting pile of pubic hair for the next person who uses the bathroom but I don't know what proper edicate is. <eos> \", '<bos> Why and how did this happen for IU? Probably Purdue students. Still unhappy about it. [Link Here]([url link] <eos> ', '<bos> Fuck all of you. Seriously? Why don\\'t you call up your mothers and say, \"Hey mom, I tried waking up 4,000 college kids last night and got the police called on me!\"  I mean seriously, it would\\'ve been fine tonight or tomorrow night. But on a school night? Fucking, prick thing to do. (For those who don\\'t live in the Village, last night 4 cars pulled into our parking lot, laid on their horns, and all of them got out of their cars and chanted stupid shit for 10 minutes, then left.) <eos> ', \"<bos> That's what I've been told by a couple of friends. I checked the website and they haven't opened an application for the class of 2017 which kind of confirms my fears. I'm not going to be able to do the workshop because I'm a sophomore transfer and I didn't quite hit the 3.5 requirement last semester so I was really hoping to be able to do the seminar as a senior. <eos> \", \"<bos> Shpongle is playing in Lafayette on March 27th, a group of friends and I plan on going. Usually for things like this, there's a certain hotel most people that go to the show stay at for an after-party type thing, was wondering if anyone planned on going and staying? [url link] <eos> \", '<bos> I’m searching around (yeah, I know it’s a little late) and I figured you guys would have a good idea of what to get. I’m considering the Lenovo ThinkPad and the HP Envy 13t among others, but I’m open to other suggestions <eos> ', '<bos> Is it difficult to land a job in San Francisco from Kelley? The stats on the Kelley website say 4% of grads go to SF, and most go to Chicago/NYC/Indy. If I wanted to go to SF, would it be challenging? Or is the low rate because most people want to stay close to home? <eos> ', \"<bos> Hello all, I'm writing from Virginia! I'm gonna be moving out to Bloomington in a few months for grad school (master's in public health), and I was hoping you all may be able to give me some information on the town and school from the perspectives of students who are (or were) living there. So, some general questions: 1.) What are the best places to live for someone who is looking for a calm and professional environment? I don't want an old-folks home, but I'm done with the whole university party/frat scene. 2.) What's the bus situation like there? Is it free public transit for IU students? Do you pay for it with cash/some kind of card? Is the bus even worth it? 3.) Best places to eat or hang downtown? Best places to go outside and adventure? I'm used to Appalachia; I'm going to guess there's not a whole lot in the way of mountains and hiking, near Bloomington. 4.) What the hell is a Hoosier...? Can someone explain that to me, and any other colloquialisms y'all have out there that I should know? Thanks! <eos> \", \"<bos> I was accepted to IU as a transfer student, but this semester is not going well for me for multiple reasons(some are very personal so I won't get into the details.) I'm most definitely going to fail one of my classess which will deal a pretty big blow to my overall GPA... I've emailed AskIU and have not recieved a response in ~2 weeks; at this point I am getting very anxious What do I do? Should I call the office of admissions? <eos> \", \"<bos> Why isn't there an IU Personals subreddit?!? Or is there and I'm an idiot?  <eos> \", '<bos> Freshman business major here.  <eos> ', '<bos> How early do I need to start? <eos> ', \"<bos> The file for printing can be found [here]([url link] 20 years ago these guys changed television. Before the interwebs was a common thing, these guys took it to the streets and filmed their lives for our satisfaction. It was the first show on the internet, and possibly the inspiration for Wayne's World. I would put them up myself but between work, class and the 300 DVDs I've burnt for this shin dig, I really don't have the time. tldr; Party at The Comedy Attic on July 3rd at 8pm, could you (pretty please) put some flyers up on campus? <eos> \", \"<bos> I tried looking this up on IU's site but I think they only talk about firearms. Obviously guns and knives are out of the equation. But what kinds of other concealable weapons can I carry on me without getting in trouble with the law? Things such as pepper spray, tactical pens, extendable batons, police flashlights? <eos> \", '<bos> What are the rules for people searching dorm rooms over thanksgiving break?  <eos> ', '<bos> Hi, language is definitely my weakest subject and I need 4 semesters of it for my media school BA. What is the easiest language offered? Thanks. <eos> ', '<bos> I purchased some tickets off of stubhub for my grandpa and I was wondering what student tickets look like. I am hoping I got general public tickets.  Will it say on the tickets if they are for students? <eos> ', \"<bos> Hi, I am a freshman in IUB, and also a huge league of legends fan. I tried to play couple matches in my dorm (wright), but I can't log in. It happens with Steam games and blizzard games too. Is this normal, any ways to get through the block? <eos> \", '<bos> I am considering the Kelley Direct Online MBA program. The online format is not the most appealing to me, but it is convenient for someone working out-of-state. Can anyone share insight in the program? I think a lot of intangible skills are gained by going to class on campus and interacting with peers. Is the online format designed in such a way to make up for this? Are the academics comparable to those on campus? Does anyone have thoughts on pursuing a dual MS Finance/MBA. <eos> ', '<bos> Do you get penalized for just watching porn on the IU secure wifi? Not downloading it or anything just streaming. <eos> ', '<bos> I\\'ve really been itching to play some DD lately, but I have no idea where to find a group. So, if anyone here is interested in having me starting this upcoming semester, I run the following characters: -NG Halfling Bard, male, preferably good campaigns -NN Human Warrior, female, Mercenary, good for any campaign -LN Human War Mage, female, neutral or good campaigns -CN Gnome Druid, male, \"Garden gnome\" (hehe) <eos> ', \"<bos> Transfer kid here... which one would you guys say is better? and/or more social or whatever I don't really know anyone here I'm coming from outta state. Stoner friendly?🤔 <eos> \", \"<bos>  Is it Kelley or is there one that's ranked better than that? <eos> \", '<bos> Just added a second 8 weeks through the late add/drop form and was wondering how long it would take to be approved (it currently says pending). The second 8-weeks hasn’t started yet fortunately but I was wondering if I would know/receive approval by then?  <eos> ', '<bos> I was giving some major thought into transferring into a different college this next semester and wanted to get advice from as many people as I possibly could. To give y\\'all some background, I am currently a freshman at Indiana University as a direct admit into the Kelley School of Business. I came into IU not knowing a soul. I came from out of state (from the south) and no one from my high school went here either. However, in the semester and a half that I have been here, I have failed to make a single friend. I think there are a couple reasons for this, but there are three main ones. Firstly, I chose to live on the honors floor, and quite frankly, about 3/5 of the people on my floor have a hard time interacting socially, and it\\'s been hard connecting with the other 2/5 because everyone\\'s doors are always closed and everyone is studying the majority of the time. With that in mind, I am still a pretty introverted person and find it hard to start conversations randomly, and I feel like if I can\\'t find friends in a school with 40,000 people, the problem is probably with me. To try and combat this, I\\'ve joined three different clubs to try and meet new people, but nothing has seemed to work. At this point, about 8 months into college, I am pretty tired of having no friends and no one to talk to. My day consists of eating, working at my job, doing lots of busy work homework, attempting and failing to make friends, and sleeping. I am honestly tired of this routine and am seriously considering transferring to a different school. The only reason that I am hesitant to transfer is that the prestige of the degree and the opportunities I would get from IU is probably greater than any other degree I could get if I transferred. Getting the degree from IU would most likely set me up for my future career better than any other degree, but it is hard to justify going through 4 years of unhappiness, loneliness, and not enjoying my college experience in the slightest in order to get that, especially when I have a lot of options as to possible colleges I could go to (4.3 HS, 3.9 College GPA). I was hoping to get some advice on if you guys have gone through something similar and what did you do to make a \"breakthrough\" to find friends here/ any tips on doing so. Any advice would be greatly appreciated or just any advice in general. Thanks so much! <eos> ', '<bos> I have heard that you have to be part of a group in order to be eligible to qualify, but is that different than just finding 3 other guys to be a 4-person team? Do you have to have a specific group (frat, ROTC, Cutters, etc) or could it just be a random team with random name. What if we did a Reddit team? <eos> ', \"<bos> The interview can be anonymous if you want. I'm doing this with ASR, a student group on campus. [Here's some of the other stuff they've done.] ([url link]  <eos> \", \"<bos> I'm moving to Wright next year and I'm not planning on getting a meal plan. What is the kitchen like in the dorm, if there is one? I live in Collins now and the kitchen sucks-- it's locked and there are only two keys, which are usually unavailable. Is it like this in Wright too? <eos> \", \"<bos> I was reminiscing about my time at IU the other day and I would very much like to relive one of my favorite Kirkwood pastimes. The problem is that a bucket, highball glass, and liner package from Nick's is SIXTY dollars with shipping.  Does anyone know the size of the Sink the Biz bucket? I'd like to find a more frugal option. <eos> \", \"<bos> I think there is an application but I've been looking everywhere and I can't find it. Is this the first test to joining residence scholars?? <eos> \", \"<bos> A few questions: Is this a predominantly female class? Is it for someone who has no prior experience? What did you think of it? I'm looking for a fun 1credit course. (Thoughts/Comments?)  <eos> \", \"<bos> Considered posting to r/bloomington since I'm willing to walk decently far(50 min max). The ones near me are withdrawal only(Forest). Thanks a bunch! Oh yeah and i have a Bank of America Visa if that helps <eos> \", \"<bos> I'm thinking about majoring/minoring in some combination of English and Computer Science, but I'm willing to take a class in anything. I'm looking for something interesting and fun, though! Let me know if you've taken a fun class! <eos> \", \"<bos> people have told me that they have downloaded parallels from IUWare for their mac, but i can't seem to find it. Can anyone tell me if parallels is in fact on IUWare, and if so provide me with a link or tell me how to find it? <eos> \", \"<bos> I figure I may as well take advantage of the recreational facilities at IU since that's what the 'activity' fee pays for, right? Only problem is that I'm not real good at doing things alone. Also, I'm a transfer student starting this year and come from a much smaller school. So I don't know a whole lot about how any of this stuff works, or where anything is. I was wondering if anyone would basically be my workout partner? Help a new student out? I have mostly afternoon classes, so before, after or in-between those would be fine for me. <eos> \", \"<bos> So I'm now an IU student living roughly 25 minuts west of campus (stanford if you're familiar). I started today and need to find the most cost effective way to park close to campus and get to classes. Anywhere near a bus stop or within a reasonable walking distance from Wells Library would get the job done. My question is, do places like this exist without purchasing a parking pass, or how do you other IU commuters do it? <eos> \", \"<bos> I bought one, but then ended up getting a ride with family. I figure since the semester just ended and everyone's moving out, one of you fine people might be able to use it. It's good for any airport shuttle in May, so if you can use it PM me! <eos> \", \"<bos> Hey guys, it's getting close to the time where I need to cut my hair.. Was wondering where the best barber in Bloomington is. I usually get an undercut type haircut if that helps. Thanks! <eos> \", \"<bos> I think I might be the last person to receive an Associate's degree from IU. <eos> \", '<bos> Just as the title says. YES, I know that an \"official\" your can show my niece this, but she is here this weekend and my wife  I are going to showing her around. Was wanting to see if someone would be willing to let her \"glance\" at their dorm room just so she can get an idea of what it would look like. Anywhere would be helpful but Ashton, Wright, or Teeter would be preferred.  Anyone that could help out tomorrow just let me know.  <eos> ', '<bos> I posted this in the Bloomington Reddit as well, however I thought I would post it here too. Was thinking of going to go somewhere to watch the Wild/Blues game tonight and was wondering if anyone was interested in going.  <eos> ', \"<bos> Hey Hoosiers! Currently I am a public health major with minors in human sexuality and psychology but I honestly can't see myself in this career anymore. I've always loved computers and it sounds like a promising career. If i switch now I can graduate on time or maybe a semester later.  For those that are in SoIC, what has been your experience? Were you able to get a job after college? Did you find that you needed your masters? What are the classes like? Any information from real people (have read everything on the web already) would help! Thanks! <eos> \", \"<bos> Does anyone want DOTA 2? I noticed I've got a few copies on Steam I have no use for. Just lemme know Edit: PM me your e-mail address if you want it. <eos> \", \"<bos> I'm looking for something part-time with reasonably flexible hours. I'm not gonna lie, the less effort required, the better. I applied to UITS and the college mall Kroger but to no avail. Does anyone know of places on campus (or relatively close) that are 1) not super selective in their hiring and 2) offer relatively simple jobs? Thanks! <eos> \", \"<bos> The plan I had for my summer housing fell through and now I'm considering just staying in a dorm for one of the summer sessions. I don't see any info online about when applications for them open up. Anyone know when they will? <eos> \", \"<bos> I'm wanting to go to Franklin University (50 minutes away) for Labor Day Weekend to see my girlfriend. The only problem is that I don't have a car. What are some good services to help me go about finding a ride? <eos> \", \"<bos> I've gotten three in the last 2 days. Nothing in the last 5 years.  Anyone else?  <eos> \", \"<bos> Just got deferred from Kelley and I must take 3 courses out of the following: math-k 310, c204, bus-k 303, and bus-L 201. I'm taking L201 as an 8am even though I'm rushing (and hopefully pledging) because I don't want to take c204 and k303 at the same time. 3.0 semester GPA gets me in kelley. Which course do u guys suggest? <eos> \", '<bos> I am a male transfer student (26+ credits) who is 19, starting in the fall. Can I room with someone I know personally who is female, 18, and going to be a new student (freshman) in the fall? IUB specifically. Thanks for any info. <eos> ', \"<bos> I've gotten mixed results as to googling it, and considering that my school uses a weird-ass 12 point scale that can't be easily converted to 4 point, I can't use it for calculating my odds. I got like a 7.66... GPA this year. My friend also wants to attend with me, and he's quite a bit worse than me. He's failed a class or two this year, same as freshman year. Any help is appreciated :) <eos> \", '<bos> I received a bunch of AP credits when I came in as a freshman, but I was never really sure how they were spent. Does my \"Undistributed Political Science\" AP credit not count toward my political science minor? If it does, I\\'ve completed my minor - if not, I need another class.  <eos> ', \"<bos> Hey guys, I start at IU in the fall and I'm moving up from Louisville, I have been traveling between there Louisville and Indy quite a bit because of work and to sort out things at school. I have been doing all this driving in a fairly large truck that has been empty and I was recently thinking that it's kinda been a waste of gas and space. If anyone is on the way and has some things they need moved, I would be more than happy to help you move it, if you could help with money for gas that would be preferable, however if you can't I understand. I had heard that other students are having difficulty moving and I would like to try and help if I could, as I had people do it for me when I first moved to the states. Cheers, <eos> \", \"<bos> I'm trying to spend a night in Indy this weekend but I don't have a car. What's the best way to get to the city? Thanks! <eos> \", '<bos> I currently live in Michigan and I have been researching Indiana University and what can I say? I completely fell in love with it. I would love to go to IUB but the out-of-state tuition is around $30,000 a year. My question to anybody that has attended IU or is currently going to school there. Is this school worth the money? What are the chances I can possibly get in-state tuition because I live in a neighboring state? <eos> ', \"<bos> This summer I took in a stray cat and she turned out to be pregnant. Now the kittens are 7 weeks old and I still need to find a home for three of them. They're free to a good home so please let me know if you or anyone you know is interested in adopting one of these adorable kittens. [Picture of the kittens]([url link] <eos> \", \"<bos> Hey all, So me and my sibling (I'm a sophomore, they're a freshman) are signed up to live at Campus View next year, which is an RPS on-campus 2 bedroom apartment. My sibling and our parents visited Campus View just once before deciding this was our best option to live at next year, so I was wondering if anybody can give me any insight on what to expect for next year. I'm currently living in the dorms as a sophomore so I am almost certain this will be a big-time upgrade, but if anybody has any experience with this particular or other on-campus apartments in general please give me your thoughts! Thank you and I appreciate your response :) <eos> \", \"<bos> Hey, everyone. I'm moving back to IU from IPFW in the spring and I'm looking for a room to rent. I don't care about the size (smaller the better, in fact) but the rent needs to be around $400 a month. I'm looking for something basic that's within walking/biking distance of campus. Wherever that happens to be I don't really care, though being closer to downtown would be a plus. Does anyone have any leads for me? About myself: I'm currently a junior studying computer science. I'm quiet and mostly keep to myself, but I am also friendly. I'm very willing to do my share of chores. I don't smoke, I only drink socially, and I won't be having many parties.  <eos> \", '<bos> Dave (and his non-internet friend Eric) walked me home from Dunkirk and ensured that I did not get raped. He is a fucking sir and deserves all of the upvotes. Thank you, Dave! <eos> ', \"<bos> Hi!  I was wondering when Fall 2016 midterms are supposed to be. I'm trying to plan a trip over Thanksgiving break, but don't want to miss anything big! Appreciate any help/information :) <eos> \", '<bos> Got in to IU for spring 2018, not sure if im actually attending IU yet but I was wondering if anyone on here knows anything about the eligibility of transfers  rushing? As in are spring transfers allowed to Rush ? <eos> ', \"<bos> I got this idea while speaking with an international student. His family is 1st generation rich and I was asking him how they were able to make that happen. He began telling me about how his parents had a group of friends who came from mixed backgrounds and created a very close nit group. That group pooled resources (physical and intellectual) in order to help each other succeed. Essentially if one of them was looking for investors or partners or workers for a business venture, he first went to the group to see if anyone could help. They helped each other out by investing in each other's businesses, helping connect each other with important people in the field, etc. As a result everyone in the group is very successful. I am unsure about their concept in our situation, but I find it interesting how different people define success differently and have such different goals in life. I think many of us run into the issue of how to actually be financially successful if our families aren't. Many of us have never had someone take us under their wing and explain how to make it in the world. Many of us are limited in our thinking and we dream small. Many of us feel lost and hopeless about our financial futures.  I think that a good first step would be for a small group of us to get together on a bi-weekly or monthly basis and simply talk about it. Think of it like a round table discussion. We will have it set up where each person gets to submit their ideas and issues, and the rest of us will weigh in on what we think that best option is any why.  I would prefer to host the first meeting or two in public, once I feel that I can trust the group members, I am willing to host the meetings in my home. I called the registrar about reserving a room on campus for these meetings, but was told that we must be either an official IU club and fill out a form, or we would need to get someone from a department to sign for the room. If we have too many people to fit in my home we can just meet somewhere, find an empty room that accommodates us, and take it. We will just be ready to move at any time if someone else comes in and needs it. We can meet in the arboretum or some other outdoors place on campus as well for the time being until it's too cold. Comment or pm if you're interested. <eos> \", \"<bos> I was accepted to a graduate program at IU, and I'm not sure if I need to pay the intent to enroll deposit. Is that just for undergrads? I'm worried because the deadline is today. I was accepted to the program and wrote them back that I was attending the university, but I haven't gotten a student ID number or anything. Sorry of this is the wrong place to post this, just a worried student with no where else to turn! <eos> \", \"<bos> Where's good to eat in walking distance of the football stadium? <eos> \", \"<bos> Does anyone know if I can listen to Friday's game on the radio? What station in Bloomington/Nashville?  <eos> \", \"<bos> I'm humbly asking if anyone who does not plan on using their codes for Microsoft Office or the Adobe Suite would be so kind as to donate one to a fellow college freshman. If anyone is feeling generous it would be GREATLY appreciated and to please PM it to me. <eos> \", \"<bos> Here's the con. It's short. I register for classes and apply for financial aid with IU. They send me a hefty bill with a specific due date. The financial aid office will not disburse any aid until after this due date. Furthermore, I'll have no idea what the aid is worth until after the same due date. If I don't pay on time, they charge a hefty late fee. I can't pay before the due date. That's why I need financial aid.  My question is this: When do you remember buying something whose price was indeterminate until seeing the receipt? This isn't a perfect analogy, but it sure feels pretty close. I don't know how this is ethical. <eos> \", \"<bos> Hey guys, I was at the University of Illinois as a freshman for electrical engineering, but unfortunately was dropped in my second semester. Since then, I've been taking courses at Parkland College, a school nearby. I've been taking classes that are applicable to an accounting or finance major, and have been actively involved in my work experiences, extracurricular activities, and have a GPA around a 3.3 now. I was wondering, how competitive is it to transfer into the business school now? My ACT score was a 33 and my SAT was a 2030, if that matters. Any help is appreciated! <eos> \", \"<bos> Hey guys so I'm thinking of studying computer science at IU. I'm going to be a freshman next year and if anyone could give me advice on what intro classes I should take and professors I should watch out for that would be great. Thank you. <eos> \", \"<bos> Why is Indiana University (Bloomington) such a crazy town for being in the middle of nowhere? I have lived in many different cities all over the US and this takes the cake as the amount of crime per capita. ATO, Cafe strangling, Kidnappings, mystery drowning by lake, apartment murder, rape recently in apartment.... and I've only been here for 2 months.  <eos> \", '<bos> Or have you taken any of the other online grad courses and degrees through Kelley? <eos> ', '<bos> Yesterday I was walking from 10th up Fee and there was a guy lying in the middle of the street with a trail of blood running from what looked like his head. There were tons of people surrounding him, some clearly on the phone with 911, so I kept moving because there was nothing I could do to help. Does anyone know what happened? It looked like it may have been a scooter accident. I really hope the guy is okay. <eos> ']\n"
          ]
        }
      ],
      "source": [
        "print(val_posts)"
      ]
    },
    {
      "cell_type": "markdown",
      "metadata": {
        "id": "Wg-Wm88UiQZu"
      },
      "source": [
        "Load the trained model"
      ]
    },
    {
      "cell_type": "code",
      "execution_count": null,
      "metadata": {
        "id": "OLkRjKXBnbeD"
      },
      "outputs": [],
      "source": [
        "model_file_path = \"Indiana/checkpoints-Indiana\""
      ]
    },
    {
      "cell_type": "code",
      "execution_count": null,
      "metadata": {
        "id": "qyr53XpvaKHy"
      },
      "outputs": [],
      "source": [
        "OUTPUT_DIR = os.path.join(GOOGLE_DRIVE_PATH, model_file_path)\n",
        "model = GPT2LMHeadModel.from_pretrained(OUTPUT_DIR)"
      ]
    },
    {
      "cell_type": "code",
      "execution_count": null,
      "metadata": {
        "colab": {
          "base_uri": "https://localhost:8080/",
          "height": 197,
          "referenced_widgets": [
            "6ebcb44b4a584177aad12a80b3eba9fc",
            "8aa9ed2f61f84195a12124daefa558bb",
            "92907ded8c8e45f1adb823eeac4dbf16",
            "d8260586da464973a5b50a48403c269a",
            "ce438dadf6514fca8b68afc963786edc",
            "8ec7973212794eb4946c3b3b44e79f01",
            "57b5654ce65c4c4d94479c0b75971d03",
            "9462504ecf3544f6a5b50f9f7ddb8dd4",
            "ff5010ea94e0440a81fc5728a31c9920",
            "64686f45e16148dd9350b9de661040e5",
            "14e152b169524e4985a62017fcaa31e7",
            "476d6ea28fe247b39e52ffc4bbbe4019",
            "a4572fa7be96471899db0ca701ff9403",
            "0afd8ae929f2450795b2641c8cffedd8",
            "f507a2e64be744289efbad84704844b9",
            "d1ef62ba871f4868ac47f25c1f290d1b",
            "b31a8ec5c9754a40a8ee38a9ad541756",
            "e3f80d790e254ff188e3027ed12f8099",
            "593b91710bf94cceb5ffc8c5a4d1b649",
            "11f84ac677c44edb97faa431bcaffcfc",
            "28de31df3df54b22bfa94b068886ae93",
            "cc22c670211c4b469f412cc4c5a446a2",
            "2f8752b4aae44d0fa8a27355bfff5a5b",
            "5f98ee8eebc641cb84372d5032db0e52",
            "e2e692313b0d48fe9c658a19f2b9609e",
            "5e29d401f72c45eaa9606c204b0ab77c",
            "0d8241b6d5554fbf9d751c087837e83c",
            "2b362aba2b8547c68738a84045b093a0",
            "e79a0c7cdd2344cd9a492cd625153c60",
            "4e61e205171f4414891fb21e97b57a8f",
            "99e2161f99f343aaa4cfb6b4e4e3b17f",
            "dd1bb3b4909d439c8e27543c2a906f0e",
            "baee8435fe65401390018eac0be7f84d"
          ]
        },
        "id": "jfACU5g9avip",
        "outputId": "9027d6d5-9332-40ff-a4b5-868f897ea2f4"
      },
      "outputs": [
        {
          "data": {
            "application/vnd.jupyter.widget-view+json": {
              "model_id": "6ebcb44b4a584177aad12a80b3eba9fc",
              "version_major": 2,
              "version_minor": 0
            },
            "text/plain": [
              "Downloading (…)olve/main/vocab.json:   0%|          | 0.00/1.04M [00:00<?, ?B/s]"
            ]
          },
          "metadata": {},
          "output_type": "display_data"
        },
        {
          "data": {
            "application/vnd.jupyter.widget-view+json": {
              "model_id": "476d6ea28fe247b39e52ffc4bbbe4019",
              "version_major": 2,
              "version_minor": 0
            },
            "text/plain": [
              "Downloading (…)olve/main/merges.txt:   0%|          | 0.00/456k [00:00<?, ?B/s]"
            ]
          },
          "metadata": {},
          "output_type": "display_data"
        },
        {
          "data": {
            "application/vnd.jupyter.widget-view+json": {
              "model_id": "2f8752b4aae44d0fa8a27355bfff5a5b",
              "version_major": 2,
              "version_minor": 0
            },
            "text/plain": [
              "Downloading (…)lve/main/config.json:   0%|          | 0.00/665 [00:00<?, ?B/s]"
            ]
          },
          "metadata": {},
          "output_type": "display_data"
        },
        {
          "name": "stderr",
          "output_type": "stream",
          "text": [
            "Special tokens have been added in the vocabulary, make sure the associated word embeddings are fine-tuned or trained.\n"
          ]
        },
        {
          "data": {
            "text/plain": [
              "1"
            ]
          },
          "execution_count": 20,
          "metadata": {},
          "output_type": "execute_result"
        }
      ],
      "source": [
        "tokenizer = GPT2Tokenizer.from_pretrained(\"gpt2\", bos_token = \"<bos>\", eos_token =\"<eos>\", truncation_side='right')\n",
        "tokenizer.add_special_tokens({'pad_token': '[PAD]'})"
      ]
    },
    {
      "cell_type": "markdown",
      "metadata": {
        "id": "uePyenDliSJa"
      },
      "source": [
        "^^^^^^run if needed "
      ]
    },
    {
      "cell_type": "code",
      "execution_count": null,
      "metadata": {
        "colab": {
          "base_uri": "https://localhost:8080/"
        },
        "id": "_t_ZcnZCsxjn",
        "outputId": "33e0be13-bee9-4dbe-d76c-4343f9fc14ab"
      },
      "outputs": [
        {
          "name": "stderr",
          "output_type": "stream",
          "text": [
            "The attention mask and the pad token id were not set. As a consequence, you may observe unexpected behavior. Please pass your input's `attention_mask` to obtain reliable results.\n",
            "Setting `pad_token_id` to `eos_token_id`:50256 for open-end generation.\n"
          ]
        },
        {
          "name": "stdout",
          "output_type": "stream",
          "text": [
            "3\n",
            "3\n"
          ]
        }
      ],
      "source": [
        "#https://colab.research.google.com/github/borisdayma/huggingtweets/blob/master/huggingtweets-demo.ipynb#scrollTo=ZSCf6QyF8AG-\n",
        "# post_in = \"I want to go to hotel management school for rural bed and breakfasts. What experiences or classes should I seek out?\"\n",
        "post_in = \"Hey everyone! For those of you who took BIOMI 2900, or General Microbiology, did you take the discussion? If so, did it help at all? Trying to decide if I should or not. I'm not a microbiology major but I'm in a microbio lab at the moment so some of it does make sense already. Thanks!\"\n",
        "post_with_bos = post_in + \" TL;DR\"\n",
        "encoded_prompt = tokenizer(post_in, return_tensors=\"pt\").input_ids\n",
        "encoded_prompt = encoded_prompt.to(model.device)\n",
        "\n",
        "# prediction\n",
        "output_sequences = model.generate(\n",
        "    input_ids=encoded_prompt,\n",
        "    max_new_tokens=75,\n",
        "    min_new_tokens=10,\n",
        "    temperature=1.,\n",
        "    top_p=0.95,\n",
        "    do_sample=True,\n",
        "    num_return_sequences=3\n",
        ")\n",
        "\n",
        "generated_sequences = []\n",
        "print(len(output_sequences))\n",
        "torch.unique(output_sequences, dim=0)\n",
        "print(len(output_sequences))\n",
        "\n",
        "# decode prediction\n",
        "for generated_sequence_idx, generated_sequence in enumerate(output_sequences):\n",
        "    generated_sequence = generated_sequence.tolist()\n",
        "    text = tokenizer.decode(generated_sequence, clean_up_tokenization_spaces=True, skip_special_tokens=True)\n",
        "    #if not ALLOW_NEW_LINES:\n",
        "        #limit = text.find('\\n')\n",
        "        #text = text[: limit if limit != -1 else None]\n",
        "    generated_sequences.append(text.strip())"
      ]
    },
    {
      "cell_type": "code",
      "execution_count": null,
      "metadata": {
        "colab": {
          "base_uri": "https://localhost:8080/"
        },
        "id": "fND2khLQwsmA",
        "outputId": "44276b5b-72b0-4f96-9467-bf182991e054"
      },
      "outputs": [
        {
          "name": "stdout",
          "output_type": "stream",
          "text": [
            "   The discussion at the end of the session was about BioBios, but you'll have to pick up the class next semester and learn more about Microbiology and Microbiotic Biology in general.          I'm sure you're going to want to take a class that\n",
            "   You could do something similar for Gen Microbiology though. It's the same as Bio and CSE. It's basically a 2v. class as well. It's very limited but you won't be isolated from the general environment. I guess it's just a very different class I didn't have before but I'm a little interested. I\n",
            "   If you had taken the introductory microbiology class, did you take any chemistry class? I took the Chemistry 101 course, and I took the Chemistry 101 course because of my interest in computer science, which is a little more advanced but also has a smaller number of students. It was very easy, and I have a chemistry background I took as well\n"
          ]
        }
      ],
      "source": [
        "# print(generated_sequences)\n",
        "for sent in generated_sequences:\n",
        "  print(sent.replace(post_in, '').replace('TL;DR', ''))"
      ]
    },
    {
      "cell_type": "code",
      "execution_count": null,
      "metadata": {
        "colab": {
          "base_uri": "https://localhost:8080/"
        },
        "id": "TltloGavzOgt",
        "outputId": "d8df6857-a7bc-44e4-c19a-a8f5ae405dbf"
      },
      "outputs": [
        {
          "name": "stdout",
          "output_type": "stream",
          "text": [
            "Looking in indexes: https://pypi.org/simple, https://us-python.pkg.dev/colab-wheels/public/simple/\n",
            "Collecting rouge-score\n",
            "  Downloading rouge_score-0.1.2.tar.gz (17 kB)\n",
            "  Preparing metadata (setup.py) ... \u001b[?25l\u001b[?25hdone\n",
            "Requirement already satisfied: absl-py in /usr/local/lib/python3.9/dist-packages (from rouge-score) (1.4.0)\n",
            "Requirement already satisfied: nltk in /usr/local/lib/python3.9/dist-packages (from rouge-score) (3.8.1)\n",
            "Requirement already satisfied: numpy in /usr/local/lib/python3.9/dist-packages (from rouge-score) (1.22.4)\n",
            "Requirement already satisfied: six>=1.14.0 in /usr/local/lib/python3.9/dist-packages (from rouge-score) (1.16.0)\n",
            "Requirement already satisfied: joblib in /usr/local/lib/python3.9/dist-packages (from nltk->rouge-score) (1.2.0)\n",
            "Requirement already satisfied: tqdm in /usr/local/lib/python3.9/dist-packages (from nltk->rouge-score) (4.65.0)\n",
            "Requirement already satisfied: regex>=2021.8.3 in /usr/local/lib/python3.9/dist-packages (from nltk->rouge-score) (2022.10.31)\n",
            "Requirement already satisfied: click in /usr/local/lib/python3.9/dist-packages (from nltk->rouge-score) (8.1.3)\n",
            "Building wheels for collected packages: rouge-score\n",
            "  Building wheel for rouge-score (setup.py) ... \u001b[?25l\u001b[?25hdone\n",
            "  Created wheel for rouge-score: filename=rouge_score-0.1.2-py3-none-any.whl size=24954 sha256=191f392221dc62d0e80d4a075e6e129cc3174127d0d345a2acb38947b30df441\n",
            "  Stored in directory: /root/.cache/pip/wheels/9b/3d/39/09558097d3119ca0a4d462df68f22c6f3c1b345ac63a09b86e\n",
            "Successfully built rouge-score\n",
            "Installing collected packages: rouge-score\n",
            "Successfully installed rouge-score-0.1.2\n"
          ]
        }
      ],
      "source": [
        "!pip install rouge-score"
      ]
    },
    {
      "cell_type": "code",
      "execution_count": null,
      "metadata": {
        "id": "kVTtelw3zDRD"
      },
      "outputs": [],
      "source": [
        "from rouge_score import rouge_scorer\n",
        "from torch import optim\n",
        "from torch.utils.data import Dataset\n",
        "from tqdm import tqdm"
      ]
    },
    {
      "cell_type": "code",
      "execution_count": null,
      "metadata": {
        "id": "1rWWTu2gy0s4"
      },
      "outputs": [],
      "source": [
        "# print(post_tensors_data[1])\n",
        "# print(comments_datasets_to_use[1])\n",
        "def validation_generate(post):\n",
        "  # print(post)\n",
        "  # post_with_bos = \"<bos>\" + post + \" TL;DR\"\n",
        "  post_with_bos = post + \" TL;DR\"\n",
        "  encoded_prompt = tokenizer(post_with_bos, return_tensors=\"pt\").input_ids\n",
        "  encoded_prompt = encoded_prompt.to(model.device)\n",
        "  # print(encoded_prompt)\n",
        "\n",
        "  # prediction\n",
        "  output_sequences = model.generate(\n",
        "    input_ids=encoded_prompt,\n",
        "    max_new_tokens=75,\n",
        "    min_new_tokens=10,\n",
        "    temperature=1.,\n",
        "    top_p=0.95,\n",
        "    do_sample=True,\n",
        "    num_return_sequences=1\n",
        "  )\n",
        "    \n",
        "  generated_sequences = []\n",
        "  # decode prediction\n",
        "  for generated_sequence_idx, generated_sequence in enumerate(output_sequences):\n",
        "    generated_sequence = generated_sequence.tolist()\n",
        "    text = tokenizer.decode(generated_sequence, clean_up_tokenization_spaces=True, skip_special_tokens=True)\n",
        "    generated_sequences.append(text.strip())\n",
        "  \n",
        "  # print(generated_sequences)\n",
        "  return generated_sequences"
      ]
    },
    {
      "cell_type": "code",
      "execution_count": null,
      "metadata": {
        "colab": {
          "base_uri": "https://localhost:8080/"
        },
        "id": "lb5a4u0lw4xB",
        "outputId": "9db98bcf-54af-4e48-d6bc-84024eeed825"
      },
      "outputs": [
        {
          "name": "stdout",
          "output_type": "stream",
          "text": [
            " There's a list at Broke Student's Guide, couple years old but should still be mostly applicable. [url link] Not free but I've heard you can put raybans on your bursar at the optometry building. Can anyone confirm this?  \n"
          ]
        }
      ],
      "source": [
        "val_len = len(val_comments)\n",
        "val_dataset = [{} for sub in range(val_len)]\n",
        "\n",
        "for cnt, item in enumerate(val_comments):\n",
        "  val_dataset[cnt]['reference_summary'] = item.replace(\"<bos>\", \"\").replace(\"<eos>\", \"\")\n",
        "\n",
        "\n",
        "print(val_dataset[1]['reference_summary'])"
      ]
    },
    {
      "cell_type": "code",
      "execution_count": null,
      "metadata": {
        "colab": {
          "background_save": true,
          "base_uri": "https://localhost:8080/"
        },
        "id": "OscEDqyN5Md2",
        "outputId": "138ae5aa-6362-4980-ae2e-8bc3676e7434"
      },
      "outputs": [
        {
          "name": "stderr",
          "output_type": "stream",
          "text": [
            "The attention mask and the pad token id were not set. As a consequence, you may observe unexpected behavior. Please pass your input's `attention_mask` to obtain reliable results.\n",
            "Setting `pad_token_id` to `eos_token_id`:50256 for open-end generation.\n",
            "The attention mask and the pad token id were not set. As a consequence, you may observe unexpected behavior. Please pass your input's `attention_mask` to obtain reliable results.\n",
            "Setting `pad_token_id` to `eos_token_id`:50256 for open-end generation.\n",
            "The attention mask and the pad token id were not set. As a consequence, you may observe unexpected behavior. Please pass your input's `attention_mask` to obtain reliable results.\n",
            "Setting `pad_token_id` to `eos_token_id`:50256 for open-end generation.\n",
            "The attention mask and the pad token id were not set. As a consequence, you may observe unexpected behavior. Please pass your input's `attention_mask` to obtain reliable results.\n",
            "Setting `pad_token_id` to `eos_token_id`:50256 for open-end generation.\n",
            "The attention mask and the pad token id were not set. As a consequence, you may observe unexpected behavior. Please pass your input's `attention_mask` to obtain reliable results.\n",
            "Setting `pad_token_id` to `eos_token_id`:50256 for open-end generation.\n",
            "The attention mask and the pad token id were not set. As a consequence, you may observe unexpected behavior. Please pass your input's `attention_mask` to obtain reliable results.\n",
            "Setting `pad_token_id` to `eos_token_id`:50256 for open-end generation.\n",
            "The attention mask and the pad token id were not set. As a consequence, you may observe unexpected behavior. Please pass your input's `attention_mask` to obtain reliable results.\n",
            "Setting `pad_token_id` to `eos_token_id`:50256 for open-end generation.\n",
            "The attention mask and the pad token id were not set. As a consequence, you may observe unexpected behavior. Please pass your input's `attention_mask` to obtain reliable results.\n",
            "Setting `pad_token_id` to `eos_token_id`:50256 for open-end generation.\n",
            "The attention mask and the pad token id were not set. As a consequence, you may observe unexpected behavior. Please pass your input's `attention_mask` to obtain reliable results.\n",
            "Setting `pad_token_id` to `eos_token_id`:50256 for open-end generation.\n",
            "The attention mask and the pad token id were not set. As a consequence, you may observe unexpected behavior. Please pass your input's `attention_mask` to obtain reliable results.\n",
            "Setting `pad_token_id` to `eos_token_id`:50256 for open-end generation.\n",
            "The attention mask and the pad token id were not set. As a consequence, you may observe unexpected behavior. Please pass your input's `attention_mask` to obtain reliable results.\n",
            "Setting `pad_token_id` to `eos_token_id`:50256 for open-end generation.\n",
            "The attention mask and the pad token id were not set. As a consequence, you may observe unexpected behavior. Please pass your input's `attention_mask` to obtain reliable results.\n",
            "Setting `pad_token_id` to `eos_token_id`:50256 for open-end generation.\n",
            "The attention mask and the pad token id were not set. As a consequence, you may observe unexpected behavior. Please pass your input's `attention_mask` to obtain reliable results.\n",
            "Setting `pad_token_id` to `eos_token_id`:50256 for open-end generation.\n",
            "The attention mask and the pad token id were not set. As a consequence, you may observe unexpected behavior. Please pass your input's `attention_mask` to obtain reliable results.\n",
            "Setting `pad_token_id` to `eos_token_id`:50256 for open-end generation.\n",
            "The attention mask and the pad token id were not set. As a consequence, you may observe unexpected behavior. Please pass your input's `attention_mask` to obtain reliable results.\n",
            "Setting `pad_token_id` to `eos_token_id`:50256 for open-end generation.\n",
            "The attention mask and the pad token id were not set. As a consequence, you may observe unexpected behavior. Please pass your input's `attention_mask` to obtain reliable results.\n",
            "Setting `pad_token_id` to `eos_token_id`:50256 for open-end generation.\n",
            "The attention mask and the pad token id were not set. As a consequence, you may observe unexpected behavior. Please pass your input's `attention_mask` to obtain reliable results.\n",
            "Setting `pad_token_id` to `eos_token_id`:50256 for open-end generation.\n",
            "The attention mask and the pad token id were not set. As a consequence, you may observe unexpected behavior. Please pass your input's `attention_mask` to obtain reliable results.\n",
            "Setting `pad_token_id` to `eos_token_id`:50256 for open-end generation.\n",
            "The attention mask and the pad token id were not set. As a consequence, you may observe unexpected behavior. Please pass your input's `attention_mask` to obtain reliable results.\n",
            "Setting `pad_token_id` to `eos_token_id`:50256 for open-end generation.\n",
            "The attention mask and the pad token id were not set. As a consequence, you may observe unexpected behavior. Please pass your input's `attention_mask` to obtain reliable results.\n",
            "Setting `pad_token_id` to `eos_token_id`:50256 for open-end generation.\n",
            "The attention mask and the pad token id were not set. As a consequence, you may observe unexpected behavior. Please pass your input's `attention_mask` to obtain reliable results.\n",
            "Setting `pad_token_id` to `eos_token_id`:50256 for open-end generation.\n",
            "The attention mask and the pad token id were not set. As a consequence, you may observe unexpected behavior. Please pass your input's `attention_mask` to obtain reliable results.\n",
            "Setting `pad_token_id` to `eos_token_id`:50256 for open-end generation.\n",
            "The attention mask and the pad token id were not set. As a consequence, you may observe unexpected behavior. Please pass your input's `attention_mask` to obtain reliable results.\n",
            "Setting `pad_token_id` to `eos_token_id`:50256 for open-end generation.\n",
            "The attention mask and the pad token id were not set. As a consequence, you may observe unexpected behavior. Please pass your input's `attention_mask` to obtain reliable results.\n",
            "Setting `pad_token_id` to `eos_token_id`:50256 for open-end generation.\n",
            "The attention mask and the pad token id were not set. As a consequence, you may observe unexpected behavior. Please pass your input's `attention_mask` to obtain reliable results.\n",
            "Setting `pad_token_id` to `eos_token_id`:50256 for open-end generation.\n",
            "The attention mask and the pad token id were not set. As a consequence, you may observe unexpected behavior. Please pass your input's `attention_mask` to obtain reliable results.\n",
            "Setting `pad_token_id` to `eos_token_id`:50256 for open-end generation.\n",
            "The attention mask and the pad token id were not set. As a consequence, you may observe unexpected behavior. Please pass your input's `attention_mask` to obtain reliable results.\n",
            "Setting `pad_token_id` to `eos_token_id`:50256 for open-end generation.\n",
            "The attention mask and the pad token id were not set. As a consequence, you may observe unexpected behavior. Please pass your input's `attention_mask` to obtain reliable results.\n",
            "Setting `pad_token_id` to `eos_token_id`:50256 for open-end generation.\n",
            "The attention mask and the pad token id were not set. As a consequence, you may observe unexpected behavior. Please pass your input's `attention_mask` to obtain reliable results.\n",
            "Setting `pad_token_id` to `eos_token_id`:50256 for open-end generation.\n",
            "The attention mask and the pad token id were not set. As a consequence, you may observe unexpected behavior. Please pass your input's `attention_mask` to obtain reliable results.\n",
            "Setting `pad_token_id` to `eos_token_id`:50256 for open-end generation.\n",
            "The attention mask and the pad token id were not set. As a consequence, you may observe unexpected behavior. Please pass your input's `attention_mask` to obtain reliable results.\n",
            "Setting `pad_token_id` to `eos_token_id`:50256 for open-end generation.\n",
            "The attention mask and the pad token id were not set. As a consequence, you may observe unexpected behavior. Please pass your input's `attention_mask` to obtain reliable results.\n",
            "Setting `pad_token_id` to `eos_token_id`:50256 for open-end generation.\n",
            "The attention mask and the pad token id were not set. As a consequence, you may observe unexpected behavior. Please pass your input's `attention_mask` to obtain reliable results.\n",
            "Setting `pad_token_id` to `eos_token_id`:50256 for open-end generation.\n",
            "The attention mask and the pad token id were not set. As a consequence, you may observe unexpected behavior. Please pass your input's `attention_mask` to obtain reliable results.\n",
            "Setting `pad_token_id` to `eos_token_id`:50256 for open-end generation.\n",
            "The attention mask and the pad token id were not set. As a consequence, you may observe unexpected behavior. Please pass your input's `attention_mask` to obtain reliable results.\n",
            "Setting `pad_token_id` to `eos_token_id`:50256 for open-end generation.\n",
            "The attention mask and the pad token id were not set. As a consequence, you may observe unexpected behavior. Please pass your input's `attention_mask` to obtain reliable results.\n",
            "Setting `pad_token_id` to `eos_token_id`:50256 for open-end generation.\n",
            "The attention mask and the pad token id were not set. As a consequence, you may observe unexpected behavior. Please pass your input's `attention_mask` to obtain reliable results.\n",
            "Setting `pad_token_id` to `eos_token_id`:50256 for open-end generation.\n",
            "The attention mask and the pad token id were not set. As a consequence, you may observe unexpected behavior. Please pass your input's `attention_mask` to obtain reliable results.\n",
            "Setting `pad_token_id` to `eos_token_id`:50256 for open-end generation.\n",
            "The attention mask and the pad token id were not set. As a consequence, you may observe unexpected behavior. Please pass your input's `attention_mask` to obtain reliable results.\n",
            "Setting `pad_token_id` to `eos_token_id`:50256 for open-end generation.\n",
            "The attention mask and the pad token id were not set. As a consequence, you may observe unexpected behavior. Please pass your input's `attention_mask` to obtain reliable results.\n",
            "Setting `pad_token_id` to `eos_token_id`:50256 for open-end generation.\n",
            "The attention mask and the pad token id were not set. As a consequence, you may observe unexpected behavior. Please pass your input's `attention_mask` to obtain reliable results.\n",
            "Setting `pad_token_id` to `eos_token_id`:50256 for open-end generation.\n",
            "The attention mask and the pad token id were not set. As a consequence, you may observe unexpected behavior. Please pass your input's `attention_mask` to obtain reliable results.\n",
            "Setting `pad_token_id` to `eos_token_id`:50256 for open-end generation.\n",
            "The attention mask and the pad token id were not set. As a consequence, you may observe unexpected behavior. Please pass your input's `attention_mask` to obtain reliable results.\n",
            "Setting `pad_token_id` to `eos_token_id`:50256 for open-end generation.\n",
            "The attention mask and the pad token id were not set. As a consequence, you may observe unexpected behavior. Please pass your input's `attention_mask` to obtain reliable results.\n",
            "Setting `pad_token_id` to `eos_token_id`:50256 for open-end generation.\n",
            "The attention mask and the pad token id were not set. As a consequence, you may observe unexpected behavior. Please pass your input's `attention_mask` to obtain reliable results.\n",
            "Setting `pad_token_id` to `eos_token_id`:50256 for open-end generation.\n",
            "The attention mask and the pad token id were not set. As a consequence, you may observe unexpected behavior. Please pass your input's `attention_mask` to obtain reliable results.\n",
            "Setting `pad_token_id` to `eos_token_id`:50256 for open-end generation.\n",
            "The attention mask and the pad token id were not set. As a consequence, you may observe unexpected behavior. Please pass your input's `attention_mask` to obtain reliable results.\n",
            "Setting `pad_token_id` to `eos_token_id`:50256 for open-end generation.\n",
            "The attention mask and the pad token id were not set. As a consequence, you may observe unexpected behavior. Please pass your input's `attention_mask` to obtain reliable results.\n",
            "Setting `pad_token_id` to `eos_token_id`:50256 for open-end generation.\n",
            "The attention mask and the pad token id were not set. As a consequence, you may observe unexpected behavior. Please pass your input's `attention_mask` to obtain reliable results.\n",
            "Setting `pad_token_id` to `eos_token_id`:50256 for open-end generation.\n",
            "The attention mask and the pad token id were not set. As a consequence, you may observe unexpected behavior. Please pass your input's `attention_mask` to obtain reliable results.\n",
            "Setting `pad_token_id` to `eos_token_id`:50256 for open-end generation.\n",
            "The attention mask and the pad token id were not set. As a consequence, you may observe unexpected behavior. Please pass your input's `attention_mask` to obtain reliable results.\n",
            "Setting `pad_token_id` to `eos_token_id`:50256 for open-end generation.\n",
            "The attention mask and the pad token id were not set. As a consequence, you may observe unexpected behavior. Please pass your input's `attention_mask` to obtain reliable results.\n",
            "Setting `pad_token_id` to `eos_token_id`:50256 for open-end generation.\n",
            "The attention mask and the pad token id were not set. As a consequence, you may observe unexpected behavior. Please pass your input's `attention_mask` to obtain reliable results.\n",
            "Setting `pad_token_id` to `eos_token_id`:50256 for open-end generation.\n",
            "The attention mask and the pad token id were not set. As a consequence, you may observe unexpected behavior. Please pass your input's `attention_mask` to obtain reliable results.\n",
            "Setting `pad_token_id` to `eos_token_id`:50256 for open-end generation.\n",
            "The attention mask and the pad token id were not set. As a consequence, you may observe unexpected behavior. Please pass your input's `attention_mask` to obtain reliable results.\n",
            "Setting `pad_token_id` to `eos_token_id`:50256 for open-end generation.\n",
            "The attention mask and the pad token id were not set. As a consequence, you may observe unexpected behavior. Please pass your input's `attention_mask` to obtain reliable results.\n",
            "Setting `pad_token_id` to `eos_token_id`:50256 for open-end generation.\n",
            "The attention mask and the pad token id were not set. As a consequence, you may observe unexpected behavior. Please pass your input's `attention_mask` to obtain reliable results.\n",
            "Setting `pad_token_id` to `eos_token_id`:50256 for open-end generation.\n",
            "The attention mask and the pad token id were not set. As a consequence, you may observe unexpected behavior. Please pass your input's `attention_mask` to obtain reliable results.\n",
            "Setting `pad_token_id` to `eos_token_id`:50256 for open-end generation.\n",
            "The attention mask and the pad token id were not set. As a consequence, you may observe unexpected behavior. Please pass your input's `attention_mask` to obtain reliable results.\n",
            "Setting `pad_token_id` to `eos_token_id`:50256 for open-end generation.\n",
            "The attention mask and the pad token id were not set. As a consequence, you may observe unexpected behavior. Please pass your input's `attention_mask` to obtain reliable results.\n",
            "Setting `pad_token_id` to `eos_token_id`:50256 for open-end generation.\n",
            "The attention mask and the pad token id were not set. As a consequence, you may observe unexpected behavior. Please pass your input's `attention_mask` to obtain reliable results.\n",
            "Setting `pad_token_id` to `eos_token_id`:50256 for open-end generation.\n",
            "The attention mask and the pad token id were not set. As a consequence, you may observe unexpected behavior. Please pass your input's `attention_mask` to obtain reliable results.\n",
            "Setting `pad_token_id` to `eos_token_id`:50256 for open-end generation.\n",
            "The attention mask and the pad token id were not set. As a consequence, you may observe unexpected behavior. Please pass your input's `attention_mask` to obtain reliable results.\n",
            "Setting `pad_token_id` to `eos_token_id`:50256 for open-end generation.\n",
            "The attention mask and the pad token id were not set. As a consequence, you may observe unexpected behavior. Please pass your input's `attention_mask` to obtain reliable results.\n",
            "Setting `pad_token_id` to `eos_token_id`:50256 for open-end generation.\n",
            "The attention mask and the pad token id were not set. As a consequence, you may observe unexpected behavior. Please pass your input's `attention_mask` to obtain reliable results.\n",
            "Setting `pad_token_id` to `eos_token_id`:50256 for open-end generation.\n",
            "The attention mask and the pad token id were not set. As a consequence, you may observe unexpected behavior. Please pass your input's `attention_mask` to obtain reliable results.\n",
            "Setting `pad_token_id` to `eos_token_id`:50256 for open-end generation.\n",
            "The attention mask and the pad token id were not set. As a consequence, you may observe unexpected behavior. Please pass your input's `attention_mask` to obtain reliable results.\n",
            "Setting `pad_token_id` to `eos_token_id`:50256 for open-end generation.\n",
            "The attention mask and the pad token id were not set. As a consequence, you may observe unexpected behavior. Please pass your input's `attention_mask` to obtain reliable results.\n",
            "Setting `pad_token_id` to `eos_token_id`:50256 for open-end generation.\n",
            "The attention mask and the pad token id were not set. As a consequence, you may observe unexpected behavior. Please pass your input's `attention_mask` to obtain reliable results.\n",
            "Setting `pad_token_id` to `eos_token_id`:50256 for open-end generation.\n",
            "The attention mask and the pad token id were not set. As a consequence, you may observe unexpected behavior. Please pass your input's `attention_mask` to obtain reliable results.\n",
            "Setting `pad_token_id` to `eos_token_id`:50256 for open-end generation.\n",
            "The attention mask and the pad token id were not set. As a consequence, you may observe unexpected behavior. Please pass your input's `attention_mask` to obtain reliable results.\n",
            "Setting `pad_token_id` to `eos_token_id`:50256 for open-end generation.\n",
            "The attention mask and the pad token id were not set. As a consequence, you may observe unexpected behavior. Please pass your input's `attention_mask` to obtain reliable results.\n",
            "Setting `pad_token_id` to `eos_token_id`:50256 for open-end generation.\n",
            "The attention mask and the pad token id were not set. As a consequence, you may observe unexpected behavior. Please pass your input's `attention_mask` to obtain reliable results.\n",
            "Setting `pad_token_id` to `eos_token_id`:50256 for open-end generation.\n",
            "The attention mask and the pad token id were not set. As a consequence, you may observe unexpected behavior. Please pass your input's `attention_mask` to obtain reliable results.\n",
            "Setting `pad_token_id` to `eos_token_id`:50256 for open-end generation.\n",
            "The attention mask and the pad token id were not set. As a consequence, you may observe unexpected behavior. Please pass your input's `attention_mask` to obtain reliable results.\n",
            "Setting `pad_token_id` to `eos_token_id`:50256 for open-end generation.\n",
            "The attention mask and the pad token id were not set. As a consequence, you may observe unexpected behavior. Please pass your input's `attention_mask` to obtain reliable results.\n",
            "Setting `pad_token_id` to `eos_token_id`:50256 for open-end generation.\n",
            "The attention mask and the pad token id were not set. As a consequence, you may observe unexpected behavior. Please pass your input's `attention_mask` to obtain reliable results.\n",
            "Setting `pad_token_id` to `eos_token_id`:50256 for open-end generation.\n",
            "The attention mask and the pad token id were not set. As a consequence, you may observe unexpected behavior. Please pass your input's `attention_mask` to obtain reliable results.\n",
            "Setting `pad_token_id` to `eos_token_id`:50256 for open-end generation.\n",
            "The attention mask and the pad token id were not set. As a consequence, you may observe unexpected behavior. Please pass your input's `attention_mask` to obtain reliable results.\n",
            "Setting `pad_token_id` to `eos_token_id`:50256 for open-end generation.\n",
            "The attention mask and the pad token id were not set. As a consequence, you may observe unexpected behavior. Please pass your input's `attention_mask` to obtain reliable results.\n",
            "Setting `pad_token_id` to `eos_token_id`:50256 for open-end generation.\n",
            "The attention mask and the pad token id were not set. As a consequence, you may observe unexpected behavior. Please pass your input's `attention_mask` to obtain reliable results.\n",
            "Setting `pad_token_id` to `eos_token_id`:50256 for open-end generation.\n",
            "The attention mask and the pad token id were not set. As a consequence, you may observe unexpected behavior. Please pass your input's `attention_mask` to obtain reliable results.\n",
            "Setting `pad_token_id` to `eos_token_id`:50256 for open-end generation.\n",
            "The attention mask and the pad token id were not set. As a consequence, you may observe unexpected behavior. Please pass your input's `attention_mask` to obtain reliable results.\n",
            "Setting `pad_token_id` to `eos_token_id`:50256 for open-end generation.\n",
            "The attention mask and the pad token id were not set. As a consequence, you may observe unexpected behavior. Please pass your input's `attention_mask` to obtain reliable results.\n",
            "Setting `pad_token_id` to `eos_token_id`:50256 for open-end generation.\n",
            "The attention mask and the pad token id were not set. As a consequence, you may observe unexpected behavior. Please pass your input's `attention_mask` to obtain reliable results.\n",
            "Setting `pad_token_id` to `eos_token_id`:50256 for open-end generation.\n",
            "The attention mask and the pad token id were not set. As a consequence, you may observe unexpected behavior. Please pass your input's `attention_mask` to obtain reliable results.\n",
            "Setting `pad_token_id` to `eos_token_id`:50256 for open-end generation.\n",
            "The attention mask and the pad token id were not set. As a consequence, you may observe unexpected behavior. Please pass your input's `attention_mask` to obtain reliable results.\n",
            "Setting `pad_token_id` to `eos_token_id`:50256 for open-end generation.\n",
            "The attention mask and the pad token id were not set. As a consequence, you may observe unexpected behavior. Please pass your input's `attention_mask` to obtain reliable results.\n",
            "Setting `pad_token_id` to `eos_token_id`:50256 for open-end generation.\n",
            "The attention mask and the pad token id were not set. As a consequence, you may observe unexpected behavior. Please pass your input's `attention_mask` to obtain reliable results.\n",
            "Setting `pad_token_id` to `eos_token_id`:50256 for open-end generation.\n",
            "The attention mask and the pad token id were not set. As a consequence, you may observe unexpected behavior. Please pass your input's `attention_mask` to obtain reliable results.\n",
            "Setting `pad_token_id` to `eos_token_id`:50256 for open-end generation.\n",
            "The attention mask and the pad token id were not set. As a consequence, you may observe unexpected behavior. Please pass your input's `attention_mask` to obtain reliable results.\n",
            "Setting `pad_token_id` to `eos_token_id`:50256 for open-end generation.\n",
            "The attention mask and the pad token id were not set. As a consequence, you may observe unexpected behavior. Please pass your input's `attention_mask` to obtain reliable results.\n",
            "Setting `pad_token_id` to `eos_token_id`:50256 for open-end generation.\n",
            "The attention mask and the pad token id were not set. As a consequence, you may observe unexpected behavior. Please pass your input's `attention_mask` to obtain reliable results.\n",
            "Setting `pad_token_id` to `eos_token_id`:50256 for open-end generation.\n",
            "The attention mask and the pad token id were not set. As a consequence, you may observe unexpected behavior. Please pass your input's `attention_mask` to obtain reliable results.\n",
            "Setting `pad_token_id` to `eos_token_id`:50256 for open-end generation.\n",
            "The attention mask and the pad token id were not set. As a consequence, you may observe unexpected behavior. Please pass your input's `attention_mask` to obtain reliable results.\n",
            "Setting `pad_token_id` to `eos_token_id`:50256 for open-end generation.\n",
            "The attention mask and the pad token id were not set. As a consequence, you may observe unexpected behavior. Please pass your input's `attention_mask` to obtain reliable results.\n",
            "Setting `pad_token_id` to `eos_token_id`:50256 for open-end generation.\n",
            "The attention mask and the pad token id were not set. As a consequence, you may observe unexpected behavior. Please pass your input's `attention_mask` to obtain reliable results.\n",
            "Setting `pad_token_id` to `eos_token_id`:50256 for open-end generation.\n",
            "The attention mask and the pad token id were not set. As a consequence, you may observe unexpected behavior. Please pass your input's `attention_mask` to obtain reliable results.\n",
            "Setting `pad_token_id` to `eos_token_id`:50256 for open-end generation.\n",
            "The attention mask and the pad token id were not set. As a consequence, you may observe unexpected behavior. Please pass your input's `attention_mask` to obtain reliable results.\n",
            "Setting `pad_token_id` to `eos_token_id`:50256 for open-end generation.\n",
            "The attention mask and the pad token id were not set. As a consequence, you may observe unexpected behavior. Please pass your input's `attention_mask` to obtain reliable results.\n",
            "Setting `pad_token_id` to `eos_token_id`:50256 for open-end generation.\n",
            "The attention mask and the pad token id were not set. As a consequence, you may observe unexpected behavior. Please pass your input's `attention_mask` to obtain reliable results.\n",
            "Setting `pad_token_id` to `eos_token_id`:50256 for open-end generation.\n",
            "The attention mask and the pad token id were not set. As a consequence, you may observe unexpected behavior. Please pass your input's `attention_mask` to obtain reliable results.\n",
            "Setting `pad_token_id` to `eos_token_id`:50256 for open-end generation.\n",
            "The attention mask and the pad token id were not set. As a consequence, you may observe unexpected behavior. Please pass your input's `attention_mask` to obtain reliable results.\n",
            "Setting `pad_token_id` to `eos_token_id`:50256 for open-end generation.\n",
            "The attention mask and the pad token id were not set. As a consequence, you may observe unexpected behavior. Please pass your input's `attention_mask` to obtain reliable results.\n",
            "Setting `pad_token_id` to `eos_token_id`:50256 for open-end generation.\n",
            "The attention mask and the pad token id were not set. As a consequence, you may observe unexpected behavior. Please pass your input's `attention_mask` to obtain reliable results.\n",
            "Setting `pad_token_id` to `eos_token_id`:50256 for open-end generation.\n",
            "The attention mask and the pad token id were not set. As a consequence, you may observe unexpected behavior. Please pass your input's `attention_mask` to obtain reliable results.\n",
            "Setting `pad_token_id` to `eos_token_id`:50256 for open-end generation.\n",
            "The attention mask and the pad token id were not set. As a consequence, you may observe unexpected behavior. Please pass your input's `attention_mask` to obtain reliable results.\n",
            "Setting `pad_token_id` to `eos_token_id`:50256 for open-end generation.\n",
            "The attention mask and the pad token id were not set. As a consequence, you may observe unexpected behavior. Please pass your input's `attention_mask` to obtain reliable results.\n",
            "Setting `pad_token_id` to `eos_token_id`:50256 for open-end generation.\n",
            "The attention mask and the pad token id were not set. As a consequence, you may observe unexpected behavior. Please pass your input's `attention_mask` to obtain reliable results.\n",
            "Setting `pad_token_id` to `eos_token_id`:50256 for open-end generation.\n",
            "The attention mask and the pad token id were not set. As a consequence, you may observe unexpected behavior. Please pass your input's `attention_mask` to obtain reliable results.\n",
            "Setting `pad_token_id` to `eos_token_id`:50256 for open-end generation.\n",
            "The attention mask and the pad token id were not set. As a consequence, you may observe unexpected behavior. Please pass your input's `attention_mask` to obtain reliable results.\n",
            "Setting `pad_token_id` to `eos_token_id`:50256 for open-end generation.\n",
            "The attention mask and the pad token id were not set. As a consequence, you may observe unexpected behavior. Please pass your input's `attention_mask` to obtain reliable results.\n",
            "Setting `pad_token_id` to `eos_token_id`:50256 for open-end generation.\n",
            "The attention mask and the pad token id were not set. As a consequence, you may observe unexpected behavior. Please pass your input's `attention_mask` to obtain reliable results.\n",
            "Setting `pad_token_id` to `eos_token_id`:50256 for open-end generation.\n",
            "The attention mask and the pad token id were not set. As a consequence, you may observe unexpected behavior. Please pass your input's `attention_mask` to obtain reliable results.\n",
            "Setting `pad_token_id` to `eos_token_id`:50256 for open-end generation.\n",
            "The attention mask and the pad token id were not set. As a consequence, you may observe unexpected behavior. Please pass your input's `attention_mask` to obtain reliable results.\n",
            "Setting `pad_token_id` to `eos_token_id`:50256 for open-end generation.\n",
            "The attention mask and the pad token id were not set. As a consequence, you may observe unexpected behavior. Please pass your input's `attention_mask` to obtain reliable results.\n",
            "Setting `pad_token_id` to `eos_token_id`:50256 for open-end generation.\n",
            "The attention mask and the pad token id were not set. As a consequence, you may observe unexpected behavior. Please pass your input's `attention_mask` to obtain reliable results.\n",
            "Setting `pad_token_id` to `eos_token_id`:50256 for open-end generation.\n",
            "The attention mask and the pad token id were not set. As a consequence, you may observe unexpected behavior. Please pass your input's `attention_mask` to obtain reliable results.\n",
            "Setting `pad_token_id` to `eos_token_id`:50256 for open-end generation.\n",
            "The attention mask and the pad token id were not set. As a consequence, you may observe unexpected behavior. Please pass your input's `attention_mask` to obtain reliable results.\n",
            "Setting `pad_token_id` to `eos_token_id`:50256 for open-end generation.\n",
            "The attention mask and the pad token id were not set. As a consequence, you may observe unexpected behavior. Please pass your input's `attention_mask` to obtain reliable results.\n",
            "Setting `pad_token_id` to `eos_token_id`:50256 for open-end generation.\n",
            "The attention mask and the pad token id were not set. As a consequence, you may observe unexpected behavior. Please pass your input's `attention_mask` to obtain reliable results.\n",
            "Setting `pad_token_id` to `eos_token_id`:50256 for open-end generation.\n",
            "The attention mask and the pad token id were not set. As a consequence, you may observe unexpected behavior. Please pass your input's `attention_mask` to obtain reliable results.\n",
            "Setting `pad_token_id` to `eos_token_id`:50256 for open-end generation.\n",
            "The attention mask and the pad token id were not set. As a consequence, you may observe unexpected behavior. Please pass your input's `attention_mask` to obtain reliable results.\n",
            "Setting `pad_token_id` to `eos_token_id`:50256 for open-end generation.\n",
            "The attention mask and the pad token id were not set. As a consequence, you may observe unexpected behavior. Please pass your input's `attention_mask` to obtain reliable results.\n",
            "Setting `pad_token_id` to `eos_token_id`:50256 for open-end generation.\n",
            "The attention mask and the pad token id were not set. As a consequence, you may observe unexpected behavior. Please pass your input's `attention_mask` to obtain reliable results.\n",
            "Setting `pad_token_id` to `eos_token_id`:50256 for open-end generation.\n",
            "The attention mask and the pad token id were not set. As a consequence, you may observe unexpected behavior. Please pass your input's `attention_mask` to obtain reliable results.\n",
            "Setting `pad_token_id` to `eos_token_id`:50256 for open-end generation.\n",
            "The attention mask and the pad token id were not set. As a consequence, you may observe unexpected behavior. Please pass your input's `attention_mask` to obtain reliable results.\n",
            "Setting `pad_token_id` to `eos_token_id`:50256 for open-end generation.\n",
            "The attention mask and the pad token id were not set. As a consequence, you may observe unexpected behavior. Please pass your input's `attention_mask` to obtain reliable results.\n",
            "Setting `pad_token_id` to `eos_token_id`:50256 for open-end generation.\n",
            "The attention mask and the pad token id were not set. As a consequence, you may observe unexpected behavior. Please pass your input's `attention_mask` to obtain reliable results.\n",
            "Setting `pad_token_id` to `eos_token_id`:50256 for open-end generation.\n",
            "The attention mask and the pad token id were not set. As a consequence, you may observe unexpected behavior. Please pass your input's `attention_mask` to obtain reliable results.\n",
            "Setting `pad_token_id` to `eos_token_id`:50256 for open-end generation.\n",
            "The attention mask and the pad token id were not set. As a consequence, you may observe unexpected behavior. Please pass your input's `attention_mask` to obtain reliable results.\n",
            "Setting `pad_token_id` to `eos_token_id`:50256 for open-end generation.\n",
            "The attention mask and the pad token id were not set. As a consequence, you may observe unexpected behavior. Please pass your input's `attention_mask` to obtain reliable results.\n",
            "Setting `pad_token_id` to `eos_token_id`:50256 for open-end generation.\n",
            "The attention mask and the pad token id were not set. As a consequence, you may observe unexpected behavior. Please pass your input's `attention_mask` to obtain reliable results.\n",
            "Setting `pad_token_id` to `eos_token_id`:50256 for open-end generation.\n",
            "The attention mask and the pad token id were not set. As a consequence, you may observe unexpected behavior. Please pass your input's `attention_mask` to obtain reliable results.\n",
            "Setting `pad_token_id` to `eos_token_id`:50256 for open-end generation.\n",
            "The attention mask and the pad token id were not set. As a consequence, you may observe unexpected behavior. Please pass your input's `attention_mask` to obtain reliable results.\n",
            "Setting `pad_token_id` to `eos_token_id`:50256 for open-end generation.\n",
            "The attention mask and the pad token id were not set. As a consequence, you may observe unexpected behavior. Please pass your input's `attention_mask` to obtain reliable results.\n",
            "Setting `pad_token_id` to `eos_token_id`:50256 for open-end generation.\n",
            "The attention mask and the pad token id were not set. As a consequence, you may observe unexpected behavior. Please pass your input's `attention_mask` to obtain reliable results.\n",
            "Setting `pad_token_id` to `eos_token_id`:50256 for open-end generation.\n",
            "The attention mask and the pad token id were not set. As a consequence, you may observe unexpected behavior. Please pass your input's `attention_mask` to obtain reliable results.\n",
            "Setting `pad_token_id` to `eos_token_id`:50256 for open-end generation.\n",
            "The attention mask and the pad token id were not set. As a consequence, you may observe unexpected behavior. Please pass your input's `attention_mask` to obtain reliable results.\n",
            "Setting `pad_token_id` to `eos_token_id`:50256 for open-end generation.\n",
            "The attention mask and the pad token id were not set. As a consequence, you may observe unexpected behavior. Please pass your input's `attention_mask` to obtain reliable results.\n",
            "Setting `pad_token_id` to `eos_token_id`:50256 for open-end generation.\n",
            "The attention mask and the pad token id were not set. As a consequence, you may observe unexpected behavior. Please pass your input's `attention_mask` to obtain reliable results.\n",
            "Setting `pad_token_id` to `eos_token_id`:50256 for open-end generation.\n",
            "The attention mask and the pad token id were not set. As a consequence, you may observe unexpected behavior. Please pass your input's `attention_mask` to obtain reliable results.\n",
            "Setting `pad_token_id` to `eos_token_id`:50256 for open-end generation.\n",
            "The attention mask and the pad token id were not set. As a consequence, you may observe unexpected behavior. Please pass your input's `attention_mask` to obtain reliable results.\n",
            "Setting `pad_token_id` to `eos_token_id`:50256 for open-end generation.\n",
            "The attention mask and the pad token id were not set. As a consequence, you may observe unexpected behavior. Please pass your input's `attention_mask` to obtain reliable results.\n",
            "Setting `pad_token_id` to `eos_token_id`:50256 for open-end generation.\n",
            "The attention mask and the pad token id were not set. As a consequence, you may observe unexpected behavior. Please pass your input's `attention_mask` to obtain reliable results.\n",
            "Setting `pad_token_id` to `eos_token_id`:50256 for open-end generation.\n",
            "The attention mask and the pad token id were not set. As a consequence, you may observe unexpected behavior. Please pass your input's `attention_mask` to obtain reliable results.\n",
            "Setting `pad_token_id` to `eos_token_id`:50256 for open-end generation.\n",
            "The attention mask and the pad token id were not set. As a consequence, you may observe unexpected behavior. Please pass your input's `attention_mask` to obtain reliable results.\n",
            "Setting `pad_token_id` to `eos_token_id`:50256 for open-end generation.\n",
            "The attention mask and the pad token id were not set. As a consequence, you may observe unexpected behavior. Please pass your input's `attention_mask` to obtain reliable results.\n",
            "Setting `pad_token_id` to `eos_token_id`:50256 for open-end generation.\n",
            "The attention mask and the pad token id were not set. As a consequence, you may observe unexpected behavior. Please pass your input's `attention_mask` to obtain reliable results.\n",
            "Setting `pad_token_id` to `eos_token_id`:50256 for open-end generation.\n",
            "The attention mask and the pad token id were not set. As a consequence, you may observe unexpected behavior. Please pass your input's `attention_mask` to obtain reliable results.\n",
            "Setting `pad_token_id` to `eos_token_id`:50256 for open-end generation.\n",
            "The attention mask and the pad token id were not set. As a consequence, you may observe unexpected behavior. Please pass your input's `attention_mask` to obtain reliable results.\n",
            "Setting `pad_token_id` to `eos_token_id`:50256 for open-end generation.\n",
            "The attention mask and the pad token id were not set. As a consequence, you may observe unexpected behavior. Please pass your input's `attention_mask` to obtain reliable results.\n",
            "Setting `pad_token_id` to `eos_token_id`:50256 for open-end generation.\n",
            "The attention mask and the pad token id were not set. As a consequence, you may observe unexpected behavior. Please pass your input's `attention_mask` to obtain reliable results.\n",
            "Setting `pad_token_id` to `eos_token_id`:50256 for open-end generation.\n",
            "The attention mask and the pad token id were not set. As a consequence, you may observe unexpected behavior. Please pass your input's `attention_mask` to obtain reliable results.\n",
            "Setting `pad_token_id` to `eos_token_id`:50256 for open-end generation.\n",
            "The attention mask and the pad token id were not set. As a consequence, you may observe unexpected behavior. Please pass your input's `attention_mask` to obtain reliable results.\n",
            "Setting `pad_token_id` to `eos_token_id`:50256 for open-end generation.\n",
            "The attention mask and the pad token id were not set. As a consequence, you may observe unexpected behavior. Please pass your input's `attention_mask` to obtain reliable results.\n",
            "Setting `pad_token_id` to `eos_token_id`:50256 for open-end generation.\n",
            "The attention mask and the pad token id were not set. As a consequence, you may observe unexpected behavior. Please pass your input's `attention_mask` to obtain reliable results.\n",
            "Setting `pad_token_id` to `eos_token_id`:50256 for open-end generation.\n",
            "The attention mask and the pad token id were not set. As a consequence, you may observe unexpected behavior. Please pass your input's `attention_mask` to obtain reliable results.\n",
            "Setting `pad_token_id` to `eos_token_id`:50256 for open-end generation.\n",
            "The attention mask and the pad token id were not set. As a consequence, you may observe unexpected behavior. Please pass your input's `attention_mask` to obtain reliable results.\n",
            "Setting `pad_token_id` to `eos_token_id`:50256 for open-end generation.\n",
            "The attention mask and the pad token id were not set. As a consequence, you may observe unexpected behavior. Please pass your input's `attention_mask` to obtain reliable results.\n",
            "Setting `pad_token_id` to `eos_token_id`:50256 for open-end generation.\n",
            "The attention mask and the pad token id were not set. As a consequence, you may observe unexpected behavior. Please pass your input's `attention_mask` to obtain reliable results.\n",
            "Setting `pad_token_id` to `eos_token_id`:50256 for open-end generation.\n",
            "The attention mask and the pad token id were not set. As a consequence, you may observe unexpected behavior. Please pass your input's `attention_mask` to obtain reliable results.\n",
            "Setting `pad_token_id` to `eos_token_id`:50256 for open-end generation.\n",
            "The attention mask and the pad token id were not set. As a consequence, you may observe unexpected behavior. Please pass your input's `attention_mask` to obtain reliable results.\n",
            "Setting `pad_token_id` to `eos_token_id`:50256 for open-end generation.\n",
            "The attention mask and the pad token id were not set. As a consequence, you may observe unexpected behavior. Please pass your input's `attention_mask` to obtain reliable results.\n",
            "Setting `pad_token_id` to `eos_token_id`:50256 for open-end generation.\n",
            "The attention mask and the pad token id were not set. As a consequence, you may observe unexpected behavior. Please pass your input's `attention_mask` to obtain reliable results.\n",
            "Setting `pad_token_id` to `eos_token_id`:50256 for open-end generation.\n",
            "The attention mask and the pad token id were not set. As a consequence, you may observe unexpected behavior. Please pass your input's `attention_mask` to obtain reliable results.\n",
            "Setting `pad_token_id` to `eos_token_id`:50256 for open-end generation.\n",
            "The attention mask and the pad token id were not set. As a consequence, you may observe unexpected behavior. Please pass your input's `attention_mask` to obtain reliable results.\n",
            "Setting `pad_token_id` to `eos_token_id`:50256 for open-end generation.\n",
            "The attention mask and the pad token id were not set. As a consequence, you may observe unexpected behavior. Please pass your input's `attention_mask` to obtain reliable results.\n",
            "Setting `pad_token_id` to `eos_token_id`:50256 for open-end generation.\n",
            "The attention mask and the pad token id were not set. As a consequence, you may observe unexpected behavior. Please pass your input's `attention_mask` to obtain reliable results.\n",
            "Setting `pad_token_id` to `eos_token_id`:50256 for open-end generation.\n",
            "The attention mask and the pad token id were not set. As a consequence, you may observe unexpected behavior. Please pass your input's `attention_mask` to obtain reliable results.\n",
            "Setting `pad_token_id` to `eos_token_id`:50256 for open-end generation.\n",
            "The attention mask and the pad token id were not set. As a consequence, you may observe unexpected behavior. Please pass your input's `attention_mask` to obtain reliable results.\n",
            "Setting `pad_token_id` to `eos_token_id`:50256 for open-end generation.\n",
            "The attention mask and the pad token id were not set. As a consequence, you may observe unexpected behavior. Please pass your input's `attention_mask` to obtain reliable results.\n",
            "Setting `pad_token_id` to `eos_token_id`:50256 for open-end generation.\n",
            "The attention mask and the pad token id were not set. As a consequence, you may observe unexpected behavior. Please pass your input's `attention_mask` to obtain reliable results.\n",
            "Setting `pad_token_id` to `eos_token_id`:50256 for open-end generation.\n",
            "The attention mask and the pad token id were not set. As a consequence, you may observe unexpected behavior. Please pass your input's `attention_mask` to obtain reliable results.\n",
            "Setting `pad_token_id` to `eos_token_id`:50256 for open-end generation.\n",
            "The attention mask and the pad token id were not set. As a consequence, you may observe unexpected behavior. Please pass your input's `attention_mask` to obtain reliable results.\n",
            "Setting `pad_token_id` to `eos_token_id`:50256 for open-end generation.\n",
            "The attention mask and the pad token id were not set. As a consequence, you may observe unexpected behavior. Please pass your input's `attention_mask` to obtain reliable results.\n",
            "Setting `pad_token_id` to `eos_token_id`:50256 for open-end generation.\n",
            "The attention mask and the pad token id were not set. As a consequence, you may observe unexpected behavior. Please pass your input's `attention_mask` to obtain reliable results.\n",
            "Setting `pad_token_id` to `eos_token_id`:50256 for open-end generation.\n",
            "The attention mask and the pad token id were not set. As a consequence, you may observe unexpected behavior. Please pass your input's `attention_mask` to obtain reliable results.\n",
            "Setting `pad_token_id` to `eos_token_id`:50256 for open-end generation.\n",
            "The attention mask and the pad token id were not set. As a consequence, you may observe unexpected behavior. Please pass your input's `attention_mask` to obtain reliable results.\n",
            "Setting `pad_token_id` to `eos_token_id`:50256 for open-end generation.\n",
            "The attention mask and the pad token id were not set. As a consequence, you may observe unexpected behavior. Please pass your input's `attention_mask` to obtain reliable results.\n",
            "Setting `pad_token_id` to `eos_token_id`:50256 for open-end generation.\n",
            "The attention mask and the pad token id were not set. As a consequence, you may observe unexpected behavior. Please pass your input's `attention_mask` to obtain reliable results.\n",
            "Setting `pad_token_id` to `eos_token_id`:50256 for open-end generation.\n",
            "The attention mask and the pad token id were not set. As a consequence, you may observe unexpected behavior. Please pass your input's `attention_mask` to obtain reliable results.\n",
            "Setting `pad_token_id` to `eos_token_id`:50256 for open-end generation.\n",
            "The attention mask and the pad token id were not set. As a consequence, you may observe unexpected behavior. Please pass your input's `attention_mask` to obtain reliable results.\n",
            "Setting `pad_token_id` to `eos_token_id`:50256 for open-end generation.\n",
            "The attention mask and the pad token id were not set. As a consequence, you may observe unexpected behavior. Please pass your input's `attention_mask` to obtain reliable results.\n",
            "Setting `pad_token_id` to `eos_token_id`:50256 for open-end generation.\n",
            "The attention mask and the pad token id were not set. As a consequence, you may observe unexpected behavior. Please pass your input's `attention_mask` to obtain reliable results.\n",
            "Setting `pad_token_id` to `eos_token_id`:50256 for open-end generation.\n",
            "The attention mask and the pad token id were not set. As a consequence, you may observe unexpected behavior. Please pass your input's `attention_mask` to obtain reliable results.\n",
            "Setting `pad_token_id` to `eos_token_id`:50256 for open-end generation.\n",
            "The attention mask and the pad token id were not set. As a consequence, you may observe unexpected behavior. Please pass your input's `attention_mask` to obtain reliable results.\n",
            "Setting `pad_token_id` to `eos_token_id`:50256 for open-end generation.\n",
            "The attention mask and the pad token id were not set. As a consequence, you may observe unexpected behavior. Please pass your input's `attention_mask` to obtain reliable results.\n",
            "Setting `pad_token_id` to `eos_token_id`:50256 for open-end generation.\n",
            "The attention mask and the pad token id were not set. As a consequence, you may observe unexpected behavior. Please pass your input's `attention_mask` to obtain reliable results.\n",
            "Setting `pad_token_id` to `eos_token_id`:50256 for open-end generation.\n",
            "The attention mask and the pad token id were not set. As a consequence, you may observe unexpected behavior. Please pass your input's `attention_mask` to obtain reliable results.\n",
            "Setting `pad_token_id` to `eos_token_id`:50256 for open-end generation.\n",
            "The attention mask and the pad token id were not set. As a consequence, you may observe unexpected behavior. Please pass your input's `attention_mask` to obtain reliable results.\n",
            "Setting `pad_token_id` to `eos_token_id`:50256 for open-end generation.\n",
            "The attention mask and the pad token id were not set. As a consequence, you may observe unexpected behavior. Please pass your input's `attention_mask` to obtain reliable results.\n",
            "Setting `pad_token_id` to `eos_token_id`:50256 for open-end generation.\n",
            "The attention mask and the pad token id were not set. As a consequence, you may observe unexpected behavior. Please pass your input's `attention_mask` to obtain reliable results.\n",
            "Setting `pad_token_id` to `eos_token_id`:50256 for open-end generation.\n",
            "The attention mask and the pad token id were not set. As a consequence, you may observe unexpected behavior. Please pass your input's `attention_mask` to obtain reliable results.\n",
            "Setting `pad_token_id` to `eos_token_id`:50256 for open-end generation.\n",
            "The attention mask and the pad token id were not set. As a consequence, you may observe unexpected behavior. Please pass your input's `attention_mask` to obtain reliable results.\n",
            "Setting `pad_token_id` to `eos_token_id`:50256 for open-end generation.\n",
            "The attention mask and the pad token id were not set. As a consequence, you may observe unexpected behavior. Please pass your input's `attention_mask` to obtain reliable results.\n",
            "Setting `pad_token_id` to `eos_token_id`:50256 for open-end generation.\n",
            "The attention mask and the pad token id were not set. As a consequence, you may observe unexpected behavior. Please pass your input's `attention_mask` to obtain reliable results.\n",
            "Setting `pad_token_id` to `eos_token_id`:50256 for open-end generation.\n",
            "The attention mask and the pad token id were not set. As a consequence, you may observe unexpected behavior. Please pass your input's `attention_mask` to obtain reliable results.\n",
            "Setting `pad_token_id` to `eos_token_id`:50256 for open-end generation.\n",
            "The attention mask and the pad token id were not set. As a consequence, you may observe unexpected behavior. Please pass your input's `attention_mask` to obtain reliable results.\n",
            "Setting `pad_token_id` to `eos_token_id`:50256 for open-end generation.\n",
            "The attention mask and the pad token id were not set. As a consequence, you may observe unexpected behavior. Please pass your input's `attention_mask` to obtain reliable results.\n",
            "Setting `pad_token_id` to `eos_token_id`:50256 for open-end generation.\n",
            "The attention mask and the pad token id were not set. As a consequence, you may observe unexpected behavior. Please pass your input's `attention_mask` to obtain reliable results.\n",
            "Setting `pad_token_id` to `eos_token_id`:50256 for open-end generation.\n",
            "The attention mask and the pad token id were not set. As a consequence, you may observe unexpected behavior. Please pass your input's `attention_mask` to obtain reliable results.\n",
            "Setting `pad_token_id` to `eos_token_id`:50256 for open-end generation.\n",
            "The attention mask and the pad token id were not set. As a consequence, you may observe unexpected behavior. Please pass your input's `attention_mask` to obtain reliable results.\n",
            "Setting `pad_token_id` to `eos_token_id`:50256 for open-end generation.\n",
            "The attention mask and the pad token id were not set. As a consequence, you may observe unexpected behavior. Please pass your input's `attention_mask` to obtain reliable results.\n",
            "Setting `pad_token_id` to `eos_token_id`:50256 for open-end generation.\n",
            "The attention mask and the pad token id were not set. As a consequence, you may observe unexpected behavior. Please pass your input's `attention_mask` to obtain reliable results.\n",
            "Setting `pad_token_id` to `eos_token_id`:50256 for open-end generation.\n",
            "The attention mask and the pad token id were not set. As a consequence, you may observe unexpected behavior. Please pass your input's `attention_mask` to obtain reliable results.\n",
            "Setting `pad_token_id` to `eos_token_id`:50256 for open-end generation.\n",
            "The attention mask and the pad token id were not set. As a consequence, you may observe unexpected behavior. Please pass your input's `attention_mask` to obtain reliable results.\n",
            "Setting `pad_token_id` to `eos_token_id`:50256 for open-end generation.\n",
            "The attention mask and the pad token id were not set. As a consequence, you may observe unexpected behavior. Please pass your input's `attention_mask` to obtain reliable results.\n",
            "Setting `pad_token_id` to `eos_token_id`:50256 for open-end generation.\n",
            "The attention mask and the pad token id were not set. As a consequence, you may observe unexpected behavior. Please pass your input's `attention_mask` to obtain reliable results.\n",
            "Setting `pad_token_id` to `eos_token_id`:50256 for open-end generation.\n",
            "The attention mask and the pad token id were not set. As a consequence, you may observe unexpected behavior. Please pass your input's `attention_mask` to obtain reliable results.\n",
            "Setting `pad_token_id` to `eos_token_id`:50256 for open-end generation.\n",
            "The attention mask and the pad token id were not set. As a consequence, you may observe unexpected behavior. Please pass your input's `attention_mask` to obtain reliable results.\n",
            "Setting `pad_token_id` to `eos_token_id`:50256 for open-end generation.\n",
            "The attention mask and the pad token id were not set. As a consequence, you may observe unexpected behavior. Please pass your input's `attention_mask` to obtain reliable results.\n",
            "Setting `pad_token_id` to `eos_token_id`:50256 for open-end generation.\n",
            "The attention mask and the pad token id were not set. As a consequence, you may observe unexpected behavior. Please pass your input's `attention_mask` to obtain reliable results.\n",
            "Setting `pad_token_id` to `eos_token_id`:50256 for open-end generation.\n",
            "The attention mask and the pad token id were not set. As a consequence, you may observe unexpected behavior. Please pass your input's `attention_mask` to obtain reliable results.\n",
            "Setting `pad_token_id` to `eos_token_id`:50256 for open-end generation.\n",
            "The attention mask and the pad token id were not set. As a consequence, you may observe unexpected behavior. Please pass your input's `attention_mask` to obtain reliable results.\n",
            "Setting `pad_token_id` to `eos_token_id`:50256 for open-end generation.\n",
            "The attention mask and the pad token id were not set. As a consequence, you may observe unexpected behavior. Please pass your input's `attention_mask` to obtain reliable results.\n",
            "Setting `pad_token_id` to `eos_token_id`:50256 for open-end generation.\n",
            "The attention mask and the pad token id were not set. As a consequence, you may observe unexpected behavior. Please pass your input's `attention_mask` to obtain reliable results.\n",
            "Setting `pad_token_id` to `eos_token_id`:50256 for open-end generation.\n",
            "The attention mask and the pad token id were not set. As a consequence, you may observe unexpected behavior. Please pass your input's `attention_mask` to obtain reliable results.\n",
            "Setting `pad_token_id` to `eos_token_id`:50256 for open-end generation.\n",
            "The attention mask and the pad token id were not set. As a consequence, you may observe unexpected behavior. Please pass your input's `attention_mask` to obtain reliable results.\n",
            "Setting `pad_token_id` to `eos_token_id`:50256 for open-end generation.\n",
            "The attention mask and the pad token id were not set. As a consequence, you may observe unexpected behavior. Please pass your input's `attention_mask` to obtain reliable results.\n",
            "Setting `pad_token_id` to `eos_token_id`:50256 for open-end generation.\n",
            "The attention mask and the pad token id were not set. As a consequence, you may observe unexpected behavior. Please pass your input's `attention_mask` to obtain reliable results.\n",
            "Setting `pad_token_id` to `eos_token_id`:50256 for open-end generation.\n",
            "The attention mask and the pad token id were not set. As a consequence, you may observe unexpected behavior. Please pass your input's `attention_mask` to obtain reliable results.\n",
            "Setting `pad_token_id` to `eos_token_id`:50256 for open-end generation.\n",
            "The attention mask and the pad token id were not set. As a consequence, you may observe unexpected behavior. Please pass your input's `attention_mask` to obtain reliable results.\n",
            "Setting `pad_token_id` to `eos_token_id`:50256 for open-end generation.\n",
            "The attention mask and the pad token id were not set. As a consequence, you may observe unexpected behavior. Please pass your input's `attention_mask` to obtain reliable results.\n",
            "Setting `pad_token_id` to `eos_token_id`:50256 for open-end generation.\n",
            "The attention mask and the pad token id were not set. As a consequence, you may observe unexpected behavior. Please pass your input's `attention_mask` to obtain reliable results.\n",
            "Setting `pad_token_id` to `eos_token_id`:50256 for open-end generation.\n",
            "The attention mask and the pad token id were not set. As a consequence, you may observe unexpected behavior. Please pass your input's `attention_mask` to obtain reliable results.\n",
            "Setting `pad_token_id` to `eos_token_id`:50256 for open-end generation.\n",
            "The attention mask and the pad token id were not set. As a consequence, you may observe unexpected behavior. Please pass your input's `attention_mask` to obtain reliable results.\n",
            "Setting `pad_token_id` to `eos_token_id`:50256 for open-end generation.\n",
            "The attention mask and the pad token id were not set. As a consequence, you may observe unexpected behavior. Please pass your input's `attention_mask` to obtain reliable results.\n",
            "Setting `pad_token_id` to `eos_token_id`:50256 for open-end generation.\n",
            "The attention mask and the pad token id were not set. As a consequence, you may observe unexpected behavior. Please pass your input's `attention_mask` to obtain reliable results.\n",
            "Setting `pad_token_id` to `eos_token_id`:50256 for open-end generation.\n",
            "The attention mask and the pad token id were not set. As a consequence, you may observe unexpected behavior. Please pass your input's `attention_mask` to obtain reliable results.\n",
            "Setting `pad_token_id` to `eos_token_id`:50256 for open-end generation.\n",
            "The attention mask and the pad token id were not set. As a consequence, you may observe unexpected behavior. Please pass your input's `attention_mask` to obtain reliable results.\n",
            "Setting `pad_token_id` to `eos_token_id`:50256 for open-end generation.\n",
            "The attention mask and the pad token id were not set. As a consequence, you may observe unexpected behavior. Please pass your input's `attention_mask` to obtain reliable results.\n",
            "Setting `pad_token_id` to `eos_token_id`:50256 for open-end generation.\n",
            "The attention mask and the pad token id were not set. As a consequence, you may observe unexpected behavior. Please pass your input's `attention_mask` to obtain reliable results.\n",
            "Setting `pad_token_id` to `eos_token_id`:50256 for open-end generation.\n",
            "The attention mask and the pad token id were not set. As a consequence, you may observe unexpected behavior. Please pass your input's `attention_mask` to obtain reliable results.\n",
            "Setting `pad_token_id` to `eos_token_id`:50256 for open-end generation.\n",
            "The attention mask and the pad token id were not set. As a consequence, you may observe unexpected behavior. Please pass your input's `attention_mask` to obtain reliable results.\n",
            "Setting `pad_token_id` to `eos_token_id`:50256 for open-end generation.\n",
            "The attention mask and the pad token id were not set. As a consequence, you may observe unexpected behavior. Please pass your input's `attention_mask` to obtain reliable results.\n",
            "Setting `pad_token_id` to `eos_token_id`:50256 for open-end generation.\n",
            "The attention mask and the pad token id were not set. As a consequence, you may observe unexpected behavior. Please pass your input's `attention_mask` to obtain reliable results.\n",
            "Setting `pad_token_id` to `eos_token_id`:50256 for open-end generation.\n",
            "The attention mask and the pad token id were not set. As a consequence, you may observe unexpected behavior. Please pass your input's `attention_mask` to obtain reliable results.\n",
            "Setting `pad_token_id` to `eos_token_id`:50256 for open-end generation.\n",
            "The attention mask and the pad token id were not set. As a consequence, you may observe unexpected behavior. Please pass your input's `attention_mask` to obtain reliable results.\n",
            "Setting `pad_token_id` to `eos_token_id`:50256 for open-end generation.\n",
            "The attention mask and the pad token id were not set. As a consequence, you may observe unexpected behavior. Please pass your input's `attention_mask` to obtain reliable results.\n",
            "Setting `pad_token_id` to `eos_token_id`:50256 for open-end generation.\n",
            "The attention mask and the pad token id were not set. As a consequence, you may observe unexpected behavior. Please pass your input's `attention_mask` to obtain reliable results.\n",
            "Setting `pad_token_id` to `eos_token_id`:50256 for open-end generation.\n",
            "The attention mask and the pad token id were not set. As a consequence, you may observe unexpected behavior. Please pass your input's `attention_mask` to obtain reliable results.\n",
            "Setting `pad_token_id` to `eos_token_id`:50256 for open-end generation.\n",
            "The attention mask and the pad token id were not set. As a consequence, you may observe unexpected behavior. Please pass your input's `attention_mask` to obtain reliable results.\n",
            "Setting `pad_token_id` to `eos_token_id`:50256 for open-end generation.\n",
            "The attention mask and the pad token id were not set. As a consequence, you may observe unexpected behavior. Please pass your input's `attention_mask` to obtain reliable results.\n",
            "Setting `pad_token_id` to `eos_token_id`:50256 for open-end generation.\n",
            "The attention mask and the pad token id were not set. As a consequence, you may observe unexpected behavior. Please pass your input's `attention_mask` to obtain reliable results.\n",
            "Setting `pad_token_id` to `eos_token_id`:50256 for open-end generation.\n",
            "The attention mask and the pad token id were not set. As a consequence, you may observe unexpected behavior. Please pass your input's `attention_mask` to obtain reliable results.\n",
            "Setting `pad_token_id` to `eos_token_id`:50256 for open-end generation.\n",
            "The attention mask and the pad token id were not set. As a consequence, you may observe unexpected behavior. Please pass your input's `attention_mask` to obtain reliable results.\n",
            "Setting `pad_token_id` to `eos_token_id`:50256 for open-end generation.\n",
            "The attention mask and the pad token id were not set. As a consequence, you may observe unexpected behavior. Please pass your input's `attention_mask` to obtain reliable results.\n",
            "Setting `pad_token_id` to `eos_token_id`:50256 for open-end generation.\n",
            "The attention mask and the pad token id were not set. As a consequence, you may observe unexpected behavior. Please pass your input's `attention_mask` to obtain reliable results.\n",
            "Setting `pad_token_id` to `eos_token_id`:50256 for open-end generation.\n",
            "The attention mask and the pad token id were not set. As a consequence, you may observe unexpected behavior. Please pass your input's `attention_mask` to obtain reliable results.\n",
            "Setting `pad_token_id` to `eos_token_id`:50256 for open-end generation.\n",
            "The attention mask and the pad token id were not set. As a consequence, you may observe unexpected behavior. Please pass your input's `attention_mask` to obtain reliable results.\n",
            "Setting `pad_token_id` to `eos_token_id`:50256 for open-end generation.\n",
            "The attention mask and the pad token id were not set. As a consequence, you may observe unexpected behavior. Please pass your input's `attention_mask` to obtain reliable results.\n",
            "Setting `pad_token_id` to `eos_token_id`:50256 for open-end generation.\n",
            "The attention mask and the pad token id were not set. As a consequence, you may observe unexpected behavior. Please pass your input's `attention_mask` to obtain reliable results.\n",
            "Setting `pad_token_id` to `eos_token_id`:50256 for open-end generation.\n",
            "The attention mask and the pad token id were not set. As a consequence, you may observe unexpected behavior. Please pass your input's `attention_mask` to obtain reliable results.\n",
            "Setting `pad_token_id` to `eos_token_id`:50256 for open-end generation.\n",
            "The attention mask and the pad token id were not set. As a consequence, you may observe unexpected behavior. Please pass your input's `attention_mask` to obtain reliable results.\n",
            "Setting `pad_token_id` to `eos_token_id`:50256 for open-end generation.\n",
            "The attention mask and the pad token id were not set. As a consequence, you may observe unexpected behavior. Please pass your input's `attention_mask` to obtain reliable results.\n",
            "Setting `pad_token_id` to `eos_token_id`:50256 for open-end generation.\n",
            "The attention mask and the pad token id were not set. As a consequence, you may observe unexpected behavior. Please pass your input's `attention_mask` to obtain reliable results.\n",
            "Setting `pad_token_id` to `eos_token_id`:50256 for open-end generation.\n",
            "The attention mask and the pad token id were not set. As a consequence, you may observe unexpected behavior. Please pass your input's `attention_mask` to obtain reliable results.\n",
            "Setting `pad_token_id` to `eos_token_id`:50256 for open-end generation.\n",
            "The attention mask and the pad token id were not set. As a consequence, you may observe unexpected behavior. Please pass your input's `attention_mask` to obtain reliable results.\n",
            "Setting `pad_token_id` to `eos_token_id`:50256 for open-end generation.\n",
            "The attention mask and the pad token id were not set. As a consequence, you may observe unexpected behavior. Please pass your input's `attention_mask` to obtain reliable results.\n",
            "Setting `pad_token_id` to `eos_token_id`:50256 for open-end generation.\n",
            "The attention mask and the pad token id were not set. As a consequence, you may observe unexpected behavior. Please pass your input's `attention_mask` to obtain reliable results.\n",
            "Setting `pad_token_id` to `eos_token_id`:50256 for open-end generation.\n",
            "The attention mask and the pad token id were not set. As a consequence, you may observe unexpected behavior. Please pass your input's `attention_mask` to obtain reliable results.\n",
            "Setting `pad_token_id` to `eos_token_id`:50256 for open-end generation.\n",
            "The attention mask and the pad token id were not set. As a consequence, you may observe unexpected behavior. Please pass your input's `attention_mask` to obtain reliable results.\n",
            "Setting `pad_token_id` to `eos_token_id`:50256 for open-end generation.\n",
            "The attention mask and the pad token id were not set. As a consequence, you may observe unexpected behavior. Please pass your input's `attention_mask` to obtain reliable results.\n",
            "Setting `pad_token_id` to `eos_token_id`:50256 for open-end generation.\n",
            "The attention mask and the pad token id were not set. As a consequence, you may observe unexpected behavior. Please pass your input's `attention_mask` to obtain reliable results.\n",
            "Setting `pad_token_id` to `eos_token_id`:50256 for open-end generation.\n",
            "The attention mask and the pad token id were not set. As a consequence, you may observe unexpected behavior. Please pass your input's `attention_mask` to obtain reliable results.\n",
            "Setting `pad_token_id` to `eos_token_id`:50256 for open-end generation.\n",
            "The attention mask and the pad token id were not set. As a consequence, you may observe unexpected behavior. Please pass your input's `attention_mask` to obtain reliable results.\n",
            "Setting `pad_token_id` to `eos_token_id`:50256 for open-end generation.\n",
            "The attention mask and the pad token id were not set. As a consequence, you may observe unexpected behavior. Please pass your input's `attention_mask` to obtain reliable results.\n",
            "Setting `pad_token_id` to `eos_token_id`:50256 for open-end generation.\n",
            "The attention mask and the pad token id were not set. As a consequence, you may observe unexpected behavior. Please pass your input's `attention_mask` to obtain reliable results.\n",
            "Setting `pad_token_id` to `eos_token_id`:50256 for open-end generation.\n",
            "The attention mask and the pad token id were not set. As a consequence, you may observe unexpected behavior. Please pass your input's `attention_mask` to obtain reliable results.\n",
            "Setting `pad_token_id` to `eos_token_id`:50256 for open-end generation.\n",
            "The attention mask and the pad token id were not set. As a consequence, you may observe unexpected behavior. Please pass your input's `attention_mask` to obtain reliable results.\n",
            "Setting `pad_token_id` to `eos_token_id`:50256 for open-end generation.\n",
            "The attention mask and the pad token id were not set. As a consequence, you may observe unexpected behavior. Please pass your input's `attention_mask` to obtain reliable results.\n",
            "Setting `pad_token_id` to `eos_token_id`:50256 for open-end generation.\n",
            "The attention mask and the pad token id were not set. As a consequence, you may observe unexpected behavior. Please pass your input's `attention_mask` to obtain reliable results.\n",
            "Setting `pad_token_id` to `eos_token_id`:50256 for open-end generation.\n",
            "The attention mask and the pad token id were not set. As a consequence, you may observe unexpected behavior. Please pass your input's `attention_mask` to obtain reliable results.\n",
            "Setting `pad_token_id` to `eos_token_id`:50256 for open-end generation.\n",
            "The attention mask and the pad token id were not set. As a consequence, you may observe unexpected behavior. Please pass your input's `attention_mask` to obtain reliable results.\n",
            "Setting `pad_token_id` to `eos_token_id`:50256 for open-end generation.\n",
            "The attention mask and the pad token id were not set. As a consequence, you may observe unexpected behavior. Please pass your input's `attention_mask` to obtain reliable results.\n",
            "Setting `pad_token_id` to `eos_token_id`:50256 for open-end generation.\n",
            "The attention mask and the pad token id were not set. As a consequence, you may observe unexpected behavior. Please pass your input's `attention_mask` to obtain reliable results.\n",
            "Setting `pad_token_id` to `eos_token_id`:50256 for open-end generation.\n",
            "The attention mask and the pad token id were not set. As a consequence, you may observe unexpected behavior. Please pass your input's `attention_mask` to obtain reliable results.\n",
            "Setting `pad_token_id` to `eos_token_id`:50256 for open-end generation.\n",
            "The attention mask and the pad token id were not set. As a consequence, you may observe unexpected behavior. Please pass your input's `attention_mask` to obtain reliable results.\n",
            "Setting `pad_token_id` to `eos_token_id`:50256 for open-end generation.\n",
            "The attention mask and the pad token id were not set. As a consequence, you may observe unexpected behavior. Please pass your input's `attention_mask` to obtain reliable results.\n",
            "Setting `pad_token_id` to `eos_token_id`:50256 for open-end generation.\n",
            "The attention mask and the pad token id were not set. As a consequence, you may observe unexpected behavior. Please pass your input's `attention_mask` to obtain reliable results.\n",
            "Setting `pad_token_id` to `eos_token_id`:50256 for open-end generation.\n",
            "The attention mask and the pad token id were not set. As a consequence, you may observe unexpected behavior. Please pass your input's `attention_mask` to obtain reliable results.\n",
            "Setting `pad_token_id` to `eos_token_id`:50256 for open-end generation.\n",
            "The attention mask and the pad token id were not set. As a consequence, you may observe unexpected behavior. Please pass your input's `attention_mask` to obtain reliable results.\n",
            "Setting `pad_token_id` to `eos_token_id`:50256 for open-end generation.\n",
            "The attention mask and the pad token id were not set. As a consequence, you may observe unexpected behavior. Please pass your input's `attention_mask` to obtain reliable results.\n",
            "Setting `pad_token_id` to `eos_token_id`:50256 for open-end generation.\n",
            "The attention mask and the pad token id were not set. As a consequence, you may observe unexpected behavior. Please pass your input's `attention_mask` to obtain reliable results.\n",
            "Setting `pad_token_id` to `eos_token_id`:50256 for open-end generation.\n",
            "The attention mask and the pad token id were not set. As a consequence, you may observe unexpected behavior. Please pass your input's `attention_mask` to obtain reliable results.\n",
            "Setting `pad_token_id` to `eos_token_id`:50256 for open-end generation.\n",
            "The attention mask and the pad token id were not set. As a consequence, you may observe unexpected behavior. Please pass your input's `attention_mask` to obtain reliable results.\n",
            "Setting `pad_token_id` to `eos_token_id`:50256 for open-end generation.\n",
            "The attention mask and the pad token id were not set. As a consequence, you may observe unexpected behavior. Please pass your input's `attention_mask` to obtain reliable results.\n",
            "Setting `pad_token_id` to `eos_token_id`:50256 for open-end generation.\n",
            "The attention mask and the pad token id were not set. As a consequence, you may observe unexpected behavior. Please pass your input's `attention_mask` to obtain reliable results.\n",
            "Setting `pad_token_id` to `eos_token_id`:50256 for open-end generation.\n",
            "The attention mask and the pad token id were not set. As a consequence, you may observe unexpected behavior. Please pass your input's `attention_mask` to obtain reliable results.\n",
            "Setting `pad_token_id` to `eos_token_id`:50256 for open-end generation.\n",
            "The attention mask and the pad token id were not set. As a consequence, you may observe unexpected behavior. Please pass your input's `attention_mask` to obtain reliable results.\n",
            "Setting `pad_token_id` to `eos_token_id`:50256 for open-end generation.\n",
            "The attention mask and the pad token id were not set. As a consequence, you may observe unexpected behavior. Please pass your input's `attention_mask` to obtain reliable results.\n",
            "Setting `pad_token_id` to `eos_token_id`:50256 for open-end generation.\n",
            "The attention mask and the pad token id were not set. As a consequence, you may observe unexpected behavior. Please pass your input's `attention_mask` to obtain reliable results.\n",
            "Setting `pad_token_id` to `eos_token_id`:50256 for open-end generation.\n",
            "The attention mask and the pad token id were not set. As a consequence, you may observe unexpected behavior. Please pass your input's `attention_mask` to obtain reliable results.\n",
            "Setting `pad_token_id` to `eos_token_id`:50256 for open-end generation.\n",
            "The attention mask and the pad token id were not set. As a consequence, you may observe unexpected behavior. Please pass your input's `attention_mask` to obtain reliable results.\n",
            "Setting `pad_token_id` to `eos_token_id`:50256 for open-end generation.\n",
            "The attention mask and the pad token id were not set. As a consequence, you may observe unexpected behavior. Please pass your input's `attention_mask` to obtain reliable results.\n",
            "Setting `pad_token_id` to `eos_token_id`:50256 for open-end generation.\n",
            "The attention mask and the pad token id were not set. As a consequence, you may observe unexpected behavior. Please pass your input's `attention_mask` to obtain reliable results.\n",
            "Setting `pad_token_id` to `eos_token_id`:50256 for open-end generation.\n",
            "The attention mask and the pad token id were not set. As a consequence, you may observe unexpected behavior. Please pass your input's `attention_mask` to obtain reliable results.\n",
            "Setting `pad_token_id` to `eos_token_id`:50256 for open-end generation.\n",
            "The attention mask and the pad token id were not set. As a consequence, you may observe unexpected behavior. Please pass your input's `attention_mask` to obtain reliable results.\n",
            "Setting `pad_token_id` to `eos_token_id`:50256 for open-end generation.\n",
            "The attention mask and the pad token id were not set. As a consequence, you may observe unexpected behavior. Please pass your input's `attention_mask` to obtain reliable results.\n",
            "Setting `pad_token_id` to `eos_token_id`:50256 for open-end generation.\n",
            "The attention mask and the pad token id were not set. As a consequence, you may observe unexpected behavior. Please pass your input's `attention_mask` to obtain reliable results.\n",
            "Setting `pad_token_id` to `eos_token_id`:50256 for open-end generation.\n",
            "The attention mask and the pad token id were not set. As a consequence, you may observe unexpected behavior. Please pass your input's `attention_mask` to obtain reliable results.\n",
            "Setting `pad_token_id` to `eos_token_id`:50256 for open-end generation.\n",
            "The attention mask and the pad token id were not set. As a consequence, you may observe unexpected behavior. Please pass your input's `attention_mask` to obtain reliable results.\n",
            "Setting `pad_token_id` to `eos_token_id`:50256 for open-end generation.\n",
            "The attention mask and the pad token id were not set. As a consequence, you may observe unexpected behavior. Please pass your input's `attention_mask` to obtain reliable results.\n",
            "Setting `pad_token_id` to `eos_token_id`:50256 for open-end generation.\n",
            "The attention mask and the pad token id were not set. As a consequence, you may observe unexpected behavior. Please pass your input's `attention_mask` to obtain reliable results.\n",
            "Setting `pad_token_id` to `eos_token_id`:50256 for open-end generation.\n",
            "The attention mask and the pad token id were not set. As a consequence, you may observe unexpected behavior. Please pass your input's `attention_mask` to obtain reliable results.\n",
            "Setting `pad_token_id` to `eos_token_id`:50256 for open-end generation.\n",
            "The attention mask and the pad token id were not set. As a consequence, you may observe unexpected behavior. Please pass your input's `attention_mask` to obtain reliable results.\n",
            "Setting `pad_token_id` to `eos_token_id`:50256 for open-end generation.\n",
            "The attention mask and the pad token id were not set. As a consequence, you may observe unexpected behavior. Please pass your input's `attention_mask` to obtain reliable results.\n",
            "Setting `pad_token_id` to `eos_token_id`:50256 for open-end generation.\n",
            "The attention mask and the pad token id were not set. As a consequence, you may observe unexpected behavior. Please pass your input's `attention_mask` to obtain reliable results.\n",
            "Setting `pad_token_id` to `eos_token_id`:50256 for open-end generation.\n",
            "The attention mask and the pad token id were not set. As a consequence, you may observe unexpected behavior. Please pass your input's `attention_mask` to obtain reliable results.\n",
            "Setting `pad_token_id` to `eos_token_id`:50256 for open-end generation.\n",
            "The attention mask and the pad token id were not set. As a consequence, you may observe unexpected behavior. Please pass your input's `attention_mask` to obtain reliable results.\n",
            "Setting `pad_token_id` to `eos_token_id`:50256 for open-end generation.\n",
            "The attention mask and the pad token id were not set. As a consequence, you may observe unexpected behavior. Please pass your input's `attention_mask` to obtain reliable results.\n",
            "Setting `pad_token_id` to `eos_token_id`:50256 for open-end generation.\n",
            "The attention mask and the pad token id were not set. As a consequence, you may observe unexpected behavior. Please pass your input's `attention_mask` to obtain reliable results.\n",
            "Setting `pad_token_id` to `eos_token_id`:50256 for open-end generation.\n",
            "The attention mask and the pad token id were not set. As a consequence, you may observe unexpected behavior. Please pass your input's `attention_mask` to obtain reliable results.\n",
            "Setting `pad_token_id` to `eos_token_id`:50256 for open-end generation.\n",
            "The attention mask and the pad token id were not set. As a consequence, you may observe unexpected behavior. Please pass your input's `attention_mask` to obtain reliable results.\n",
            "Setting `pad_token_id` to `eos_token_id`:50256 for open-end generation.\n",
            "The attention mask and the pad token id were not set. As a consequence, you may observe unexpected behavior. Please pass your input's `attention_mask` to obtain reliable results.\n",
            "Setting `pad_token_id` to `eos_token_id`:50256 for open-end generation.\n",
            "The attention mask and the pad token id were not set. As a consequence, you may observe unexpected behavior. Please pass your input's `attention_mask` to obtain reliable results.\n",
            "Setting `pad_token_id` to `eos_token_id`:50256 for open-end generation.\n",
            "The attention mask and the pad token id were not set. As a consequence, you may observe unexpected behavior. Please pass your input's `attention_mask` to obtain reliable results.\n",
            "Setting `pad_token_id` to `eos_token_id`:50256 for open-end generation.\n",
            "The attention mask and the pad token id were not set. As a consequence, you may observe unexpected behavior. Please pass your input's `attention_mask` to obtain reliable results.\n",
            "Setting `pad_token_id` to `eos_token_id`:50256 for open-end generation.\n",
            "The attention mask and the pad token id were not set. As a consequence, you may observe unexpected behavior. Please pass your input's `attention_mask` to obtain reliable results.\n",
            "Setting `pad_token_id` to `eos_token_id`:50256 for open-end generation.\n",
            "The attention mask and the pad token id were not set. As a consequence, you may observe unexpected behavior. Please pass your input's `attention_mask` to obtain reliable results.\n",
            "Setting `pad_token_id` to `eos_token_id`:50256 for open-end generation.\n",
            "The attention mask and the pad token id were not set. As a consequence, you may observe unexpected behavior. Please pass your input's `attention_mask` to obtain reliable results.\n",
            "Setting `pad_token_id` to `eos_token_id`:50256 for open-end generation.\n",
            "The attention mask and the pad token id were not set. As a consequence, you may observe unexpected behavior. Please pass your input's `attention_mask` to obtain reliable results.\n",
            "Setting `pad_token_id` to `eos_token_id`:50256 for open-end generation.\n",
            "The attention mask and the pad token id were not set. As a consequence, you may observe unexpected behavior. Please pass your input's `attention_mask` to obtain reliable results.\n",
            "Setting `pad_token_id` to `eos_token_id`:50256 for open-end generation.\n",
            "The attention mask and the pad token id were not set. As a consequence, you may observe unexpected behavior. Please pass your input's `attention_mask` to obtain reliable results.\n",
            "Setting `pad_token_id` to `eos_token_id`:50256 for open-end generation.\n",
            "The attention mask and the pad token id were not set. As a consequence, you may observe unexpected behavior. Please pass your input's `attention_mask` to obtain reliable results.\n",
            "Setting `pad_token_id` to `eos_token_id`:50256 for open-end generation.\n",
            "The attention mask and the pad token id were not set. As a consequence, you may observe unexpected behavior. Please pass your input's `attention_mask` to obtain reliable results.\n",
            "Setting `pad_token_id` to `eos_token_id`:50256 for open-end generation.\n",
            "The attention mask and the pad token id were not set. As a consequence, you may observe unexpected behavior. Please pass your input's `attention_mask` to obtain reliable results.\n",
            "Setting `pad_token_id` to `eos_token_id`:50256 for open-end generation.\n",
            "The attention mask and the pad token id were not set. As a consequence, you may observe unexpected behavior. Please pass your input's `attention_mask` to obtain reliable results.\n",
            "Setting `pad_token_id` to `eos_token_id`:50256 for open-end generation.\n"
          ]
        }
      ],
      "source": [
        "for cnt, post in enumerate(val_posts):\n",
        "  # print(post)\n",
        "  generated_sequences = validation_generate(post)\n",
        "\n",
        "  for sent in generated_sequences:\n",
        "    sent = sent.replace(post, '').replace('TL;DR', '')\n",
        "    val_dataset[cnt]['generated_text'] = sent\n",
        "    # print(sent)"
      ]
    },
    {
      "cell_type": "markdown",
      "metadata": {
        "id": "3A01sRTqQ9e0"
      },
      "source": [
        "**Calculating the Rouge score**"
      ]
    },
    {
      "cell_type": "code",
      "execution_count": null,
      "metadata": {
        "colab": {
          "background_save": true
        },
        "id": "osdZXWxjZc_y",
        "outputId": "bfdc2955-f954-48f7-afb6-162308d6eb17"
      },
      "outputs": [
        {
          "name": "stdout",
          "output_type": "stream",
          "text": [
            "Looking in indexes: https://pypi.org/simple, https://us-python.pkg.dev/colab-wheels/public/simple/\n",
            "Collecting Rouge\n",
            "  Downloading rouge-1.0.1-py3-none-any.whl (13 kB)\n",
            "Requirement already satisfied: six in /usr/local/lib/python3.9/dist-packages (from Rouge) (1.16.0)\n",
            "Installing collected packages: Rouge\n",
            "Successfully installed Rouge-1.0.1\n"
          ]
        }
      ],
      "source": [
        "!pip3 install Rouge"
      ]
    },
    {
      "cell_type": "code",
      "execution_count": null,
      "metadata": {
        "colab": {
          "background_save": true
        },
        "id": "n397c-OhZs2S",
        "outputId": "9f751ab0-5a43-42fe-c113-871b5af696bc"
      },
      "outputs": [
        {
          "name": "stdout",
          "output_type": "stream",
          "text": [
            "GENERATED COMMENTS: Hey IU....  The [IU Ski and Snowboard Club]([url link] is once again hosting our annual Rail Jam in Dunn Meadow. We're bring in real rails from Paoli Peaks, and real snow from the local ice rinks. We'll also have a DJ, redbull girls, and some other fun stuff going on. Come watch, come ride, join us! **Friday November 30th- 6pm to 9pm** Dunn Meadow- Right outside of the Indiana Memorial Union along 7th, Indiana Ave.  [MORE DETAILS HERE]([url link] All participants must wear a helmet and sign our waiver.  ----- The [IU Ski and Snowboard Club]([url link] in partnership with the Bloomington Alpine Club, and Paoli Peaks is premiering MSP's Superheros of Stoke on Sunday December 2nd. **Where:** Indiana Memorial Union-- Whittenberger Auditorium on the campus of Indiana University- Bloomington **When:** Doors open at 6PM **What:** We're premiering Superheros of Stoke along with Burtons 13. We will also be raffling off thousands of dollars in prizes including some goggles from Zeal Optics, lift passes, and a bunch of other items. [More Information Here]([url link] $5.00 for Adults $1.00 for Children and Students Free for club members    We're hosting our event tonight at 6pm. Anyone interested in joining up should register today and you'll be able to do a few things that you need to do. In terms of the schedule, your group schedule is basically unlimited. You should also know that you'll be traveling over 4 hours every day. On the weekends, you'll be out and about, then\n",
            "Reference COMMENTS: I would just like to say that last year when I lived in McNutt I ALWAYS saw chalk for your club. I'm talking damn near every day.  Whoever does your chalk over on the north side of campus is dedicated as fuck. Clap for em.  \n"
          ]
        }
      ],
      "source": [
        "generated_text = val_dataset[7]['generated_text']\n",
        "reference_summary = val_dataset[7]['reference_summary']\n",
        "print(\"GENERATED COMMENTS: {}\\nReference COMMENTS:{}\".format(generated_text, reference_summary))"
      ]
    },
    {
      "cell_type": "code",
      "execution_count": null,
      "metadata": {
        "colab": {
          "background_save": true
        },
        "id": "-t0MB2RFJfJ6",
        "outputId": "7f6bb84e-261d-4f4c-aaf9-eed391d71daa"
      },
      "outputs": [
        {
          "name": "stdout",
          "output_type": "stream",
          "text": [
            "Overall ROUGE-1 scores: {'recall': 0.23861745327412107, 'precision': 0.19516011082214188, 'fmeasure': 0.2024454224232171}\n",
            "Overall ROUGE-2 scores: {'recall': 0.03055041075566914, 'precision': 0.023554787240181726, 'fmeasure': 0.02475567201138144}\n",
            "Overall ROUGE-L scores: {'recall': 0.21174712406295948, 'precision': 0.1731741672691006, 'fmeasure': 0.17955877967978906}\n"
          ]
        }
      ],
      "source": [
        "from rouge import Rouge\n",
        "\n",
        "# create a Rouge object\n",
        "rouge = Rouge()\n",
        "\n",
        "# initialize scores for each variant of ROUGE\n",
        "scores_rouge1 = {'recall': 0, 'precision': 0, 'fmeasure': 0}\n",
        "scores_rouge2 = {'recall': 0, 'precision': 0, 'fmeasure': 0}\n",
        "scores_rougeL = {'recall': 0, 'precision': 0, 'fmeasure': 0}\n",
        "\n",
        "for idx in range(val_len):\n",
        "    generated_text = val_dataset[idx]['generated_text']\n",
        "    reference_summary = val_dataset[idx]['reference_summary']\n",
        "    \n",
        "    scores = rouge.get_scores(generated_text, reference_summary, avg=True)\n",
        "    \n",
        "    # compute ROUGE-1 scores\n",
        "    scores_rouge1['recall'] += scores['rouge-1']['r']\n",
        "    scores_rouge1['precision'] += scores['rouge-1']['p']\n",
        "    scores_rouge1['fmeasure'] += scores['rouge-1']['f']\n",
        "    \n",
        "    # compute ROUGE-2 scores\n",
        "    # scores = rouge.get_scores(generated_text, reference_summary, avg=True, rouge_n=(2, 2))\n",
        "    scores_rouge2['recall'] += scores['rouge-2']['r']\n",
        "    scores_rouge2['precision'] += scores['rouge-2']['p']\n",
        "    scores_rouge2['fmeasure'] += scores['rouge-2']['f']\n",
        "    \n",
        "    # compute ROUGE-L scores\n",
        "    # scores = rouge.get_scores(generated_text, reference_summary, avg=True, rouge_l=True)\n",
        "    scores_rougeL['recall'] += scores['rouge-l']['r']\n",
        "    scores_rougeL['precision'] += scores['rouge-l']['p']\n",
        "    scores_rougeL['fmeasure'] += scores['rouge-l']['f']\n",
        "\n",
        "# compute the average scores over all examples\n",
        "n_examples = val_len\n",
        "scores_rouge1 = {k: v/n_examples for k, v in scores_rouge1.items()}\n",
        "scores_rouge2 = {k: v/n_examples for k, v in scores_rouge2.items()}\n",
        "scores_rougeL = {k: v/n_examples for k, v in scores_rougeL.items()}\n",
        "\n",
        "# print the overall scores\n",
        "print(\"Overall ROUGE-1 scores:\", scores_rouge1)\n",
        "print(\"Overall ROUGE-2 scores:\", scores_rouge2)\n",
        "print(\"Overall ROUGE-L scores:\", scores_rougeL)"
      ]
    },
    {
      "cell_type": "markdown",
      "metadata": {
        "id": "obpME8ZwRA87"
      },
      "source": [
        "**Calculating the sentiment analysis accuracy**"
      ]
    },
    {
      "cell_type": "code",
      "execution_count": null,
      "metadata": {
        "colab": {
          "background_save": true
        },
        "id": "LY-WxVp5dKJe",
        "outputId": "b59a3c9f-d4e5-4a8f-d02d-ab6a3c7e16fb"
      },
      "outputs": [
        {
          "name": "stdout",
          "output_type": "stream",
          "text": [
            "Looking in indexes: https://pypi.org/simple, https://us-python.pkg.dev/colab-wheels/public/simple/\n",
            "Collecting vaderSentiment\n",
            "  Downloading vaderSentiment-3.3.2-py2.py3-none-any.whl (125 kB)\n",
            "\u001b[2K     \u001b[90m━━━━━━━━━━━━━━━━━━━━━━━━━━━━━━━━━━━━━━\u001b[0m \u001b[32m126.0/126.0 kB\u001b[0m \u001b[31m16.0 MB/s\u001b[0m eta \u001b[36m0:00:00\u001b[0m\n",
            "\u001b[?25hRequirement already satisfied: requests in /usr/local/lib/python3.9/dist-packages (from vaderSentiment) (2.27.1)\n",
            "Requirement already satisfied: urllib3<1.27,>=1.21.1 in /usr/local/lib/python3.9/dist-packages (from requests->vaderSentiment) (1.26.15)\n",
            "Requirement already satisfied: certifi>=2017.4.17 in /usr/local/lib/python3.9/dist-packages (from requests->vaderSentiment) (2022.12.7)\n",
            "Requirement already satisfied: idna<4,>=2.5 in /usr/local/lib/python3.9/dist-packages (from requests->vaderSentiment) (3.4)\n",
            "Requirement already satisfied: charset-normalizer~=2.0.0 in /usr/local/lib/python3.9/dist-packages (from requests->vaderSentiment) (2.0.12)\n",
            "Installing collected packages: vaderSentiment\n",
            "Successfully installed vaderSentiment-3.3.2\n"
          ]
        }
      ],
      "source": [
        "!pip3 install vaderSentiment"
      ]
    },
    {
      "cell_type": "code",
      "execution_count": null,
      "metadata": {
        "colab": {
          "background_save": true
        },
        "id": "k5m3ggemRAr_",
        "outputId": "be643571-38f8-4732-8e42-db3ad22370af"
      },
      "outputs": [
        {
          "name": "stderr",
          "output_type": "stream",
          "text": [
            "[nltk_data] Downloading package vader_lexicon to /root/nltk_data...\n"
          ]
        }
      ],
      "source": [
        "import nltk\n",
        "nltk.download('vader_lexicon')\n",
        "from nltk.sentiment.vader import SentimentIntensityAnalyzer"
      ]
    },
    {
      "cell_type": "code",
      "execution_count": null,
      "metadata": {
        "colab": {
          "background_save": true
        },
        "id": "nGBejzggfeOa"
      },
      "outputs": [],
      "source": [
        "def find_label(scores):\n",
        "  if scores['pos'] > scores['neg'] and scores['pos'] > scores['neu']:\n",
        "    dominant_label = 'positive'\n",
        "  elif scores['neg'] > scores['pos'] and scores['neg'] > scores['neu']:\n",
        "    dominant_label = 'negative'\n",
        "  else:\n",
        "    dominant_label = 'neutral'\n",
        "  \n",
        "  return dominant_label"
      ]
    },
    {
      "cell_type": "code",
      "execution_count": null,
      "metadata": {
        "colab": {
          "background_save": true
        },
        "id": "l7mCSb-qRjdX",
        "outputId": "4ea2988f-0c20-4d16-f6a2-2eb26eb28a99"
      },
      "outputs": [
        {
          "name": "stdout",
          "output_type": "stream",
          "text": [
            "The number of generated comments that have aligned sentiments: 327\n",
            "The number of posts in the validation set: 329\n",
            "The accuracy of sentiments of the generated comments: 0.993920972644377\n"
          ]
        }
      ],
      "source": [
        "acc = 0\n",
        "sid = SentimentIntensityAnalyzer()\n",
        "for idx in range(val_len):\n",
        "  # print(val_dataset[idx]['reference_summary'])\n",
        "  # print(type(val_dataset[idx]['reference_summary']))\n",
        "  sent_gt = sid.polarity_scores(val_dataset[idx]['reference_summary'])\n",
        "  sent_generated_comment = sid.polarity_scores(val_dataset[idx]['generated_text'])\n",
        "\n",
        "  gt_label = find_label(sent_gt)\n",
        "  generated_comment_label = find_label(sent_generated_comment)\n",
        "\n",
        "  if gt_label == generated_comment_label:\n",
        "    acc += 1\n",
        "\n",
        "  # print(\"Reference comments: {}\".format(val_dataset[idx]['reference_summary']))\n",
        "  # print(sent_gt)\n",
        "  # print(gt_label)\n",
        "  # print(\"Generated comments: {}\".format(val_dataset[idx]['generated_text']))\n",
        "  # print(sent_generated_comment)\n",
        "  # print(generated_comment_label)\n",
        "  # if idx == 15:\n",
        "  #   break\n",
        "\n",
        "print(\"The number of generated comments that have aligned sentiments: {}\".format(acc))\n",
        "print(\"The number of posts in the validation set: {}\".format(val_len))\n",
        "print(\"The accuracy of sentiments of the generated comments: {}\".format(acc / val_len))"
      ]
    },
    {
      "cell_type": "markdown",
      "metadata": {
        "id": "Owzd6CLJh6Cm"
      },
      "source": [
        "**Readability validation test**\n",
        "\n",
        "Automated readability index"
      ]
    },
    {
      "cell_type": "code",
      "execution_count": null,
      "metadata": {
        "colab": {
          "background_save": true
        },
        "id": "A646PRGc5b6T",
        "outputId": "082ae93e-78fd-422f-ff8f-89db41ecaf28"
      },
      "outputs": [
        {
          "name": "stdout",
          "output_type": "stream",
          "text": [
            "Looking in indexes: https://pypi.org/simple, https://us-python.pkg.dev/colab-wheels/public/simple/\n",
            "Collecting textstat\n",
            "  Downloading textstat-0.7.3-py3-none-any.whl (105 kB)\n",
            "\u001b[2K     \u001b[90m━━━━━━━━━━━━━━━━━━━━━━━━━━━━━━━━━━━━━━\u001b[0m \u001b[32m105.1/105.1 kB\u001b[0m \u001b[31m11.8 MB/s\u001b[0m eta \u001b[36m0:00:00\u001b[0m\n",
            "\u001b[?25hCollecting pyphen\n",
            "  Downloading pyphen-0.14.0-py3-none-any.whl (2.0 MB)\n",
            "\u001b[2K     \u001b[90m━━━━━━━━━━━━━━━━━━━━━━━━━━━━━━━━━━━━━━━━\u001b[0m \u001b[32m2.0/2.0 MB\u001b[0m \u001b[31m85.3 MB/s\u001b[0m eta \u001b[36m0:00:00\u001b[0m\n",
            "\u001b[?25hInstalling collected packages: pyphen, textstat\n",
            "Successfully installed pyphen-0.14.0 textstat-0.7.3\n"
          ]
        }
      ],
      "source": [
        "!pip3 install textstat"
      ]
    },
    {
      "cell_type": "markdown",
      "metadata": {
        "id": "W42heXyg50gj"
      },
      "source": [
        "Flesch-Kincaid Grade Level: The Flesch-Kincaid Grade Level measures the approximate grade level of a text, based on its sentence length and average number of syllables per word."
      ]
    },
    {
      "cell_type": "code",
      "execution_count": null,
      "metadata": {
        "colab": {
          "background_save": true
        },
        "id": "XvCwJ4LJ5TzY"
      },
      "outputs": [],
      "source": [
        "import textstat"
      ]
    },
    {
      "cell_type": "code",
      "execution_count": null,
      "metadata": {
        "colab": {
          "background_save": true
        },
        "id": "Xn7FRNx655RI",
        "outputId": "b2cea461-352a-447a-b6aa-074dc345d85c"
      },
      "outputs": [
        {
          "name": "stdout",
          "output_type": "stream",
          "text": [
            "Flesch-Kincaid Grade Level: 5.839209726443766\n"
          ]
        }
      ],
      "source": [
        "grade_level = 0.0\n",
        "for idx in range(val_len):\n",
        "  sc = textstat.flesch_kincaid_grade(val_dataset[idx]['generated_text'])\n",
        "  # print(sc)\n",
        "  grade_level += sc\n",
        "\n",
        "grade_level /= val_len\n",
        "print(\"Flesch-Kincaid Grade Level:\", grade_level)"
      ]
    },
    {
      "cell_type": "markdown",
      "metadata": {
        "id": "_XLC1hSI6JFE"
      },
      "source": [
        "Gunning Fog Index: The Gunning Fog Index measures the approximate years of education needed to understand a text, based on its sentence length and percentage of complex words."
      ]
    },
    {
      "cell_type": "code",
      "execution_count": null,
      "metadata": {
        "colab": {
          "background_save": true
        },
        "id": "5hCglf-J5qJ9",
        "outputId": "f72a6930-200a-49a5-aa4c-35b2fe759785"
      },
      "outputs": [
        {
          "name": "stdout",
          "output_type": "stream",
          "text": [
            "Gunning Fog Index: 7.946686930091191\n"
          ]
        }
      ],
      "source": [
        "fog_index = 0.0\n",
        "for idx in range(val_len):\n",
        "  sc = textstat.gunning_fog(val_dataset[idx]['generated_text'])\n",
        "  # print(sc)\n",
        "  fog_index += sc\n",
        "\n",
        "fog_index /= val_len\n",
        "print(\"Gunning Fog Index:\", fog_index)"
      ]
    },
    {
      "cell_type": "markdown",
      "metadata": {
        "id": "cXEXeUlT6QkK"
      },
      "source": [
        "Automated Readability Index (ARI): The Automated Readability Index measures the approximate grade level of a text, based on its average number of characters per word and average number of words per sentence.\n",
        "\n"
      ]
    },
    {
      "cell_type": "code",
      "execution_count": null,
      "metadata": {
        "colab": {
          "background_save": true
        },
        "id": "_Ucf-qw86UG0",
        "outputId": "bea6731d-dfa5-471e-bb74-4c8726044e75"
      },
      "outputs": [
        {
          "name": "stdout",
          "output_type": "stream",
          "text": [
            "Automated Readability Index: 6.345896656534955\n"
          ]
        }
      ],
      "source": [
        "ari = 0.0\n",
        "for idx in range(val_len):\n",
        "  sc = textstat.automated_readability_index(val_dataset[idx]['generated_text'])\n",
        "  # print(sc)\n",
        "  ari += sc\n",
        "\n",
        "ari /= val_len\n",
        "print(\"Automated Readability Index:\", ari)"
      ]
    }
  ],
  "metadata": {
    "accelerator": "GPU",
    "colab": {
      "provenance": []
    },
    "gpuClass": "premium",
    "kernelspec": {
      "display_name": "Python 3",
      "name": "python3"
    },
    "language_info": {
      "name": "python"
    },
    "widgets": {
      "application/vnd.jupyter.widget-state+json": {
        "0afd8ae929f2450795b2641c8cffedd8": {
          "model_module": "@jupyter-widgets/controls",
          "model_module_version": "1.5.0",
          "model_name": "FloatProgressModel",
          "state": {
            "_dom_classes": [],
            "_model_module": "@jupyter-widgets/controls",
            "_model_module_version": "1.5.0",
            "_model_name": "FloatProgressModel",
            "_view_count": null,
            "_view_module": "@jupyter-widgets/controls",
            "_view_module_version": "1.5.0",
            "_view_name": "ProgressView",
            "bar_style": "success",
            "description": "",
            "description_tooltip": null,
            "layout": "IPY_MODEL_593b91710bf94cceb5ffc8c5a4d1b649",
            "max": 456318,
            "min": 0,
            "orientation": "horizontal",
            "style": "IPY_MODEL_11f84ac677c44edb97faa431bcaffcfc",
            "value": 456318
          }
        },
        "0d8241b6d5554fbf9d751c087837e83c": {
          "model_module": "@jupyter-widgets/base",
          "model_module_version": "1.2.0",
          "model_name": "LayoutModel",
          "state": {
            "_model_module": "@jupyter-widgets/base",
            "_model_module_version": "1.2.0",
            "_model_name": "LayoutModel",
            "_view_count": null,
            "_view_module": "@jupyter-widgets/base",
            "_view_module_version": "1.2.0",
            "_view_name": "LayoutView",
            "align_content": null,
            "align_items": null,
            "align_self": null,
            "border": null,
            "bottom": null,
            "display": null,
            "flex": null,
            "flex_flow": null,
            "grid_area": null,
            "grid_auto_columns": null,
            "grid_auto_flow": null,
            "grid_auto_rows": null,
            "grid_column": null,
            "grid_gap": null,
            "grid_row": null,
            "grid_template_areas": null,
            "grid_template_columns": null,
            "grid_template_rows": null,
            "height": null,
            "justify_content": null,
            "justify_items": null,
            "left": null,
            "margin": null,
            "max_height": null,
            "max_width": null,
            "min_height": null,
            "min_width": null,
            "object_fit": null,
            "object_position": null,
            "order": null,
            "overflow": null,
            "overflow_x": null,
            "overflow_y": null,
            "padding": null,
            "right": null,
            "top": null,
            "visibility": null,
            "width": null
          }
        },
        "11f84ac677c44edb97faa431bcaffcfc": {
          "model_module": "@jupyter-widgets/controls",
          "model_module_version": "1.5.0",
          "model_name": "ProgressStyleModel",
          "state": {
            "_model_module": "@jupyter-widgets/controls",
            "_model_module_version": "1.5.0",
            "_model_name": "ProgressStyleModel",
            "_view_count": null,
            "_view_module": "@jupyter-widgets/base",
            "_view_module_version": "1.2.0",
            "_view_name": "StyleView",
            "bar_color": null,
            "description_width": ""
          }
        },
        "14e152b169524e4985a62017fcaa31e7": {
          "model_module": "@jupyter-widgets/controls",
          "model_module_version": "1.5.0",
          "model_name": "DescriptionStyleModel",
          "state": {
            "_model_module": "@jupyter-widgets/controls",
            "_model_module_version": "1.5.0",
            "_model_name": "DescriptionStyleModel",
            "_view_count": null,
            "_view_module": "@jupyter-widgets/base",
            "_view_module_version": "1.2.0",
            "_view_name": "StyleView",
            "description_width": ""
          }
        },
        "28de31df3df54b22bfa94b068886ae93": {
          "model_module": "@jupyter-widgets/base",
          "model_module_version": "1.2.0",
          "model_name": "LayoutModel",
          "state": {
            "_model_module": "@jupyter-widgets/base",
            "_model_module_version": "1.2.0",
            "_model_name": "LayoutModel",
            "_view_count": null,
            "_view_module": "@jupyter-widgets/base",
            "_view_module_version": "1.2.0",
            "_view_name": "LayoutView",
            "align_content": null,
            "align_items": null,
            "align_self": null,
            "border": null,
            "bottom": null,
            "display": null,
            "flex": null,
            "flex_flow": null,
            "grid_area": null,
            "grid_auto_columns": null,
            "grid_auto_flow": null,
            "grid_auto_rows": null,
            "grid_column": null,
            "grid_gap": null,
            "grid_row": null,
            "grid_template_areas": null,
            "grid_template_columns": null,
            "grid_template_rows": null,
            "height": null,
            "justify_content": null,
            "justify_items": null,
            "left": null,
            "margin": null,
            "max_height": null,
            "max_width": null,
            "min_height": null,
            "min_width": null,
            "object_fit": null,
            "object_position": null,
            "order": null,
            "overflow": null,
            "overflow_x": null,
            "overflow_y": null,
            "padding": null,
            "right": null,
            "top": null,
            "visibility": null,
            "width": null
          }
        },
        "2b362aba2b8547c68738a84045b093a0": {
          "model_module": "@jupyter-widgets/base",
          "model_module_version": "1.2.0",
          "model_name": "LayoutModel",
          "state": {
            "_model_module": "@jupyter-widgets/base",
            "_model_module_version": "1.2.0",
            "_model_name": "LayoutModel",
            "_view_count": null,
            "_view_module": "@jupyter-widgets/base",
            "_view_module_version": "1.2.0",
            "_view_name": "LayoutView",
            "align_content": null,
            "align_items": null,
            "align_self": null,
            "border": null,
            "bottom": null,
            "display": null,
            "flex": null,
            "flex_flow": null,
            "grid_area": null,
            "grid_auto_columns": null,
            "grid_auto_flow": null,
            "grid_auto_rows": null,
            "grid_column": null,
            "grid_gap": null,
            "grid_row": null,
            "grid_template_areas": null,
            "grid_template_columns": null,
            "grid_template_rows": null,
            "height": null,
            "justify_content": null,
            "justify_items": null,
            "left": null,
            "margin": null,
            "max_height": null,
            "max_width": null,
            "min_height": null,
            "min_width": null,
            "object_fit": null,
            "object_position": null,
            "order": null,
            "overflow": null,
            "overflow_x": null,
            "overflow_y": null,
            "padding": null,
            "right": null,
            "top": null,
            "visibility": null,
            "width": null
          }
        },
        "2f8752b4aae44d0fa8a27355bfff5a5b": {
          "model_module": "@jupyter-widgets/controls",
          "model_module_version": "1.5.0",
          "model_name": "HBoxModel",
          "state": {
            "_dom_classes": [],
            "_model_module": "@jupyter-widgets/controls",
            "_model_module_version": "1.5.0",
            "_model_name": "HBoxModel",
            "_view_count": null,
            "_view_module": "@jupyter-widgets/controls",
            "_view_module_version": "1.5.0",
            "_view_name": "HBoxView",
            "box_style": "",
            "children": [
              "IPY_MODEL_5f98ee8eebc641cb84372d5032db0e52",
              "IPY_MODEL_e2e692313b0d48fe9c658a19f2b9609e",
              "IPY_MODEL_5e29d401f72c45eaa9606c204b0ab77c"
            ],
            "layout": "IPY_MODEL_0d8241b6d5554fbf9d751c087837e83c"
          }
        },
        "476d6ea28fe247b39e52ffc4bbbe4019": {
          "model_module": "@jupyter-widgets/controls",
          "model_module_version": "1.5.0",
          "model_name": "HBoxModel",
          "state": {
            "_dom_classes": [],
            "_model_module": "@jupyter-widgets/controls",
            "_model_module_version": "1.5.0",
            "_model_name": "HBoxModel",
            "_view_count": null,
            "_view_module": "@jupyter-widgets/controls",
            "_view_module_version": "1.5.0",
            "_view_name": "HBoxView",
            "box_style": "",
            "children": [
              "IPY_MODEL_a4572fa7be96471899db0ca701ff9403",
              "IPY_MODEL_0afd8ae929f2450795b2641c8cffedd8",
              "IPY_MODEL_f507a2e64be744289efbad84704844b9"
            ],
            "layout": "IPY_MODEL_d1ef62ba871f4868ac47f25c1f290d1b"
          }
        },
        "4e61e205171f4414891fb21e97b57a8f": {
          "model_module": "@jupyter-widgets/base",
          "model_module_version": "1.2.0",
          "model_name": "LayoutModel",
          "state": {
            "_model_module": "@jupyter-widgets/base",
            "_model_module_version": "1.2.0",
            "_model_name": "LayoutModel",
            "_view_count": null,
            "_view_module": "@jupyter-widgets/base",
            "_view_module_version": "1.2.0",
            "_view_name": "LayoutView",
            "align_content": null,
            "align_items": null,
            "align_self": null,
            "border": null,
            "bottom": null,
            "display": null,
            "flex": null,
            "flex_flow": null,
            "grid_area": null,
            "grid_auto_columns": null,
            "grid_auto_flow": null,
            "grid_auto_rows": null,
            "grid_column": null,
            "grid_gap": null,
            "grid_row": null,
            "grid_template_areas": null,
            "grid_template_columns": null,
            "grid_template_rows": null,
            "height": null,
            "justify_content": null,
            "justify_items": null,
            "left": null,
            "margin": null,
            "max_height": null,
            "max_width": null,
            "min_height": null,
            "min_width": null,
            "object_fit": null,
            "object_position": null,
            "order": null,
            "overflow": null,
            "overflow_x": null,
            "overflow_y": null,
            "padding": null,
            "right": null,
            "top": null,
            "visibility": null,
            "width": null
          }
        },
        "57b5654ce65c4c4d94479c0b75971d03": {
          "model_module": "@jupyter-widgets/controls",
          "model_module_version": "1.5.0",
          "model_name": "DescriptionStyleModel",
          "state": {
            "_model_module": "@jupyter-widgets/controls",
            "_model_module_version": "1.5.0",
            "_model_name": "DescriptionStyleModel",
            "_view_count": null,
            "_view_module": "@jupyter-widgets/base",
            "_view_module_version": "1.2.0",
            "_view_name": "StyleView",
            "description_width": ""
          }
        },
        "593b91710bf94cceb5ffc8c5a4d1b649": {
          "model_module": "@jupyter-widgets/base",
          "model_module_version": "1.2.0",
          "model_name": "LayoutModel",
          "state": {
            "_model_module": "@jupyter-widgets/base",
            "_model_module_version": "1.2.0",
            "_model_name": "LayoutModel",
            "_view_count": null,
            "_view_module": "@jupyter-widgets/base",
            "_view_module_version": "1.2.0",
            "_view_name": "LayoutView",
            "align_content": null,
            "align_items": null,
            "align_self": null,
            "border": null,
            "bottom": null,
            "display": null,
            "flex": null,
            "flex_flow": null,
            "grid_area": null,
            "grid_auto_columns": null,
            "grid_auto_flow": null,
            "grid_auto_rows": null,
            "grid_column": null,
            "grid_gap": null,
            "grid_row": null,
            "grid_template_areas": null,
            "grid_template_columns": null,
            "grid_template_rows": null,
            "height": null,
            "justify_content": null,
            "justify_items": null,
            "left": null,
            "margin": null,
            "max_height": null,
            "max_width": null,
            "min_height": null,
            "min_width": null,
            "object_fit": null,
            "object_position": null,
            "order": null,
            "overflow": null,
            "overflow_x": null,
            "overflow_y": null,
            "padding": null,
            "right": null,
            "top": null,
            "visibility": null,
            "width": null
          }
        },
        "5e29d401f72c45eaa9606c204b0ab77c": {
          "model_module": "@jupyter-widgets/controls",
          "model_module_version": "1.5.0",
          "model_name": "HTMLModel",
          "state": {
            "_dom_classes": [],
            "_model_module": "@jupyter-widgets/controls",
            "_model_module_version": "1.5.0",
            "_model_name": "HTMLModel",
            "_view_count": null,
            "_view_module": "@jupyter-widgets/controls",
            "_view_module_version": "1.5.0",
            "_view_name": "HTMLView",
            "description": "",
            "description_tooltip": null,
            "layout": "IPY_MODEL_dd1bb3b4909d439c8e27543c2a906f0e",
            "placeholder": "​",
            "style": "IPY_MODEL_baee8435fe65401390018eac0be7f84d",
            "value": " 665/665 [00:00&lt;00:00, 13.7kB/s]"
          }
        },
        "5f98ee8eebc641cb84372d5032db0e52": {
          "model_module": "@jupyter-widgets/controls",
          "model_module_version": "1.5.0",
          "model_name": "HTMLModel",
          "state": {
            "_dom_classes": [],
            "_model_module": "@jupyter-widgets/controls",
            "_model_module_version": "1.5.0",
            "_model_name": "HTMLModel",
            "_view_count": null,
            "_view_module": "@jupyter-widgets/controls",
            "_view_module_version": "1.5.0",
            "_view_name": "HTMLView",
            "description": "",
            "description_tooltip": null,
            "layout": "IPY_MODEL_2b362aba2b8547c68738a84045b093a0",
            "placeholder": "​",
            "style": "IPY_MODEL_e79a0c7cdd2344cd9a492cd625153c60",
            "value": "Downloading (…)lve/main/config.json: 100%"
          }
        },
        "64686f45e16148dd9350b9de661040e5": {
          "model_module": "@jupyter-widgets/base",
          "model_module_version": "1.2.0",
          "model_name": "LayoutModel",
          "state": {
            "_model_module": "@jupyter-widgets/base",
            "_model_module_version": "1.2.0",
            "_model_name": "LayoutModel",
            "_view_count": null,
            "_view_module": "@jupyter-widgets/base",
            "_view_module_version": "1.2.0",
            "_view_name": "LayoutView",
            "align_content": null,
            "align_items": null,
            "align_self": null,
            "border": null,
            "bottom": null,
            "display": null,
            "flex": null,
            "flex_flow": null,
            "grid_area": null,
            "grid_auto_columns": null,
            "grid_auto_flow": null,
            "grid_auto_rows": null,
            "grid_column": null,
            "grid_gap": null,
            "grid_row": null,
            "grid_template_areas": null,
            "grid_template_columns": null,
            "grid_template_rows": null,
            "height": null,
            "justify_content": null,
            "justify_items": null,
            "left": null,
            "margin": null,
            "max_height": null,
            "max_width": null,
            "min_height": null,
            "min_width": null,
            "object_fit": null,
            "object_position": null,
            "order": null,
            "overflow": null,
            "overflow_x": null,
            "overflow_y": null,
            "padding": null,
            "right": null,
            "top": null,
            "visibility": null,
            "width": null
          }
        },
        "6ebcb44b4a584177aad12a80b3eba9fc": {
          "model_module": "@jupyter-widgets/controls",
          "model_module_version": "1.5.0",
          "model_name": "HBoxModel",
          "state": {
            "_dom_classes": [],
            "_model_module": "@jupyter-widgets/controls",
            "_model_module_version": "1.5.0",
            "_model_name": "HBoxModel",
            "_view_count": null,
            "_view_module": "@jupyter-widgets/controls",
            "_view_module_version": "1.5.0",
            "_view_name": "HBoxView",
            "box_style": "",
            "children": [
              "IPY_MODEL_8aa9ed2f61f84195a12124daefa558bb",
              "IPY_MODEL_92907ded8c8e45f1adb823eeac4dbf16",
              "IPY_MODEL_d8260586da464973a5b50a48403c269a"
            ],
            "layout": "IPY_MODEL_ce438dadf6514fca8b68afc963786edc"
          }
        },
        "8aa9ed2f61f84195a12124daefa558bb": {
          "model_module": "@jupyter-widgets/controls",
          "model_module_version": "1.5.0",
          "model_name": "HTMLModel",
          "state": {
            "_dom_classes": [],
            "_model_module": "@jupyter-widgets/controls",
            "_model_module_version": "1.5.0",
            "_model_name": "HTMLModel",
            "_view_count": null,
            "_view_module": "@jupyter-widgets/controls",
            "_view_module_version": "1.5.0",
            "_view_name": "HTMLView",
            "description": "",
            "description_tooltip": null,
            "layout": "IPY_MODEL_8ec7973212794eb4946c3b3b44e79f01",
            "placeholder": "​",
            "style": "IPY_MODEL_57b5654ce65c4c4d94479c0b75971d03",
            "value": "Downloading (…)olve/main/vocab.json: 100%"
          }
        },
        "8ec7973212794eb4946c3b3b44e79f01": {
          "model_module": "@jupyter-widgets/base",
          "model_module_version": "1.2.0",
          "model_name": "LayoutModel",
          "state": {
            "_model_module": "@jupyter-widgets/base",
            "_model_module_version": "1.2.0",
            "_model_name": "LayoutModel",
            "_view_count": null,
            "_view_module": "@jupyter-widgets/base",
            "_view_module_version": "1.2.0",
            "_view_name": "LayoutView",
            "align_content": null,
            "align_items": null,
            "align_self": null,
            "border": null,
            "bottom": null,
            "display": null,
            "flex": null,
            "flex_flow": null,
            "grid_area": null,
            "grid_auto_columns": null,
            "grid_auto_flow": null,
            "grid_auto_rows": null,
            "grid_column": null,
            "grid_gap": null,
            "grid_row": null,
            "grid_template_areas": null,
            "grid_template_columns": null,
            "grid_template_rows": null,
            "height": null,
            "justify_content": null,
            "justify_items": null,
            "left": null,
            "margin": null,
            "max_height": null,
            "max_width": null,
            "min_height": null,
            "min_width": null,
            "object_fit": null,
            "object_position": null,
            "order": null,
            "overflow": null,
            "overflow_x": null,
            "overflow_y": null,
            "padding": null,
            "right": null,
            "top": null,
            "visibility": null,
            "width": null
          }
        },
        "92907ded8c8e45f1adb823eeac4dbf16": {
          "model_module": "@jupyter-widgets/controls",
          "model_module_version": "1.5.0",
          "model_name": "FloatProgressModel",
          "state": {
            "_dom_classes": [],
            "_model_module": "@jupyter-widgets/controls",
            "_model_module_version": "1.5.0",
            "_model_name": "FloatProgressModel",
            "_view_count": null,
            "_view_module": "@jupyter-widgets/controls",
            "_view_module_version": "1.5.0",
            "_view_name": "ProgressView",
            "bar_style": "success",
            "description": "",
            "description_tooltip": null,
            "layout": "IPY_MODEL_9462504ecf3544f6a5b50f9f7ddb8dd4",
            "max": 1042301,
            "min": 0,
            "orientation": "horizontal",
            "style": "IPY_MODEL_ff5010ea94e0440a81fc5728a31c9920",
            "value": 1042301
          }
        },
        "9462504ecf3544f6a5b50f9f7ddb8dd4": {
          "model_module": "@jupyter-widgets/base",
          "model_module_version": "1.2.0",
          "model_name": "LayoutModel",
          "state": {
            "_model_module": "@jupyter-widgets/base",
            "_model_module_version": "1.2.0",
            "_model_name": "LayoutModel",
            "_view_count": null,
            "_view_module": "@jupyter-widgets/base",
            "_view_module_version": "1.2.0",
            "_view_name": "LayoutView",
            "align_content": null,
            "align_items": null,
            "align_self": null,
            "border": null,
            "bottom": null,
            "display": null,
            "flex": null,
            "flex_flow": null,
            "grid_area": null,
            "grid_auto_columns": null,
            "grid_auto_flow": null,
            "grid_auto_rows": null,
            "grid_column": null,
            "grid_gap": null,
            "grid_row": null,
            "grid_template_areas": null,
            "grid_template_columns": null,
            "grid_template_rows": null,
            "height": null,
            "justify_content": null,
            "justify_items": null,
            "left": null,
            "margin": null,
            "max_height": null,
            "max_width": null,
            "min_height": null,
            "min_width": null,
            "object_fit": null,
            "object_position": null,
            "order": null,
            "overflow": null,
            "overflow_x": null,
            "overflow_y": null,
            "padding": null,
            "right": null,
            "top": null,
            "visibility": null,
            "width": null
          }
        },
        "99e2161f99f343aaa4cfb6b4e4e3b17f": {
          "model_module": "@jupyter-widgets/controls",
          "model_module_version": "1.5.0",
          "model_name": "ProgressStyleModel",
          "state": {
            "_model_module": "@jupyter-widgets/controls",
            "_model_module_version": "1.5.0",
            "_model_name": "ProgressStyleModel",
            "_view_count": null,
            "_view_module": "@jupyter-widgets/base",
            "_view_module_version": "1.2.0",
            "_view_name": "StyleView",
            "bar_color": null,
            "description_width": ""
          }
        },
        "a4572fa7be96471899db0ca701ff9403": {
          "model_module": "@jupyter-widgets/controls",
          "model_module_version": "1.5.0",
          "model_name": "HTMLModel",
          "state": {
            "_dom_classes": [],
            "_model_module": "@jupyter-widgets/controls",
            "_model_module_version": "1.5.0",
            "_model_name": "HTMLModel",
            "_view_count": null,
            "_view_module": "@jupyter-widgets/controls",
            "_view_module_version": "1.5.0",
            "_view_name": "HTMLView",
            "description": "",
            "description_tooltip": null,
            "layout": "IPY_MODEL_b31a8ec5c9754a40a8ee38a9ad541756",
            "placeholder": "​",
            "style": "IPY_MODEL_e3f80d790e254ff188e3027ed12f8099",
            "value": "Downloading (…)olve/main/merges.txt: 100%"
          }
        },
        "b31a8ec5c9754a40a8ee38a9ad541756": {
          "model_module": "@jupyter-widgets/base",
          "model_module_version": "1.2.0",
          "model_name": "LayoutModel",
          "state": {
            "_model_module": "@jupyter-widgets/base",
            "_model_module_version": "1.2.0",
            "_model_name": "LayoutModel",
            "_view_count": null,
            "_view_module": "@jupyter-widgets/base",
            "_view_module_version": "1.2.0",
            "_view_name": "LayoutView",
            "align_content": null,
            "align_items": null,
            "align_self": null,
            "border": null,
            "bottom": null,
            "display": null,
            "flex": null,
            "flex_flow": null,
            "grid_area": null,
            "grid_auto_columns": null,
            "grid_auto_flow": null,
            "grid_auto_rows": null,
            "grid_column": null,
            "grid_gap": null,
            "grid_row": null,
            "grid_template_areas": null,
            "grid_template_columns": null,
            "grid_template_rows": null,
            "height": null,
            "justify_content": null,
            "justify_items": null,
            "left": null,
            "margin": null,
            "max_height": null,
            "max_width": null,
            "min_height": null,
            "min_width": null,
            "object_fit": null,
            "object_position": null,
            "order": null,
            "overflow": null,
            "overflow_x": null,
            "overflow_y": null,
            "padding": null,
            "right": null,
            "top": null,
            "visibility": null,
            "width": null
          }
        },
        "baee8435fe65401390018eac0be7f84d": {
          "model_module": "@jupyter-widgets/controls",
          "model_module_version": "1.5.0",
          "model_name": "DescriptionStyleModel",
          "state": {
            "_model_module": "@jupyter-widgets/controls",
            "_model_module_version": "1.5.0",
            "_model_name": "DescriptionStyleModel",
            "_view_count": null,
            "_view_module": "@jupyter-widgets/base",
            "_view_module_version": "1.2.0",
            "_view_name": "StyleView",
            "description_width": ""
          }
        },
        "cc22c670211c4b469f412cc4c5a446a2": {
          "model_module": "@jupyter-widgets/controls",
          "model_module_version": "1.5.0",
          "model_name": "DescriptionStyleModel",
          "state": {
            "_model_module": "@jupyter-widgets/controls",
            "_model_module_version": "1.5.0",
            "_model_name": "DescriptionStyleModel",
            "_view_count": null,
            "_view_module": "@jupyter-widgets/base",
            "_view_module_version": "1.2.0",
            "_view_name": "StyleView",
            "description_width": ""
          }
        },
        "ce438dadf6514fca8b68afc963786edc": {
          "model_module": "@jupyter-widgets/base",
          "model_module_version": "1.2.0",
          "model_name": "LayoutModel",
          "state": {
            "_model_module": "@jupyter-widgets/base",
            "_model_module_version": "1.2.0",
            "_model_name": "LayoutModel",
            "_view_count": null,
            "_view_module": "@jupyter-widgets/base",
            "_view_module_version": "1.2.0",
            "_view_name": "LayoutView",
            "align_content": null,
            "align_items": null,
            "align_self": null,
            "border": null,
            "bottom": null,
            "display": null,
            "flex": null,
            "flex_flow": null,
            "grid_area": null,
            "grid_auto_columns": null,
            "grid_auto_flow": null,
            "grid_auto_rows": null,
            "grid_column": null,
            "grid_gap": null,
            "grid_row": null,
            "grid_template_areas": null,
            "grid_template_columns": null,
            "grid_template_rows": null,
            "height": null,
            "justify_content": null,
            "justify_items": null,
            "left": null,
            "margin": null,
            "max_height": null,
            "max_width": null,
            "min_height": null,
            "min_width": null,
            "object_fit": null,
            "object_position": null,
            "order": null,
            "overflow": null,
            "overflow_x": null,
            "overflow_y": null,
            "padding": null,
            "right": null,
            "top": null,
            "visibility": null,
            "width": null
          }
        },
        "d1ef62ba871f4868ac47f25c1f290d1b": {
          "model_module": "@jupyter-widgets/base",
          "model_module_version": "1.2.0",
          "model_name": "LayoutModel",
          "state": {
            "_model_module": "@jupyter-widgets/base",
            "_model_module_version": "1.2.0",
            "_model_name": "LayoutModel",
            "_view_count": null,
            "_view_module": "@jupyter-widgets/base",
            "_view_module_version": "1.2.0",
            "_view_name": "LayoutView",
            "align_content": null,
            "align_items": null,
            "align_self": null,
            "border": null,
            "bottom": null,
            "display": null,
            "flex": null,
            "flex_flow": null,
            "grid_area": null,
            "grid_auto_columns": null,
            "grid_auto_flow": null,
            "grid_auto_rows": null,
            "grid_column": null,
            "grid_gap": null,
            "grid_row": null,
            "grid_template_areas": null,
            "grid_template_columns": null,
            "grid_template_rows": null,
            "height": null,
            "justify_content": null,
            "justify_items": null,
            "left": null,
            "margin": null,
            "max_height": null,
            "max_width": null,
            "min_height": null,
            "min_width": null,
            "object_fit": null,
            "object_position": null,
            "order": null,
            "overflow": null,
            "overflow_x": null,
            "overflow_y": null,
            "padding": null,
            "right": null,
            "top": null,
            "visibility": null,
            "width": null
          }
        },
        "d8260586da464973a5b50a48403c269a": {
          "model_module": "@jupyter-widgets/controls",
          "model_module_version": "1.5.0",
          "model_name": "HTMLModel",
          "state": {
            "_dom_classes": [],
            "_model_module": "@jupyter-widgets/controls",
            "_model_module_version": "1.5.0",
            "_model_name": "HTMLModel",
            "_view_count": null,
            "_view_module": "@jupyter-widgets/controls",
            "_view_module_version": "1.5.0",
            "_view_name": "HTMLView",
            "description": "",
            "description_tooltip": null,
            "layout": "IPY_MODEL_64686f45e16148dd9350b9de661040e5",
            "placeholder": "​",
            "style": "IPY_MODEL_14e152b169524e4985a62017fcaa31e7",
            "value": " 1.04M/1.04M [00:00&lt;00:00, 1.25MB/s]"
          }
        },
        "dd1bb3b4909d439c8e27543c2a906f0e": {
          "model_module": "@jupyter-widgets/base",
          "model_module_version": "1.2.0",
          "model_name": "LayoutModel",
          "state": {
            "_model_module": "@jupyter-widgets/base",
            "_model_module_version": "1.2.0",
            "_model_name": "LayoutModel",
            "_view_count": null,
            "_view_module": "@jupyter-widgets/base",
            "_view_module_version": "1.2.0",
            "_view_name": "LayoutView",
            "align_content": null,
            "align_items": null,
            "align_self": null,
            "border": null,
            "bottom": null,
            "display": null,
            "flex": null,
            "flex_flow": null,
            "grid_area": null,
            "grid_auto_columns": null,
            "grid_auto_flow": null,
            "grid_auto_rows": null,
            "grid_column": null,
            "grid_gap": null,
            "grid_row": null,
            "grid_template_areas": null,
            "grid_template_columns": null,
            "grid_template_rows": null,
            "height": null,
            "justify_content": null,
            "justify_items": null,
            "left": null,
            "margin": null,
            "max_height": null,
            "max_width": null,
            "min_height": null,
            "min_width": null,
            "object_fit": null,
            "object_position": null,
            "order": null,
            "overflow": null,
            "overflow_x": null,
            "overflow_y": null,
            "padding": null,
            "right": null,
            "top": null,
            "visibility": null,
            "width": null
          }
        },
        "e2e692313b0d48fe9c658a19f2b9609e": {
          "model_module": "@jupyter-widgets/controls",
          "model_module_version": "1.5.0",
          "model_name": "FloatProgressModel",
          "state": {
            "_dom_classes": [],
            "_model_module": "@jupyter-widgets/controls",
            "_model_module_version": "1.5.0",
            "_model_name": "FloatProgressModel",
            "_view_count": null,
            "_view_module": "@jupyter-widgets/controls",
            "_view_module_version": "1.5.0",
            "_view_name": "ProgressView",
            "bar_style": "success",
            "description": "",
            "description_tooltip": null,
            "layout": "IPY_MODEL_4e61e205171f4414891fb21e97b57a8f",
            "max": 665,
            "min": 0,
            "orientation": "horizontal",
            "style": "IPY_MODEL_99e2161f99f343aaa4cfb6b4e4e3b17f",
            "value": 665
          }
        },
        "e3f80d790e254ff188e3027ed12f8099": {
          "model_module": "@jupyter-widgets/controls",
          "model_module_version": "1.5.0",
          "model_name": "DescriptionStyleModel",
          "state": {
            "_model_module": "@jupyter-widgets/controls",
            "_model_module_version": "1.5.0",
            "_model_name": "DescriptionStyleModel",
            "_view_count": null,
            "_view_module": "@jupyter-widgets/base",
            "_view_module_version": "1.2.0",
            "_view_name": "StyleView",
            "description_width": ""
          }
        },
        "e79a0c7cdd2344cd9a492cd625153c60": {
          "model_module": "@jupyter-widgets/controls",
          "model_module_version": "1.5.0",
          "model_name": "DescriptionStyleModel",
          "state": {
            "_model_module": "@jupyter-widgets/controls",
            "_model_module_version": "1.5.0",
            "_model_name": "DescriptionStyleModel",
            "_view_count": null,
            "_view_module": "@jupyter-widgets/base",
            "_view_module_version": "1.2.0",
            "_view_name": "StyleView",
            "description_width": ""
          }
        },
        "f507a2e64be744289efbad84704844b9": {
          "model_module": "@jupyter-widgets/controls",
          "model_module_version": "1.5.0",
          "model_name": "HTMLModel",
          "state": {
            "_dom_classes": [],
            "_model_module": "@jupyter-widgets/controls",
            "_model_module_version": "1.5.0",
            "_model_name": "HTMLModel",
            "_view_count": null,
            "_view_module": "@jupyter-widgets/controls",
            "_view_module_version": "1.5.0",
            "_view_name": "HTMLView",
            "description": "",
            "description_tooltip": null,
            "layout": "IPY_MODEL_28de31df3df54b22bfa94b068886ae93",
            "placeholder": "​",
            "style": "IPY_MODEL_cc22c670211c4b469f412cc4c5a446a2",
            "value": " 456k/456k [00:00&lt;00:00, 6.48MB/s]"
          }
        },
        "ff5010ea94e0440a81fc5728a31c9920": {
          "model_module": "@jupyter-widgets/controls",
          "model_module_version": "1.5.0",
          "model_name": "ProgressStyleModel",
          "state": {
            "_model_module": "@jupyter-widgets/controls",
            "_model_module_version": "1.5.0",
            "_model_name": "ProgressStyleModel",
            "_view_count": null,
            "_view_module": "@jupyter-widgets/base",
            "_view_module_version": "1.2.0",
            "_view_name": "StyleView",
            "bar_color": null,
            "description_width": ""
          }
        }
      }
    }
  },
  "nbformat": 4,
  "nbformat_minor": 0
}