{
  "cells": [
    {
      "cell_type": "markdown",
      "metadata": {
        "id": "fLVB-ft3jt1U"
      },
      "source": [
        "## Setup"
      ]
    },
    {
      "cell_type": "code",
      "execution_count": 1,
      "metadata": {
        "colab": {
          "base_uri": "https://localhost:8080/"
        },
        "id": "OxkktGJjFNKO",
        "outputId": "f19967e6-961a-40a9-dfd7-21e53b6c38d3"
      },
      "outputs": [
        {
          "output_type": "stream",
          "name": "stdout",
          "text": [
            "Mounted at /content/drive\n",
            "['GoogleNews-vectors-negative300.bin.gz', 'COPY!!!!!!!!!!!!!!!!!.ipynb', 'gpt2-gerchef', 'Copy of Fine-tune a non-English GPT-2 Model with Huggingface', 'tess_copy_commentgeneration.ipynb', 'LifeProTips', 'UIUC', 'bigtenLinearSVC.pickle', 'model1.ipynb', 'UIUC2', 'uofm', 'askredditpreprocessing.ipynb', 'Test_Evaluation_Metrics.ipynb.ipynb', 'commentgeneration.ipynb', 'train_post_set.pickle', 'test_post_set.pickle', 'train_com_set.pickle', 'test_com_set.pickle', 'todayilearnedgeneration.ipynb', 'val_post_set.pickle', 'val_com_set.pickle', 'COPY FOR TRYING SEQTOSEQ uiucgenerationmanual.ipynb', 'Cornell Final Train.ipynb', 'Illinois', 'UMD', 'Indiana', 'Iowa', 'msu', 'uofmn', 'Penn', 'Ohio', 'Penn Final Train.ipynb', 'lincoln', 'Northwestern', 'rutgers', 'UWMadison', 'Cornell (OLD FOLDER)', 'Cornell', 'Purdue', 'Iowa Train Final.ipynb', 'Illinois Final Train.ipynb', 'rutgers Final Train.ipynb', 'Test Val.ipynb', 'Indiana Final Train.ipynb', 'Ohio Final Train.ipynb', 'PostGenerationGPT-2Cornell.ipynb', 'uofmn_Final_Train.ipynb']\n"
          ]
        }
      ],
      "source": [
        "from google.colab import drive\n",
        "drive.mount('/content/drive', force_remount=True)\n",
        "\n",
        "import os \n",
        "GOOGLE_DRIVE_PATH_AFTER_MY_DRIVE = \"448 Group: Jedi Order/models\"\n",
        "GOOGLE_DRIVE_PATH = os.path.join('drive', 'My Drive', GOOGLE_DRIVE_PATH_AFTER_MY_DRIVE)\n",
        "print(os.listdir(GOOGLE_DRIVE_PATH))"
      ]
    },
    {
      "cell_type": "code",
      "execution_count": 2,
      "metadata": {
        "colab": {
          "base_uri": "https://localhost:8080/"
        },
        "id": "BRiiVBSRlOcu",
        "outputId": "29b45069-2775-4d1f-b706-5828c5a221f1"
      },
      "outputs": [
        {
          "output_type": "stream",
          "name": "stdout",
          "text": [
            "drive/My Drive/448 Group: Jedi Order/models\n"
          ]
        }
      ],
      "source": [
        "print(GOOGLE_DRIVE_PATH)"
      ]
    },
    {
      "cell_type": "code",
      "execution_count": 3,
      "metadata": {
        "id": "toacemzRG6W7"
      },
      "outputs": [],
      "source": [
        "%load_ext autoreload\n",
        "%autoreload 2\n",
        "\n",
        "import sys\n",
        "sys.path.append(GOOGLE_DRIVE_PATH)"
      ]
    },
    {
      "cell_type": "code",
      "execution_count": 4,
      "metadata": {
        "colab": {
          "base_uri": "https://localhost:8080/"
        },
        "id": "RIGw390zlSQ8",
        "outputId": "11ecc90a-90f9-4439-e4df-2df884c482e6"
      },
      "outputs": [
        {
          "output_type": "stream",
          "name": "stdout",
          "text": [
            "drive/My Drive/448 Group: Jedi Order/models\n"
          ]
        }
      ],
      "source": [
        "print(GOOGLE_DRIVE_PATH)"
      ]
    },
    {
      "cell_type": "code",
      "execution_count": 5,
      "metadata": {
        "colab": {
          "base_uri": "https://localhost:8080/"
        },
        "id": "UMb95f0FqMGr",
        "outputId": "134c1400-29f5-4fd6-8868-9d490e40687a"
      },
      "outputs": [
        {
          "output_type": "stream",
          "name": "stdout",
          "text": [
            "UTF-8\n"
          ]
        }
      ],
      "source": [
        "import locale\n",
        "print(locale.getpreferredencoding())"
      ]
    },
    {
      "cell_type": "code",
      "execution_count": 6,
      "metadata": {
        "id": "0qwMHaJYqPM1"
      },
      "outputs": [],
      "source": [
        "import locale\n",
        "def getpreferredencoding(do_setlocale = True):\n",
        "    return \"UTF-8\"\n",
        "locale.getpreferredencoding = getpreferredencoding"
      ]
    },
    {
      "cell_type": "code",
      "execution_count": 7,
      "metadata": {
        "colab": {
          "base_uri": "https://localhost:8080/"
        },
        "id": "PAZI3yXeH7p4",
        "outputId": "af59dc8a-b90a-4afa-a6a7-c17f6ba35f2d"
      },
      "outputs": [
        {
          "output_type": "stream",
          "name": "stdout",
          "text": [
            "Looking in indexes: https://pypi.org/simple, https://us-python.pkg.dev/colab-wheels/public/simple/\n",
            "Collecting transformers\n",
            "  Downloading transformers-4.28.1-py3-none-any.whl (7.0 MB)\n",
            "\u001b[2K     \u001b[90m━━━━━━━━━━━━━━━━━━━━━━━━━━━━━━━━━━━━━━━━\u001b[0m \u001b[32m7.0/7.0 MB\u001b[0m \u001b[31m58.2 MB/s\u001b[0m eta \u001b[36m0:00:00\u001b[0m\n",
            "\u001b[?25hCollecting tokenizers!=0.11.3,<0.14,>=0.11.1\n",
            "  Downloading tokenizers-0.13.3-cp39-cp39-manylinux_2_17_x86_64.manylinux2014_x86_64.whl (7.8 MB)\n",
            "\u001b[2K     \u001b[90m━━━━━━━━━━━━━━━━━━━━━━━━━━━━━━━━━━━━━━━━\u001b[0m \u001b[32m7.8/7.8 MB\u001b[0m \u001b[31m104.0 MB/s\u001b[0m eta \u001b[36m0:00:00\u001b[0m\n",
            "\u001b[?25hRequirement already satisfied: filelock in /usr/local/lib/python3.9/dist-packages (from transformers) (3.11.0)\n",
            "Requirement already satisfied: numpy>=1.17 in /usr/local/lib/python3.9/dist-packages (from transformers) (1.22.4)\n",
            "Requirement already satisfied: pyyaml>=5.1 in /usr/local/lib/python3.9/dist-packages (from transformers) (6.0)\n",
            "Requirement already satisfied: requests in /usr/local/lib/python3.9/dist-packages (from transformers) (2.27.1)\n",
            "Collecting huggingface-hub<1.0,>=0.11.0\n",
            "  Downloading huggingface_hub-0.13.4-py3-none-any.whl (200 kB)\n",
            "\u001b[2K     \u001b[90m━━━━━━━━━━━━━━━━━━━━━━━━━━━━━━━━━━━━━━\u001b[0m \u001b[32m200.1/200.1 kB\u001b[0m \u001b[31m26.5 MB/s\u001b[0m eta \u001b[36m0:00:00\u001b[0m\n",
            "\u001b[?25hRequirement already satisfied: packaging>=20.0 in /usr/local/lib/python3.9/dist-packages (from transformers) (23.0)\n",
            "Requirement already satisfied: tqdm>=4.27 in /usr/local/lib/python3.9/dist-packages (from transformers) (4.65.0)\n",
            "Requirement already satisfied: regex!=2019.12.17 in /usr/local/lib/python3.9/dist-packages (from transformers) (2022.10.31)\n",
            "Requirement already satisfied: typing-extensions>=3.7.4.3 in /usr/local/lib/python3.9/dist-packages (from huggingface-hub<1.0,>=0.11.0->transformers) (4.5.0)\n",
            "Requirement already satisfied: idna<4,>=2.5 in /usr/local/lib/python3.9/dist-packages (from requests->transformers) (3.4)\n",
            "Requirement already satisfied: certifi>=2017.4.17 in /usr/local/lib/python3.9/dist-packages (from requests->transformers) (2022.12.7)\n",
            "Requirement already satisfied: urllib3<1.27,>=1.21.1 in /usr/local/lib/python3.9/dist-packages (from requests->transformers) (1.26.15)\n",
            "Requirement already satisfied: charset-normalizer~=2.0.0 in /usr/local/lib/python3.9/dist-packages (from requests->transformers) (2.0.12)\n",
            "Installing collected packages: tokenizers, huggingface-hub, transformers\n",
            "Successfully installed huggingface-hub-0.13.4 tokenizers-0.13.3 transformers-4.28.1\n",
            "Looking in indexes: https://pypi.org/simple, https://us-python.pkg.dev/colab-wheels/public/simple/\n",
            "Collecting convokit\n",
            "  Downloading convokit-2.5.3.tar.gz (167 kB)\n",
            "\u001b[2K     \u001b[90m━━━━━━━━━━━━━━━━━━━━━━━━━━━━━━━━━━━━━━━\u001b[0m \u001b[32m168.0/168.0 kB\u001b[0m \u001b[31m4.4 MB/s\u001b[0m eta \u001b[36m0:00:00\u001b[0m\n",
            "\u001b[?25h  Preparing metadata (setup.py) ... \u001b[?25l\u001b[?25hdone\n",
            "Requirement already satisfied: matplotlib>=3.0.0 in /usr/local/lib/python3.9/dist-packages (from convokit) (3.7.1)\n",
            "Requirement already satisfied: pandas>=0.23.4 in /usr/local/lib/python3.9/dist-packages (from convokit) (1.5.3)\n",
            "Collecting msgpack-numpy>=0.4.3.2\n",
            "  Downloading msgpack_numpy-0.4.8-py2.py3-none-any.whl (6.9 kB)\n",
            "Requirement already satisfied: spacy>=2.3.5 in /usr/local/lib/python3.9/dist-packages (from convokit) (3.5.1)\n",
            "Requirement already satisfied: scipy>=1.1.0 in /usr/local/lib/python3.9/dist-packages (from convokit) (1.10.1)\n",
            "Requirement already satisfied: scikit-learn>=0.20.0 in /usr/local/lib/python3.9/dist-packages (from convokit) (1.2.2)\n",
            "Requirement already satisfied: nltk>=3.4 in /usr/local/lib/python3.9/dist-packages (from convokit) (3.8.1)\n",
            "Collecting dill>=0.2.9\n",
            "  Downloading dill-0.3.6-py3-none-any.whl (110 kB)\n",
            "\u001b[2K     \u001b[90m━━━━━━━━━━━━━━━━━━━━━━━━━━━━━━━━━━━━━━\u001b[0m \u001b[32m110.5/110.5 kB\u001b[0m \u001b[31m11.4 MB/s\u001b[0m eta \u001b[36m0:00:00\u001b[0m\n",
            "\u001b[?25hRequirement already satisfied: joblib>=0.13.2 in /usr/local/lib/python3.9/dist-packages (from convokit) (1.2.0)\n",
            "Collecting clean-text>=0.1.1\n",
            "  Downloading clean_text-0.6.0-py3-none-any.whl (11 kB)\n",
            "Collecting unidecode>=1.1.1\n",
            "  Downloading Unidecode-1.3.6-py3-none-any.whl (235 kB)\n",
            "\u001b[2K     \u001b[90m━━━━━━━━━━━━━━━━━━━━━━━━━━━━━━━━━━━━━━\u001b[0m \u001b[32m235.9/235.9 kB\u001b[0m \u001b[31m10.6 MB/s\u001b[0m eta \u001b[36m0:00:00\u001b[0m\n",
            "\u001b[?25hCollecting ftfy<7.0,>=6.0\n",
            "  Downloading ftfy-6.1.1-py3-none-any.whl (53 kB)\n",
            "\u001b[2K     \u001b[90m━━━━━━━━━━━━━━━━━━━━━━━━━━━━━━━━━━━━━━━━\u001b[0m \u001b[32m53.1/53.1 kB\u001b[0m \u001b[31m8.1 MB/s\u001b[0m eta \u001b[36m0:00:00\u001b[0m\n",
            "\u001b[?25hCollecting emoji<2.0.0,>=1.0.0\n",
            "  Downloading emoji-1.7.0.tar.gz (175 kB)\n",
            "\u001b[2K     \u001b[90m━━━━━━━━━━━━━━━━━━━━━━━━━━━━━━━━━━━━━━━\u001b[0m \u001b[32m175.4/175.4 kB\u001b[0m \u001b[31m9.5 MB/s\u001b[0m eta \u001b[36m0:00:00\u001b[0m\n",
            "\u001b[?25h  Preparing metadata (setup.py) ... \u001b[?25l\u001b[?25hdone\n",
            "Requirement already satisfied: python-dateutil>=2.7 in /usr/local/lib/python3.9/dist-packages (from matplotlib>=3.0.0->convokit) (2.8.2)\n",
            "Requirement already satisfied: importlib-resources>=3.2.0 in /usr/local/lib/python3.9/dist-packages (from matplotlib>=3.0.0->convokit) (5.12.0)\n",
            "Requirement already satisfied: kiwisolver>=1.0.1 in /usr/local/lib/python3.9/dist-packages (from matplotlib>=3.0.0->convokit) (1.4.4)\n",
            "Requirement already satisfied: fonttools>=4.22.0 in /usr/local/lib/python3.9/dist-packages (from matplotlib>=3.0.0->convokit) (4.39.3)\n",
            "Requirement already satisfied: pillow>=6.2.0 in /usr/local/lib/python3.9/dist-packages (from matplotlib>=3.0.0->convokit) (8.4.0)\n",
            "Requirement already satisfied: contourpy>=1.0.1 in /usr/local/lib/python3.9/dist-packages (from matplotlib>=3.0.0->convokit) (1.0.7)\n",
            "Requirement already satisfied: numpy>=1.20 in /usr/local/lib/python3.9/dist-packages (from matplotlib>=3.0.0->convokit) (1.22.4)\n",
            "Requirement already satisfied: packaging>=20.0 in /usr/local/lib/python3.9/dist-packages (from matplotlib>=3.0.0->convokit) (23.0)\n",
            "Requirement already satisfied: pyparsing>=2.3.1 in /usr/local/lib/python3.9/dist-packages (from matplotlib>=3.0.0->convokit) (3.0.9)\n",
            "Requirement already satisfied: cycler>=0.10 in /usr/local/lib/python3.9/dist-packages (from matplotlib>=3.0.0->convokit) (0.11.0)\n",
            "Requirement already satisfied: msgpack>=0.5.2 in /usr/local/lib/python3.9/dist-packages (from msgpack-numpy>=0.4.3.2->convokit) (1.0.5)\n",
            "Requirement already satisfied: tqdm in /usr/local/lib/python3.9/dist-packages (from nltk>=3.4->convokit) (4.65.0)\n",
            "Requirement already satisfied: regex>=2021.8.3 in /usr/local/lib/python3.9/dist-packages (from nltk>=3.4->convokit) (2022.10.31)\n",
            "Requirement already satisfied: click in /usr/local/lib/python3.9/dist-packages (from nltk>=3.4->convokit) (8.1.3)\n",
            "Requirement already satisfied: pytz>=2020.1 in /usr/local/lib/python3.9/dist-packages (from pandas>=0.23.4->convokit) (2022.7.1)\n",
            "Requirement already satisfied: threadpoolctl>=2.0.0 in /usr/local/lib/python3.9/dist-packages (from scikit-learn>=0.20.0->convokit) (3.1.0)\n",
            "Requirement already satisfied: wasabi<1.2.0,>=0.9.1 in /usr/local/lib/python3.9/dist-packages (from spacy>=2.3.5->convokit) (1.1.1)\n",
            "Requirement already satisfied: pathy>=0.10.0 in /usr/local/lib/python3.9/dist-packages (from spacy>=2.3.5->convokit) (0.10.1)\n",
            "Requirement already satisfied: spacy-legacy<3.1.0,>=3.0.11 in /usr/local/lib/python3.9/dist-packages (from spacy>=2.3.5->convokit) (3.0.12)\n",
            "Requirement already satisfied: preshed<3.1.0,>=3.0.2 in /usr/local/lib/python3.9/dist-packages (from spacy>=2.3.5->convokit) (3.0.8)\n",
            "Requirement already satisfied: pydantic!=1.8,!=1.8.1,<1.11.0,>=1.7.4 in /usr/local/lib/python3.9/dist-packages (from spacy>=2.3.5->convokit) (1.10.7)\n",
            "Requirement already satisfied: typer<0.8.0,>=0.3.0 in /usr/local/lib/python3.9/dist-packages (from spacy>=2.3.5->convokit) (0.7.0)\n",
            "Requirement already satisfied: cymem<2.1.0,>=2.0.2 in /usr/local/lib/python3.9/dist-packages (from spacy>=2.3.5->convokit) (2.0.7)\n",
            "Requirement already satisfied: langcodes<4.0.0,>=3.2.0 in /usr/local/lib/python3.9/dist-packages (from spacy>=2.3.5->convokit) (3.3.0)\n",
            "Requirement already satisfied: requests<3.0.0,>=2.13.0 in /usr/local/lib/python3.9/dist-packages (from spacy>=2.3.5->convokit) (2.27.1)\n",
            "Requirement already satisfied: catalogue<2.1.0,>=2.0.6 in /usr/local/lib/python3.9/dist-packages (from spacy>=2.3.5->convokit) (2.0.8)\n",
            "Requirement already satisfied: srsly<3.0.0,>=2.4.3 in /usr/local/lib/python3.9/dist-packages (from spacy>=2.3.5->convokit) (2.4.6)\n",
            "Requirement already satisfied: jinja2 in /usr/local/lib/python3.9/dist-packages (from spacy>=2.3.5->convokit) (3.1.2)\n",
            "Requirement already satisfied: spacy-loggers<2.0.0,>=1.0.0 in /usr/local/lib/python3.9/dist-packages (from spacy>=2.3.5->convokit) (1.0.4)\n",
            "Requirement already satisfied: smart-open<7.0.0,>=5.2.1 in /usr/local/lib/python3.9/dist-packages (from spacy>=2.3.5->convokit) (6.3.0)\n",
            "Requirement already satisfied: setuptools in /usr/local/lib/python3.9/dist-packages (from spacy>=2.3.5->convokit) (67.6.1)\n",
            "Requirement already satisfied: murmurhash<1.1.0,>=0.28.0 in /usr/local/lib/python3.9/dist-packages (from spacy>=2.3.5->convokit) (1.0.9)\n",
            "Requirement already satisfied: thinc<8.2.0,>=8.1.8 in /usr/local/lib/python3.9/dist-packages (from spacy>=2.3.5->convokit) (8.1.9)\n",
            "Requirement already satisfied: wcwidth>=0.2.5 in /usr/local/lib/python3.9/dist-packages (from ftfy<7.0,>=6.0->clean-text>=0.1.1->convokit) (0.2.6)\n",
            "Requirement already satisfied: zipp>=3.1.0 in /usr/local/lib/python3.9/dist-packages (from importlib-resources>=3.2.0->matplotlib>=3.0.0->convokit) (3.15.0)\n",
            "Requirement already satisfied: typing-extensions>=4.2.0 in /usr/local/lib/python3.9/dist-packages (from pydantic!=1.8,!=1.8.1,<1.11.0,>=1.7.4->spacy>=2.3.5->convokit) (4.5.0)\n",
            "Requirement already satisfied: six>=1.5 in /usr/local/lib/python3.9/dist-packages (from python-dateutil>=2.7->matplotlib>=3.0.0->convokit) (1.16.0)\n",
            "Requirement already satisfied: urllib3<1.27,>=1.21.1 in /usr/local/lib/python3.9/dist-packages (from requests<3.0.0,>=2.13.0->spacy>=2.3.5->convokit) (1.26.15)\n",
            "Requirement already satisfied: certifi>=2017.4.17 in /usr/local/lib/python3.9/dist-packages (from requests<3.0.0,>=2.13.0->spacy>=2.3.5->convokit) (2022.12.7)\n",
            "Requirement already satisfied: idna<4,>=2.5 in /usr/local/lib/python3.9/dist-packages (from requests<3.0.0,>=2.13.0->spacy>=2.3.5->convokit) (3.4)\n",
            "Requirement already satisfied: charset-normalizer~=2.0.0 in /usr/local/lib/python3.9/dist-packages (from requests<3.0.0,>=2.13.0->spacy>=2.3.5->convokit) (2.0.12)\n",
            "Requirement already satisfied: blis<0.8.0,>=0.7.8 in /usr/local/lib/python3.9/dist-packages (from thinc<8.2.0,>=8.1.8->spacy>=2.3.5->convokit) (0.7.9)\n",
            "Requirement already satisfied: confection<1.0.0,>=0.0.1 in /usr/local/lib/python3.9/dist-packages (from thinc<8.2.0,>=8.1.8->spacy>=2.3.5->convokit) (0.0.4)\n",
            "Requirement already satisfied: MarkupSafe>=2.0 in /usr/local/lib/python3.9/dist-packages (from jinja2->spacy>=2.3.5->convokit) (2.1.2)\n",
            "Building wheels for collected packages: convokit, emoji\n",
            "  Building wheel for convokit (setup.py) ... \u001b[?25l\u001b[?25hdone\n",
            "  Created wheel for convokit: filename=convokit-2.5.3-py3-none-any.whl size=204125 sha256=6a32df9fc174278ed822f8775551836ccf749208e6b105c6dbd46d0137f4c1dc\n",
            "  Stored in directory: /root/.cache/pip/wheels/2e/ef/38/9588c33dabed09f2a31ce3fbde7f6a6a1c19593c1ffd8d74aa\n",
            "  Building wheel for emoji (setup.py) ... \u001b[?25l\u001b[?25hdone\n",
            "  Created wheel for emoji: filename=emoji-1.7.0-py3-none-any.whl size=171048 sha256=c3ed041be5bd64132d4c52fb0952bb4491a20014fdf58c5dae7a3953d3ae1ca5\n",
            "  Stored in directory: /root/.cache/pip/wheels/fa/7a/e9/22dd0515e1bad255e51663ee513a2fa839c95934c5fc301090\n",
            "Successfully built convokit emoji\n",
            "Installing collected packages: emoji, unidecode, msgpack-numpy, ftfy, dill, clean-text, convokit\n",
            "Successfully installed clean-text-0.6.0 convokit-2.5.3 dill-0.3.6 emoji-1.7.0 ftfy-6.1.1 msgpack-numpy-0.4.8 unidecode-1.3.6\n",
            "Looking in indexes: https://pypi.org/simple, https://us-python.pkg.dev/colab-wheels/public/simple/\n",
            "Collecting datasets\n",
            "  Downloading datasets-2.11.0-py3-none-any.whl (468 kB)\n",
            "\u001b[2K     \u001b[90m━━━━━━━━━━━━━━━━━━━━━━━━━━━━━━━━━━━━━━\u001b[0m \u001b[32m468.7/468.7 kB\u001b[0m \u001b[31m10.1 MB/s\u001b[0m eta \u001b[36m0:00:00\u001b[0m\n",
            "\u001b[?25hRequirement already satisfied: tqdm>=4.62.1 in /usr/local/lib/python3.9/dist-packages (from datasets) (4.65.0)\n",
            "Requirement already satisfied: pandas in /usr/local/lib/python3.9/dist-packages (from datasets) (1.5.3)\n",
            "Requirement already satisfied: pyyaml>=5.1 in /usr/local/lib/python3.9/dist-packages (from datasets) (6.0)\n",
            "Requirement already satisfied: huggingface-hub<1.0.0,>=0.11.0 in /usr/local/lib/python3.9/dist-packages (from datasets) (0.13.4)\n",
            "Requirement already satisfied: packaging in /usr/local/lib/python3.9/dist-packages (from datasets) (23.0)\n",
            "Collecting responses<0.19\n",
            "  Downloading responses-0.18.0-py3-none-any.whl (38 kB)\n",
            "Collecting multiprocess\n",
            "  Downloading multiprocess-0.70.14-py39-none-any.whl (132 kB)\n",
            "\u001b[2K     \u001b[90m━━━━━━━━━━━━━━━━━━━━━━━━━━━━━━━━━━━━━━\u001b[0m \u001b[32m132.9/132.9 kB\u001b[0m \u001b[31m18.1 MB/s\u001b[0m eta \u001b[36m0:00:00\u001b[0m\n",
            "\u001b[?25hRequirement already satisfied: pyarrow>=8.0.0 in /usr/local/lib/python3.9/dist-packages (from datasets) (9.0.0)\n",
            "Collecting xxhash\n",
            "  Downloading xxhash-3.2.0-cp39-cp39-manylinux_2_17_x86_64.manylinux2014_x86_64.whl (212 kB)\n",
            "\u001b[2K     \u001b[90m━━━━━━━━━━━━━━━━━━━━━━━━━━━━━━━━━━━━━━\u001b[0m \u001b[32m212.2/212.2 kB\u001b[0m \u001b[31m28.5 MB/s\u001b[0m eta \u001b[36m0:00:00\u001b[0m\n",
            "\u001b[?25hRequirement already satisfied: dill<0.3.7,>=0.3.0 in /usr/local/lib/python3.9/dist-packages (from datasets) (0.3.6)\n",
            "Requirement already satisfied: numpy>=1.17 in /usr/local/lib/python3.9/dist-packages (from datasets) (1.22.4)\n",
            "Collecting aiohttp\n",
            "  Downloading aiohttp-3.8.4-cp39-cp39-manylinux_2_17_x86_64.manylinux2014_x86_64.whl (1.0 MB)\n",
            "\u001b[2K     \u001b[90m━━━━━━━━━━━━━━━━━━━━━━━━━━━━━━━━━━━━━━━━\u001b[0m \u001b[32m1.0/1.0 MB\u001b[0m \u001b[31m44.9 MB/s\u001b[0m eta \u001b[36m0:00:00\u001b[0m\n",
            "\u001b[?25hRequirement already satisfied: requests>=2.19.0 in /usr/local/lib/python3.9/dist-packages (from datasets) (2.27.1)\n",
            "Requirement already satisfied: fsspec[http]>=2021.11.1 in /usr/local/lib/python3.9/dist-packages (from datasets) (2023.4.0)\n",
            "Collecting async-timeout<5.0,>=4.0.0a3\n",
            "  Downloading async_timeout-4.0.2-py3-none-any.whl (5.8 kB)\n",
            "Collecting yarl<2.0,>=1.0\n",
            "  Downloading yarl-1.8.2-cp39-cp39-manylinux_2_17_x86_64.manylinux2014_x86_64.whl (264 kB)\n",
            "\u001b[2K     \u001b[90m━━━━━━━━━━━━━━━━━━━━━━━━━━━━━━━━━━━━━━\u001b[0m \u001b[32m264.6/264.6 kB\u001b[0m \u001b[31m28.4 MB/s\u001b[0m eta \u001b[36m0:00:00\u001b[0m\n",
            "\u001b[?25hRequirement already satisfied: attrs>=17.3.0 in /usr/local/lib/python3.9/dist-packages (from aiohttp->datasets) (22.2.0)\n",
            "Collecting frozenlist>=1.1.1\n",
            "  Downloading frozenlist-1.3.3-cp39-cp39-manylinux_2_5_x86_64.manylinux1_x86_64.manylinux_2_17_x86_64.manylinux2014_x86_64.whl (158 kB)\n",
            "\u001b[2K     \u001b[90m━━━━━━━━━━━━━━━━━━━━━━━━━━━━━━━━━━━━━━\u001b[0m \u001b[32m158.8/158.8 kB\u001b[0m \u001b[31m22.0 MB/s\u001b[0m eta \u001b[36m0:00:00\u001b[0m\n",
            "\u001b[?25hCollecting multidict<7.0,>=4.5\n",
            "  Downloading multidict-6.0.4-cp39-cp39-manylinux_2_17_x86_64.manylinux2014_x86_64.whl (114 kB)\n",
            "\u001b[2K     \u001b[90m━━━━━━━━━━━━━━━━━━━━━━━━━━━━━━━━━━━━━━\u001b[0m \u001b[32m114.2/114.2 kB\u001b[0m \u001b[31m16.4 MB/s\u001b[0m eta \u001b[36m0:00:00\u001b[0m\n",
            "\u001b[?25hCollecting aiosignal>=1.1.2\n",
            "  Downloading aiosignal-1.3.1-py3-none-any.whl (7.6 kB)\n",
            "Requirement already satisfied: charset-normalizer<4.0,>=2.0 in /usr/local/lib/python3.9/dist-packages (from aiohttp->datasets) (2.0.12)\n",
            "Requirement already satisfied: typing-extensions>=3.7.4.3 in /usr/local/lib/python3.9/dist-packages (from huggingface-hub<1.0.0,>=0.11.0->datasets) (4.5.0)\n",
            "Requirement already satisfied: filelock in /usr/local/lib/python3.9/dist-packages (from huggingface-hub<1.0.0,>=0.11.0->datasets) (3.11.0)\n",
            "Requirement already satisfied: certifi>=2017.4.17 in /usr/local/lib/python3.9/dist-packages (from requests>=2.19.0->datasets) (2022.12.7)\n",
            "Requirement already satisfied: urllib3<1.27,>=1.21.1 in /usr/local/lib/python3.9/dist-packages (from requests>=2.19.0->datasets) (1.26.15)\n",
            "Requirement already satisfied: idna<4,>=2.5 in /usr/local/lib/python3.9/dist-packages (from requests>=2.19.0->datasets) (3.4)\n",
            "Requirement already satisfied: python-dateutil>=2.8.1 in /usr/local/lib/python3.9/dist-packages (from pandas->datasets) (2.8.2)\n",
            "Requirement already satisfied: pytz>=2020.1 in /usr/local/lib/python3.9/dist-packages (from pandas->datasets) (2022.7.1)\n",
            "Requirement already satisfied: six>=1.5 in /usr/local/lib/python3.9/dist-packages (from python-dateutil>=2.8.1->pandas->datasets) (1.16.0)\n",
            "Installing collected packages: xxhash, multiprocess, multidict, frozenlist, async-timeout, yarl, responses, aiosignal, aiohttp, datasets\n",
            "Successfully installed aiohttp-3.8.4 aiosignal-1.3.1 async-timeout-4.0.2 datasets-2.11.0 frozenlist-1.3.3 multidict-6.0.4 multiprocess-0.70.14 responses-0.18.0 xxhash-3.2.0 yarl-1.8.2\n"
          ]
        }
      ],
      "source": [
        "!pip install transformers\n",
        "!pip install convokit\n",
        "!pip install datasets"
      ]
    },
    {
      "cell_type": "code",
      "execution_count": 8,
      "metadata": {
        "colab": {
          "base_uri": "https://localhost:8080/"
        },
        "id": "bmL5wi2WPR5b",
        "outputId": "68676773-a9d2-403a-ace2-9aa26cac2566"
      },
      "outputs": [
        {
          "output_type": "stream",
          "name": "stderr",
          "text": [
            "[nltk_data] Downloading package punkt to /root/nltk_data...\n",
            "[nltk_data]   Unzipping tokenizers/punkt.zip.\n"
          ]
        },
        {
          "output_type": "execute_result",
          "data": {
            "text/plain": [
              "True"
            ]
          },
          "metadata": {},
          "execution_count": 8
        }
      ],
      "source": [
        "import pickle\n",
        "import pandas as pd\n",
        "from transformers import GPT2LMHeadModel, GPT2Tokenizer, TrainingArguments, Trainer, DataCollatorForLanguageModeling, EarlyStoppingCallback\n",
        "from datasets import load_dataset\n",
        "import nltk\n",
        "# maybe modify the above to a different model? idk up to you all\n",
        "# also how to use the gpu command? like the cuda stuff.\n",
        "# \n",
        "from convokit import Corpus, download\n",
        "from torch.utils.data import DataLoader, IterableDataset, Dataset\n",
        "import torch\n",
        "import numpy as np\n",
        "\n",
        "nltk.download('punkt')"
      ]
    },
    {
      "cell_type": "code",
      "execution_count": 9,
      "metadata": {
        "colab": {
          "base_uri": "https://localhost:8080/"
        },
        "id": "fu7HIewqYoWQ",
        "outputId": "9f7ef95c-9c96-42cd-bd95-30b9d43b7f7d"
      },
      "outputs": [
        {
          "output_type": "stream",
          "name": "stdout",
          "text": [
            "cuda\n"
          ]
        }
      ],
      "source": [
        "device = 'cuda' if torch.cuda.is_available() else 'cpu'\n",
        "print(device)"
      ]
    },
    {
      "cell_type": "markdown",
      "metadata": {
        "id": "CUKGDZxPVfXs"
      },
      "source": [
        "# Load and Prepare Dataset\n"
      ]
    },
    {
      "cell_type": "code",
      "execution_count": 10,
      "metadata": {
        "id": "5l-VcAlDBhZi"
      },
      "outputs": [],
      "source": [
        "seed = 448\n",
        "np.random.seed(seed)\n",
        "torch.manual_seed(seed)\n",
        "torch.cuda.manual_seed(seed)"
      ]
    },
    {
      "cell_type": "code",
      "execution_count": 11,
      "metadata": {
        "colab": {
          "base_uri": "https://localhost:8080/"
        },
        "id": "lKtO6nHPlICE",
        "outputId": "2a6adb3c-cccc-4210-e9e9-fdec4a1d93dd"
      },
      "outputs": [
        {
          "output_type": "stream",
          "name": "stdout",
          "text": [
            "drive/My Drive/448 Group: Jedi Order/models\n"
          ]
        }
      ],
      "source": [
        "print(GOOGLE_DRIVE_PATH)"
      ]
    },
    {
      "cell_type": "code",
      "execution_count": 12,
      "metadata": {
        "id": "DrxAqHIDnEwX"
      },
      "outputs": [],
      "source": [
        "sub_reddit = '/Iowa'"
      ]
    },
    {
      "cell_type": "code",
      "execution_count": 13,
      "metadata": {
        "id": "n9scK1gGkbrB"
      },
      "outputs": [],
      "source": [
        "val_post_path = os.path.join(GOOGLE_DRIVE_PATH + sub_reddit, \"val_post_set.pickle\")\n",
        "val_com_path = os.path.join(GOOGLE_DRIVE_PATH + sub_reddit, \"val_com_set.pickle\")"
      ]
    },
    {
      "cell_type": "code",
      "execution_count": 14,
      "metadata": {
        "colab": {
          "base_uri": "https://localhost:8080/"
        },
        "id": "SFA4uui_leyQ",
        "outputId": "0005344a-1c04-490b-fb2a-c85d6fc225c7"
      },
      "outputs": [
        {
          "output_type": "stream",
          "name": "stdout",
          "text": [
            "drive/My Drive/448 Group: Jedi Order/models\n"
          ]
        }
      ],
      "source": [
        "print(GOOGLE_DRIVE_PATH)"
      ]
    },
    {
      "cell_type": "code",
      "execution_count": 15,
      "metadata": {
        "id": "N_FTEuAWgbqv"
      },
      "outputs": [],
      "source": [
        "# posts_datasets_to_use[0] = pickle.load(open(train_post_path, \"rb\"))\n",
        "val_posts = pickle.load(open(val_post_path, \"rb\"))\n",
        "# posts_datasets_to_use[2] = pickle.load(open(test_post_path, \"rb\"))\n",
        "# comments_datasets_to_use[0] = pickle.load(open(train_com_path, \"rb\"))\n",
        "val_comments = pickle.load(open(val_com_path, \"rb\"))\n",
        "# comments_datasets_to_use[2] = pickle.load(open(test_com_path, \"rb\"))"
      ]
    },
    {
      "cell_type": "code",
      "execution_count": 16,
      "metadata": {
        "colab": {
          "base_uri": "https://localhost:8080/"
        },
        "id": "2gW6sBAYpNH4",
        "outputId": "227fc7e3-8d26-4065-947c-d74bd60c1ea8"
      },
      "outputs": [
        {
          "output_type": "stream",
          "name": "stdout",
          "text": [
            "<bos> I'm a transfer student starting my first year and I was places on the second floor of Hillcrest. Anyone else living in that dorm? So far all of my friends are living in Burge. <eos> \n",
            "<bos> Here is a good resource to get organized for your coursework. [syllabuddy.com]([url link] Simply upload your syllabus and all important dates are instantly extracted to your Google/Apple calendars. <eos> \n",
            "<bos> I got accepted as a transfer student into the CS program. I'm curious what is like, i.e. what are the main focuses such as AI, software development, algorithms, etc. <eos> \n",
            "<bos> Saw a new company out there today. Mustache Cab (let's go for a mustache ride!).   Seriously, that was their tag line on the side. Any way, as of yet, this is an unlicensed, unregistered company with the city. If you ride them right now, be aware that they are an illegal operation.   Take that as you will. I know plenty of people are fed up enough with the current system that they'll try any alternative. This guy, by nature of being unlicensed, can charge you whatever excessive prices he wishes, and the city has no control over them (other than some high tickets when people like you call in to complain).   If you want to be especially assholeish about it, take a ride, and refuse to pay. Let them call the cops, and when the officer shows up, ask them where the city taxi sticker is (should be top corner of the front window, passenger side).   I like my industry. I understand most of the complaints against it. I'm not anti Uber/Lyft/etc on principal, just against their legal word play. This cab I'm talking about is *not* a ride-share. Bubble light on top, sides decorated with company info and number, etc..   This is just an illegal taxi. And because he's illegal, you have no idea what he feels like he can get away with against you. <eos> \n",
            "<bos> Hey guys...I'm a transfer student coming in this spring, and I need some honest opinions. I know 0 people at Iowa basically, but am transferring regardless. I have qualified for the honors program and saw that they have housing, like the Centerstone apartments. I'm wondering if these are cool places to live, or if its an all out nerd-fest. While I would much rather just live in an apartment off campus, I have nobody to live with obviously and so i thought this would be a viable option.  Is Centerstone a nice place that's relatively fun...or should I take my chances living with some random people off campus?  Moreover, is there some sort of transfer house that you know of?  Basically I'm wondering what my options are and appreciate ALL input about what gives me the best Iowa Experience.  Stay beautiful, -Der_Arschloch <eos> \n",
            "<bos> I'm an incoming grad student in the nonfiction writing program and don't know anybody in Iowa yet haha. I already signed a 2BR lease for the fall, but not sure where to find roomies! it's a great place and already tried Craigslist and Facebook, but is there anywhere else I can look? help, reddit! :) <eos> \n",
            "<bos> Does the UIowa hospital drug test its volunteers?  <eos> \n",
            "<bos> Could someone please give me a description of the different dorms at Iowa? I'm going there next year, and I have no idea what the dorms are like. It would be much appreciated [: <eos> \n",
            "<bos> Hi All.  I just got accepted into U of Iowa as an International Relations/Theater Arts double major and I've been liking a lot of what I've read about the school.  Just a few questions I have: 1. What's the social scene like? Is it mostly parties? Is there other things to do if it is? 2. What's the theater program like? Is it its own social group like it is in high school or do they blend in with the rest of the school? 3. How much is Greek Life part of social life? 4. I currently live about 40 minutes East of San Francisco. Is U of Iowa a noticeably small town or is it lovely enough that you don't notice? 5. How do you like the school? Would you go there again if you did it all over? Thanks a ton!  <eos> \n",
            "<bos> Activities, places, opportunities, facts, etc. Things that are rare but not necessarily unique are also of interest. <eos> \n",
            "<bos> I've got some questions I'd love to ask about the program if any of you guys are subbed here. <eos> \n",
            "<bos> [url link] Think they've noticed yet? <eos> \n",
            "<bos> Moving from California and I can't seem to find an apartment! Wondering if anybody out three is looking for a roommate for fall? <eos> \n",
            "<bos> Choose wisely, hawkeyes.  <eos> \n",
            "<bos> I have a class with Garfinkel next semester, is there anything I should know about him? I can't find any information anywhere <eos> \n",
            "<bos> Looking for recommendations on the best place to advertise or means of finding students interested in a sublet. Any useful suggestions welcome  <eos> \n",
            "<bos> Hi! I'm thinking about applying to the U of I for a double major in Japanese Language (Asian Studies) and Computer Science. I'd be a transfer student, graduating this year from Sitting Bull College with a 3.33 GPA. At SBC, I studied Computer Science (A.S.) and was Co-Founder as well as President for two years of SBC Anime Club. Also, I'm 21, but will be 22 by the time I start if I go to U of I. So onto my questions: 1) Who else is part of the Japanese Language and/or Computer Science Majors? 2) I am on the Autism Spectrum Disorder, so I have a tough time making friends. My interests or Japanese Culture, Computers, Cooking, Anime, Photography, Art, Dancing. What student activities do you suggest for me to look at joining? 3) I am also interested in looking at rushing sororities. What is rush week like and what do the different sororities look for. <eos> \n",
            "<bos> Hello! I am a rising senior at a high school on Long Island, NY. I have enrolled in AP Gov and was assigned the state of Iowa for a project where I must predict the outcome of the presidential election in this state and explain why that candidate will win. I was hoping that someone with a greater knowledge and insight to the state of Iowa and its politics could help me. If anyone has the time, I was hoping they could answer some brief questions so that I can use your insight for my research paper. The questions are: Which candidate do you believe will win the presidential election for the state of Iowa and why? What do you believe the general consensus on campus is? Also, if you could provide your name (first name only is fine) that would be very helpful in quoting you. Thank you for taking the time to read this and I appreciate any and all help I can get. <eos> \n",
            "<bos> I am a sophomore here and was wondering if there are car groups or clubs at Iowa or any in Iowa City? <eos> \n",
            "<bos> Hey all, This is the last prereq I need for admission into Tippie. I've ran into pickle with this class. I'm far behind and trying to catch up with math at my CC in my last semester. I'm wondering if I should attempt it at Iowa or try it at Kirkwood when I transfer. <eos> \n",
            "<bos> This happened at 7:30ishpm I was going to hy-vee to get some Gatorade sports drink at a good price of 60 cents each. I was going on the highway 1 straight ahead and saw some guys in typical construction/tradesmen/laborer uniform only to find out that they were not and holding some buckets. This here bloke came up to me and wanted money from me to feed the homeless. My driver's window was not functioning quite right and so I couldn't roll it down and so I just shook my head at him and he went towards the drive behind me. I'll be frank, I am in an inadequate spot in my life right now regarding socioeconomic status and so the real last thing I need is random blokes left  right (It wasn't just one person, there were 4-5 guys occupying spots where drivers need to wait until the light changes which is 2 minutes at this spot) coming up to me and asking me for dinero for whatever their cause is. There is a regular hobo occupying that there spot on hwy 1 and sometimes the one next towards McDonalds and that hobo does not come up to random drivers asking for dinero.  I'm making this here post because it came as a major surprise attacks and surprise attacks are unwanted and thus deal extra damage. I couldn't find the fruit punch at the waterfront one and so I went towards the 1st avenue and came back on the same hwy 1 and those blokes still out there. If I had to guess, I reckon they would be there every Tuesday night.  <eos> \n",
            "<bos> I'm an incoming freshman this fall. My dorm room is in Slater on the 12th floor (ROTC LLC) How's it like living in the building/in this LLC if anyone has the experience <eos> \n",
            "<bos> Preferably with some space to lay out some maps and food. <eos> \n",
            "<bos> I live in South Carolina and after them sending a bunch of emails I’m starting considering UI. What kind of reputation does the school have? It seems fairly progressive and inclusive from what I can tell and that’s pretty appealing to me, a gay progressive. Is it more a party school or is it serious or a mix? Is it sports crazy? What’s Iowa City like? Are there any other small details I should know about the school? Also my major is gonna be political science and something else  <eos> \n",
            "<bos> I'm an incoming graduate student who's trying to decide whether I need a car in Iowa City. I'm going to be living off campus, just a couple blocks away but  1. I'd much rather drive to class during the winter than walk 2. If there's cool things to do off-campus, I'd rather drive than take a bus / uber  However, if parking is truly as bad as people say it is, then perhaps public transportation is the best way to go. Can anyone who drives / doesn't drive give me some info on whether I should do one or the other? Thanks and go Hawkeyes! EDIT: You all are so pleasant! I can't wait to come here!  <eos> \n",
            "<bos> Currently on track to graduate with a BBA in economics after my junior year. However, I miss writing and having stimulating class conversations with my peers. What humanities department e.g. philosophy, political science, history, english, etc. have you found to be the most engaging and thought provoking?  <eos> \n",
            "<bos> Hey I had a quick question for everyone. I understand the football tickets are only available on your phone this year, rather than the traditional stubs. My question is how one would go about either selling or buying a ticket now that this is the case.  Thanks for any and all answers! <eos> \n",
            "<bos> I'm interested in rushing purely for social reasons. I want to make a lot of friends and party. I'm only rushing the frats with houses as well. The thing is the info stuff is tomorrow and the events start Saturday and by Wednesday it's all over, so I want to get any last minute advice or whatever before it's too late.  Yes I like to drink and have fun, but, I'd rather not join a frat who will haze me to the point of drugs, getting hurt, etc.... sure no hazing or small hazing is fine but I'm not trying to die or anything crazy. Thanks  <eos> \n",
            "<bos> わたしはトレナリーです。 Alright, enough moon runes for now. I noticed that between my section of first year Japanese and a few others, there are a great deal of schedule conflicts between gakusee. These conflicts make study groups very difficult to form. So, I decided that if we work together and pool the Japanese students across all sections, we might be able to form decent sized groups for study.  Since not everyone can make it to Ochanojikan, I encourage us to practice our speaking as much as we can when we have group time. The idea is kind of on the back burner, but we could also try to find time for speaking groups if it isn't as convenient during study group times.  <eos> \n",
            "<bos> Point me towards that easy A 😂 <eos> \n",
            "<bos> I know many college students knew Kirk, so I just wanted to let you know. When the obituary is up I'll post it on r/IowaCityFunnery with the rest of the articles. He was a really good guy.  <eos> \n",
            "<bos> I'll be at UI this summer for an internship, and I'm trying to figure out if i should drive or fly in. It's an 18 hour drive so I'd kind of prefer to fly, but I need to know if the city is do-able without a car...  <eos> \n",
            "<bos> I visited UI and I really really like it but I'm afraid that since it's such a big party school the general population doesn't really care about academics much. Have you had inspiring professors? If I imagine my dream class setting it would be a class with a really good teacher with all the students completely engaged in learning for the sake of learning. Is there a nerdy culture at UI? <eos> \n",
            "<bos> So I'm going to be coming to UIowa for a summer research program. From what I can tell, I'm going to be living at Petersen Hall. What should I expect? Are the rooms nice? Or should I just be mentally prepared for a ~~jail cell~~ normal dorm room w/ no AC? I'm just curious for some input from students.  <eos> \n",
            "<bos> Hey everyone, I'm a transferred sophomore brand new to Iowa City and I just had a question about working out and fitness on campus. I've been going to the rec since school started but for me I like working out alone with not so much of a crowd and with my limited schedule each day to lift I was wondering if there's other options on hand for lifting that would let me workout with not as much people. Not that I really have a problem with people being around I just like to get my workout in and get done and when I'm at the rec it makes it difficult. Anyone have any suggestions? I've heard about \"campus east\" or something over by the IMU but I've never ventured over that way. Thanks! <eos> \n",
            "<bos> Hi! I'm a SHS undergrad from U of Southern Miss getting ready to graduate, and I'm interested in UIowa's clinical doctorate program. Could anyone give me any info as far as how to program is, financial info, etc.? I'd really appreciate any help!  Also, to any Hawkeye CFB fans reading this, you guys have been playing great this season! Keep it up!  <eos> \n",
            "<bos> I've been working on a 3rd-person RPG game for PC over the last 6 months and I would love to find a group of like-minded people to discuss it (Friends and family have been great, but I don't get a lot of dev/design advice from there). I've checked for meetups and I haven't found much in terms of developer groups, and the ones I have found are centered around certain technologies that I have no plans to use. I'd be interested in meeting up with anyone with game development interests / experience, although if you're interested in specifics, I'm using Unreal Engine 4 with blueprint scripting and C++. For anyone interested, here's a very early version of the game's website: www.manifestquest.net <eos> \n",
            "<bos> Trying to finish up some gen eds and not sure which lib arts and sciences class I should take <eos> \n",
            "<bos> Are there any opportunities for men to join a fraternity after the fall rush? If so where would I go to do so? Thank you. <eos> \n",
            "<bos> Figure I'd post here. I'm coming from Malaysia in the Fall, taking an MBA. I've just got a few inquiries for those in Iowa City, hope some of you can help me. 1. Do you guys do Reddit meets and the like? I'm essentially heading there by myself, could use a guide around the bars. 2. I'm a musician in my home town, I'm considering bringing my pedalboard and buying a guitar there (Squier Tele in case anyone wants to get rid of one). I was wondering how the music scene is like there and any open mics. I found two places on the internet, The Mill and the Yacht Club, that apparently have open mics. I wonder if that's really the case. 3. Anyone looking for a roommate? :) Been having no luck with the Off-campus website so trying my luck here. For the record I spent some years in Des Moines so I'm not totally unfamiliar with the States, but the last time I was in Iowa City was 2009 so it's been a long while. Thanks and hope to see you guys in August. <eos> \n",
            "<bos> last minute change of plans... Free to whoever isn't a murderer. If you are a guy, you can buy me a couple beers. If a cute female, beers are on me. I will update this around 6pm. Show is at 8pm and would like to meet there around 7:20pm. P.S. This band is fucking awesome.  <eos> \n",
            "<bos> I have tickets for 11/25 FB game, but can't find info about renting a seat back. Obviously I don't attend regularly. I have seen then installed before the games. Any info would be appreciated.  <eos> \n",
            "<bos> [url link] <eos> \n",
            "<bos> The closer it gets to the start of the semester, the more I'm debating it. I already have a pretty packed course load so I don't want to overdo it. Any experience on how much out of class time it usually takes/week? <eos> \n",
            "<bos> I'm planning a little get-together with some friends I haven't seen in a while. I'd like to do something like the old Brew and View out in Rock Island, but I'm pretty sure that's been closed for many years. Has no one else in the Iowa City/Quad Cities region tapped into this obvious business model or am I just doing a bad job of searching the internets? <eos> \n",
            "<bos> Lots of emergency vehicles and police. The street was blocked off as of about an hour ago <eos> \n",
            "<bos> some dude was trying to explain this program for rooming but I didn't really understand? Is is literally just a way to switch room mates? <eos> \n",
            "<bos> I want to transfer to Iowa to major in animation but I can't find any information on it online and it's been over a week since my advisor contacted them for information and I still haven't heard anything back. Last year I did talk to someone (I presume a professor) who was involved in computer science and he said that computer science sometimes mixes with animation. I would assume because most modern animation is done in programs like maya/blender.  Anyways that's basically all the information I have on it but I would really like to talk to someone who can tell me more. Edit: Reading this back to myself I think it's a little vague. What would the classes look like? (I already have about a year's worth of general education) What kind of animation does it cover 2d/3d/both/your choice? Are there a lot of general art classes I would have to take like painting sculpting sketching etc? <eos> \n",
            "<bos> Just looking for a distraction since my friend is in the hospital. Could be fun stuff, drinking stuff, going to a game or movie, whatever. Meeting new people would be fine or just advice on what to do. Anyway, thanks for reading. <eos> \n",
            "<bos> Hi everybody! I am going to be an incoming freshman at the University of Iowa (Class of 2018) and I am looking for any advice, tips, really anything you guys can tell me that would be helpful to me during my freshman year. Things that I need to have for my room/things I have to bring from home, details about my hall (Hillcrest), but yeah, like I said, anything helps. Just let me know and everything is appreciated. Thanks so much! <eos> \n",
            "<bos> So this subreddit's been dead for the past few months, and with a meager amount of users subscribed, I think it's time to push to make this subreddit awesome again! The reddit college contest [here]([url link] inspired me, but I think it's a good idea nonetheless to get a strong reddit presence in Iowa City. Possible ideas: Posters around campus, stickers, ads in The Daily Iowan. But I first think it'd be nice to get an idea of who still lurks here. <eos> \n",
            "<bos> Hey guys, I've been accepted into the Honors program as a first-year Computer Science and Engineering major. I am just worried that I won't be able to handle the rigorous amount of coursework to maintain at least a 3.33 G.P.A. Is it pretty difficult, or am I worrying too much? If I do find it too overwhelming, would it be better to switch to the B.S. program for C.S. and do Honors, or do the B.S.E. program for C.S.E. and drop Honors? I'm also unsure about how Gen Eds would transfer if I switch out of Engineering. <eos> \n",
            "<bos> Currently a freshman looking at my housing options for next year. The dorm rooms for returning students are full, and it seems like the apartment options are limited to a) scumbag landlords who screw you over via Apartments Downtown, Apartments Near Campus, or any other variation, or b) apartments that are nice but not typically rented by underclassmen. It's looking more and more like the housing situation in Iowa City was just created to screw over college students. Any suggestions? <eos> \n",
            "<bos> I sent a package to a friend of mine attending University of Iowa, but I accidentally sent it to her dorm and she moved back to her hometown for the summer. Is there a way to forward mail and packages to a home address? <eos> \n",
            "<bos> Hey guys, I'm actually a student at UF but grew up a Hawkeyes fan. Really want to go to the Penn state game at Kinnick next season and would love some advice on best way to get there/where to stay/ how friendly are the frats if I show up with beer etc.  Thanks!!  <eos> \n",
            "<bos> Looking for a decent quality pic of the paper thing from this weekends game, either the stars and stripes one or the ANF for the background on my computer. Thanks! <eos> \n",
            "<bos> Reposted from [url link] Can't find anything official on it <eos> \n",
            "<bos> So I've had a pretty shitty experience with dorm life. Most people on my floor either never leave their rooms or don't speak English, and the few that do socialize are extremely cliquey. I'm not exaggerating when I say I know the people in my friends' floors better than I do on my own floor, but sadly all my friends live in different halls so I can't see them too often. Making things worse, my roommate is depressed and antisocial and doesn't let me bring my friends in the room or leave the door open. She resists all my attempts to make conversation and pretty much has not even tried to befriend me from day one. I can't help but be extremely envious when I hear about the fun most of my friends have had living in the dorms, and I want to have that experience too. Is it worth applying to the dorms again as a sophomore, or should I cut my losses and just get an apartment with my friends? edit: thanks for all the replies!! I'm definitely leaning toward the apartment at this point but I wanted to hear from some upperclassmen before taking the plunge. <eos> \n",
            "<bos> Any recommendations on finance electives in order to complete my finance degree? Looking for a class that can be useful and interesting, but not a huge time commitment <eos> \n",
            "<bos> I finished my housing application in February and was wondering when I will be able to pick my dorm. I’m going with a random roommate. Do u think Catlett and Peterson will still be available for me. Thank you guys. <eos> \n",
            "<bos> I am so tired of trudging through blinding sheets of snow to get to class. In the three years I've been here, they have never canceled classes for snow. Just complaining :( <eos> \n",
            "<bos> I'm going to Orientation on Thursday and Friday. Aside from the usual overnight stuff, what should I bring along to make the most of it? <eos> \n",
            "<bos> I'm transferring from new jersey to UIowa next year and had a couple questions. 1. I applied for a single, how soon will I know if I got it or should I look for a roommate 2. Do I get to pick my own building to stay in? 3. Whats the bar scene like, do they usually card people under 21? This may be a dumb question but I know a few of the college bars near me right now don't card people under 21. 4. Is it worth getting one of the mopeds to drive around the campus or no? The campus seemed pretty walkable. 5. How much usually do people get charged to get into a party <eos> \n",
            "<bos> I'm about to get my own place soon and I want wifi to be set up ASAP. Can you please recommend a good company? How much do you pay? I don't watch TVs, I only need internet. thanks <eos> \n",
            "<bos> I'm visiting University of Iowa for a 2nd time to determine if I want to call it home for 4 years (as well as a visit to State). I'm from Wisconsin so need to figure out if Iowa City, and the state itself , is the place for me. So, this time around, I want to spend time in town. Recommend places to eat or explore to get a feel for the vibe of the place. Thx. if it helps, I'm huge into coffee, books, etc <eos> \n",
            "<bos> Just looking for an elective for some easy credits and a GPA boost. I should also note that I intend to take advantage of the summer hawk tuition grant so the class has to be through the university. Also, online classes are preferable as they keep my schedule flexible for work. <eos> \n",
            "<bos> Hi everyone, I just bought a new Apple TV and was wondering if the University provides the login credentials to use the WatchESPN, ABC go, etc. apps on the Apple TV. Any help is appreciated, thanks! <eos> \n",
            "<bos> I'm trying to figure out what they'd allow and what they wouldn't, and also what a clever one might be. Like a stanzi one? Or IPARTY?  Have you guys seen any good ones?  <eos> \n",
            "<bos> where's the plug hidden behind bed? free right? <eos> \n",
            "<bos> Does anyone at the U of I do Crossfit? Is Crossfit feasible for busy freshmen with interests in other activities? I appreciate any info. <eos> \n",
            "<bos> Hey guys, stupid freshman here, I have no idea what text books I need or where to buy them. Help? Edit: thanks m8s. <eos> \n",
            "<bos> This is probably a dumb question and I may be made fun of for being an unknowing freshman, but is there enough time to walk from the EPB to the PC in 10 minutes to make a class? I google mapped it (I know, could I get any worse) and it says it would take exactly 10 minutes. I'm really worried about my schedule in the walking regards and was hoping someone could help me out. Or is there a bus route that could get there quickly? <eos> \n",
            "<bos> I will be transferring in this fall, living off campus, and commuting in most days. I will probably be parking on campus somewhere, and I would like to know how safe the parking lots are. I have gaps in my classes, and I'd like to go to the gym before, in between, or after classes, so I would want to swap out my book bag for my gym bag. I don't want my car broken into!  So how safe is it typically? Have there been instances of people casing the lots? I don't want to be paranoid, but I lived in a big city for a really long time, and Iowa is just too safe to believe sometimes. :/ Thanks! <eos> \n",
            "<bos> Are people wearing their costumes to the game or are they waiting until afterwards to show them off? <eos> \n",
            "<bos> I am looking for work, and might be able to get a job at both Brothers and Union. In the end I will likely only be able to get one. Which should I choose. Any stories from working at either of these places? I know people make more at Brothers, but I will probably make bartender faster at Union. <eos> \n",
            "<bos> I'm looking into Iowa as a prospective student, however i'm not into partying and definitely not frats. Will I feel left out? <eos> \n",
            "<bos> Anyone know about any house shows coming up? I heard the underground music scene was pretty good and wanna start going to some of these shows. <eos> \n",
            "<bos> I have a teaching assistantship with the Department of Anthropology starting in the fall and the contract states I will be paid a minimum of $19k for 2 semesters. Is this taxed? If so, how much? Are paychecks monthly? I'm trying to gauge how much I'll actually be able to afford with a teaching assistantship.  <eos> \n",
            "<bos> So, Hillcrest seems to be the best dorm for based on amenities and what not (c store, gym, close to athletic facilities and stadiums, etc) but I don't really want to be the only non-sports player on my floor.  It's not that I do not like or play sports because I do (I played basketball and baseball in high school) but I know from experience people on the same sports team usually stick together and since I won't be playing for Iowa I don't want to be left out... If it is a large majority student athletes is it hard to make friends in the dorms as a non student athlete? Also are the students here typically freshmen? Thanks :) <eos> \n"
          ]
        }
      ],
      "source": [
        "for pt in val_posts:\n",
        "  print(pt)"
      ]
    },
    {
      "cell_type": "code",
      "execution_count": 17,
      "metadata": {
        "colab": {
          "base_uri": "https://localhost:8080/"
        },
        "id": "9Ta_z5YynOfD",
        "outputId": "96e44da9-8801-41dc-a294-483ee31f2643"
      },
      "outputs": [
        {
          "output_type": "stream",
          "name": "stdout",
          "text": [
            "[\"<bos> I'm a transfer student starting my first year and I was places on the second floor of Hillcrest. Anyone else living in that dorm? So far all of my friends are living in Burge. <eos> \", '<bos> Here is a good resource to get organized for your coursework. [syllabuddy.com]([url link] Simply upload your syllabus and all important dates are instantly extracted to your Google/Apple calendars. <eos> ', \"<bos> I got accepted as a transfer student into the CS program. I'm curious what is like, i.e. what are the main focuses such as AI, software development, algorithms, etc. <eos> \", \"<bos> Saw a new company out there today. Mustache Cab (let's go for a mustache ride!).   Seriously, that was their tag line on the side. Any way, as of yet, this is an unlicensed, unregistered company with the city. If you ride them right now, be aware that they are an illegal operation.   Take that as you will. I know plenty of people are fed up enough with the current system that they'll try any alternative. This guy, by nature of being unlicensed, can charge you whatever excessive prices he wishes, and the city has no control over them (other than some high tickets when people like you call in to complain).   If you want to be especially assholeish about it, take a ride, and refuse to pay. Let them call the cops, and when the officer shows up, ask them where the city taxi sticker is (should be top corner of the front window, passenger side).   I like my industry. I understand most of the complaints against it. I'm not anti Uber/Lyft/etc on principal, just against their legal word play. This cab I'm talking about is *not* a ride-share. Bubble light on top, sides decorated with company info and number, etc..   This is just an illegal taxi. And because he's illegal, you have no idea what he feels like he can get away with against you. <eos> \", \"<bos> Hey guys...I'm a transfer student coming in this spring, and I need some honest opinions. I know 0 people at Iowa basically, but am transferring regardless. I have qualified for the honors program and saw that they have housing, like the Centerstone apartments. I'm wondering if these are cool places to live, or if its an all out nerd-fest. While I would much rather just live in an apartment off campus, I have nobody to live with obviously and so i thought this would be a viable option.  Is Centerstone a nice place that's relatively fun...or should I take my chances living with some random people off campus?  Moreover, is there some sort of transfer house that you know of?  Basically I'm wondering what my options are and appreciate ALL input about what gives me the best Iowa Experience.  Stay beautiful, -Der_Arschloch <eos> \", \"<bos> I'm an incoming grad student in the nonfiction writing program and don't know anybody in Iowa yet haha. I already signed a 2BR lease for the fall, but not sure where to find roomies! it's a great place and already tried Craigslist and Facebook, but is there anywhere else I can look? help, reddit! :) <eos> \", '<bos> Does the UIowa hospital drug test its volunteers?  <eos> ', \"<bos> Could someone please give me a description of the different dorms at Iowa? I'm going there next year, and I have no idea what the dorms are like. It would be much appreciated [: <eos> \", \"<bos> Hi All.  I just got accepted into U of Iowa as an International Relations/Theater Arts double major and I've been liking a lot of what I've read about the school.  Just a few questions I have: 1. What's the social scene like? Is it mostly parties? Is there other things to do if it is? 2. What's the theater program like? Is it its own social group like it is in high school or do they blend in with the rest of the school? 3. How much is Greek Life part of social life? 4. I currently live about 40 minutes East of San Francisco. Is U of Iowa a noticeably small town or is it lovely enough that you don't notice? 5. How do you like the school? Would you go there again if you did it all over? Thanks a ton!  <eos> \", '<bos> Activities, places, opportunities, facts, etc. Things that are rare but not necessarily unique are also of interest. <eos> ', \"<bos> I've got some questions I'd love to ask about the program if any of you guys are subbed here. <eos> \", \"<bos> [url link] Think they've noticed yet? <eos> \", \"<bos> Moving from California and I can't seem to find an apartment! Wondering if anybody out three is looking for a roommate for fall? <eos> \", '<bos> Choose wisely, hawkeyes.  <eos> ', \"<bos> I have a class with Garfinkel next semester, is there anything I should know about him? I can't find any information anywhere <eos> \", '<bos> Looking for recommendations on the best place to advertise or means of finding students interested in a sublet. Any useful suggestions welcome  <eos> ', \"<bos> Hi! I'm thinking about applying to the U of I for a double major in Japanese Language (Asian Studies) and Computer Science. I'd be a transfer student, graduating this year from Sitting Bull College with a 3.33 GPA. At SBC, I studied Computer Science (A.S.) and was Co-Founder as well as President for two years of SBC Anime Club. Also, I'm 21, but will be 22 by the time I start if I go to U of I. So onto my questions: 1) Who else is part of the Japanese Language and/or Computer Science Majors? 2) I am on the Autism Spectrum Disorder, so I have a tough time making friends. My interests or Japanese Culture, Computers, Cooking, Anime, Photography, Art, Dancing. What student activities do you suggest for me to look at joining? 3) I am also interested in looking at rushing sororities. What is rush week like and what do the different sororities look for. <eos> \", '<bos> Hello! I am a rising senior at a high school on Long Island, NY. I have enrolled in AP Gov and was assigned the state of Iowa for a project where I must predict the outcome of the presidential election in this state and explain why that candidate will win. I was hoping that someone with a greater knowledge and insight to the state of Iowa and its politics could help me. If anyone has the time, I was hoping they could answer some brief questions so that I can use your insight for my research paper. The questions are: Which candidate do you believe will win the presidential election for the state of Iowa and why? What do you believe the general consensus on campus is? Also, if you could provide your name (first name only is fine) that would be very helpful in quoting you. Thank you for taking the time to read this and I appreciate any and all help I can get. <eos> ', '<bos> I am a sophomore here and was wondering if there are car groups or clubs at Iowa or any in Iowa City? <eos> ', \"<bos> Hey all, This is the last prereq I need for admission into Tippie. I've ran into pickle with this class. I'm far behind and trying to catch up with math at my CC in my last semester. I'm wondering if I should attempt it at Iowa or try it at Kirkwood when I transfer. <eos> \", \"<bos> This happened at 7:30ishpm I was going to hy-vee to get some Gatorade sports drink at a good price of 60 cents each. I was going on the highway 1 straight ahead and saw some guys in typical construction/tradesmen/laborer uniform only to find out that they were not and holding some buckets. This here bloke came up to me and wanted money from me to feed the homeless. My driver's window was not functioning quite right and so I couldn't roll it down and so I just shook my head at him and he went towards the drive behind me. I'll be frank, I am in an inadequate spot in my life right now regarding socioeconomic status and so the real last thing I need is random blokes left  right (It wasn't just one person, there were 4-5 guys occupying spots where drivers need to wait until the light changes which is 2 minutes at this spot) coming up to me and asking me for dinero for whatever their cause is. There is a regular hobo occupying that there spot on hwy 1 and sometimes the one next towards McDonalds and that hobo does not come up to random drivers asking for dinero.  I'm making this here post because it came as a major surprise attacks and surprise attacks are unwanted and thus deal extra damage. I couldn't find the fruit punch at the waterfront one and so I went towards the 1st avenue and came back on the same hwy 1 and those blokes still out there. If I had to guess, I reckon they would be there every Tuesday night.  <eos> \", \"<bos> I'm an incoming freshman this fall. My dorm room is in Slater on the 12th floor (ROTC LLC) How's it like living in the building/in this LLC if anyone has the experience <eos> \", '<bos> Preferably with some space to lay out some maps and food. <eos> ', '<bos> I live in South Carolina and after them sending a bunch of emails I’m starting considering UI. What kind of reputation does the school have? It seems fairly progressive and inclusive from what I can tell and that’s pretty appealing to me, a gay progressive. Is it more a party school or is it serious or a mix? Is it sports crazy? What’s Iowa City like? Are there any other small details I should know about the school? Also my major is gonna be political science and something else  <eos> ', \"<bos> I'm an incoming graduate student who's trying to decide whether I need a car in Iowa City. I'm going to be living off campus, just a couple blocks away but  1. I'd much rather drive to class during the winter than walk 2. If there's cool things to do off-campus, I'd rather drive than take a bus / uber  However, if parking is truly as bad as people say it is, then perhaps public transportation is the best way to go. Can anyone who drives / doesn't drive give me some info on whether I should do one or the other? Thanks and go Hawkeyes! EDIT: You all are so pleasant! I can't wait to come here!  <eos> \", '<bos> Currently on track to graduate with a BBA in economics after my junior year. However, I miss writing and having stimulating class conversations with my peers. What humanities department e.g. philosophy, political science, history, english, etc. have you found to be the most engaging and thought provoking?  <eos> ', '<bos> Hey I had a quick question for everyone. I understand the football tickets are only available on your phone this year, rather than the traditional stubs. My question is how one would go about either selling or buying a ticket now that this is the case.  Thanks for any and all answers! <eos> ', \"<bos> I'm interested in rushing purely for social reasons. I want to make a lot of friends and party. I'm only rushing the frats with houses as well. The thing is the info stuff is tomorrow and the events start Saturday and by Wednesday it's all over, so I want to get any last minute advice or whatever before it's too late.  Yes I like to drink and have fun, but, I'd rather not join a frat who will haze me to the point of drugs, getting hurt, etc.... sure no hazing or small hazing is fine but I'm not trying to die or anything crazy. Thanks  <eos> \", \"<bos> わたしはトレナリーです。 Alright, enough moon runes for now. I noticed that between my section of first year Japanese and a few others, there are a great deal of schedule conflicts between gakusee. These conflicts make study groups very difficult to form. So, I decided that if we work together and pool the Japanese students across all sections, we might be able to form decent sized groups for study.  Since not everyone can make it to Ochanojikan, I encourage us to practice our speaking as much as we can when we have group time. The idea is kind of on the back burner, but we could also try to find time for speaking groups if it isn't as convenient during study group times.  <eos> \", '<bos> Point me towards that easy A 😂 <eos> ', \"<bos> I know many college students knew Kirk, so I just wanted to let you know. When the obituary is up I'll post it on r/IowaCityFunnery with the rest of the articles. He was a really good guy.  <eos> \", \"<bos> I'll be at UI this summer for an internship, and I'm trying to figure out if i should drive or fly in. It's an 18 hour drive so I'd kind of prefer to fly, but I need to know if the city is do-able without a car...  <eos> \", \"<bos> I visited UI and I really really like it but I'm afraid that since it's such a big party school the general population doesn't really care about academics much. Have you had inspiring professors? If I imagine my dream class setting it would be a class with a really good teacher with all the students completely engaged in learning for the sake of learning. Is there a nerdy culture at UI? <eos> \", \"<bos> So I'm going to be coming to UIowa for a summer research program. From what I can tell, I'm going to be living at Petersen Hall. What should I expect? Are the rooms nice? Or should I just be mentally prepared for a ~~jail cell~~ normal dorm room w/ no AC? I'm just curious for some input from students.  <eos> \", '<bos> Hey everyone, I\\'m a transferred sophomore brand new to Iowa City and I just had a question about working out and fitness on campus. I\\'ve been going to the rec since school started but for me I like working out alone with not so much of a crowd and with my limited schedule each day to lift I was wondering if there\\'s other options on hand for lifting that would let me workout with not as much people. Not that I really have a problem with people being around I just like to get my workout in and get done and when I\\'m at the rec it makes it difficult. Anyone have any suggestions? I\\'ve heard about \"campus east\" or something over by the IMU but I\\'ve never ventured over that way. Thanks! <eos> ', \"<bos> Hi! I'm a SHS undergrad from U of Southern Miss getting ready to graduate, and I'm interested in UIowa's clinical doctorate program. Could anyone give me any info as far as how to program is, financial info, etc.? I'd really appreciate any help!  Also, to any Hawkeye CFB fans reading this, you guys have been playing great this season! Keep it up!  <eos> \", \"<bos> I've been working on a 3rd-person RPG game for PC over the last 6 months and I would love to find a group of like-minded people to discuss it (Friends and family have been great, but I don't get a lot of dev/design advice from there). I've checked for meetups and I haven't found much in terms of developer groups, and the ones I have found are centered around certain technologies that I have no plans to use. I'd be interested in meeting up with anyone with game development interests / experience, although if you're interested in specifics, I'm using Unreal Engine 4 with blueprint scripting and C++. For anyone interested, here's a very early version of the game's website: www.manifestquest.net <eos> \", '<bos> Trying to finish up some gen eds and not sure which lib arts and sciences class I should take <eos> ', '<bos> Are there any opportunities for men to join a fraternity after the fall rush? If so where would I go to do so? Thank you. <eos> ', \"<bos> Figure I'd post here. I'm coming from Malaysia in the Fall, taking an MBA. I've just got a few inquiries for those in Iowa City, hope some of you can help me. 1. Do you guys do Reddit meets and the like? I'm essentially heading there by myself, could use a guide around the bars. 2. I'm a musician in my home town, I'm considering bringing my pedalboard and buying a guitar there (Squier Tele in case anyone wants to get rid of one). I was wondering how the music scene is like there and any open mics. I found two places on the internet, The Mill and the Yacht Club, that apparently have open mics. I wonder if that's really the case. 3. Anyone looking for a roommate? :) Been having no luck with the Off-campus website so trying my luck here. For the record I spent some years in Des Moines so I'm not totally unfamiliar with the States, but the last time I was in Iowa City was 2009 so it's been a long while. Thanks and hope to see you guys in August. <eos> \", \"<bos> last minute change of plans... Free to whoever isn't a murderer. If you are a guy, you can buy me a couple beers. If a cute female, beers are on me. I will update this around 6pm. Show is at 8pm and would like to meet there around 7:20pm. P.S. This band is fucking awesome.  <eos> \", \"<bos> I have tickets for 11/25 FB game, but can't find info about renting a seat back. Obviously I don't attend regularly. I have seen then installed before the games. Any info would be appreciated.  <eos> \", '<bos> [url link] <eos> ', \"<bos> The closer it gets to the start of the semester, the more I'm debating it. I already have a pretty packed course load so I don't want to overdo it. Any experience on how much out of class time it usually takes/week? <eos> \", \"<bos> I'm planning a little get-together with some friends I haven't seen in a while. I'd like to do something like the old Brew and View out in Rock Island, but I'm pretty sure that's been closed for many years. Has no one else in the Iowa City/Quad Cities region tapped into this obvious business model or am I just doing a bad job of searching the internets? <eos> \", '<bos> Lots of emergency vehicles and police. The street was blocked off as of about an hour ago <eos> ', \"<bos> some dude was trying to explain this program for rooming but I didn't really understand? Is is literally just a way to switch room mates? <eos> \", \"<bos> I want to transfer to Iowa to major in animation but I can't find any information on it online and it's been over a week since my advisor contacted them for information and I still haven't heard anything back. Last year I did talk to someone (I presume a professor) who was involved in computer science and he said that computer science sometimes mixes with animation. I would assume because most modern animation is done in programs like maya/blender.  Anyways that's basically all the information I have on it but I would really like to talk to someone who can tell me more. Edit: Reading this back to myself I think it's a little vague. What would the classes look like? (I already have about a year's worth of general education) What kind of animation does it cover 2d/3d/both/your choice? Are there a lot of general art classes I would have to take like painting sculpting sketching etc? <eos> \", '<bos> Just looking for a distraction since my friend is in the hospital. Could be fun stuff, drinking stuff, going to a game or movie, whatever. Meeting new people would be fine or just advice on what to do. Anyway, thanks for reading. <eos> ', '<bos> Hi everybody! I am going to be an incoming freshman at the University of Iowa (Class of 2018) and I am looking for any advice, tips, really anything you guys can tell me that would be helpful to me during my freshman year. Things that I need to have for my room/things I have to bring from home, details about my hall (Hillcrest), but yeah, like I said, anything helps. Just let me know and everything is appreciated. Thanks so much! <eos> ', \"<bos> So this subreddit's been dead for the past few months, and with a meager amount of users subscribed, I think it's time to push to make this subreddit awesome again! The reddit college contest [here]([url link] inspired me, but I think it's a good idea nonetheless to get a strong reddit presence in Iowa City. Possible ideas: Posters around campus, stickers, ads in The Daily Iowan. But I first think it'd be nice to get an idea of who still lurks here. <eos> \", \"<bos> Hey guys, I've been accepted into the Honors program as a first-year Computer Science and Engineering major. I am just worried that I won't be able to handle the rigorous amount of coursework to maintain at least a 3.33 G.P.A. Is it pretty difficult, or am I worrying too much? If I do find it too overwhelming, would it be better to switch to the B.S. program for C.S. and do Honors, or do the B.S.E. program for C.S.E. and drop Honors? I'm also unsure about how Gen Eds would transfer if I switch out of Engineering. <eos> \", \"<bos> Currently a freshman looking at my housing options for next year. The dorm rooms for returning students are full, and it seems like the apartment options are limited to a) scumbag landlords who screw you over via Apartments Downtown, Apartments Near Campus, or any other variation, or b) apartments that are nice but not typically rented by underclassmen. It's looking more and more like the housing situation in Iowa City was just created to screw over college students. Any suggestions? <eos> \", '<bos> I sent a package to a friend of mine attending University of Iowa, but I accidentally sent it to her dorm and she moved back to her hometown for the summer. Is there a way to forward mail and packages to a home address? <eos> ', \"<bos> Hey guys, I'm actually a student at UF but grew up a Hawkeyes fan. Really want to go to the Penn state game at Kinnick next season and would love some advice on best way to get there/where to stay/ how friendly are the frats if I show up with beer etc.  Thanks!!  <eos> \", '<bos> Looking for a decent quality pic of the paper thing from this weekends game, either the stars and stripes one or the ANF for the background on my computer. Thanks! <eos> ', \"<bos> Reposted from [url link] Can't find anything official on it <eos> \", \"<bos> So I've had a pretty shitty experience with dorm life. Most people on my floor either never leave their rooms or don't speak English, and the few that do socialize are extremely cliquey. I'm not exaggerating when I say I know the people in my friends' floors better than I do on my own floor, but sadly all my friends live in different halls so I can't see them too often. Making things worse, my roommate is depressed and antisocial and doesn't let me bring my friends in the room or leave the door open. She resists all my attempts to make conversation and pretty much has not even tried to befriend me from day one. I can't help but be extremely envious when I hear about the fun most of my friends have had living in the dorms, and I want to have that experience too. Is it worth applying to the dorms again as a sophomore, or should I cut my losses and just get an apartment with my friends? edit: thanks for all the replies!! I'm definitely leaning toward the apartment at this point but I wanted to hear from some upperclassmen before taking the plunge. <eos> \", '<bos> Any recommendations on finance electives in order to complete my finance degree? Looking for a class that can be useful and interesting, but not a huge time commitment <eos> ', '<bos> I finished my housing application in February and was wondering when I will be able to pick my dorm. I’m going with a random roommate. Do u think Catlett and Peterson will still be available for me. Thank you guys. <eos> ', \"<bos> I am so tired of trudging through blinding sheets of snow to get to class. In the three years I've been here, they have never canceled classes for snow. Just complaining :( <eos> \", \"<bos> I'm going to Orientation on Thursday and Friday. Aside from the usual overnight stuff, what should I bring along to make the most of it? <eos> \", \"<bos> I'm transferring from new jersey to UIowa next year and had a couple questions. 1. I applied for a single, how soon will I know if I got it or should I look for a roommate 2. Do I get to pick my own building to stay in? 3. Whats the bar scene like, do they usually card people under 21? This may be a dumb question but I know a few of the college bars near me right now don't card people under 21. 4. Is it worth getting one of the mopeds to drive around the campus or no? The campus seemed pretty walkable. 5. How much usually do people get charged to get into a party <eos> \", \"<bos> I'm about to get my own place soon and I want wifi to be set up ASAP. Can you please recommend a good company? How much do you pay? I don't watch TVs, I only need internet. thanks <eos> \", \"<bos> I'm visiting University of Iowa for a 2nd time to determine if I want to call it home for 4 years (as well as a visit to State). I'm from Wisconsin so need to figure out if Iowa City, and the state itself , is the place for me. So, this time around, I want to spend time in town. Recommend places to eat or explore to get a feel for the vibe of the place. Thx. if it helps, I'm huge into coffee, books, etc <eos> \", '<bos> Just looking for an elective for some easy credits and a GPA boost. I should also note that I intend to take advantage of the summer hawk tuition grant so the class has to be through the university. Also, online classes are preferable as they keep my schedule flexible for work. <eos> ', '<bos> Hi everyone, I just bought a new Apple TV and was wondering if the University provides the login credentials to use the WatchESPN, ABC go, etc. apps on the Apple TV. Any help is appreciated, thanks! <eos> ', \"<bos> I'm trying to figure out what they'd allow and what they wouldn't, and also what a clever one might be. Like a stanzi one? Or IPARTY?  Have you guys seen any good ones?  <eos> \", \"<bos> where's the plug hidden behind bed? free right? <eos> \", '<bos> Does anyone at the U of I do Crossfit? Is Crossfit feasible for busy freshmen with interests in other activities? I appreciate any info. <eos> ', '<bos> Hey guys, stupid freshman here, I have no idea what text books I need or where to buy them. Help? Edit: thanks m8s. <eos> ', \"<bos> This is probably a dumb question and I may be made fun of for being an unknowing freshman, but is there enough time to walk from the EPB to the PC in 10 minutes to make a class? I google mapped it (I know, could I get any worse) and it says it would take exactly 10 minutes. I'm really worried about my schedule in the walking regards and was hoping someone could help me out. Or is there a bus route that could get there quickly? <eos> \", \"<bos> I will be transferring in this fall, living off campus, and commuting in most days. I will probably be parking on campus somewhere, and I would like to know how safe the parking lots are. I have gaps in my classes, and I'd like to go to the gym before, in between, or after classes, so I would want to swap out my book bag for my gym bag. I don't want my car broken into!  So how safe is it typically? Have there been instances of people casing the lots? I don't want to be paranoid, but I lived in a big city for a really long time, and Iowa is just too safe to believe sometimes. :/ Thanks! <eos> \", '<bos> Are people wearing their costumes to the game or are they waiting until afterwards to show them off? <eos> ', '<bos> I am looking for work, and might be able to get a job at both Brothers and Union. In the end I will likely only be able to get one. Which should I choose. Any stories from working at either of these places? I know people make more at Brothers, but I will probably make bartender faster at Union. <eos> ', \"<bos> I'm looking into Iowa as a prospective student, however i'm not into partying and definitely not frats. Will I feel left out? <eos> \", '<bos> Anyone know about any house shows coming up? I heard the underground music scene was pretty good and wanna start going to some of these shows. <eos> ', \"<bos> I have a teaching assistantship with the Department of Anthropology starting in the fall and the contract states I will be paid a minimum of $19k for 2 semesters. Is this taxed? If so, how much? Are paychecks monthly? I'm trying to gauge how much I'll actually be able to afford with a teaching assistantship.  <eos> \", \"<bos> So, Hillcrest seems to be the best dorm for based on amenities and what not (c store, gym, close to athletic facilities and stadiums, etc) but I don't really want to be the only non-sports player on my floor.  It's not that I do not like or play sports because I do (I played basketball and baseball in high school) but I know from experience people on the same sports team usually stick together and since I won't be playing for Iowa I don't want to be left out... If it is a large majority student athletes is it hard to make friends in the dorms as a non student athlete? Also are the students here typically freshmen? Thanks :) <eos> \"]\n"
          ]
        }
      ],
      "source": [
        "print(val_posts)"
      ]
    },
    {
      "cell_type": "markdown",
      "metadata": {
        "id": "Wg-Wm88UiQZu"
      },
      "source": [
        "Load the trained model"
      ]
    },
    {
      "cell_type": "code",
      "execution_count": 18,
      "metadata": {
        "id": "OLkRjKXBnbeD"
      },
      "outputs": [],
      "source": [
        "model_file_path = \"Iowa/checkpoints-Iowa\""
      ]
    },
    {
      "cell_type": "code",
      "execution_count": 19,
      "metadata": {
        "id": "qyr53XpvaKHy"
      },
      "outputs": [],
      "source": [
        "OUTPUT_DIR = os.path.join(GOOGLE_DRIVE_PATH, model_file_path)\n",
        "model = GPT2LMHeadModel.from_pretrained(OUTPUT_DIR)"
      ]
    },
    {
      "cell_type": "code",
      "execution_count": 20,
      "metadata": {
        "colab": {
          "base_uri": "https://localhost:8080/",
          "height": 253,
          "referenced_widgets": [
            "b9fb3d9c3dbf4cb9b52935337792c51a",
            "29aa97018d654674a79c0c00dc8769e0",
            "3ac0a102960a48c9b5d66f940e298e1f",
            "ac560c552b484bbe840f176ac1009693",
            "472935fc158b4dcdb1232c30a465f1be",
            "c6977ea371604f5a93c41be69ccfa76c",
            "9bc0b5dee96c41bba8256c7e24c05693",
            "cb7ade5e692547e0917468597e43ca35",
            "3505558e639942f7900a2a36f199f02e",
            "aee1f02eea8046f5b0607638ca5ee405",
            "173879e3dcac4cb8bdf146e8d625b2f7",
            "86a9119b1a9f4a9f8618e77349f206ce",
            "2f0bf4cdf8bd4ba9a70adf201b9b0f21",
            "0327194d30c34ee1afe982e77d8a623e",
            "b39c16ede29945d9b7015a7a1b82da56",
            "46fafc4076c84c09a14f688a3c945130",
            "959d56c5bb074e708860f10f50b80fee",
            "e49f8d5ab65048c1a03bb3b5b2e28d84",
            "0ae230eea10446ab97779fb2a2817bc9",
            "9cce7644a8c14f3982219f07152e286f",
            "345ac8c67f0a4f89ba02aaf833e9cba0",
            "2a62d1ef049245bc86e2188035f8b5f9",
            "b497878dedcb42ba97b1ca469a31abe7",
            "a3b356cb92cd45e0979c44c4dce3c151",
            "cd7299da31f344429bd05f4f4c3b4b6c",
            "943b9f6e32984942944e73ff10aa5c71",
            "ffcf18a05b7d4bbd96e7cbb90ef68e0f",
            "a6a369e95bb24068a45b2ee2724b54ef",
            "ed4fa0a1e379437a8225edad73ed8fa8",
            "133ee27083444495bedb46eaee9bdda6",
            "948872bfa8c54211b393501b88169534",
            "afbd9d355b2444a8b899a57b8197898d",
            "505d87901220465ebfa877b2d71f2510"
          ]
        },
        "id": "jfACU5g9avip",
        "outputId": "0d18c683-de77-4e5f-c4eb-7345acbc412c"
      },
      "outputs": [
        {
          "output_type": "display_data",
          "data": {
            "text/plain": [
              "Downloading (…)olve/main/vocab.json:   0%|          | 0.00/1.04M [00:00<?, ?B/s]"
            ],
            "application/vnd.jupyter.widget-view+json": {
              "version_major": 2,
              "version_minor": 0,
              "model_id": "b9fb3d9c3dbf4cb9b52935337792c51a"
            }
          },
          "metadata": {}
        },
        {
          "output_type": "display_data",
          "data": {
            "text/plain": [
              "Downloading (…)olve/main/merges.txt:   0%|          | 0.00/456k [00:00<?, ?B/s]"
            ],
            "application/vnd.jupyter.widget-view+json": {
              "version_major": 2,
              "version_minor": 0,
              "model_id": "86a9119b1a9f4a9f8618e77349f206ce"
            }
          },
          "metadata": {}
        },
        {
          "output_type": "display_data",
          "data": {
            "text/plain": [
              "Downloading (…)lve/main/config.json:   0%|          | 0.00/665 [00:00<?, ?B/s]"
            ],
            "application/vnd.jupyter.widget-view+json": {
              "version_major": 2,
              "version_minor": 0,
              "model_id": "b497878dedcb42ba97b1ca469a31abe7"
            }
          },
          "metadata": {}
        },
        {
          "output_type": "stream",
          "name": "stderr",
          "text": [
            "Special tokens have been added in the vocabulary, make sure the associated word embeddings are fine-tuned or trained.\n"
          ]
        },
        {
          "output_type": "execute_result",
          "data": {
            "text/plain": [
              "1"
            ]
          },
          "metadata": {},
          "execution_count": 20
        }
      ],
      "source": [
        "tokenizer = GPT2Tokenizer.from_pretrained(\"gpt2\", bos_token = \"<bos>\", eos_token =\"<eos>\", truncation_side='right')\n",
        "tokenizer.add_special_tokens({'pad_token': '[PAD]'})"
      ]
    },
    {
      "cell_type": "markdown",
      "metadata": {
        "id": "uePyenDliSJa"
      },
      "source": [
        "^^^^^^run if needed "
      ]
    },
    {
      "cell_type": "code",
      "execution_count": 21,
      "metadata": {
        "colab": {
          "base_uri": "https://localhost:8080/"
        },
        "id": "_t_ZcnZCsxjn",
        "outputId": "738eb277-ed51-41a6-838f-0b2086925f31"
      },
      "outputs": [
        {
          "output_type": "stream",
          "name": "stderr",
          "text": [
            "The attention mask and the pad token id were not set. As a consequence, you may observe unexpected behavior. Please pass your input's `attention_mask` to obtain reliable results.\n",
            "Setting `pad_token_id` to `eos_token_id`:50256 for open-end generation.\n"
          ]
        },
        {
          "output_type": "stream",
          "name": "stdout",
          "text": [
            "3\n",
            "3\n"
          ]
        }
      ],
      "source": [
        "#https://colab.research.google.com/github/borisdayma/huggingtweets/blob/master/huggingtweets-demo.ipynb#scrollTo=ZSCf6QyF8AG-\n",
        "# post_in = \"I want to go to hotel management school for rural bed and breakfasts. What experiences or classes should I seek out?\"\n",
        "post_in = \"Hey everyone! For those of you who took BIOMI 2900, or General Microbiology, did you take the discussion? If so, did it help at all? Trying to decide if I should or not. I'm not a microbiology major but I'm in a microbio lab at the moment so some of it does make sense already. Thanks!\"\n",
        "post_with_bos = post_in + \" TL;DR\"\n",
        "encoded_prompt = tokenizer(post_in, return_tensors=\"pt\").input_ids\n",
        "encoded_prompt = encoded_prompt.to(model.device)\n",
        "\n",
        "# prediction\n",
        "output_sequences = model.generate(\n",
        "    input_ids=encoded_prompt,\n",
        "    max_new_tokens=75,\n",
        "    min_new_tokens=10,\n",
        "    temperature=1.,\n",
        "    top_p=0.95,\n",
        "    do_sample=True,\n",
        "    num_return_sequences=3\n",
        ")\n",
        "\n",
        "generated_sequences = []\n",
        "print(len(output_sequences))\n",
        "torch.unique(output_sequences, dim=0)\n",
        "print(len(output_sequences))\n",
        "\n",
        "# decode prediction\n",
        "for generated_sequence_idx, generated_sequence in enumerate(output_sequences):\n",
        "    generated_sequence = generated_sequence.tolist()\n",
        "    text = tokenizer.decode(generated_sequence, clean_up_tokenization_spaces=True, skip_special_tokens=True)\n",
        "    #if not ALLOW_NEW_LINES:\n",
        "        #limit = text.find('\\n')\n",
        "        #text = text[: limit if limit != -1 else None]\n",
        "    generated_sequences.append(text.strip())"
      ]
    },
    {
      "cell_type": "code",
      "execution_count": 22,
      "metadata": {
        "colab": {
          "base_uri": "https://localhost:8080/"
        },
        "id": "fND2khLQwsmA",
        "outputId": "8f98adba-722f-45e9-9854-443fb02ed709"
      },
      "outputs": [
        {
          "output_type": "stream",
          "name": "stdout",
          "text": [
            "   The discussion at the end      The conversation         The discussion     Thanks!               Thank You!        I really appreciate a good summary\n",
            "   You could do something similar but the way I think about it is the community, the community. There are so many people who aren't into microorganisms that we can't really focus on them.           I thought that I would post some comments but I'm wondering if anyone else has\n",
            " Thanks!   Microbiology? A microbiology major. Do you take any chemistry class? I'd take Chemistry 101 here, if you haven't taken the CS 100 in my previous courses (and since CS101 is an easy course) please feel free to skip it. I'm hoping this is helpful, I have a chemistry major I took and is\n"
          ]
        }
      ],
      "source": [
        "# print(generated_sequences)\n",
        "for sent in generated_sequences:\n",
        "  print(sent.replace(post_in, '').replace('TL;DR', ''))"
      ]
    },
    {
      "cell_type": "code",
      "execution_count": 23,
      "metadata": {
        "colab": {
          "base_uri": "https://localhost:8080/"
        },
        "id": "TltloGavzOgt",
        "outputId": "2912f4e1-4b3f-4e71-81e8-d9f85c5693c0"
      },
      "outputs": [
        {
          "output_type": "stream",
          "name": "stdout",
          "text": [
            "Looking in indexes: https://pypi.org/simple, https://us-python.pkg.dev/colab-wheels/public/simple/\n",
            "Collecting rouge-score\n",
            "  Downloading rouge_score-0.1.2.tar.gz (17 kB)\n",
            "  Preparing metadata (setup.py) ... \u001b[?25l\u001b[?25hdone\n",
            "Requirement already satisfied: absl-py in /usr/local/lib/python3.9/dist-packages (from rouge-score) (1.4.0)\n",
            "Requirement already satisfied: nltk in /usr/local/lib/python3.9/dist-packages (from rouge-score) (3.8.1)\n",
            "Requirement already satisfied: numpy in /usr/local/lib/python3.9/dist-packages (from rouge-score) (1.22.4)\n",
            "Requirement already satisfied: six>=1.14.0 in /usr/local/lib/python3.9/dist-packages (from rouge-score) (1.16.0)\n",
            "Requirement already satisfied: regex>=2021.8.3 in /usr/local/lib/python3.9/dist-packages (from nltk->rouge-score) (2022.10.31)\n",
            "Requirement already satisfied: tqdm in /usr/local/lib/python3.9/dist-packages (from nltk->rouge-score) (4.65.0)\n",
            "Requirement already satisfied: click in /usr/local/lib/python3.9/dist-packages (from nltk->rouge-score) (8.1.3)\n",
            "Requirement already satisfied: joblib in /usr/local/lib/python3.9/dist-packages (from nltk->rouge-score) (1.2.0)\n",
            "Building wheels for collected packages: rouge-score\n",
            "  Building wheel for rouge-score (setup.py) ... \u001b[?25l\u001b[?25hdone\n",
            "  Created wheel for rouge-score: filename=rouge_score-0.1.2-py3-none-any.whl size=24954 sha256=223627b5031933c3950d9205fb9ec5d7abb717844261cb4d9140dba32c3b0235\n",
            "  Stored in directory: /root/.cache/pip/wheels/9b/3d/39/09558097d3119ca0a4d462df68f22c6f3c1b345ac63a09b86e\n",
            "Successfully built rouge-score\n",
            "Installing collected packages: rouge-score\n",
            "Successfully installed rouge-score-0.1.2\n"
          ]
        }
      ],
      "source": [
        "!pip install rouge-score"
      ]
    },
    {
      "cell_type": "code",
      "execution_count": 24,
      "metadata": {
        "id": "kVTtelw3zDRD"
      },
      "outputs": [],
      "source": [
        "from rouge_score import rouge_scorer\n",
        "from torch import optim\n",
        "from torch.utils.data import Dataset\n",
        "from tqdm import tqdm"
      ]
    },
    {
      "cell_type": "code",
      "execution_count": 25,
      "metadata": {
        "id": "1rWWTu2gy0s4"
      },
      "outputs": [],
      "source": [
        "# print(post_tensors_data[1])\n",
        "# print(comments_datasets_to_use[1])\n",
        "def validation_generate(post):\n",
        "  # print(post)\n",
        "  # post_with_bos = \"<bos>\" + post + \" TL;DR\"\n",
        "  post_with_bos = post + \" TL;DR\"\n",
        "  encoded_prompt = tokenizer(post_with_bos, return_tensors=\"pt\").input_ids\n",
        "  encoded_prompt = encoded_prompt.to(model.device)\n",
        "  # print(encoded_prompt)\n",
        "\n",
        "  # prediction\n",
        "  output_sequences = model.generate(\n",
        "    input_ids=encoded_prompt,\n",
        "    max_new_tokens=75,\n",
        "    min_new_tokens=10,\n",
        "    temperature=1.,\n",
        "    top_p=0.95,\n",
        "    do_sample=True,\n",
        "    num_return_sequences=1\n",
        "  )\n",
        "    \n",
        "  generated_sequences = []\n",
        "  # decode prediction\n",
        "  for generated_sequence_idx, generated_sequence in enumerate(output_sequences):\n",
        "    generated_sequence = generated_sequence.tolist()\n",
        "    text = tokenizer.decode(generated_sequence, clean_up_tokenization_spaces=True, skip_special_tokens=True)\n",
        "    generated_sequences.append(text.strip())\n",
        "  \n",
        "  # print(generated_sequences)\n",
        "  return generated_sequences"
      ]
    },
    {
      "cell_type": "code",
      "execution_count": 26,
      "metadata": {
        "colab": {
          "base_uri": "https://localhost:8080/"
        },
        "id": "lb5a4u0lw4xB",
        "outputId": "89137a92-f8fd-46f4-ccf7-6963c088fe6e"
      },
      "outputs": [
        {
          "output_type": "stream",
          "name": "stdout",
          "text": [
            " thank you for this. Does it accept all file types (like pdfs) or only word documents? pdf/doc/docx :)  \n"
          ]
        }
      ],
      "source": [
        "val_len = len(val_comments)\n",
        "val_dataset = [{} for sub in range(val_len)]\n",
        "\n",
        "for cnt, item in enumerate(val_comments):\n",
        "  val_dataset[cnt]['reference_summary'] = item.replace(\"<bos>\", \"\").replace(\"<eos>\", \"\")\n",
        "\n",
        "\n",
        "print(val_dataset[1]['reference_summary'])"
      ]
    },
    {
      "cell_type": "code",
      "execution_count": 27,
      "metadata": {
        "colab": {
          "base_uri": "https://localhost:8080/"
        },
        "id": "OscEDqyN5Md2",
        "outputId": "df32d320-979d-42c1-c582-5ba8c52d7bd2"
      },
      "outputs": [
        {
          "output_type": "stream",
          "name": "stderr",
          "text": [
            "The attention mask and the pad token id were not set. As a consequence, you may observe unexpected behavior. Please pass your input's `attention_mask` to obtain reliable results.\n",
            "Setting `pad_token_id` to `eos_token_id`:50256 for open-end generation.\n",
            "The attention mask and the pad token id were not set. As a consequence, you may observe unexpected behavior. Please pass your input's `attention_mask` to obtain reliable results.\n",
            "Setting `pad_token_id` to `eos_token_id`:50256 for open-end generation.\n",
            "The attention mask and the pad token id were not set. As a consequence, you may observe unexpected behavior. Please pass your input's `attention_mask` to obtain reliable results.\n",
            "Setting `pad_token_id` to `eos_token_id`:50256 for open-end generation.\n",
            "The attention mask and the pad token id were not set. As a consequence, you may observe unexpected behavior. Please pass your input's `attention_mask` to obtain reliable results.\n",
            "Setting `pad_token_id` to `eos_token_id`:50256 for open-end generation.\n",
            "The attention mask and the pad token id were not set. As a consequence, you may observe unexpected behavior. Please pass your input's `attention_mask` to obtain reliable results.\n",
            "Setting `pad_token_id` to `eos_token_id`:50256 for open-end generation.\n",
            "The attention mask and the pad token id were not set. As a consequence, you may observe unexpected behavior. Please pass your input's `attention_mask` to obtain reliable results.\n",
            "Setting `pad_token_id` to `eos_token_id`:50256 for open-end generation.\n",
            "The attention mask and the pad token id were not set. As a consequence, you may observe unexpected behavior. Please pass your input's `attention_mask` to obtain reliable results.\n",
            "Setting `pad_token_id` to `eos_token_id`:50256 for open-end generation.\n",
            "The attention mask and the pad token id were not set. As a consequence, you may observe unexpected behavior. Please pass your input's `attention_mask` to obtain reliable results.\n",
            "Setting `pad_token_id` to `eos_token_id`:50256 for open-end generation.\n",
            "The attention mask and the pad token id were not set. As a consequence, you may observe unexpected behavior. Please pass your input's `attention_mask` to obtain reliable results.\n",
            "Setting `pad_token_id` to `eos_token_id`:50256 for open-end generation.\n",
            "The attention mask and the pad token id were not set. As a consequence, you may observe unexpected behavior. Please pass your input's `attention_mask` to obtain reliable results.\n",
            "Setting `pad_token_id` to `eos_token_id`:50256 for open-end generation.\n",
            "The attention mask and the pad token id were not set. As a consequence, you may observe unexpected behavior. Please pass your input's `attention_mask` to obtain reliable results.\n",
            "Setting `pad_token_id` to `eos_token_id`:50256 for open-end generation.\n",
            "The attention mask and the pad token id were not set. As a consequence, you may observe unexpected behavior. Please pass your input's `attention_mask` to obtain reliable results.\n",
            "Setting `pad_token_id` to `eos_token_id`:50256 for open-end generation.\n",
            "The attention mask and the pad token id were not set. As a consequence, you may observe unexpected behavior. Please pass your input's `attention_mask` to obtain reliable results.\n",
            "Setting `pad_token_id` to `eos_token_id`:50256 for open-end generation.\n",
            "The attention mask and the pad token id were not set. As a consequence, you may observe unexpected behavior. Please pass your input's `attention_mask` to obtain reliable results.\n",
            "Setting `pad_token_id` to `eos_token_id`:50256 for open-end generation.\n",
            "The attention mask and the pad token id were not set. As a consequence, you may observe unexpected behavior. Please pass your input's `attention_mask` to obtain reliable results.\n",
            "Setting `pad_token_id` to `eos_token_id`:50256 for open-end generation.\n",
            "The attention mask and the pad token id were not set. As a consequence, you may observe unexpected behavior. Please pass your input's `attention_mask` to obtain reliable results.\n",
            "Setting `pad_token_id` to `eos_token_id`:50256 for open-end generation.\n",
            "The attention mask and the pad token id were not set. As a consequence, you may observe unexpected behavior. Please pass your input's `attention_mask` to obtain reliable results.\n",
            "Setting `pad_token_id` to `eos_token_id`:50256 for open-end generation.\n",
            "The attention mask and the pad token id were not set. As a consequence, you may observe unexpected behavior. Please pass your input's `attention_mask` to obtain reliable results.\n",
            "Setting `pad_token_id` to `eos_token_id`:50256 for open-end generation.\n",
            "The attention mask and the pad token id were not set. As a consequence, you may observe unexpected behavior. Please pass your input's `attention_mask` to obtain reliable results.\n",
            "Setting `pad_token_id` to `eos_token_id`:50256 for open-end generation.\n",
            "The attention mask and the pad token id were not set. As a consequence, you may observe unexpected behavior. Please pass your input's `attention_mask` to obtain reliable results.\n",
            "Setting `pad_token_id` to `eos_token_id`:50256 for open-end generation.\n",
            "The attention mask and the pad token id were not set. As a consequence, you may observe unexpected behavior. Please pass your input's `attention_mask` to obtain reliable results.\n",
            "Setting `pad_token_id` to `eos_token_id`:50256 for open-end generation.\n",
            "The attention mask and the pad token id were not set. As a consequence, you may observe unexpected behavior. Please pass your input's `attention_mask` to obtain reliable results.\n",
            "Setting `pad_token_id` to `eos_token_id`:50256 for open-end generation.\n",
            "The attention mask and the pad token id were not set. As a consequence, you may observe unexpected behavior. Please pass your input's `attention_mask` to obtain reliable results.\n",
            "Setting `pad_token_id` to `eos_token_id`:50256 for open-end generation.\n",
            "The attention mask and the pad token id were not set. As a consequence, you may observe unexpected behavior. Please pass your input's `attention_mask` to obtain reliable results.\n",
            "Setting `pad_token_id` to `eos_token_id`:50256 for open-end generation.\n",
            "The attention mask and the pad token id were not set. As a consequence, you may observe unexpected behavior. Please pass your input's `attention_mask` to obtain reliable results.\n",
            "Setting `pad_token_id` to `eos_token_id`:50256 for open-end generation.\n",
            "The attention mask and the pad token id were not set. As a consequence, you may observe unexpected behavior. Please pass your input's `attention_mask` to obtain reliable results.\n",
            "Setting `pad_token_id` to `eos_token_id`:50256 for open-end generation.\n",
            "The attention mask and the pad token id were not set. As a consequence, you may observe unexpected behavior. Please pass your input's `attention_mask` to obtain reliable results.\n",
            "Setting `pad_token_id` to `eos_token_id`:50256 for open-end generation.\n",
            "The attention mask and the pad token id were not set. As a consequence, you may observe unexpected behavior. Please pass your input's `attention_mask` to obtain reliable results.\n",
            "Setting `pad_token_id` to `eos_token_id`:50256 for open-end generation.\n",
            "The attention mask and the pad token id were not set. As a consequence, you may observe unexpected behavior. Please pass your input's `attention_mask` to obtain reliable results.\n",
            "Setting `pad_token_id` to `eos_token_id`:50256 for open-end generation.\n",
            "The attention mask and the pad token id were not set. As a consequence, you may observe unexpected behavior. Please pass your input's `attention_mask` to obtain reliable results.\n",
            "Setting `pad_token_id` to `eos_token_id`:50256 for open-end generation.\n",
            "The attention mask and the pad token id were not set. As a consequence, you may observe unexpected behavior. Please pass your input's `attention_mask` to obtain reliable results.\n",
            "Setting `pad_token_id` to `eos_token_id`:50256 for open-end generation.\n",
            "The attention mask and the pad token id were not set. As a consequence, you may observe unexpected behavior. Please pass your input's `attention_mask` to obtain reliable results.\n",
            "Setting `pad_token_id` to `eos_token_id`:50256 for open-end generation.\n",
            "The attention mask and the pad token id were not set. As a consequence, you may observe unexpected behavior. Please pass your input's `attention_mask` to obtain reliable results.\n",
            "Setting `pad_token_id` to `eos_token_id`:50256 for open-end generation.\n",
            "The attention mask and the pad token id were not set. As a consequence, you may observe unexpected behavior. Please pass your input's `attention_mask` to obtain reliable results.\n",
            "Setting `pad_token_id` to `eos_token_id`:50256 for open-end generation.\n",
            "The attention mask and the pad token id were not set. As a consequence, you may observe unexpected behavior. Please pass your input's `attention_mask` to obtain reliable results.\n",
            "Setting `pad_token_id` to `eos_token_id`:50256 for open-end generation.\n",
            "The attention mask and the pad token id were not set. As a consequence, you may observe unexpected behavior. Please pass your input's `attention_mask` to obtain reliable results.\n",
            "Setting `pad_token_id` to `eos_token_id`:50256 for open-end generation.\n",
            "The attention mask and the pad token id were not set. As a consequence, you may observe unexpected behavior. Please pass your input's `attention_mask` to obtain reliable results.\n",
            "Setting `pad_token_id` to `eos_token_id`:50256 for open-end generation.\n",
            "The attention mask and the pad token id were not set. As a consequence, you may observe unexpected behavior. Please pass your input's `attention_mask` to obtain reliable results.\n",
            "Setting `pad_token_id` to `eos_token_id`:50256 for open-end generation.\n",
            "The attention mask and the pad token id were not set. As a consequence, you may observe unexpected behavior. Please pass your input's `attention_mask` to obtain reliable results.\n",
            "Setting `pad_token_id` to `eos_token_id`:50256 for open-end generation.\n",
            "The attention mask and the pad token id were not set. As a consequence, you may observe unexpected behavior. Please pass your input's `attention_mask` to obtain reliable results.\n",
            "Setting `pad_token_id` to `eos_token_id`:50256 for open-end generation.\n",
            "The attention mask and the pad token id were not set. As a consequence, you may observe unexpected behavior. Please pass your input's `attention_mask` to obtain reliable results.\n",
            "Setting `pad_token_id` to `eos_token_id`:50256 for open-end generation.\n",
            "The attention mask and the pad token id were not set. As a consequence, you may observe unexpected behavior. Please pass your input's `attention_mask` to obtain reliable results.\n",
            "Setting `pad_token_id` to `eos_token_id`:50256 for open-end generation.\n",
            "The attention mask and the pad token id were not set. As a consequence, you may observe unexpected behavior. Please pass your input's `attention_mask` to obtain reliable results.\n",
            "Setting `pad_token_id` to `eos_token_id`:50256 for open-end generation.\n",
            "The attention mask and the pad token id were not set. As a consequence, you may observe unexpected behavior. Please pass your input's `attention_mask` to obtain reliable results.\n",
            "Setting `pad_token_id` to `eos_token_id`:50256 for open-end generation.\n",
            "The attention mask and the pad token id were not set. As a consequence, you may observe unexpected behavior. Please pass your input's `attention_mask` to obtain reliable results.\n",
            "Setting `pad_token_id` to `eos_token_id`:50256 for open-end generation.\n",
            "The attention mask and the pad token id were not set. As a consequence, you may observe unexpected behavior. Please pass your input's `attention_mask` to obtain reliable results.\n",
            "Setting `pad_token_id` to `eos_token_id`:50256 for open-end generation.\n",
            "The attention mask and the pad token id were not set. As a consequence, you may observe unexpected behavior. Please pass your input's `attention_mask` to obtain reliable results.\n",
            "Setting `pad_token_id` to `eos_token_id`:50256 for open-end generation.\n",
            "The attention mask and the pad token id were not set. As a consequence, you may observe unexpected behavior. Please pass your input's `attention_mask` to obtain reliable results.\n",
            "Setting `pad_token_id` to `eos_token_id`:50256 for open-end generation.\n",
            "The attention mask and the pad token id were not set. As a consequence, you may observe unexpected behavior. Please pass your input's `attention_mask` to obtain reliable results.\n",
            "Setting `pad_token_id` to `eos_token_id`:50256 for open-end generation.\n",
            "The attention mask and the pad token id were not set. As a consequence, you may observe unexpected behavior. Please pass your input's `attention_mask` to obtain reliable results.\n",
            "Setting `pad_token_id` to `eos_token_id`:50256 for open-end generation.\n",
            "The attention mask and the pad token id were not set. As a consequence, you may observe unexpected behavior. Please pass your input's `attention_mask` to obtain reliable results.\n",
            "Setting `pad_token_id` to `eos_token_id`:50256 for open-end generation.\n",
            "The attention mask and the pad token id were not set. As a consequence, you may observe unexpected behavior. Please pass your input's `attention_mask` to obtain reliable results.\n",
            "Setting `pad_token_id` to `eos_token_id`:50256 for open-end generation.\n",
            "The attention mask and the pad token id were not set. As a consequence, you may observe unexpected behavior. Please pass your input's `attention_mask` to obtain reliable results.\n",
            "Setting `pad_token_id` to `eos_token_id`:50256 for open-end generation.\n",
            "The attention mask and the pad token id were not set. As a consequence, you may observe unexpected behavior. Please pass your input's `attention_mask` to obtain reliable results.\n",
            "Setting `pad_token_id` to `eos_token_id`:50256 for open-end generation.\n",
            "The attention mask and the pad token id were not set. As a consequence, you may observe unexpected behavior. Please pass your input's `attention_mask` to obtain reliable results.\n",
            "Setting `pad_token_id` to `eos_token_id`:50256 for open-end generation.\n",
            "The attention mask and the pad token id were not set. As a consequence, you may observe unexpected behavior. Please pass your input's `attention_mask` to obtain reliable results.\n",
            "Setting `pad_token_id` to `eos_token_id`:50256 for open-end generation.\n",
            "The attention mask and the pad token id were not set. As a consequence, you may observe unexpected behavior. Please pass your input's `attention_mask` to obtain reliable results.\n",
            "Setting `pad_token_id` to `eos_token_id`:50256 for open-end generation.\n",
            "The attention mask and the pad token id were not set. As a consequence, you may observe unexpected behavior. Please pass your input's `attention_mask` to obtain reliable results.\n",
            "Setting `pad_token_id` to `eos_token_id`:50256 for open-end generation.\n",
            "The attention mask and the pad token id were not set. As a consequence, you may observe unexpected behavior. Please pass your input's `attention_mask` to obtain reliable results.\n",
            "Setting `pad_token_id` to `eos_token_id`:50256 for open-end generation.\n",
            "The attention mask and the pad token id were not set. As a consequence, you may observe unexpected behavior. Please pass your input's `attention_mask` to obtain reliable results.\n",
            "Setting `pad_token_id` to `eos_token_id`:50256 for open-end generation.\n",
            "The attention mask and the pad token id were not set. As a consequence, you may observe unexpected behavior. Please pass your input's `attention_mask` to obtain reliable results.\n",
            "Setting `pad_token_id` to `eos_token_id`:50256 for open-end generation.\n",
            "The attention mask and the pad token id were not set. As a consequence, you may observe unexpected behavior. Please pass your input's `attention_mask` to obtain reliable results.\n",
            "Setting `pad_token_id` to `eos_token_id`:50256 for open-end generation.\n",
            "The attention mask and the pad token id were not set. As a consequence, you may observe unexpected behavior. Please pass your input's `attention_mask` to obtain reliable results.\n",
            "Setting `pad_token_id` to `eos_token_id`:50256 for open-end generation.\n",
            "The attention mask and the pad token id were not set. As a consequence, you may observe unexpected behavior. Please pass your input's `attention_mask` to obtain reliable results.\n",
            "Setting `pad_token_id` to `eos_token_id`:50256 for open-end generation.\n",
            "The attention mask and the pad token id were not set. As a consequence, you may observe unexpected behavior. Please pass your input's `attention_mask` to obtain reliable results.\n",
            "Setting `pad_token_id` to `eos_token_id`:50256 for open-end generation.\n",
            "The attention mask and the pad token id were not set. As a consequence, you may observe unexpected behavior. Please pass your input's `attention_mask` to obtain reliable results.\n",
            "Setting `pad_token_id` to `eos_token_id`:50256 for open-end generation.\n",
            "The attention mask and the pad token id were not set. As a consequence, you may observe unexpected behavior. Please pass your input's `attention_mask` to obtain reliable results.\n",
            "Setting `pad_token_id` to `eos_token_id`:50256 for open-end generation.\n",
            "The attention mask and the pad token id were not set. As a consequence, you may observe unexpected behavior. Please pass your input's `attention_mask` to obtain reliable results.\n",
            "Setting `pad_token_id` to `eos_token_id`:50256 for open-end generation.\n",
            "The attention mask and the pad token id were not set. As a consequence, you may observe unexpected behavior. Please pass your input's `attention_mask` to obtain reliable results.\n",
            "Setting `pad_token_id` to `eos_token_id`:50256 for open-end generation.\n",
            "The attention mask and the pad token id were not set. As a consequence, you may observe unexpected behavior. Please pass your input's `attention_mask` to obtain reliable results.\n",
            "Setting `pad_token_id` to `eos_token_id`:50256 for open-end generation.\n",
            "The attention mask and the pad token id were not set. As a consequence, you may observe unexpected behavior. Please pass your input's `attention_mask` to obtain reliable results.\n",
            "Setting `pad_token_id` to `eos_token_id`:50256 for open-end generation.\n",
            "The attention mask and the pad token id were not set. As a consequence, you may observe unexpected behavior. Please pass your input's `attention_mask` to obtain reliable results.\n",
            "Setting `pad_token_id` to `eos_token_id`:50256 for open-end generation.\n",
            "The attention mask and the pad token id were not set. As a consequence, you may observe unexpected behavior. Please pass your input's `attention_mask` to obtain reliable results.\n",
            "Setting `pad_token_id` to `eos_token_id`:50256 for open-end generation.\n",
            "The attention mask and the pad token id were not set. As a consequence, you may observe unexpected behavior. Please pass your input's `attention_mask` to obtain reliable results.\n",
            "Setting `pad_token_id` to `eos_token_id`:50256 for open-end generation.\n",
            "The attention mask and the pad token id were not set. As a consequence, you may observe unexpected behavior. Please pass your input's `attention_mask` to obtain reliable results.\n",
            "Setting `pad_token_id` to `eos_token_id`:50256 for open-end generation.\n",
            "The attention mask and the pad token id were not set. As a consequence, you may observe unexpected behavior. Please pass your input's `attention_mask` to obtain reliable results.\n",
            "Setting `pad_token_id` to `eos_token_id`:50256 for open-end generation.\n",
            "The attention mask and the pad token id were not set. As a consequence, you may observe unexpected behavior. Please pass your input's `attention_mask` to obtain reliable results.\n",
            "Setting `pad_token_id` to `eos_token_id`:50256 for open-end generation.\n",
            "The attention mask and the pad token id were not set. As a consequence, you may observe unexpected behavior. Please pass your input's `attention_mask` to obtain reliable results.\n",
            "Setting `pad_token_id` to `eos_token_id`:50256 for open-end generation.\n",
            "The attention mask and the pad token id were not set. As a consequence, you may observe unexpected behavior. Please pass your input's `attention_mask` to obtain reliable results.\n",
            "Setting `pad_token_id` to `eos_token_id`:50256 for open-end generation.\n"
          ]
        }
      ],
      "source": [
        "for cnt, post in enumerate(val_posts):\n",
        "  # print(post)\n",
        "  generated_sequences = validation_generate(post)\n",
        "\n",
        "  for sent in generated_sequences:\n",
        "    sent = sent.replace(post, '').replace('TL;DR', '')\n",
        "    val_dataset[cnt]['generated_text'] = sent\n",
        "    # print(sent)"
      ]
    },
    {
      "cell_type": "markdown",
      "metadata": {
        "id": "3A01sRTqQ9e0"
      },
      "source": [
        "**Calculating the Rouge score**"
      ]
    },
    {
      "cell_type": "code",
      "execution_count": 28,
      "metadata": {
        "colab": {
          "base_uri": "https://localhost:8080/"
        },
        "id": "osdZXWxjZc_y",
        "outputId": "4152dd29-4516-4403-ee93-8c45db8ab8fa"
      },
      "outputs": [
        {
          "output_type": "stream",
          "name": "stdout",
          "text": [
            "Looking in indexes: https://pypi.org/simple, https://us-python.pkg.dev/colab-wheels/public/simple/\n",
            "Collecting Rouge\n",
            "  Downloading rouge-1.0.1-py3-none-any.whl (13 kB)\n",
            "Requirement already satisfied: six in /usr/local/lib/python3.9/dist-packages (from Rouge) (1.16.0)\n",
            "Installing collected packages: Rouge\n",
            "Successfully installed Rouge-1.0.1\n"
          ]
        }
      ],
      "source": [
        "!pip3 install Rouge"
      ]
    },
    {
      "cell_type": "code",
      "execution_count": 29,
      "metadata": {
        "colab": {
          "base_uri": "https://localhost:8080/"
        },
        "id": "n397c-OhZs2S",
        "outputId": "ab00ec38-6a9b-4aed-d8cf-ccc8a8aa7e06"
      },
      "outputs": [
        {
          "output_type": "stream",
          "name": "stdout",
          "text": [
            "GENERATED COMMENTS: Could someone please give me a description of the different dorms at Iowa? I'm going there next year, and I have no idea what the dorms are like. It would be much appreciated [:    Hi there. Iowa is a large dorms and I'm going there.      The dorms are the same, and if anyone is a guy who goes there on his own, there's a ton of things you need to know.\n",
            "Reference COMMENTS: Hopefully you've already seen this: [url link] East side (main campus side): Burge has recently been expanded and so there are some brand new suites (shared bathroom between two two-person rooms) that are very nice. The east-side cafeteria is also there, which is convenient so that you don't have to go outside. There is also a C-store (like a convenience store that you can use hawk dollars at). The floors with suites are coed, otherwise it is separated by floor. The doors here stay unlocked longer hours than other dorms because of the dining hall.  Daum is the honors dorm, next to Burge. It's pretty quiet. There didn't used to be a front desk there, which is inconvenient, but I think they were trying to change that. It is connected to the Belin-Blank building which has an ITC (computer lab). The bathrooms and showers of Daum are private like someone else said, which is an incredible bonus. Also, the residents use an actual key instead of a prox card for entry.  Currier and Stanley are connected and sit on the side of Burge opposite of Daum. The buildings are both older (e.g. my dad lived in C and afaik neither has been remodeled.) There is a ITC (computer lab) in Currier and a fitness center. The cambus route stops in front of Currier.  West-side (across the river from the pentacrest and most of campus): Hillcrest contains the west-side cafeteria and 24-hour fitness room. There is also an ITC (computer lab). Most of the underclassmen athletes live there. The building can be very confusing at first and there is not much uniformity between room size or layout. The floors may be coed, in that one wing may be guys and another wing on the same floor girls. The doors here stay unlocked longer hours than other dorms because of the dining hall. Quadrangle is the first dorm built at Iowa and is pretty ancient. This is where I lived for a year. There is talks to tear it down. One wing of Quad has been remodeled recently and is very nice. All rooms in the building are very large, largest I've seen on campus, as the triples are now doubles etc. However, since the architecture of the rooms is funky, they are not able to have air conditioning units in all the rooms. I lived in one of the towers of Quad, in a corner room without a/c, and it was humongous compared to Slater or Rienow. Quad is also only two stories tall (except for the towers) but the only elevator is on the other side of the building, which I never visited. The guys lived in one half of the building (both floors) and the girls on the other. Slater and Reinow are the identical towers on the west side. Reinow is next to Quad and Slater is across the street. The Cambus stops in front of Reinow when coming from downtown (campus), and stops in front of Slater when going to campus. The rooms are fairly small in the towers, but since the floors are more defined, people tend to get to know their neighbors better, which in my opinion is more fun and easier for adjustment. The floors tend to alternate between all guys or all girls. One difference of Reinow is that it has carpeted floors where Slater does not. South Dubuque Street: Mayflower used to be a huge apartment complex that the university bought because of demand. All the rooms are suites with two people per room and two rooms sharing a kitchen and bathroom. There is a fitness center, ITC, and c-store. You also aren't required to have a full meal plan if you live in Mayflower. Many students detest the distance of Mayflower from campus, but the buses do run between regularly. Personally, I feel that living in Mayflower keeps student from getting the most out of the Iowa experience, because you are not constantly part of the majority of campus life and events.  There is a tunnel between Reinow and Quad and between Daum and Burge. There are many living learning communities, with a multitude of topics, which is something to look into to if you'd like support from peers for a major (premed, music, dental etc.) or a passion (environmentalism, LGBT, leadership etc.). [url link] I liked living on the west side because it allowed me to 'go home' from campus and even though it was just across the river, it felt like a community and I didn't find it too inconvenient except for maybe in the winter. The cambuses inevitably get off schedule, but with the ebongo system, you can literally see where the buses are at on their route and expected arrival time. Obviously, the east side has proximity in its favor. All the dorms have wireless internet and sinks in the rooms. The provided lofts are all universal. Also, you will find people who like to party no matter where you are. I can't believe I just wrote this all out but if you have any more questions let me know. I'm a junior here right now and I work at the ITS Help Desk (just on reddit at work nbd).  \n"
          ]
        }
      ],
      "source": [
        "generated_text = val_dataset[7]['generated_text']\n",
        "reference_summary = val_dataset[7]['reference_summary']\n",
        "print(\"GENERATED COMMENTS: {}\\nReference COMMENTS:{}\".format(generated_text, reference_summary))"
      ]
    },
    {
      "cell_type": "code",
      "execution_count": 30,
      "metadata": {
        "colab": {
          "base_uri": "https://localhost:8080/"
        },
        "id": "-t0MB2RFJfJ6",
        "outputId": "ea9f6985-fc2d-4199-ebb7-c4b781950363"
      },
      "outputs": [
        {
          "output_type": "stream",
          "name": "stdout",
          "text": [
            "Overall ROUGE-1 scores: {'recall': 0.22660858482056986, 'precision': 0.20238199257277786, 'fmeasure': 0.18938103946814452}\n",
            "Overall ROUGE-2 scores: {'recall': 0.028517005698339547, 'precision': 0.026366959529023275, 'fmeasure': 0.023005987302026305}\n",
            "Overall ROUGE-L scores: {'recall': 0.2043092263702329, 'precision': 0.18166651115056015, 'fmeasure': 0.17024605485566408}\n"
          ]
        }
      ],
      "source": [
        "from rouge import Rouge\n",
        "\n",
        "# create a Rouge object\n",
        "rouge = Rouge()\n",
        "\n",
        "# initialize scores for each variant of ROUGE\n",
        "scores_rouge1 = {'recall': 0, 'precision': 0, 'fmeasure': 0}\n",
        "scores_rouge2 = {'recall': 0, 'precision': 0, 'fmeasure': 0}\n",
        "scores_rougeL = {'recall': 0, 'precision': 0, 'fmeasure': 0}\n",
        "\n",
        "for idx in range(val_len):\n",
        "    generated_text = val_dataset[idx]['generated_text']\n",
        "    reference_summary = val_dataset[idx]['reference_summary']\n",
        "    \n",
        "    scores = rouge.get_scores(generated_text, reference_summary, avg=True)\n",
        "    \n",
        "    # compute ROUGE-1 scores\n",
        "    scores_rouge1['recall'] += scores['rouge-1']['r']\n",
        "    scores_rouge1['precision'] += scores['rouge-1']['p']\n",
        "    scores_rouge1['fmeasure'] += scores['rouge-1']['f']\n",
        "    \n",
        "    # compute ROUGE-2 scores\n",
        "    # scores = rouge.get_scores(generated_text, reference_summary, avg=True, rouge_n=(2, 2))\n",
        "    scores_rouge2['recall'] += scores['rouge-2']['r']\n",
        "    scores_rouge2['precision'] += scores['rouge-2']['p']\n",
        "    scores_rouge2['fmeasure'] += scores['rouge-2']['f']\n",
        "    \n",
        "    # compute ROUGE-L scores\n",
        "    # scores = rouge.get_scores(generated_text, reference_summary, avg=True, rouge_l=True)\n",
        "    scores_rougeL['recall'] += scores['rouge-l']['r']\n",
        "    scores_rougeL['precision'] += scores['rouge-l']['p']\n",
        "    scores_rougeL['fmeasure'] += scores['rouge-l']['f']\n",
        "\n",
        "# compute the average scores over all examples\n",
        "n_examples = val_len\n",
        "scores_rouge1 = {k: v/n_examples for k, v in scores_rouge1.items()}\n",
        "scores_rouge2 = {k: v/n_examples for k, v in scores_rouge2.items()}\n",
        "scores_rougeL = {k: v/n_examples for k, v in scores_rougeL.items()}\n",
        "\n",
        "# print the overall scores\n",
        "print(\"Overall ROUGE-1 scores:\", scores_rouge1)\n",
        "print(\"Overall ROUGE-2 scores:\", scores_rouge2)\n",
        "print(\"Overall ROUGE-L scores:\", scores_rougeL)"
      ]
    },
    {
      "cell_type": "markdown",
      "metadata": {
        "id": "obpME8ZwRA87"
      },
      "source": [
        "**Calculating the sentiment analysis accuracy**"
      ]
    },
    {
      "cell_type": "code",
      "execution_count": 31,
      "metadata": {
        "colab": {
          "base_uri": "https://localhost:8080/"
        },
        "id": "LY-WxVp5dKJe",
        "outputId": "29ffca20-c331-40c0-e1d3-1f7cbc36c049"
      },
      "outputs": [
        {
          "output_type": "stream",
          "name": "stdout",
          "text": [
            "Looking in indexes: https://pypi.org/simple, https://us-python.pkg.dev/colab-wheels/public/simple/\n",
            "Collecting vaderSentiment\n",
            "  Downloading vaderSentiment-3.3.2-py2.py3-none-any.whl (125 kB)\n",
            "\u001b[2K     \u001b[90m━━━━━━━━━━━━━━━━━━━━━━━━━━━━━━━━━━━━━━━\u001b[0m \u001b[32m126.0/126.0 kB\u001b[0m \u001b[31m4.0 MB/s\u001b[0m eta \u001b[36m0:00:00\u001b[0m\n",
            "\u001b[?25hRequirement already satisfied: requests in /usr/local/lib/python3.9/dist-packages (from vaderSentiment) (2.27.1)\n",
            "Requirement already satisfied: charset-normalizer~=2.0.0 in /usr/local/lib/python3.9/dist-packages (from requests->vaderSentiment) (2.0.12)\n",
            "Requirement already satisfied: urllib3<1.27,>=1.21.1 in /usr/local/lib/python3.9/dist-packages (from requests->vaderSentiment) (1.26.15)\n",
            "Requirement already satisfied: certifi>=2017.4.17 in /usr/local/lib/python3.9/dist-packages (from requests->vaderSentiment) (2022.12.7)\n",
            "Requirement already satisfied: idna<4,>=2.5 in /usr/local/lib/python3.9/dist-packages (from requests->vaderSentiment) (3.4)\n",
            "Installing collected packages: vaderSentiment\n",
            "Successfully installed vaderSentiment-3.3.2\n"
          ]
        }
      ],
      "source": [
        "!pip3 install vaderSentiment"
      ]
    },
    {
      "cell_type": "code",
      "execution_count": 32,
      "metadata": {
        "colab": {
          "base_uri": "https://localhost:8080/"
        },
        "id": "k5m3ggemRAr_",
        "outputId": "fc11744c-70ca-4b9c-a24e-36d1588ec715"
      },
      "outputs": [
        {
          "output_type": "stream",
          "name": "stderr",
          "text": [
            "[nltk_data] Downloading package vader_lexicon to /root/nltk_data...\n"
          ]
        }
      ],
      "source": [
        "import nltk\n",
        "nltk.download('vader_lexicon')\n",
        "from nltk.sentiment.vader import SentimentIntensityAnalyzer"
      ]
    },
    {
      "cell_type": "code",
      "execution_count": 33,
      "metadata": {
        "id": "nGBejzggfeOa"
      },
      "outputs": [],
      "source": [
        "def find_label(scores):\n",
        "  if scores['pos'] > scores['neg'] and scores['pos'] > scores['neu']:\n",
        "    dominant_label = 'positive'\n",
        "  elif scores['neg'] > scores['pos'] and scores['neg'] > scores['neu']:\n",
        "    dominant_label = 'negative'\n",
        "  else:\n",
        "    dominant_label = 'neutral'\n",
        "  \n",
        "  return dominant_label"
      ]
    },
    {
      "cell_type": "code",
      "execution_count": 34,
      "metadata": {
        "colab": {
          "base_uri": "https://localhost:8080/"
        },
        "id": "l7mCSb-qRjdX",
        "outputId": "7acb5b8d-a4d2-4fc0-e33d-cfc3512efe2e"
      },
      "outputs": [
        {
          "output_type": "stream",
          "name": "stdout",
          "text": [
            "The number of generated comments that have aligned sentiments: 76\n",
            "The number of posts in the validation set: 79\n",
            "The accuracy of sentiments of the generated comments: 0.9620253164556962\n"
          ]
        }
      ],
      "source": [
        "acc = 0\n",
        "sid = SentimentIntensityAnalyzer()\n",
        "for idx in range(val_len):\n",
        "  # print(val_dataset[idx]['reference_summary'])\n",
        "  # print(type(val_dataset[idx]['reference_summary']))\n",
        "  sent_gt = sid.polarity_scores(val_dataset[idx]['reference_summary'])\n",
        "  sent_generated_comment = sid.polarity_scores(val_dataset[idx]['generated_text'])\n",
        "\n",
        "  gt_label = find_label(sent_gt)\n",
        "  generated_comment_label = find_label(sent_generated_comment)\n",
        "\n",
        "  if gt_label == generated_comment_label:\n",
        "    acc += 1\n",
        "\n",
        "  # print(\"Reference comments: {}\".format(val_dataset[idx]['reference_summary']))\n",
        "  # print(sent_gt)\n",
        "  # print(gt_label)\n",
        "  # print(\"Generated comments: {}\".format(val_dataset[idx]['generated_text']))\n",
        "  # print(sent_generated_comment)\n",
        "  # print(generated_comment_label)\n",
        "  # if idx == 15:\n",
        "  #   break\n",
        "\n",
        "print(\"The number of generated comments that have aligned sentiments: {}\".format(acc))\n",
        "print(\"The number of posts in the validation set: {}\".format(val_len))\n",
        "print(\"The accuracy of sentiments of the generated comments: {}\".format(acc / val_len))"
      ]
    },
    {
      "cell_type": "markdown",
      "metadata": {
        "id": "Owzd6CLJh6Cm"
      },
      "source": [
        "**Readability validation test**\n",
        "\n",
        "Automated readability index"
      ]
    },
    {
      "cell_type": "code",
      "execution_count": 35,
      "metadata": {
        "colab": {
          "base_uri": "https://localhost:8080/"
        },
        "id": "A646PRGc5b6T",
        "outputId": "80970c62-3764-4517-c22c-aa08de1db18a"
      },
      "outputs": [
        {
          "output_type": "stream",
          "name": "stdout",
          "text": [
            "Looking in indexes: https://pypi.org/simple, https://us-python.pkg.dev/colab-wheels/public/simple/\n",
            "Collecting textstat\n",
            "  Downloading textstat-0.7.3-py3-none-any.whl (105 kB)\n",
            "\u001b[2K     \u001b[90m━━━━━━━━━━━━━━━━━━━━━━━━━━━━━━━━━━━━━━━\u001b[0m \u001b[32m105.1/105.1 kB\u001b[0m \u001b[31m4.2 MB/s\u001b[0m eta \u001b[36m0:00:00\u001b[0m\n",
            "\u001b[?25hCollecting pyphen\n",
            "  Downloading pyphen-0.14.0-py3-none-any.whl (2.0 MB)\n",
            "\u001b[2K     \u001b[90m━━━━━━━━━━━━━━━━━━━━━━━━━━━━━━━━━━━━━━━━\u001b[0m \u001b[32m2.0/2.0 MB\u001b[0m \u001b[31m37.7 MB/s\u001b[0m eta \u001b[36m0:00:00\u001b[0m\n",
            "\u001b[?25hInstalling collected packages: pyphen, textstat\n",
            "Successfully installed pyphen-0.14.0 textstat-0.7.3\n"
          ]
        }
      ],
      "source": [
        "!pip3 install textstat"
      ]
    },
    {
      "cell_type": "markdown",
      "metadata": {
        "id": "W42heXyg50gj"
      },
      "source": [
        "Flesch-Kincaid Grade Level: The Flesch-Kincaid Grade Level measures the approximate grade level of a text, based on its sentence length and average number of syllables per word."
      ]
    },
    {
      "cell_type": "code",
      "execution_count": 36,
      "metadata": {
        "id": "XvCwJ4LJ5TzY"
      },
      "outputs": [],
      "source": [
        "import textstat"
      ]
    },
    {
      "cell_type": "code",
      "execution_count": 37,
      "metadata": {
        "colab": {
          "base_uri": "https://localhost:8080/"
        },
        "id": "Xn7FRNx655RI",
        "outputId": "281e67aa-68d1-4448-a10c-c842d36a8983"
      },
      "outputs": [
        {
          "output_type": "stream",
          "name": "stdout",
          "text": [
            "Flesch-Kincaid Grade Level: 6.099999999999998\n"
          ]
        }
      ],
      "source": [
        "grade_level = 0.0\n",
        "for idx in range(val_len):\n",
        "  sc = textstat.flesch_kincaid_grade(val_dataset[idx]['generated_text'])\n",
        "  # print(sc)\n",
        "  grade_level += sc\n",
        "\n",
        "grade_level /= val_len\n",
        "print(\"Flesch-Kincaid Grade Level:\", grade_level)"
      ]
    },
    {
      "cell_type": "markdown",
      "metadata": {
        "id": "_XLC1hSI6JFE"
      },
      "source": [
        "Gunning Fog Index: The Gunning Fog Index measures the approximate years of education needed to understand a text, based on its sentence length and percentage of complex words."
      ]
    },
    {
      "cell_type": "code",
      "execution_count": 38,
      "metadata": {
        "colab": {
          "base_uri": "https://localhost:8080/"
        },
        "id": "5hCglf-J5qJ9",
        "outputId": "cb64d475-da53-4915-8ecd-5ff57adc12f2"
      },
      "outputs": [
        {
          "output_type": "stream",
          "name": "stdout",
          "text": [
            "Gunning Fog Index: 8.347341772151896\n"
          ]
        }
      ],
      "source": [
        "fog_index = 0.0\n",
        "for idx in range(val_len):\n",
        "  sc = textstat.gunning_fog(val_dataset[idx]['generated_text'])\n",
        "  # print(sc)\n",
        "  fog_index += sc\n",
        "\n",
        "fog_index /= val_len\n",
        "print(\"Gunning Fog Index:\", fog_index)"
      ]
    },
    {
      "cell_type": "markdown",
      "metadata": {
        "id": "cXEXeUlT6QkK"
      },
      "source": [
        "Automated Readability Index (ARI): The Automated Readability Index measures the approximate grade level of a text, based on its average number of characters per word and average number of words per sentence.\n",
        "\n"
      ]
    },
    {
      "cell_type": "code",
      "execution_count": 39,
      "metadata": {
        "colab": {
          "base_uri": "https://localhost:8080/"
        },
        "id": "_Ucf-qw86UG0",
        "outputId": "7a6fdff7-1ad2-4e82-ae7d-516da376dc49"
      },
      "outputs": [
        {
          "output_type": "stream",
          "name": "stdout",
          "text": [
            "Automated Readability Index: 6.634177215189875\n"
          ]
        }
      ],
      "source": [
        "ari = 0.0\n",
        "for idx in range(val_len):\n",
        "  sc = textstat.automated_readability_index(val_dataset[idx]['generated_text'])\n",
        "  # print(sc)\n",
        "  ari += sc\n",
        "\n",
        "ari /= val_len\n",
        "print(\"Automated Readability Index:\", ari)"
      ]
    }
  ],
  "metadata": {
    "accelerator": "GPU",
    "colab": {
      "provenance": []
    },
    "gpuClass": "premium",
    "kernelspec": {
      "display_name": "Python 3",
      "name": "python3"
    },
    "language_info": {
      "name": "python"
    },
    "widgets": {
      "application/vnd.jupyter.widget-state+json": {
        "b9fb3d9c3dbf4cb9b52935337792c51a": {
          "model_module": "@jupyter-widgets/controls",
          "model_name": "HBoxModel",
          "model_module_version": "1.5.0",
          "state": {
            "_dom_classes": [],
            "_model_module": "@jupyter-widgets/controls",
            "_model_module_version": "1.5.0",
            "_model_name": "HBoxModel",
            "_view_count": null,
            "_view_module": "@jupyter-widgets/controls",
            "_view_module_version": "1.5.0",
            "_view_name": "HBoxView",
            "box_style": "",
            "children": [
              "IPY_MODEL_29aa97018d654674a79c0c00dc8769e0",
              "IPY_MODEL_3ac0a102960a48c9b5d66f940e298e1f",
              "IPY_MODEL_ac560c552b484bbe840f176ac1009693"
            ],
            "layout": "IPY_MODEL_472935fc158b4dcdb1232c30a465f1be"
          }
        },
        "29aa97018d654674a79c0c00dc8769e0": {
          "model_module": "@jupyter-widgets/controls",
          "model_name": "HTMLModel",
          "model_module_version": "1.5.0",
          "state": {
            "_dom_classes": [],
            "_model_module": "@jupyter-widgets/controls",
            "_model_module_version": "1.5.0",
            "_model_name": "HTMLModel",
            "_view_count": null,
            "_view_module": "@jupyter-widgets/controls",
            "_view_module_version": "1.5.0",
            "_view_name": "HTMLView",
            "description": "",
            "description_tooltip": null,
            "layout": "IPY_MODEL_c6977ea371604f5a93c41be69ccfa76c",
            "placeholder": "​",
            "style": "IPY_MODEL_9bc0b5dee96c41bba8256c7e24c05693",
            "value": "Downloading (…)olve/main/vocab.json: 100%"
          }
        },
        "3ac0a102960a48c9b5d66f940e298e1f": {
          "model_module": "@jupyter-widgets/controls",
          "model_name": "FloatProgressModel",
          "model_module_version": "1.5.0",
          "state": {
            "_dom_classes": [],
            "_model_module": "@jupyter-widgets/controls",
            "_model_module_version": "1.5.0",
            "_model_name": "FloatProgressModel",
            "_view_count": null,
            "_view_module": "@jupyter-widgets/controls",
            "_view_module_version": "1.5.0",
            "_view_name": "ProgressView",
            "bar_style": "success",
            "description": "",
            "description_tooltip": null,
            "layout": "IPY_MODEL_cb7ade5e692547e0917468597e43ca35",
            "max": 1042301,
            "min": 0,
            "orientation": "horizontal",
            "style": "IPY_MODEL_3505558e639942f7900a2a36f199f02e",
            "value": 1042301
          }
        },
        "ac560c552b484bbe840f176ac1009693": {
          "model_module": "@jupyter-widgets/controls",
          "model_name": "HTMLModel",
          "model_module_version": "1.5.0",
          "state": {
            "_dom_classes": [],
            "_model_module": "@jupyter-widgets/controls",
            "_model_module_version": "1.5.0",
            "_model_name": "HTMLModel",
            "_view_count": null,
            "_view_module": "@jupyter-widgets/controls",
            "_view_module_version": "1.5.0",
            "_view_name": "HTMLView",
            "description": "",
            "description_tooltip": null,
            "layout": "IPY_MODEL_aee1f02eea8046f5b0607638ca5ee405",
            "placeholder": "​",
            "style": "IPY_MODEL_173879e3dcac4cb8bdf146e8d625b2f7",
            "value": " 1.04M/1.04M [00:00&lt;00:00, 6.85MB/s]"
          }
        },
        "472935fc158b4dcdb1232c30a465f1be": {
          "model_module": "@jupyter-widgets/base",
          "model_name": "LayoutModel",
          "model_module_version": "1.2.0",
          "state": {
            "_model_module": "@jupyter-widgets/base",
            "_model_module_version": "1.2.0",
            "_model_name": "LayoutModel",
            "_view_count": null,
            "_view_module": "@jupyter-widgets/base",
            "_view_module_version": "1.2.0",
            "_view_name": "LayoutView",
            "align_content": null,
            "align_items": null,
            "align_self": null,
            "border": null,
            "bottom": null,
            "display": null,
            "flex": null,
            "flex_flow": null,
            "grid_area": null,
            "grid_auto_columns": null,
            "grid_auto_flow": null,
            "grid_auto_rows": null,
            "grid_column": null,
            "grid_gap": null,
            "grid_row": null,
            "grid_template_areas": null,
            "grid_template_columns": null,
            "grid_template_rows": null,
            "height": null,
            "justify_content": null,
            "justify_items": null,
            "left": null,
            "margin": null,
            "max_height": null,
            "max_width": null,
            "min_height": null,
            "min_width": null,
            "object_fit": null,
            "object_position": null,
            "order": null,
            "overflow": null,
            "overflow_x": null,
            "overflow_y": null,
            "padding": null,
            "right": null,
            "top": null,
            "visibility": null,
            "width": null
          }
        },
        "c6977ea371604f5a93c41be69ccfa76c": {
          "model_module": "@jupyter-widgets/base",
          "model_name": "LayoutModel",
          "model_module_version": "1.2.0",
          "state": {
            "_model_module": "@jupyter-widgets/base",
            "_model_module_version": "1.2.0",
            "_model_name": "LayoutModel",
            "_view_count": null,
            "_view_module": "@jupyter-widgets/base",
            "_view_module_version": "1.2.0",
            "_view_name": "LayoutView",
            "align_content": null,
            "align_items": null,
            "align_self": null,
            "border": null,
            "bottom": null,
            "display": null,
            "flex": null,
            "flex_flow": null,
            "grid_area": null,
            "grid_auto_columns": null,
            "grid_auto_flow": null,
            "grid_auto_rows": null,
            "grid_column": null,
            "grid_gap": null,
            "grid_row": null,
            "grid_template_areas": null,
            "grid_template_columns": null,
            "grid_template_rows": null,
            "height": null,
            "justify_content": null,
            "justify_items": null,
            "left": null,
            "margin": null,
            "max_height": null,
            "max_width": null,
            "min_height": null,
            "min_width": null,
            "object_fit": null,
            "object_position": null,
            "order": null,
            "overflow": null,
            "overflow_x": null,
            "overflow_y": null,
            "padding": null,
            "right": null,
            "top": null,
            "visibility": null,
            "width": null
          }
        },
        "9bc0b5dee96c41bba8256c7e24c05693": {
          "model_module": "@jupyter-widgets/controls",
          "model_name": "DescriptionStyleModel",
          "model_module_version": "1.5.0",
          "state": {
            "_model_module": "@jupyter-widgets/controls",
            "_model_module_version": "1.5.0",
            "_model_name": "DescriptionStyleModel",
            "_view_count": null,
            "_view_module": "@jupyter-widgets/base",
            "_view_module_version": "1.2.0",
            "_view_name": "StyleView",
            "description_width": ""
          }
        },
        "cb7ade5e692547e0917468597e43ca35": {
          "model_module": "@jupyter-widgets/base",
          "model_name": "LayoutModel",
          "model_module_version": "1.2.0",
          "state": {
            "_model_module": "@jupyter-widgets/base",
            "_model_module_version": "1.2.0",
            "_model_name": "LayoutModel",
            "_view_count": null,
            "_view_module": "@jupyter-widgets/base",
            "_view_module_version": "1.2.0",
            "_view_name": "LayoutView",
            "align_content": null,
            "align_items": null,
            "align_self": null,
            "border": null,
            "bottom": null,
            "display": null,
            "flex": null,
            "flex_flow": null,
            "grid_area": null,
            "grid_auto_columns": null,
            "grid_auto_flow": null,
            "grid_auto_rows": null,
            "grid_column": null,
            "grid_gap": null,
            "grid_row": null,
            "grid_template_areas": null,
            "grid_template_columns": null,
            "grid_template_rows": null,
            "height": null,
            "justify_content": null,
            "justify_items": null,
            "left": null,
            "margin": null,
            "max_height": null,
            "max_width": null,
            "min_height": null,
            "min_width": null,
            "object_fit": null,
            "object_position": null,
            "order": null,
            "overflow": null,
            "overflow_x": null,
            "overflow_y": null,
            "padding": null,
            "right": null,
            "top": null,
            "visibility": null,
            "width": null
          }
        },
        "3505558e639942f7900a2a36f199f02e": {
          "model_module": "@jupyter-widgets/controls",
          "model_name": "ProgressStyleModel",
          "model_module_version": "1.5.0",
          "state": {
            "_model_module": "@jupyter-widgets/controls",
            "_model_module_version": "1.5.0",
            "_model_name": "ProgressStyleModel",
            "_view_count": null,
            "_view_module": "@jupyter-widgets/base",
            "_view_module_version": "1.2.0",
            "_view_name": "StyleView",
            "bar_color": null,
            "description_width": ""
          }
        },
        "aee1f02eea8046f5b0607638ca5ee405": {
          "model_module": "@jupyter-widgets/base",
          "model_name": "LayoutModel",
          "model_module_version": "1.2.0",
          "state": {
            "_model_module": "@jupyter-widgets/base",
            "_model_module_version": "1.2.0",
            "_model_name": "LayoutModel",
            "_view_count": null,
            "_view_module": "@jupyter-widgets/base",
            "_view_module_version": "1.2.0",
            "_view_name": "LayoutView",
            "align_content": null,
            "align_items": null,
            "align_self": null,
            "border": null,
            "bottom": null,
            "display": null,
            "flex": null,
            "flex_flow": null,
            "grid_area": null,
            "grid_auto_columns": null,
            "grid_auto_flow": null,
            "grid_auto_rows": null,
            "grid_column": null,
            "grid_gap": null,
            "grid_row": null,
            "grid_template_areas": null,
            "grid_template_columns": null,
            "grid_template_rows": null,
            "height": null,
            "justify_content": null,
            "justify_items": null,
            "left": null,
            "margin": null,
            "max_height": null,
            "max_width": null,
            "min_height": null,
            "min_width": null,
            "object_fit": null,
            "object_position": null,
            "order": null,
            "overflow": null,
            "overflow_x": null,
            "overflow_y": null,
            "padding": null,
            "right": null,
            "top": null,
            "visibility": null,
            "width": null
          }
        },
        "173879e3dcac4cb8bdf146e8d625b2f7": {
          "model_module": "@jupyter-widgets/controls",
          "model_name": "DescriptionStyleModel",
          "model_module_version": "1.5.0",
          "state": {
            "_model_module": "@jupyter-widgets/controls",
            "_model_module_version": "1.5.0",
            "_model_name": "DescriptionStyleModel",
            "_view_count": null,
            "_view_module": "@jupyter-widgets/base",
            "_view_module_version": "1.2.0",
            "_view_name": "StyleView",
            "description_width": ""
          }
        },
        "86a9119b1a9f4a9f8618e77349f206ce": {
          "model_module": "@jupyter-widgets/controls",
          "model_name": "HBoxModel",
          "model_module_version": "1.5.0",
          "state": {
            "_dom_classes": [],
            "_model_module": "@jupyter-widgets/controls",
            "_model_module_version": "1.5.0",
            "_model_name": "HBoxModel",
            "_view_count": null,
            "_view_module": "@jupyter-widgets/controls",
            "_view_module_version": "1.5.0",
            "_view_name": "HBoxView",
            "box_style": "",
            "children": [
              "IPY_MODEL_2f0bf4cdf8bd4ba9a70adf201b9b0f21",
              "IPY_MODEL_0327194d30c34ee1afe982e77d8a623e",
              "IPY_MODEL_b39c16ede29945d9b7015a7a1b82da56"
            ],
            "layout": "IPY_MODEL_46fafc4076c84c09a14f688a3c945130"
          }
        },
        "2f0bf4cdf8bd4ba9a70adf201b9b0f21": {
          "model_module": "@jupyter-widgets/controls",
          "model_name": "HTMLModel",
          "model_module_version": "1.5.0",
          "state": {
            "_dom_classes": [],
            "_model_module": "@jupyter-widgets/controls",
            "_model_module_version": "1.5.0",
            "_model_name": "HTMLModel",
            "_view_count": null,
            "_view_module": "@jupyter-widgets/controls",
            "_view_module_version": "1.5.0",
            "_view_name": "HTMLView",
            "description": "",
            "description_tooltip": null,
            "layout": "IPY_MODEL_959d56c5bb074e708860f10f50b80fee",
            "placeholder": "​",
            "style": "IPY_MODEL_e49f8d5ab65048c1a03bb3b5b2e28d84",
            "value": "Downloading (…)olve/main/merges.txt: 100%"
          }
        },
        "0327194d30c34ee1afe982e77d8a623e": {
          "model_module": "@jupyter-widgets/controls",
          "model_name": "FloatProgressModel",
          "model_module_version": "1.5.0",
          "state": {
            "_dom_classes": [],
            "_model_module": "@jupyter-widgets/controls",
            "_model_module_version": "1.5.0",
            "_model_name": "FloatProgressModel",
            "_view_count": null,
            "_view_module": "@jupyter-widgets/controls",
            "_view_module_version": "1.5.0",
            "_view_name": "ProgressView",
            "bar_style": "success",
            "description": "",
            "description_tooltip": null,
            "layout": "IPY_MODEL_0ae230eea10446ab97779fb2a2817bc9",
            "max": 456318,
            "min": 0,
            "orientation": "horizontal",
            "style": "IPY_MODEL_9cce7644a8c14f3982219f07152e286f",
            "value": 456318
          }
        },
        "b39c16ede29945d9b7015a7a1b82da56": {
          "model_module": "@jupyter-widgets/controls",
          "model_name": "HTMLModel",
          "model_module_version": "1.5.0",
          "state": {
            "_dom_classes": [],
            "_model_module": "@jupyter-widgets/controls",
            "_model_module_version": "1.5.0",
            "_model_name": "HTMLModel",
            "_view_count": null,
            "_view_module": "@jupyter-widgets/controls",
            "_view_module_version": "1.5.0",
            "_view_name": "HTMLView",
            "description": "",
            "description_tooltip": null,
            "layout": "IPY_MODEL_345ac8c67f0a4f89ba02aaf833e9cba0",
            "placeholder": "​",
            "style": "IPY_MODEL_2a62d1ef049245bc86e2188035f8b5f9",
            "value": " 456k/456k [00:00&lt;00:00, 4.84MB/s]"
          }
        },
        "46fafc4076c84c09a14f688a3c945130": {
          "model_module": "@jupyter-widgets/base",
          "model_name": "LayoutModel",
          "model_module_version": "1.2.0",
          "state": {
            "_model_module": "@jupyter-widgets/base",
            "_model_module_version": "1.2.0",
            "_model_name": "LayoutModel",
            "_view_count": null,
            "_view_module": "@jupyter-widgets/base",
            "_view_module_version": "1.2.0",
            "_view_name": "LayoutView",
            "align_content": null,
            "align_items": null,
            "align_self": null,
            "border": null,
            "bottom": null,
            "display": null,
            "flex": null,
            "flex_flow": null,
            "grid_area": null,
            "grid_auto_columns": null,
            "grid_auto_flow": null,
            "grid_auto_rows": null,
            "grid_column": null,
            "grid_gap": null,
            "grid_row": null,
            "grid_template_areas": null,
            "grid_template_columns": null,
            "grid_template_rows": null,
            "height": null,
            "justify_content": null,
            "justify_items": null,
            "left": null,
            "margin": null,
            "max_height": null,
            "max_width": null,
            "min_height": null,
            "min_width": null,
            "object_fit": null,
            "object_position": null,
            "order": null,
            "overflow": null,
            "overflow_x": null,
            "overflow_y": null,
            "padding": null,
            "right": null,
            "top": null,
            "visibility": null,
            "width": null
          }
        },
        "959d56c5bb074e708860f10f50b80fee": {
          "model_module": "@jupyter-widgets/base",
          "model_name": "LayoutModel",
          "model_module_version": "1.2.0",
          "state": {
            "_model_module": "@jupyter-widgets/base",
            "_model_module_version": "1.2.0",
            "_model_name": "LayoutModel",
            "_view_count": null,
            "_view_module": "@jupyter-widgets/base",
            "_view_module_version": "1.2.0",
            "_view_name": "LayoutView",
            "align_content": null,
            "align_items": null,
            "align_self": null,
            "border": null,
            "bottom": null,
            "display": null,
            "flex": null,
            "flex_flow": null,
            "grid_area": null,
            "grid_auto_columns": null,
            "grid_auto_flow": null,
            "grid_auto_rows": null,
            "grid_column": null,
            "grid_gap": null,
            "grid_row": null,
            "grid_template_areas": null,
            "grid_template_columns": null,
            "grid_template_rows": null,
            "height": null,
            "justify_content": null,
            "justify_items": null,
            "left": null,
            "margin": null,
            "max_height": null,
            "max_width": null,
            "min_height": null,
            "min_width": null,
            "object_fit": null,
            "object_position": null,
            "order": null,
            "overflow": null,
            "overflow_x": null,
            "overflow_y": null,
            "padding": null,
            "right": null,
            "top": null,
            "visibility": null,
            "width": null
          }
        },
        "e49f8d5ab65048c1a03bb3b5b2e28d84": {
          "model_module": "@jupyter-widgets/controls",
          "model_name": "DescriptionStyleModel",
          "model_module_version": "1.5.0",
          "state": {
            "_model_module": "@jupyter-widgets/controls",
            "_model_module_version": "1.5.0",
            "_model_name": "DescriptionStyleModel",
            "_view_count": null,
            "_view_module": "@jupyter-widgets/base",
            "_view_module_version": "1.2.0",
            "_view_name": "StyleView",
            "description_width": ""
          }
        },
        "0ae230eea10446ab97779fb2a2817bc9": {
          "model_module": "@jupyter-widgets/base",
          "model_name": "LayoutModel",
          "model_module_version": "1.2.0",
          "state": {
            "_model_module": "@jupyter-widgets/base",
            "_model_module_version": "1.2.0",
            "_model_name": "LayoutModel",
            "_view_count": null,
            "_view_module": "@jupyter-widgets/base",
            "_view_module_version": "1.2.0",
            "_view_name": "LayoutView",
            "align_content": null,
            "align_items": null,
            "align_self": null,
            "border": null,
            "bottom": null,
            "display": null,
            "flex": null,
            "flex_flow": null,
            "grid_area": null,
            "grid_auto_columns": null,
            "grid_auto_flow": null,
            "grid_auto_rows": null,
            "grid_column": null,
            "grid_gap": null,
            "grid_row": null,
            "grid_template_areas": null,
            "grid_template_columns": null,
            "grid_template_rows": null,
            "height": null,
            "justify_content": null,
            "justify_items": null,
            "left": null,
            "margin": null,
            "max_height": null,
            "max_width": null,
            "min_height": null,
            "min_width": null,
            "object_fit": null,
            "object_position": null,
            "order": null,
            "overflow": null,
            "overflow_x": null,
            "overflow_y": null,
            "padding": null,
            "right": null,
            "top": null,
            "visibility": null,
            "width": null
          }
        },
        "9cce7644a8c14f3982219f07152e286f": {
          "model_module": "@jupyter-widgets/controls",
          "model_name": "ProgressStyleModel",
          "model_module_version": "1.5.0",
          "state": {
            "_model_module": "@jupyter-widgets/controls",
            "_model_module_version": "1.5.0",
            "_model_name": "ProgressStyleModel",
            "_view_count": null,
            "_view_module": "@jupyter-widgets/base",
            "_view_module_version": "1.2.0",
            "_view_name": "StyleView",
            "bar_color": null,
            "description_width": ""
          }
        },
        "345ac8c67f0a4f89ba02aaf833e9cba0": {
          "model_module": "@jupyter-widgets/base",
          "model_name": "LayoutModel",
          "model_module_version": "1.2.0",
          "state": {
            "_model_module": "@jupyter-widgets/base",
            "_model_module_version": "1.2.0",
            "_model_name": "LayoutModel",
            "_view_count": null,
            "_view_module": "@jupyter-widgets/base",
            "_view_module_version": "1.2.0",
            "_view_name": "LayoutView",
            "align_content": null,
            "align_items": null,
            "align_self": null,
            "border": null,
            "bottom": null,
            "display": null,
            "flex": null,
            "flex_flow": null,
            "grid_area": null,
            "grid_auto_columns": null,
            "grid_auto_flow": null,
            "grid_auto_rows": null,
            "grid_column": null,
            "grid_gap": null,
            "grid_row": null,
            "grid_template_areas": null,
            "grid_template_columns": null,
            "grid_template_rows": null,
            "height": null,
            "justify_content": null,
            "justify_items": null,
            "left": null,
            "margin": null,
            "max_height": null,
            "max_width": null,
            "min_height": null,
            "min_width": null,
            "object_fit": null,
            "object_position": null,
            "order": null,
            "overflow": null,
            "overflow_x": null,
            "overflow_y": null,
            "padding": null,
            "right": null,
            "top": null,
            "visibility": null,
            "width": null
          }
        },
        "2a62d1ef049245bc86e2188035f8b5f9": {
          "model_module": "@jupyter-widgets/controls",
          "model_name": "DescriptionStyleModel",
          "model_module_version": "1.5.0",
          "state": {
            "_model_module": "@jupyter-widgets/controls",
            "_model_module_version": "1.5.0",
            "_model_name": "DescriptionStyleModel",
            "_view_count": null,
            "_view_module": "@jupyter-widgets/base",
            "_view_module_version": "1.2.0",
            "_view_name": "StyleView",
            "description_width": ""
          }
        },
        "b497878dedcb42ba97b1ca469a31abe7": {
          "model_module": "@jupyter-widgets/controls",
          "model_name": "HBoxModel",
          "model_module_version": "1.5.0",
          "state": {
            "_dom_classes": [],
            "_model_module": "@jupyter-widgets/controls",
            "_model_module_version": "1.5.0",
            "_model_name": "HBoxModel",
            "_view_count": null,
            "_view_module": "@jupyter-widgets/controls",
            "_view_module_version": "1.5.0",
            "_view_name": "HBoxView",
            "box_style": "",
            "children": [
              "IPY_MODEL_a3b356cb92cd45e0979c44c4dce3c151",
              "IPY_MODEL_cd7299da31f344429bd05f4f4c3b4b6c",
              "IPY_MODEL_943b9f6e32984942944e73ff10aa5c71"
            ],
            "layout": "IPY_MODEL_ffcf18a05b7d4bbd96e7cbb90ef68e0f"
          }
        },
        "a3b356cb92cd45e0979c44c4dce3c151": {
          "model_module": "@jupyter-widgets/controls",
          "model_name": "HTMLModel",
          "model_module_version": "1.5.0",
          "state": {
            "_dom_classes": [],
            "_model_module": "@jupyter-widgets/controls",
            "_model_module_version": "1.5.0",
            "_model_name": "HTMLModel",
            "_view_count": null,
            "_view_module": "@jupyter-widgets/controls",
            "_view_module_version": "1.5.0",
            "_view_name": "HTMLView",
            "description": "",
            "description_tooltip": null,
            "layout": "IPY_MODEL_a6a369e95bb24068a45b2ee2724b54ef",
            "placeholder": "​",
            "style": "IPY_MODEL_ed4fa0a1e379437a8225edad73ed8fa8",
            "value": "Downloading (…)lve/main/config.json: 100%"
          }
        },
        "cd7299da31f344429bd05f4f4c3b4b6c": {
          "model_module": "@jupyter-widgets/controls",
          "model_name": "FloatProgressModel",
          "model_module_version": "1.5.0",
          "state": {
            "_dom_classes": [],
            "_model_module": "@jupyter-widgets/controls",
            "_model_module_version": "1.5.0",
            "_model_name": "FloatProgressModel",
            "_view_count": null,
            "_view_module": "@jupyter-widgets/controls",
            "_view_module_version": "1.5.0",
            "_view_name": "ProgressView",
            "bar_style": "success",
            "description": "",
            "description_tooltip": null,
            "layout": "IPY_MODEL_133ee27083444495bedb46eaee9bdda6",
            "max": 665,
            "min": 0,
            "orientation": "horizontal",
            "style": "IPY_MODEL_948872bfa8c54211b393501b88169534",
            "value": 665
          }
        },
        "943b9f6e32984942944e73ff10aa5c71": {
          "model_module": "@jupyter-widgets/controls",
          "model_name": "HTMLModel",
          "model_module_version": "1.5.0",
          "state": {
            "_dom_classes": [],
            "_model_module": "@jupyter-widgets/controls",
            "_model_module_version": "1.5.0",
            "_model_name": "HTMLModel",
            "_view_count": null,
            "_view_module": "@jupyter-widgets/controls",
            "_view_module_version": "1.5.0",
            "_view_name": "HTMLView",
            "description": "",
            "description_tooltip": null,
            "layout": "IPY_MODEL_afbd9d355b2444a8b899a57b8197898d",
            "placeholder": "​",
            "style": "IPY_MODEL_505d87901220465ebfa877b2d71f2510",
            "value": " 665/665 [00:00&lt;00:00, 17.3kB/s]"
          }
        },
        "ffcf18a05b7d4bbd96e7cbb90ef68e0f": {
          "model_module": "@jupyter-widgets/base",
          "model_name": "LayoutModel",
          "model_module_version": "1.2.0",
          "state": {
            "_model_module": "@jupyter-widgets/base",
            "_model_module_version": "1.2.0",
            "_model_name": "LayoutModel",
            "_view_count": null,
            "_view_module": "@jupyter-widgets/base",
            "_view_module_version": "1.2.0",
            "_view_name": "LayoutView",
            "align_content": null,
            "align_items": null,
            "align_self": null,
            "border": null,
            "bottom": null,
            "display": null,
            "flex": null,
            "flex_flow": null,
            "grid_area": null,
            "grid_auto_columns": null,
            "grid_auto_flow": null,
            "grid_auto_rows": null,
            "grid_column": null,
            "grid_gap": null,
            "grid_row": null,
            "grid_template_areas": null,
            "grid_template_columns": null,
            "grid_template_rows": null,
            "height": null,
            "justify_content": null,
            "justify_items": null,
            "left": null,
            "margin": null,
            "max_height": null,
            "max_width": null,
            "min_height": null,
            "min_width": null,
            "object_fit": null,
            "object_position": null,
            "order": null,
            "overflow": null,
            "overflow_x": null,
            "overflow_y": null,
            "padding": null,
            "right": null,
            "top": null,
            "visibility": null,
            "width": null
          }
        },
        "a6a369e95bb24068a45b2ee2724b54ef": {
          "model_module": "@jupyter-widgets/base",
          "model_name": "LayoutModel",
          "model_module_version": "1.2.0",
          "state": {
            "_model_module": "@jupyter-widgets/base",
            "_model_module_version": "1.2.0",
            "_model_name": "LayoutModel",
            "_view_count": null,
            "_view_module": "@jupyter-widgets/base",
            "_view_module_version": "1.2.0",
            "_view_name": "LayoutView",
            "align_content": null,
            "align_items": null,
            "align_self": null,
            "border": null,
            "bottom": null,
            "display": null,
            "flex": null,
            "flex_flow": null,
            "grid_area": null,
            "grid_auto_columns": null,
            "grid_auto_flow": null,
            "grid_auto_rows": null,
            "grid_column": null,
            "grid_gap": null,
            "grid_row": null,
            "grid_template_areas": null,
            "grid_template_columns": null,
            "grid_template_rows": null,
            "height": null,
            "justify_content": null,
            "justify_items": null,
            "left": null,
            "margin": null,
            "max_height": null,
            "max_width": null,
            "min_height": null,
            "min_width": null,
            "object_fit": null,
            "object_position": null,
            "order": null,
            "overflow": null,
            "overflow_x": null,
            "overflow_y": null,
            "padding": null,
            "right": null,
            "top": null,
            "visibility": null,
            "width": null
          }
        },
        "ed4fa0a1e379437a8225edad73ed8fa8": {
          "model_module": "@jupyter-widgets/controls",
          "model_name": "DescriptionStyleModel",
          "model_module_version": "1.5.0",
          "state": {
            "_model_module": "@jupyter-widgets/controls",
            "_model_module_version": "1.5.0",
            "_model_name": "DescriptionStyleModel",
            "_view_count": null,
            "_view_module": "@jupyter-widgets/base",
            "_view_module_version": "1.2.0",
            "_view_name": "StyleView",
            "description_width": ""
          }
        },
        "133ee27083444495bedb46eaee9bdda6": {
          "model_module": "@jupyter-widgets/base",
          "model_name": "LayoutModel",
          "model_module_version": "1.2.0",
          "state": {
            "_model_module": "@jupyter-widgets/base",
            "_model_module_version": "1.2.0",
            "_model_name": "LayoutModel",
            "_view_count": null,
            "_view_module": "@jupyter-widgets/base",
            "_view_module_version": "1.2.0",
            "_view_name": "LayoutView",
            "align_content": null,
            "align_items": null,
            "align_self": null,
            "border": null,
            "bottom": null,
            "display": null,
            "flex": null,
            "flex_flow": null,
            "grid_area": null,
            "grid_auto_columns": null,
            "grid_auto_flow": null,
            "grid_auto_rows": null,
            "grid_column": null,
            "grid_gap": null,
            "grid_row": null,
            "grid_template_areas": null,
            "grid_template_columns": null,
            "grid_template_rows": null,
            "height": null,
            "justify_content": null,
            "justify_items": null,
            "left": null,
            "margin": null,
            "max_height": null,
            "max_width": null,
            "min_height": null,
            "min_width": null,
            "object_fit": null,
            "object_position": null,
            "order": null,
            "overflow": null,
            "overflow_x": null,
            "overflow_y": null,
            "padding": null,
            "right": null,
            "top": null,
            "visibility": null,
            "width": null
          }
        },
        "948872bfa8c54211b393501b88169534": {
          "model_module": "@jupyter-widgets/controls",
          "model_name": "ProgressStyleModel",
          "model_module_version": "1.5.0",
          "state": {
            "_model_module": "@jupyter-widgets/controls",
            "_model_module_version": "1.5.0",
            "_model_name": "ProgressStyleModel",
            "_view_count": null,
            "_view_module": "@jupyter-widgets/base",
            "_view_module_version": "1.2.0",
            "_view_name": "StyleView",
            "bar_color": null,
            "description_width": ""
          }
        },
        "afbd9d355b2444a8b899a57b8197898d": {
          "model_module": "@jupyter-widgets/base",
          "model_name": "LayoutModel",
          "model_module_version": "1.2.0",
          "state": {
            "_model_module": "@jupyter-widgets/base",
            "_model_module_version": "1.2.0",
            "_model_name": "LayoutModel",
            "_view_count": null,
            "_view_module": "@jupyter-widgets/base",
            "_view_module_version": "1.2.0",
            "_view_name": "LayoutView",
            "align_content": null,
            "align_items": null,
            "align_self": null,
            "border": null,
            "bottom": null,
            "display": null,
            "flex": null,
            "flex_flow": null,
            "grid_area": null,
            "grid_auto_columns": null,
            "grid_auto_flow": null,
            "grid_auto_rows": null,
            "grid_column": null,
            "grid_gap": null,
            "grid_row": null,
            "grid_template_areas": null,
            "grid_template_columns": null,
            "grid_template_rows": null,
            "height": null,
            "justify_content": null,
            "justify_items": null,
            "left": null,
            "margin": null,
            "max_height": null,
            "max_width": null,
            "min_height": null,
            "min_width": null,
            "object_fit": null,
            "object_position": null,
            "order": null,
            "overflow": null,
            "overflow_x": null,
            "overflow_y": null,
            "padding": null,
            "right": null,
            "top": null,
            "visibility": null,
            "width": null
          }
        },
        "505d87901220465ebfa877b2d71f2510": {
          "model_module": "@jupyter-widgets/controls",
          "model_name": "DescriptionStyleModel",
          "model_module_version": "1.5.0",
          "state": {
            "_model_module": "@jupyter-widgets/controls",
            "_model_module_version": "1.5.0",
            "_model_name": "DescriptionStyleModel",
            "_view_count": null,
            "_view_module": "@jupyter-widgets/base",
            "_view_module_version": "1.2.0",
            "_view_name": "StyleView",
            "description_width": ""
          }
        }
      }
    }
  },
  "nbformat": 4,
  "nbformat_minor": 0
}