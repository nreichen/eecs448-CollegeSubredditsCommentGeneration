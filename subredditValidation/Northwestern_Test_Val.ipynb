{
  "nbformat": 4,
  "nbformat_minor": 0,
  "metadata": {
    "colab": {
      "provenance": [],
      "include_colab_link": true
    },
    "kernelspec": {
      "name": "python3",
      "display_name": "Python 3"
    },
    "language_info": {
      "name": "python"
    },
    "gpuClass": "standard",
    "accelerator": "GPU",
    "widgets": {
      "application/vnd.jupyter.widget-state+json": {
        "da55125325ad4e428ed6bfb15517fea1": {
          "model_module": "@jupyter-widgets/controls",
          "model_name": "HBoxModel",
          "model_module_version": "1.5.0",
          "state": {
            "_dom_classes": [],
            "_model_module": "@jupyter-widgets/controls",
            "_model_module_version": "1.5.0",
            "_model_name": "HBoxModel",
            "_view_count": null,
            "_view_module": "@jupyter-widgets/controls",
            "_view_module_version": "1.5.0",
            "_view_name": "HBoxView",
            "box_style": "",
            "children": [
              "IPY_MODEL_d90195d94d3d45a29235387412334453",
              "IPY_MODEL_303aceea50c444e4982b5c09b20d7426",
              "IPY_MODEL_1c3cadf58f154fdcbc31abaaa988d6f4"
            ],
            "layout": "IPY_MODEL_2813ad24561c484390249880896fd82d"
          }
        },
        "d90195d94d3d45a29235387412334453": {
          "model_module": "@jupyter-widgets/controls",
          "model_name": "HTMLModel",
          "model_module_version": "1.5.0",
          "state": {
            "_dom_classes": [],
            "_model_module": "@jupyter-widgets/controls",
            "_model_module_version": "1.5.0",
            "_model_name": "HTMLModel",
            "_view_count": null,
            "_view_module": "@jupyter-widgets/controls",
            "_view_module_version": "1.5.0",
            "_view_name": "HTMLView",
            "description": "",
            "description_tooltip": null,
            "layout": "IPY_MODEL_e9a09272d5804f10b0479ecad038f38c",
            "placeholder": "​",
            "style": "IPY_MODEL_a8d46891c5c54ca1937738aca2fbba3d",
            "value": "Downloading (…)olve/main/vocab.json: 100%"
          }
        },
        "303aceea50c444e4982b5c09b20d7426": {
          "model_module": "@jupyter-widgets/controls",
          "model_name": "FloatProgressModel",
          "model_module_version": "1.5.0",
          "state": {
            "_dom_classes": [],
            "_model_module": "@jupyter-widgets/controls",
            "_model_module_version": "1.5.0",
            "_model_name": "FloatProgressModel",
            "_view_count": null,
            "_view_module": "@jupyter-widgets/controls",
            "_view_module_version": "1.5.0",
            "_view_name": "ProgressView",
            "bar_style": "success",
            "description": "",
            "description_tooltip": null,
            "layout": "IPY_MODEL_892314feca62410589bd2611f9e9c098",
            "max": 1042301,
            "min": 0,
            "orientation": "horizontal",
            "style": "IPY_MODEL_f429a9cbde7048c5a7390bc27b2d53e2",
            "value": 1042301
          }
        },
        "1c3cadf58f154fdcbc31abaaa988d6f4": {
          "model_module": "@jupyter-widgets/controls",
          "model_name": "HTMLModel",
          "model_module_version": "1.5.0",
          "state": {
            "_dom_classes": [],
            "_model_module": "@jupyter-widgets/controls",
            "_model_module_version": "1.5.0",
            "_model_name": "HTMLModel",
            "_view_count": null,
            "_view_module": "@jupyter-widgets/controls",
            "_view_module_version": "1.5.0",
            "_view_name": "HTMLView",
            "description": "",
            "description_tooltip": null,
            "layout": "IPY_MODEL_6455924796224f8c85f294cb0fac0fce",
            "placeholder": "​",
            "style": "IPY_MODEL_a657e5813dc0453786c3f56df7d0f1fd",
            "value": " 1.04M/1.04M [00:00&lt;00:00, 10.8MB/s]"
          }
        },
        "2813ad24561c484390249880896fd82d": {
          "model_module": "@jupyter-widgets/base",
          "model_name": "LayoutModel",
          "model_module_version": "1.2.0",
          "state": {
            "_model_module": "@jupyter-widgets/base",
            "_model_module_version": "1.2.0",
            "_model_name": "LayoutModel",
            "_view_count": null,
            "_view_module": "@jupyter-widgets/base",
            "_view_module_version": "1.2.0",
            "_view_name": "LayoutView",
            "align_content": null,
            "align_items": null,
            "align_self": null,
            "border": null,
            "bottom": null,
            "display": null,
            "flex": null,
            "flex_flow": null,
            "grid_area": null,
            "grid_auto_columns": null,
            "grid_auto_flow": null,
            "grid_auto_rows": null,
            "grid_column": null,
            "grid_gap": null,
            "grid_row": null,
            "grid_template_areas": null,
            "grid_template_columns": null,
            "grid_template_rows": null,
            "height": null,
            "justify_content": null,
            "justify_items": null,
            "left": null,
            "margin": null,
            "max_height": null,
            "max_width": null,
            "min_height": null,
            "min_width": null,
            "object_fit": null,
            "object_position": null,
            "order": null,
            "overflow": null,
            "overflow_x": null,
            "overflow_y": null,
            "padding": null,
            "right": null,
            "top": null,
            "visibility": null,
            "width": null
          }
        },
        "e9a09272d5804f10b0479ecad038f38c": {
          "model_module": "@jupyter-widgets/base",
          "model_name": "LayoutModel",
          "model_module_version": "1.2.0",
          "state": {
            "_model_module": "@jupyter-widgets/base",
            "_model_module_version": "1.2.0",
            "_model_name": "LayoutModel",
            "_view_count": null,
            "_view_module": "@jupyter-widgets/base",
            "_view_module_version": "1.2.0",
            "_view_name": "LayoutView",
            "align_content": null,
            "align_items": null,
            "align_self": null,
            "border": null,
            "bottom": null,
            "display": null,
            "flex": null,
            "flex_flow": null,
            "grid_area": null,
            "grid_auto_columns": null,
            "grid_auto_flow": null,
            "grid_auto_rows": null,
            "grid_column": null,
            "grid_gap": null,
            "grid_row": null,
            "grid_template_areas": null,
            "grid_template_columns": null,
            "grid_template_rows": null,
            "height": null,
            "justify_content": null,
            "justify_items": null,
            "left": null,
            "margin": null,
            "max_height": null,
            "max_width": null,
            "min_height": null,
            "min_width": null,
            "object_fit": null,
            "object_position": null,
            "order": null,
            "overflow": null,
            "overflow_x": null,
            "overflow_y": null,
            "padding": null,
            "right": null,
            "top": null,
            "visibility": null,
            "width": null
          }
        },
        "a8d46891c5c54ca1937738aca2fbba3d": {
          "model_module": "@jupyter-widgets/controls",
          "model_name": "DescriptionStyleModel",
          "model_module_version": "1.5.0",
          "state": {
            "_model_module": "@jupyter-widgets/controls",
            "_model_module_version": "1.5.0",
            "_model_name": "DescriptionStyleModel",
            "_view_count": null,
            "_view_module": "@jupyter-widgets/base",
            "_view_module_version": "1.2.0",
            "_view_name": "StyleView",
            "description_width": ""
          }
        },
        "892314feca62410589bd2611f9e9c098": {
          "model_module": "@jupyter-widgets/base",
          "model_name": "LayoutModel",
          "model_module_version": "1.2.0",
          "state": {
            "_model_module": "@jupyter-widgets/base",
            "_model_module_version": "1.2.0",
            "_model_name": "LayoutModel",
            "_view_count": null,
            "_view_module": "@jupyter-widgets/base",
            "_view_module_version": "1.2.0",
            "_view_name": "LayoutView",
            "align_content": null,
            "align_items": null,
            "align_self": null,
            "border": null,
            "bottom": null,
            "display": null,
            "flex": null,
            "flex_flow": null,
            "grid_area": null,
            "grid_auto_columns": null,
            "grid_auto_flow": null,
            "grid_auto_rows": null,
            "grid_column": null,
            "grid_gap": null,
            "grid_row": null,
            "grid_template_areas": null,
            "grid_template_columns": null,
            "grid_template_rows": null,
            "height": null,
            "justify_content": null,
            "justify_items": null,
            "left": null,
            "margin": null,
            "max_height": null,
            "max_width": null,
            "min_height": null,
            "min_width": null,
            "object_fit": null,
            "object_position": null,
            "order": null,
            "overflow": null,
            "overflow_x": null,
            "overflow_y": null,
            "padding": null,
            "right": null,
            "top": null,
            "visibility": null,
            "width": null
          }
        },
        "f429a9cbde7048c5a7390bc27b2d53e2": {
          "model_module": "@jupyter-widgets/controls",
          "model_name": "ProgressStyleModel",
          "model_module_version": "1.5.0",
          "state": {
            "_model_module": "@jupyter-widgets/controls",
            "_model_module_version": "1.5.0",
            "_model_name": "ProgressStyleModel",
            "_view_count": null,
            "_view_module": "@jupyter-widgets/base",
            "_view_module_version": "1.2.0",
            "_view_name": "StyleView",
            "bar_color": null,
            "description_width": ""
          }
        },
        "6455924796224f8c85f294cb0fac0fce": {
          "model_module": "@jupyter-widgets/base",
          "model_name": "LayoutModel",
          "model_module_version": "1.2.0",
          "state": {
            "_model_module": "@jupyter-widgets/base",
            "_model_module_version": "1.2.0",
            "_model_name": "LayoutModel",
            "_view_count": null,
            "_view_module": "@jupyter-widgets/base",
            "_view_module_version": "1.2.0",
            "_view_name": "LayoutView",
            "align_content": null,
            "align_items": null,
            "align_self": null,
            "border": null,
            "bottom": null,
            "display": null,
            "flex": null,
            "flex_flow": null,
            "grid_area": null,
            "grid_auto_columns": null,
            "grid_auto_flow": null,
            "grid_auto_rows": null,
            "grid_column": null,
            "grid_gap": null,
            "grid_row": null,
            "grid_template_areas": null,
            "grid_template_columns": null,
            "grid_template_rows": null,
            "height": null,
            "justify_content": null,
            "justify_items": null,
            "left": null,
            "margin": null,
            "max_height": null,
            "max_width": null,
            "min_height": null,
            "min_width": null,
            "object_fit": null,
            "object_position": null,
            "order": null,
            "overflow": null,
            "overflow_x": null,
            "overflow_y": null,
            "padding": null,
            "right": null,
            "top": null,
            "visibility": null,
            "width": null
          }
        },
        "a657e5813dc0453786c3f56df7d0f1fd": {
          "model_module": "@jupyter-widgets/controls",
          "model_name": "DescriptionStyleModel",
          "model_module_version": "1.5.0",
          "state": {
            "_model_module": "@jupyter-widgets/controls",
            "_model_module_version": "1.5.0",
            "_model_name": "DescriptionStyleModel",
            "_view_count": null,
            "_view_module": "@jupyter-widgets/base",
            "_view_module_version": "1.2.0",
            "_view_name": "StyleView",
            "description_width": ""
          }
        },
        "cc5175a99ac84ce2a7e29de5beeef62a": {
          "model_module": "@jupyter-widgets/controls",
          "model_name": "HBoxModel",
          "model_module_version": "1.5.0",
          "state": {
            "_dom_classes": [],
            "_model_module": "@jupyter-widgets/controls",
            "_model_module_version": "1.5.0",
            "_model_name": "HBoxModel",
            "_view_count": null,
            "_view_module": "@jupyter-widgets/controls",
            "_view_module_version": "1.5.0",
            "_view_name": "HBoxView",
            "box_style": "",
            "children": [
              "IPY_MODEL_15d0a70f83344d1e853f661faed9e634",
              "IPY_MODEL_9b518029337f4350a1854779c91df918",
              "IPY_MODEL_403574fbdf4d472b94b5b141b093e5b9"
            ],
            "layout": "IPY_MODEL_250f06fa2a0c47d787dbebf98976e7d7"
          }
        },
        "15d0a70f83344d1e853f661faed9e634": {
          "model_module": "@jupyter-widgets/controls",
          "model_name": "HTMLModel",
          "model_module_version": "1.5.0",
          "state": {
            "_dom_classes": [],
            "_model_module": "@jupyter-widgets/controls",
            "_model_module_version": "1.5.0",
            "_model_name": "HTMLModel",
            "_view_count": null,
            "_view_module": "@jupyter-widgets/controls",
            "_view_module_version": "1.5.0",
            "_view_name": "HTMLView",
            "description": "",
            "description_tooltip": null,
            "layout": "IPY_MODEL_44d6d124993d49e1b46cfca36d0da112",
            "placeholder": "​",
            "style": "IPY_MODEL_2314098b280c4706b7bc0ac0885314b3",
            "value": "Downloading (…)olve/main/merges.txt: 100%"
          }
        },
        "9b518029337f4350a1854779c91df918": {
          "model_module": "@jupyter-widgets/controls",
          "model_name": "FloatProgressModel",
          "model_module_version": "1.5.0",
          "state": {
            "_dom_classes": [],
            "_model_module": "@jupyter-widgets/controls",
            "_model_module_version": "1.5.0",
            "_model_name": "FloatProgressModel",
            "_view_count": null,
            "_view_module": "@jupyter-widgets/controls",
            "_view_module_version": "1.5.0",
            "_view_name": "ProgressView",
            "bar_style": "success",
            "description": "",
            "description_tooltip": null,
            "layout": "IPY_MODEL_f65c8e9c0ab64cc8a7cd5eea6a6d3ba4",
            "max": 456318,
            "min": 0,
            "orientation": "horizontal",
            "style": "IPY_MODEL_131555ffff6540cc896fc0d54afcc989",
            "value": 456318
          }
        },
        "403574fbdf4d472b94b5b141b093e5b9": {
          "model_module": "@jupyter-widgets/controls",
          "model_name": "HTMLModel",
          "model_module_version": "1.5.0",
          "state": {
            "_dom_classes": [],
            "_model_module": "@jupyter-widgets/controls",
            "_model_module_version": "1.5.0",
            "_model_name": "HTMLModel",
            "_view_count": null,
            "_view_module": "@jupyter-widgets/controls",
            "_view_module_version": "1.5.0",
            "_view_name": "HTMLView",
            "description": "",
            "description_tooltip": null,
            "layout": "IPY_MODEL_fd693554c159489b9656d7e7e21f3954",
            "placeholder": "​",
            "style": "IPY_MODEL_d4a131fbab7e4ef199b61f59ad197ebc",
            "value": " 456k/456k [00:00&lt;00:00, 1.88MB/s]"
          }
        },
        "250f06fa2a0c47d787dbebf98976e7d7": {
          "model_module": "@jupyter-widgets/base",
          "model_name": "LayoutModel",
          "model_module_version": "1.2.0",
          "state": {
            "_model_module": "@jupyter-widgets/base",
            "_model_module_version": "1.2.0",
            "_model_name": "LayoutModel",
            "_view_count": null,
            "_view_module": "@jupyter-widgets/base",
            "_view_module_version": "1.2.0",
            "_view_name": "LayoutView",
            "align_content": null,
            "align_items": null,
            "align_self": null,
            "border": null,
            "bottom": null,
            "display": null,
            "flex": null,
            "flex_flow": null,
            "grid_area": null,
            "grid_auto_columns": null,
            "grid_auto_flow": null,
            "grid_auto_rows": null,
            "grid_column": null,
            "grid_gap": null,
            "grid_row": null,
            "grid_template_areas": null,
            "grid_template_columns": null,
            "grid_template_rows": null,
            "height": null,
            "justify_content": null,
            "justify_items": null,
            "left": null,
            "margin": null,
            "max_height": null,
            "max_width": null,
            "min_height": null,
            "min_width": null,
            "object_fit": null,
            "object_position": null,
            "order": null,
            "overflow": null,
            "overflow_x": null,
            "overflow_y": null,
            "padding": null,
            "right": null,
            "top": null,
            "visibility": null,
            "width": null
          }
        },
        "44d6d124993d49e1b46cfca36d0da112": {
          "model_module": "@jupyter-widgets/base",
          "model_name": "LayoutModel",
          "model_module_version": "1.2.0",
          "state": {
            "_model_module": "@jupyter-widgets/base",
            "_model_module_version": "1.2.0",
            "_model_name": "LayoutModel",
            "_view_count": null,
            "_view_module": "@jupyter-widgets/base",
            "_view_module_version": "1.2.0",
            "_view_name": "LayoutView",
            "align_content": null,
            "align_items": null,
            "align_self": null,
            "border": null,
            "bottom": null,
            "display": null,
            "flex": null,
            "flex_flow": null,
            "grid_area": null,
            "grid_auto_columns": null,
            "grid_auto_flow": null,
            "grid_auto_rows": null,
            "grid_column": null,
            "grid_gap": null,
            "grid_row": null,
            "grid_template_areas": null,
            "grid_template_columns": null,
            "grid_template_rows": null,
            "height": null,
            "justify_content": null,
            "justify_items": null,
            "left": null,
            "margin": null,
            "max_height": null,
            "max_width": null,
            "min_height": null,
            "min_width": null,
            "object_fit": null,
            "object_position": null,
            "order": null,
            "overflow": null,
            "overflow_x": null,
            "overflow_y": null,
            "padding": null,
            "right": null,
            "top": null,
            "visibility": null,
            "width": null
          }
        },
        "2314098b280c4706b7bc0ac0885314b3": {
          "model_module": "@jupyter-widgets/controls",
          "model_name": "DescriptionStyleModel",
          "model_module_version": "1.5.0",
          "state": {
            "_model_module": "@jupyter-widgets/controls",
            "_model_module_version": "1.5.0",
            "_model_name": "DescriptionStyleModel",
            "_view_count": null,
            "_view_module": "@jupyter-widgets/base",
            "_view_module_version": "1.2.0",
            "_view_name": "StyleView",
            "description_width": ""
          }
        },
        "f65c8e9c0ab64cc8a7cd5eea6a6d3ba4": {
          "model_module": "@jupyter-widgets/base",
          "model_name": "LayoutModel",
          "model_module_version": "1.2.0",
          "state": {
            "_model_module": "@jupyter-widgets/base",
            "_model_module_version": "1.2.0",
            "_model_name": "LayoutModel",
            "_view_count": null,
            "_view_module": "@jupyter-widgets/base",
            "_view_module_version": "1.2.0",
            "_view_name": "LayoutView",
            "align_content": null,
            "align_items": null,
            "align_self": null,
            "border": null,
            "bottom": null,
            "display": null,
            "flex": null,
            "flex_flow": null,
            "grid_area": null,
            "grid_auto_columns": null,
            "grid_auto_flow": null,
            "grid_auto_rows": null,
            "grid_column": null,
            "grid_gap": null,
            "grid_row": null,
            "grid_template_areas": null,
            "grid_template_columns": null,
            "grid_template_rows": null,
            "height": null,
            "justify_content": null,
            "justify_items": null,
            "left": null,
            "margin": null,
            "max_height": null,
            "max_width": null,
            "min_height": null,
            "min_width": null,
            "object_fit": null,
            "object_position": null,
            "order": null,
            "overflow": null,
            "overflow_x": null,
            "overflow_y": null,
            "padding": null,
            "right": null,
            "top": null,
            "visibility": null,
            "width": null
          }
        },
        "131555ffff6540cc896fc0d54afcc989": {
          "model_module": "@jupyter-widgets/controls",
          "model_name": "ProgressStyleModel",
          "model_module_version": "1.5.0",
          "state": {
            "_model_module": "@jupyter-widgets/controls",
            "_model_module_version": "1.5.0",
            "_model_name": "ProgressStyleModel",
            "_view_count": null,
            "_view_module": "@jupyter-widgets/base",
            "_view_module_version": "1.2.0",
            "_view_name": "StyleView",
            "bar_color": null,
            "description_width": ""
          }
        },
        "fd693554c159489b9656d7e7e21f3954": {
          "model_module": "@jupyter-widgets/base",
          "model_name": "LayoutModel",
          "model_module_version": "1.2.0",
          "state": {
            "_model_module": "@jupyter-widgets/base",
            "_model_module_version": "1.2.0",
            "_model_name": "LayoutModel",
            "_view_count": null,
            "_view_module": "@jupyter-widgets/base",
            "_view_module_version": "1.2.0",
            "_view_name": "LayoutView",
            "align_content": null,
            "align_items": null,
            "align_self": null,
            "border": null,
            "bottom": null,
            "display": null,
            "flex": null,
            "flex_flow": null,
            "grid_area": null,
            "grid_auto_columns": null,
            "grid_auto_flow": null,
            "grid_auto_rows": null,
            "grid_column": null,
            "grid_gap": null,
            "grid_row": null,
            "grid_template_areas": null,
            "grid_template_columns": null,
            "grid_template_rows": null,
            "height": null,
            "justify_content": null,
            "justify_items": null,
            "left": null,
            "margin": null,
            "max_height": null,
            "max_width": null,
            "min_height": null,
            "min_width": null,
            "object_fit": null,
            "object_position": null,
            "order": null,
            "overflow": null,
            "overflow_x": null,
            "overflow_y": null,
            "padding": null,
            "right": null,
            "top": null,
            "visibility": null,
            "width": null
          }
        },
        "d4a131fbab7e4ef199b61f59ad197ebc": {
          "model_module": "@jupyter-widgets/controls",
          "model_name": "DescriptionStyleModel",
          "model_module_version": "1.5.0",
          "state": {
            "_model_module": "@jupyter-widgets/controls",
            "_model_module_version": "1.5.0",
            "_model_name": "DescriptionStyleModel",
            "_view_count": null,
            "_view_module": "@jupyter-widgets/base",
            "_view_module_version": "1.2.0",
            "_view_name": "StyleView",
            "description_width": ""
          }
        },
        "02b0527a5dae4e828d72c1b801446f51": {
          "model_module": "@jupyter-widgets/controls",
          "model_name": "HBoxModel",
          "model_module_version": "1.5.0",
          "state": {
            "_dom_classes": [],
            "_model_module": "@jupyter-widgets/controls",
            "_model_module_version": "1.5.0",
            "_model_name": "HBoxModel",
            "_view_count": null,
            "_view_module": "@jupyter-widgets/controls",
            "_view_module_version": "1.5.0",
            "_view_name": "HBoxView",
            "box_style": "",
            "children": [
              "IPY_MODEL_5b267ae424004676bf2ac66c25e8f74f",
              "IPY_MODEL_4186ce6c59494bbdbe20a8e55a324512",
              "IPY_MODEL_f38ad77e5a25442b917117447c04dadf"
            ],
            "layout": "IPY_MODEL_f362a51ad8334a82b77ec5dd5f455c89"
          }
        },
        "5b267ae424004676bf2ac66c25e8f74f": {
          "model_module": "@jupyter-widgets/controls",
          "model_name": "HTMLModel",
          "model_module_version": "1.5.0",
          "state": {
            "_dom_classes": [],
            "_model_module": "@jupyter-widgets/controls",
            "_model_module_version": "1.5.0",
            "_model_name": "HTMLModel",
            "_view_count": null,
            "_view_module": "@jupyter-widgets/controls",
            "_view_module_version": "1.5.0",
            "_view_name": "HTMLView",
            "description": "",
            "description_tooltip": null,
            "layout": "IPY_MODEL_1446de27301e42fc8677c4c5d88f868a",
            "placeholder": "​",
            "style": "IPY_MODEL_a275e2bd5bfc471793576870f9a41471",
            "value": "Downloading (…)lve/main/config.json: 100%"
          }
        },
        "4186ce6c59494bbdbe20a8e55a324512": {
          "model_module": "@jupyter-widgets/controls",
          "model_name": "FloatProgressModel",
          "model_module_version": "1.5.0",
          "state": {
            "_dom_classes": [],
            "_model_module": "@jupyter-widgets/controls",
            "_model_module_version": "1.5.0",
            "_model_name": "FloatProgressModel",
            "_view_count": null,
            "_view_module": "@jupyter-widgets/controls",
            "_view_module_version": "1.5.0",
            "_view_name": "ProgressView",
            "bar_style": "success",
            "description": "",
            "description_tooltip": null,
            "layout": "IPY_MODEL_3aed5e05ff054e1b9d701666c45aed68",
            "max": 665,
            "min": 0,
            "orientation": "horizontal",
            "style": "IPY_MODEL_c37b79f84d714fa18002aea66fb4ee32",
            "value": 665
          }
        },
        "f38ad77e5a25442b917117447c04dadf": {
          "model_module": "@jupyter-widgets/controls",
          "model_name": "HTMLModel",
          "model_module_version": "1.5.0",
          "state": {
            "_dom_classes": [],
            "_model_module": "@jupyter-widgets/controls",
            "_model_module_version": "1.5.0",
            "_model_name": "HTMLModel",
            "_view_count": null,
            "_view_module": "@jupyter-widgets/controls",
            "_view_module_version": "1.5.0",
            "_view_name": "HTMLView",
            "description": "",
            "description_tooltip": null,
            "layout": "IPY_MODEL_ec24caafcba144d491aae614e13bad94",
            "placeholder": "​",
            "style": "IPY_MODEL_321e38de0b2d4ddcb4cdd8f04fbef2f2",
            "value": " 665/665 [00:00&lt;00:00, 15.8kB/s]"
          }
        },
        "f362a51ad8334a82b77ec5dd5f455c89": {
          "model_module": "@jupyter-widgets/base",
          "model_name": "LayoutModel",
          "model_module_version": "1.2.0",
          "state": {
            "_model_module": "@jupyter-widgets/base",
            "_model_module_version": "1.2.0",
            "_model_name": "LayoutModel",
            "_view_count": null,
            "_view_module": "@jupyter-widgets/base",
            "_view_module_version": "1.2.0",
            "_view_name": "LayoutView",
            "align_content": null,
            "align_items": null,
            "align_self": null,
            "border": null,
            "bottom": null,
            "display": null,
            "flex": null,
            "flex_flow": null,
            "grid_area": null,
            "grid_auto_columns": null,
            "grid_auto_flow": null,
            "grid_auto_rows": null,
            "grid_column": null,
            "grid_gap": null,
            "grid_row": null,
            "grid_template_areas": null,
            "grid_template_columns": null,
            "grid_template_rows": null,
            "height": null,
            "justify_content": null,
            "justify_items": null,
            "left": null,
            "margin": null,
            "max_height": null,
            "max_width": null,
            "min_height": null,
            "min_width": null,
            "object_fit": null,
            "object_position": null,
            "order": null,
            "overflow": null,
            "overflow_x": null,
            "overflow_y": null,
            "padding": null,
            "right": null,
            "top": null,
            "visibility": null,
            "width": null
          }
        },
        "1446de27301e42fc8677c4c5d88f868a": {
          "model_module": "@jupyter-widgets/base",
          "model_name": "LayoutModel",
          "model_module_version": "1.2.0",
          "state": {
            "_model_module": "@jupyter-widgets/base",
            "_model_module_version": "1.2.0",
            "_model_name": "LayoutModel",
            "_view_count": null,
            "_view_module": "@jupyter-widgets/base",
            "_view_module_version": "1.2.0",
            "_view_name": "LayoutView",
            "align_content": null,
            "align_items": null,
            "align_self": null,
            "border": null,
            "bottom": null,
            "display": null,
            "flex": null,
            "flex_flow": null,
            "grid_area": null,
            "grid_auto_columns": null,
            "grid_auto_flow": null,
            "grid_auto_rows": null,
            "grid_column": null,
            "grid_gap": null,
            "grid_row": null,
            "grid_template_areas": null,
            "grid_template_columns": null,
            "grid_template_rows": null,
            "height": null,
            "justify_content": null,
            "justify_items": null,
            "left": null,
            "margin": null,
            "max_height": null,
            "max_width": null,
            "min_height": null,
            "min_width": null,
            "object_fit": null,
            "object_position": null,
            "order": null,
            "overflow": null,
            "overflow_x": null,
            "overflow_y": null,
            "padding": null,
            "right": null,
            "top": null,
            "visibility": null,
            "width": null
          }
        },
        "a275e2bd5bfc471793576870f9a41471": {
          "model_module": "@jupyter-widgets/controls",
          "model_name": "DescriptionStyleModel",
          "model_module_version": "1.5.0",
          "state": {
            "_model_module": "@jupyter-widgets/controls",
            "_model_module_version": "1.5.0",
            "_model_name": "DescriptionStyleModel",
            "_view_count": null,
            "_view_module": "@jupyter-widgets/base",
            "_view_module_version": "1.2.0",
            "_view_name": "StyleView",
            "description_width": ""
          }
        },
        "3aed5e05ff054e1b9d701666c45aed68": {
          "model_module": "@jupyter-widgets/base",
          "model_name": "LayoutModel",
          "model_module_version": "1.2.0",
          "state": {
            "_model_module": "@jupyter-widgets/base",
            "_model_module_version": "1.2.0",
            "_model_name": "LayoutModel",
            "_view_count": null,
            "_view_module": "@jupyter-widgets/base",
            "_view_module_version": "1.2.0",
            "_view_name": "LayoutView",
            "align_content": null,
            "align_items": null,
            "align_self": null,
            "border": null,
            "bottom": null,
            "display": null,
            "flex": null,
            "flex_flow": null,
            "grid_area": null,
            "grid_auto_columns": null,
            "grid_auto_flow": null,
            "grid_auto_rows": null,
            "grid_column": null,
            "grid_gap": null,
            "grid_row": null,
            "grid_template_areas": null,
            "grid_template_columns": null,
            "grid_template_rows": null,
            "height": null,
            "justify_content": null,
            "justify_items": null,
            "left": null,
            "margin": null,
            "max_height": null,
            "max_width": null,
            "min_height": null,
            "min_width": null,
            "object_fit": null,
            "object_position": null,
            "order": null,
            "overflow": null,
            "overflow_x": null,
            "overflow_y": null,
            "padding": null,
            "right": null,
            "top": null,
            "visibility": null,
            "width": null
          }
        },
        "c37b79f84d714fa18002aea66fb4ee32": {
          "model_module": "@jupyter-widgets/controls",
          "model_name": "ProgressStyleModel",
          "model_module_version": "1.5.0",
          "state": {
            "_model_module": "@jupyter-widgets/controls",
            "_model_module_version": "1.5.0",
            "_model_name": "ProgressStyleModel",
            "_view_count": null,
            "_view_module": "@jupyter-widgets/base",
            "_view_module_version": "1.2.0",
            "_view_name": "StyleView",
            "bar_color": null,
            "description_width": ""
          }
        },
        "ec24caafcba144d491aae614e13bad94": {
          "model_module": "@jupyter-widgets/base",
          "model_name": "LayoutModel",
          "model_module_version": "1.2.0",
          "state": {
            "_model_module": "@jupyter-widgets/base",
            "_model_module_version": "1.2.0",
            "_model_name": "LayoutModel",
            "_view_count": null,
            "_view_module": "@jupyter-widgets/base",
            "_view_module_version": "1.2.0",
            "_view_name": "LayoutView",
            "align_content": null,
            "align_items": null,
            "align_self": null,
            "border": null,
            "bottom": null,
            "display": null,
            "flex": null,
            "flex_flow": null,
            "grid_area": null,
            "grid_auto_columns": null,
            "grid_auto_flow": null,
            "grid_auto_rows": null,
            "grid_column": null,
            "grid_gap": null,
            "grid_row": null,
            "grid_template_areas": null,
            "grid_template_columns": null,
            "grid_template_rows": null,
            "height": null,
            "justify_content": null,
            "justify_items": null,
            "left": null,
            "margin": null,
            "max_height": null,
            "max_width": null,
            "min_height": null,
            "min_width": null,
            "object_fit": null,
            "object_position": null,
            "order": null,
            "overflow": null,
            "overflow_x": null,
            "overflow_y": null,
            "padding": null,
            "right": null,
            "top": null,
            "visibility": null,
            "width": null
          }
        },
        "321e38de0b2d4ddcb4cdd8f04fbef2f2": {
          "model_module": "@jupyter-widgets/controls",
          "model_name": "DescriptionStyleModel",
          "model_module_version": "1.5.0",
          "state": {
            "_model_module": "@jupyter-widgets/controls",
            "_model_module_version": "1.5.0",
            "_model_name": "DescriptionStyleModel",
            "_view_count": null,
            "_view_module": "@jupyter-widgets/base",
            "_view_module_version": "1.2.0",
            "_view_name": "StyleView",
            "description_width": ""
          }
        }
      }
    }
  },
  "cells": [
    {
      "cell_type": "markdown",
      "metadata": {
        "id": "view-in-github",
        "colab_type": "text"
      },
      "source": [
        "<a href=\"https://colab.research.google.com/github/nreichen/eecs448-CollegeSubredditsCommentGeneration/blob/main/subredditValidation/Northwestern_test_val.ipynb\" target=\"_parent\"><img src=\"https://colab.research.google.com/assets/colab-badge.svg\" alt=\"Open In Colab\"/></a>"
      ]
    },
    {
      "cell_type": "markdown",
      "source": [
        "## Setup"
      ],
      "metadata": {
        "id": "fLVB-ft3jt1U"
      }
    },
    {
      "cell_type": "code",
      "execution_count": 1,
      "metadata": {
        "id": "OxkktGJjFNKO",
        "colab": {
          "base_uri": "https://localhost:8080/"
        },
        "outputId": "f678194a-1f62-4617-a9f6-6855dc943856"
      },
      "outputs": [
        {
          "output_type": "stream",
          "name": "stdout",
          "text": [
            "Mounted at /content/drive\n",
            "['train_post_set.pickle', 'val_post_set.pickle', 'test_post_set.pickle', 'train_com_set.pickle', 'val_com_set.pickle', 'test_com_set.pickle', 'checkpoints-Northwestern']\n"
          ]
        }
      ],
      "source": [
        "from google.colab import drive\n",
        "drive.mount('/content/drive', force_remount=True)\n",
        "\n",
        "import os \n",
        "COLLEGE_SUBREDDIT_NAME = \"Northwestern\"\n",
        "GOOGLE_DRIVE_PATH_AFTER_MY_DRIVE = \"448 Group: Jedi Order/models/\" + COLLEGE_SUBREDDIT_NAME\n",
        "GOOGLE_DRIVE_PATH = os.path.join('drive', 'My Drive', GOOGLE_DRIVE_PATH_AFTER_MY_DRIVE)\n",
        "print(os.listdir(GOOGLE_DRIVE_PATH))"
      ]
    },
    {
      "cell_type": "code",
      "source": [
        "print(GOOGLE_DRIVE_PATH)"
      ],
      "metadata": {
        "colab": {
          "base_uri": "https://localhost:8080/"
        },
        "id": "BRiiVBSRlOcu",
        "outputId": "7b8370fe-4e7c-4e00-a6c3-87885984619e"
      },
      "execution_count": 2,
      "outputs": [
        {
          "output_type": "stream",
          "name": "stdout",
          "text": [
            "drive/My Drive/448 Group: Jedi Order/models/Northwestern\n"
          ]
        }
      ]
    },
    {
      "cell_type": "code",
      "source": [
        "%load_ext autoreload\n",
        "%autoreload 2\n",
        "\n",
        "import sys\n",
        "sys.path.append(GOOGLE_DRIVE_PATH)"
      ],
      "metadata": {
        "id": "toacemzRG6W7"
      },
      "execution_count": 3,
      "outputs": []
    },
    {
      "cell_type": "code",
      "source": [
        "print(GOOGLE_DRIVE_PATH)"
      ],
      "metadata": {
        "colab": {
          "base_uri": "https://localhost:8080/"
        },
        "id": "RIGw390zlSQ8",
        "outputId": "3851988c-cc90-4a89-eff2-0eb22aa35260"
      },
      "execution_count": 4,
      "outputs": [
        {
          "output_type": "stream",
          "name": "stdout",
          "text": [
            "drive/My Drive/448 Group: Jedi Order/models/Northwestern\n"
          ]
        }
      ]
    },
    {
      "cell_type": "code",
      "source": [
        "import locale\n",
        "print(locale.getpreferredencoding())"
      ],
      "metadata": {
        "id": "UMb95f0FqMGr",
        "colab": {
          "base_uri": "https://localhost:8080/"
        },
        "outputId": "31aa7217-694f-44fa-bb65-4891d8c1fdce"
      },
      "execution_count": 5,
      "outputs": [
        {
          "output_type": "stream",
          "name": "stdout",
          "text": [
            "UTF-8\n"
          ]
        }
      ]
    },
    {
      "cell_type": "code",
      "source": [
        "import locale\n",
        "def getpreferredencoding(do_setlocale = True):\n",
        "    return \"UTF-8\"\n",
        "locale.getpreferredencoding = getpreferredencoding"
      ],
      "metadata": {
        "id": "0qwMHaJYqPM1"
      },
      "execution_count": 6,
      "outputs": []
    },
    {
      "cell_type": "code",
      "source": [
        "!pip install transformers\n",
        "!pip install convokit\n",
        "!pip install datasets"
      ],
      "metadata": {
        "id": "PAZI3yXeH7p4",
        "colab": {
          "base_uri": "https://localhost:8080/"
        },
        "outputId": "9afd2b31-73b1-4f9a-d23a-29ff1609eeeb"
      },
      "execution_count": 7,
      "outputs": [
        {
          "output_type": "stream",
          "name": "stdout",
          "text": [
            "Looking in indexes: https://pypi.org/simple, https://us-python.pkg.dev/colab-wheels/public/simple/\n",
            "Collecting transformers\n",
            "  Downloading transformers-4.28.1-py3-none-any.whl (7.0 MB)\n",
            "\u001b[2K     \u001b[90m━━━━━━━━━━━━━━━━━━━━━━━━━━━━━━━━━━━━━━━━\u001b[0m \u001b[32m7.0/7.0 MB\u001b[0m \u001b[31m84.5 MB/s\u001b[0m eta \u001b[36m0:00:00\u001b[0m\n",
            "\u001b[?25hRequirement already satisfied: packaging>=20.0 in /usr/local/lib/python3.9/dist-packages (from transformers) (23.0)\n",
            "Collecting tokenizers!=0.11.3,<0.14,>=0.11.1\n",
            "  Downloading tokenizers-0.13.3-cp39-cp39-manylinux_2_17_x86_64.manylinux2014_x86_64.whl (7.8 MB)\n",
            "\u001b[2K     \u001b[90m━━━━━━━━━━━━━━━━━━━━━━━━━━━━━━━━━━━━━━━━\u001b[0m \u001b[32m7.8/7.8 MB\u001b[0m \u001b[31m83.2 MB/s\u001b[0m eta \u001b[36m0:00:00\u001b[0m\n",
            "\u001b[?25hRequirement already satisfied: tqdm>=4.27 in /usr/local/lib/python3.9/dist-packages (from transformers) (4.65.0)\n",
            "Collecting huggingface-hub<1.0,>=0.11.0\n",
            "  Downloading huggingface_hub-0.13.4-py3-none-any.whl (200 kB)\n",
            "\u001b[2K     \u001b[90m━━━━━━━━━━━━━━━━━━━━━━━━━━━━━━━━━━━━━━\u001b[0m \u001b[32m200.1/200.1 kB\u001b[0m \u001b[31m21.6 MB/s\u001b[0m eta \u001b[36m0:00:00\u001b[0m\n",
            "\u001b[?25hRequirement already satisfied: numpy>=1.17 in /usr/local/lib/python3.9/dist-packages (from transformers) (1.22.4)\n",
            "Requirement already satisfied: filelock in /usr/local/lib/python3.9/dist-packages (from transformers) (3.11.0)\n",
            "Requirement already satisfied: requests in /usr/local/lib/python3.9/dist-packages (from transformers) (2.27.1)\n",
            "Requirement already satisfied: pyyaml>=5.1 in /usr/local/lib/python3.9/dist-packages (from transformers) (6.0)\n",
            "Requirement already satisfied: regex!=2019.12.17 in /usr/local/lib/python3.9/dist-packages (from transformers) (2022.10.31)\n",
            "Requirement already satisfied: typing-extensions>=3.7.4.3 in /usr/local/lib/python3.9/dist-packages (from huggingface-hub<1.0,>=0.11.0->transformers) (4.5.0)\n",
            "Requirement already satisfied: urllib3<1.27,>=1.21.1 in /usr/local/lib/python3.9/dist-packages (from requests->transformers) (1.26.15)\n",
            "Requirement already satisfied: charset-normalizer~=2.0.0 in /usr/local/lib/python3.9/dist-packages (from requests->transformers) (2.0.12)\n",
            "Requirement already satisfied: certifi>=2017.4.17 in /usr/local/lib/python3.9/dist-packages (from requests->transformers) (2022.12.7)\n",
            "Requirement already satisfied: idna<4,>=2.5 in /usr/local/lib/python3.9/dist-packages (from requests->transformers) (3.4)\n",
            "Installing collected packages: tokenizers, huggingface-hub, transformers\n",
            "Successfully installed huggingface-hub-0.13.4 tokenizers-0.13.3 transformers-4.28.1\n",
            "Looking in indexes: https://pypi.org/simple, https://us-python.pkg.dev/colab-wheels/public/simple/\n",
            "Collecting convokit\n",
            "  Downloading convokit-2.5.3.tar.gz (167 kB)\n",
            "\u001b[2K     \u001b[90m━━━━━━━━━━━━━━━━━━━━━━━━━━━━━━━━━━━━━━━\u001b[0m \u001b[32m168.0/168.0 kB\u001b[0m \u001b[31m4.4 MB/s\u001b[0m eta \u001b[36m0:00:00\u001b[0m\n",
            "\u001b[?25h  Preparing metadata (setup.py) ... \u001b[?25l\u001b[?25hdone\n",
            "Requirement already satisfied: matplotlib>=3.0.0 in /usr/local/lib/python3.9/dist-packages (from convokit) (3.7.1)\n",
            "Requirement already satisfied: pandas>=0.23.4 in /usr/local/lib/python3.9/dist-packages (from convokit) (1.5.3)\n",
            "Collecting msgpack-numpy>=0.4.3.2\n",
            "  Downloading msgpack_numpy-0.4.8-py2.py3-none-any.whl (6.9 kB)\n",
            "Requirement already satisfied: spacy>=2.3.5 in /usr/local/lib/python3.9/dist-packages (from convokit) (3.5.1)\n",
            "Requirement already satisfied: scipy>=1.1.0 in /usr/local/lib/python3.9/dist-packages (from convokit) (1.10.1)\n",
            "Requirement already satisfied: scikit-learn>=0.20.0 in /usr/local/lib/python3.9/dist-packages (from convokit) (1.2.2)\n",
            "Requirement already satisfied: nltk>=3.4 in /usr/local/lib/python3.9/dist-packages (from convokit) (3.8.1)\n",
            "Collecting dill>=0.2.9\n",
            "  Downloading dill-0.3.6-py3-none-any.whl (110 kB)\n",
            "\u001b[2K     \u001b[90m━━━━━━━━━━━━━━━━━━━━━━━━━━━━━━━━━━━━━━\u001b[0m \u001b[32m110.5/110.5 kB\u001b[0m \u001b[31m15.8 MB/s\u001b[0m eta \u001b[36m0:00:00\u001b[0m\n",
            "\u001b[?25hRequirement already satisfied: joblib>=0.13.2 in /usr/local/lib/python3.9/dist-packages (from convokit) (1.2.0)\n",
            "Collecting clean-text>=0.1.1\n",
            "  Downloading clean_text-0.6.0-py3-none-any.whl (11 kB)\n",
            "Collecting unidecode>=1.1.1\n",
            "  Downloading Unidecode-1.3.6-py3-none-any.whl (235 kB)\n",
            "\u001b[2K     \u001b[90m━━━━━━━━━━━━━━━━━━━━━━━━━━━━━━━━━━━━━━\u001b[0m \u001b[32m235.9/235.9 kB\u001b[0m \u001b[31m29.2 MB/s\u001b[0m eta \u001b[36m0:00:00\u001b[0m\n",
            "\u001b[?25hCollecting emoji<2.0.0,>=1.0.0\n",
            "  Downloading emoji-1.7.0.tar.gz (175 kB)\n",
            "\u001b[2K     \u001b[90m━━━━━━━━━━━━━━━━━━━━━━━━━━━━━━━━━━━━━━\u001b[0m \u001b[32m175.4/175.4 kB\u001b[0m \u001b[31m22.1 MB/s\u001b[0m eta \u001b[36m0:00:00\u001b[0m\n",
            "\u001b[?25h  Preparing metadata (setup.py) ... \u001b[?25l\u001b[?25hdone\n",
            "Collecting ftfy<7.0,>=6.0\n",
            "  Downloading ftfy-6.1.1-py3-none-any.whl (53 kB)\n",
            "\u001b[2K     \u001b[90m━━━━━━━━━━━━━━━━━━━━━━━━━━━━━━━━━━━━━━━━\u001b[0m \u001b[32m53.1/53.1 kB\u001b[0m \u001b[31m5.0 MB/s\u001b[0m eta \u001b[36m0:00:00\u001b[0m\n",
            "\u001b[?25hRequirement already satisfied: importlib-resources>=3.2.0 in /usr/local/lib/python3.9/dist-packages (from matplotlib>=3.0.0->convokit) (5.12.0)\n",
            "Requirement already satisfied: pyparsing>=2.3.1 in /usr/local/lib/python3.9/dist-packages (from matplotlib>=3.0.0->convokit) (3.0.9)\n",
            "Requirement already satisfied: contourpy>=1.0.1 in /usr/local/lib/python3.9/dist-packages (from matplotlib>=3.0.0->convokit) (1.0.7)\n",
            "Requirement already satisfied: kiwisolver>=1.0.1 in /usr/local/lib/python3.9/dist-packages (from matplotlib>=3.0.0->convokit) (1.4.4)\n",
            "Requirement already satisfied: python-dateutil>=2.7 in /usr/local/lib/python3.9/dist-packages (from matplotlib>=3.0.0->convokit) (2.8.2)\n",
            "Requirement already satisfied: pillow>=6.2.0 in /usr/local/lib/python3.9/dist-packages (from matplotlib>=3.0.0->convokit) (8.4.0)\n",
            "Requirement already satisfied: fonttools>=4.22.0 in /usr/local/lib/python3.9/dist-packages (from matplotlib>=3.0.0->convokit) (4.39.3)\n",
            "Requirement already satisfied: numpy>=1.20 in /usr/local/lib/python3.9/dist-packages (from matplotlib>=3.0.0->convokit) (1.22.4)\n",
            "Requirement already satisfied: packaging>=20.0 in /usr/local/lib/python3.9/dist-packages (from matplotlib>=3.0.0->convokit) (23.0)\n",
            "Requirement already satisfied: cycler>=0.10 in /usr/local/lib/python3.9/dist-packages (from matplotlib>=3.0.0->convokit) (0.11.0)\n",
            "Requirement already satisfied: msgpack>=0.5.2 in /usr/local/lib/python3.9/dist-packages (from msgpack-numpy>=0.4.3.2->convokit) (1.0.5)\n",
            "Requirement already satisfied: tqdm in /usr/local/lib/python3.9/dist-packages (from nltk>=3.4->convokit) (4.65.0)\n",
            "Requirement already satisfied: click in /usr/local/lib/python3.9/dist-packages (from nltk>=3.4->convokit) (8.1.3)\n",
            "Requirement already satisfied: regex>=2021.8.3 in /usr/local/lib/python3.9/dist-packages (from nltk>=3.4->convokit) (2022.10.31)\n",
            "Requirement already satisfied: pytz>=2020.1 in /usr/local/lib/python3.9/dist-packages (from pandas>=0.23.4->convokit) (2022.7.1)\n",
            "Requirement already satisfied: threadpoolctl>=2.0.0 in /usr/local/lib/python3.9/dist-packages (from scikit-learn>=0.20.0->convokit) (3.1.0)\n",
            "Requirement already satisfied: murmurhash<1.1.0,>=0.28.0 in /usr/local/lib/python3.9/dist-packages (from spacy>=2.3.5->convokit) (1.0.9)\n",
            "Requirement already satisfied: spacy-legacy<3.1.0,>=3.0.11 in /usr/local/lib/python3.9/dist-packages (from spacy>=2.3.5->convokit) (3.0.12)\n",
            "Requirement already satisfied: requests<3.0.0,>=2.13.0 in /usr/local/lib/python3.9/dist-packages (from spacy>=2.3.5->convokit) (2.27.1)\n",
            "Requirement already satisfied: cymem<2.1.0,>=2.0.2 in /usr/local/lib/python3.9/dist-packages (from spacy>=2.3.5->convokit) (2.0.7)\n",
            "Requirement already satisfied: catalogue<2.1.0,>=2.0.6 in /usr/local/lib/python3.9/dist-packages (from spacy>=2.3.5->convokit) (2.0.8)\n",
            "Requirement already satisfied: typer<0.8.0,>=0.3.0 in /usr/local/lib/python3.9/dist-packages (from spacy>=2.3.5->convokit) (0.7.0)\n",
            "Requirement already satisfied: pydantic!=1.8,!=1.8.1,<1.11.0,>=1.7.4 in /usr/local/lib/python3.9/dist-packages (from spacy>=2.3.5->convokit) (1.10.7)\n",
            "Requirement already satisfied: jinja2 in /usr/local/lib/python3.9/dist-packages (from spacy>=2.3.5->convokit) (3.1.2)\n",
            "Requirement already satisfied: smart-open<7.0.0,>=5.2.1 in /usr/local/lib/python3.9/dist-packages (from spacy>=2.3.5->convokit) (6.3.0)\n",
            "Requirement already satisfied: setuptools in /usr/local/lib/python3.9/dist-packages (from spacy>=2.3.5->convokit) (67.6.1)\n",
            "Requirement already satisfied: spacy-loggers<2.0.0,>=1.0.0 in /usr/local/lib/python3.9/dist-packages (from spacy>=2.3.5->convokit) (1.0.4)\n",
            "Requirement already satisfied: langcodes<4.0.0,>=3.2.0 in /usr/local/lib/python3.9/dist-packages (from spacy>=2.3.5->convokit) (3.3.0)\n",
            "Requirement already satisfied: thinc<8.2.0,>=8.1.8 in /usr/local/lib/python3.9/dist-packages (from spacy>=2.3.5->convokit) (8.1.9)\n",
            "Requirement already satisfied: preshed<3.1.0,>=3.0.2 in /usr/local/lib/python3.9/dist-packages (from spacy>=2.3.5->convokit) (3.0.8)\n",
            "Requirement already satisfied: pathy>=0.10.0 in /usr/local/lib/python3.9/dist-packages (from spacy>=2.3.5->convokit) (0.10.1)\n",
            "Requirement already satisfied: srsly<3.0.0,>=2.4.3 in /usr/local/lib/python3.9/dist-packages (from spacy>=2.3.5->convokit) (2.4.6)\n",
            "Requirement already satisfied: wasabi<1.2.0,>=0.9.1 in /usr/local/lib/python3.9/dist-packages (from spacy>=2.3.5->convokit) (1.1.1)\n",
            "Requirement already satisfied: wcwidth>=0.2.5 in /usr/local/lib/python3.9/dist-packages (from ftfy<7.0,>=6.0->clean-text>=0.1.1->convokit) (0.2.6)\n",
            "Requirement already satisfied: zipp>=3.1.0 in /usr/local/lib/python3.9/dist-packages (from importlib-resources>=3.2.0->matplotlib>=3.0.0->convokit) (3.15.0)\n",
            "Requirement already satisfied: typing-extensions>=4.2.0 in /usr/local/lib/python3.9/dist-packages (from pydantic!=1.8,!=1.8.1,<1.11.0,>=1.7.4->spacy>=2.3.5->convokit) (4.5.0)\n",
            "Requirement already satisfied: six>=1.5 in /usr/local/lib/python3.9/dist-packages (from python-dateutil>=2.7->matplotlib>=3.0.0->convokit) (1.16.0)\n",
            "Requirement already satisfied: charset-normalizer~=2.0.0 in /usr/local/lib/python3.9/dist-packages (from requests<3.0.0,>=2.13.0->spacy>=2.3.5->convokit) (2.0.12)\n",
            "Requirement already satisfied: certifi>=2017.4.17 in /usr/local/lib/python3.9/dist-packages (from requests<3.0.0,>=2.13.0->spacy>=2.3.5->convokit) (2022.12.7)\n",
            "Requirement already satisfied: urllib3<1.27,>=1.21.1 in /usr/local/lib/python3.9/dist-packages (from requests<3.0.0,>=2.13.0->spacy>=2.3.5->convokit) (1.26.15)\n",
            "Requirement already satisfied: idna<4,>=2.5 in /usr/local/lib/python3.9/dist-packages (from requests<3.0.0,>=2.13.0->spacy>=2.3.5->convokit) (3.4)\n",
            "Requirement already satisfied: confection<1.0.0,>=0.0.1 in /usr/local/lib/python3.9/dist-packages (from thinc<8.2.0,>=8.1.8->spacy>=2.3.5->convokit) (0.0.4)\n",
            "Requirement already satisfied: blis<0.8.0,>=0.7.8 in /usr/local/lib/python3.9/dist-packages (from thinc<8.2.0,>=8.1.8->spacy>=2.3.5->convokit) (0.7.9)\n",
            "Requirement already satisfied: MarkupSafe>=2.0 in /usr/local/lib/python3.9/dist-packages (from jinja2->spacy>=2.3.5->convokit) (2.1.2)\n",
            "Building wheels for collected packages: convokit, emoji\n",
            "  Building wheel for convokit (setup.py) ... \u001b[?25l\u001b[?25hdone\n",
            "  Created wheel for convokit: filename=convokit-2.5.3-py3-none-any.whl size=204125 sha256=84f282efb0ee1efacef1e72cb5881e3b963c407b97e347dfe95e4ee9110f3a2b\n",
            "  Stored in directory: /root/.cache/pip/wheels/2e/ef/38/9588c33dabed09f2a31ce3fbde7f6a6a1c19593c1ffd8d74aa\n",
            "  Building wheel for emoji (setup.py) ... \u001b[?25l\u001b[?25hdone\n",
            "  Created wheel for emoji: filename=emoji-1.7.0-py3-none-any.whl size=171048 sha256=9c16212506960fe9bdcd306f6e68fe894560566e652e4d943aaea4d59b885985\n",
            "  Stored in directory: /root/.cache/pip/wheels/fa/7a/e9/22dd0515e1bad255e51663ee513a2fa839c95934c5fc301090\n",
            "Successfully built convokit emoji\n",
            "Installing collected packages: emoji, unidecode, msgpack-numpy, ftfy, dill, clean-text, convokit\n",
            "Successfully installed clean-text-0.6.0 convokit-2.5.3 dill-0.3.6 emoji-1.7.0 ftfy-6.1.1 msgpack-numpy-0.4.8 unidecode-1.3.6\n",
            "Looking in indexes: https://pypi.org/simple, https://us-python.pkg.dev/colab-wheels/public/simple/\n",
            "Collecting datasets\n",
            "  Downloading datasets-2.11.0-py3-none-any.whl (468 kB)\n",
            "\u001b[2K     \u001b[90m━━━━━━━━━━━━━━━━━━━━━━━━━━━━━━━━━━━━━━\u001b[0m \u001b[32m468.7/468.7 kB\u001b[0m \u001b[31m21.0 MB/s\u001b[0m eta \u001b[36m0:00:00\u001b[0m\n",
            "\u001b[?25hRequirement already satisfied: numpy>=1.17 in /usr/local/lib/python3.9/dist-packages (from datasets) (1.22.4)\n",
            "Requirement already satisfied: tqdm>=4.62.1 in /usr/local/lib/python3.9/dist-packages (from datasets) (4.65.0)\n",
            "Requirement already satisfied: dill<0.3.7,>=0.3.0 in /usr/local/lib/python3.9/dist-packages (from datasets) (0.3.6)\n",
            "Requirement already satisfied: pandas in /usr/local/lib/python3.9/dist-packages (from datasets) (1.5.3)\n",
            "Collecting aiohttp\n",
            "  Downloading aiohttp-3.8.4-cp39-cp39-manylinux_2_17_x86_64.manylinux2014_x86_64.whl (1.0 MB)\n",
            "\u001b[2K     \u001b[90m━━━━━━━━━━━━━━━━━━━━━━━━━━━━━━━━━━━━━━━━\u001b[0m \u001b[32m1.0/1.0 MB\u001b[0m \u001b[31m60.9 MB/s\u001b[0m eta \u001b[36m0:00:00\u001b[0m\n",
            "\u001b[?25hCollecting multiprocess\n",
            "  Downloading multiprocess-0.70.14-py39-none-any.whl (132 kB)\n",
            "\u001b[2K     \u001b[90m━━━━━━━━━━━━━━━━━━━━━━━━━━━━━━━━━━━━━━\u001b[0m \u001b[32m132.9/132.9 kB\u001b[0m \u001b[31m18.8 MB/s\u001b[0m eta \u001b[36m0:00:00\u001b[0m\n",
            "\u001b[?25hRequirement already satisfied: pyarrow>=8.0.0 in /usr/local/lib/python3.9/dist-packages (from datasets) (9.0.0)\n",
            "Requirement already satisfied: pyyaml>=5.1 in /usr/local/lib/python3.9/dist-packages (from datasets) (6.0)\n",
            "Requirement already satisfied: huggingface-hub<1.0.0,>=0.11.0 in /usr/local/lib/python3.9/dist-packages (from datasets) (0.13.4)\n",
            "Requirement already satisfied: packaging in /usr/local/lib/python3.9/dist-packages (from datasets) (23.0)\n",
            "Requirement already satisfied: fsspec[http]>=2021.11.1 in /usr/local/lib/python3.9/dist-packages (from datasets) (2023.4.0)\n",
            "Collecting xxhash\n",
            "  Downloading xxhash-3.2.0-cp39-cp39-manylinux_2_17_x86_64.manylinux2014_x86_64.whl (212 kB)\n",
            "\u001b[2K     \u001b[90m━━━━━━━━━━━━━━━━━━━━━━━━━━━━━━━━━━━━━━\u001b[0m \u001b[32m212.2/212.2 kB\u001b[0m \u001b[31m27.8 MB/s\u001b[0m eta \u001b[36m0:00:00\u001b[0m\n",
            "\u001b[?25hRequirement already satisfied: requests>=2.19.0 in /usr/local/lib/python3.9/dist-packages (from datasets) (2.27.1)\n",
            "Collecting responses<0.19\n",
            "  Downloading responses-0.18.0-py3-none-any.whl (38 kB)\n",
            "Collecting async-timeout<5.0,>=4.0.0a3\n",
            "  Downloading async_timeout-4.0.2-py3-none-any.whl (5.8 kB)\n",
            "Requirement already satisfied: attrs>=17.3.0 in /usr/local/lib/python3.9/dist-packages (from aiohttp->datasets) (22.2.0)\n",
            "Collecting multidict<7.0,>=4.5\n",
            "  Downloading multidict-6.0.4-cp39-cp39-manylinux_2_17_x86_64.manylinux2014_x86_64.whl (114 kB)\n",
            "\u001b[2K     \u001b[90m━━━━━━━━━━━━━━━━━━━━━━━━━━━━━━━━━━━━━━\u001b[0m \u001b[32m114.2/114.2 kB\u001b[0m \u001b[31m17.4 MB/s\u001b[0m eta \u001b[36m0:00:00\u001b[0m\n",
            "\u001b[?25hCollecting yarl<2.0,>=1.0\n",
            "  Downloading yarl-1.8.2-cp39-cp39-manylinux_2_17_x86_64.manylinux2014_x86_64.whl (264 kB)\n",
            "\u001b[2K     \u001b[90m━━━━━━━━━━━━━━━━━━━━━━━━━━━━━━━━━━━━━━\u001b[0m \u001b[32m264.6/264.6 kB\u001b[0m \u001b[31m32.4 MB/s\u001b[0m eta \u001b[36m0:00:00\u001b[0m\n",
            "\u001b[?25hCollecting frozenlist>=1.1.1\n",
            "  Downloading frozenlist-1.3.3-cp39-cp39-manylinux_2_5_x86_64.manylinux1_x86_64.manylinux_2_17_x86_64.manylinux2014_x86_64.whl (158 kB)\n",
            "\u001b[2K     \u001b[90m━━━━━━━━━━━━━━━━━━━━━━━━━━━━━━━━━━━━━━\u001b[0m \u001b[32m158.8/158.8 kB\u001b[0m \u001b[31m23.4 MB/s\u001b[0m eta \u001b[36m0:00:00\u001b[0m\n",
            "\u001b[?25hRequirement already satisfied: charset-normalizer<4.0,>=2.0 in /usr/local/lib/python3.9/dist-packages (from aiohttp->datasets) (2.0.12)\n",
            "Collecting aiosignal>=1.1.2\n",
            "  Downloading aiosignal-1.3.1-py3-none-any.whl (7.6 kB)\n",
            "Requirement already satisfied: filelock in /usr/local/lib/python3.9/dist-packages (from huggingface-hub<1.0.0,>=0.11.0->datasets) (3.11.0)\n",
            "Requirement already satisfied: typing-extensions>=3.7.4.3 in /usr/local/lib/python3.9/dist-packages (from huggingface-hub<1.0.0,>=0.11.0->datasets) (4.5.0)\n",
            "Requirement already satisfied: certifi>=2017.4.17 in /usr/local/lib/python3.9/dist-packages (from requests>=2.19.0->datasets) (2022.12.7)\n",
            "Requirement already satisfied: idna<4,>=2.5 in /usr/local/lib/python3.9/dist-packages (from requests>=2.19.0->datasets) (3.4)\n",
            "Requirement already satisfied: urllib3<1.27,>=1.21.1 in /usr/local/lib/python3.9/dist-packages (from requests>=2.19.0->datasets) (1.26.15)\n",
            "Requirement already satisfied: pytz>=2020.1 in /usr/local/lib/python3.9/dist-packages (from pandas->datasets) (2022.7.1)\n",
            "Requirement already satisfied: python-dateutil>=2.8.1 in /usr/local/lib/python3.9/dist-packages (from pandas->datasets) (2.8.2)\n",
            "Requirement already satisfied: six>=1.5 in /usr/local/lib/python3.9/dist-packages (from python-dateutil>=2.8.1->pandas->datasets) (1.16.0)\n",
            "Installing collected packages: xxhash, multiprocess, multidict, frozenlist, async-timeout, yarl, responses, aiosignal, aiohttp, datasets\n",
            "Successfully installed aiohttp-3.8.4 aiosignal-1.3.1 async-timeout-4.0.2 datasets-2.11.0 frozenlist-1.3.3 multidict-6.0.4 multiprocess-0.70.14 responses-0.18.0 xxhash-3.2.0 yarl-1.8.2\n"
          ]
        }
      ]
    },
    {
      "cell_type": "code",
      "source": [
        "import pickle\n",
        "import pandas as pd\n",
        "from transformers import GPT2LMHeadModel, GPT2Tokenizer, TrainingArguments, Trainer, DataCollatorForLanguageModeling, EarlyStoppingCallback\n",
        "from datasets import load_dataset\n",
        "import nltk\n",
        "# maybe modify the above to a different model? idk up to you all\n",
        "# also how to use the gpu command? like the cuda stuff.\n",
        "# \n",
        "from convokit import Corpus, download\n",
        "from torch.utils.data import DataLoader, IterableDataset, Dataset\n",
        "import torch\n",
        "import numpy as np\n",
        "\n",
        "nltk.download('punkt')"
      ],
      "metadata": {
        "id": "bmL5wi2WPR5b",
        "colab": {
          "base_uri": "https://localhost:8080/"
        },
        "outputId": "59c8d3df-52af-4bdd-967a-e8e5f24ef2e3"
      },
      "execution_count": 8,
      "outputs": [
        {
          "output_type": "stream",
          "name": "stderr",
          "text": [
            "[nltk_data] Downloading package punkt to /root/nltk_data...\n",
            "[nltk_data]   Unzipping tokenizers/punkt.zip.\n"
          ]
        },
        {
          "output_type": "execute_result",
          "data": {
            "text/plain": [
              "True"
            ]
          },
          "metadata": {},
          "execution_count": 8
        }
      ]
    },
    {
      "cell_type": "code",
      "source": [
        "device = 'cuda' if torch.cuda.is_available() else 'cpu'\n",
        "print(device)"
      ],
      "metadata": {
        "colab": {
          "base_uri": "https://localhost:8080/"
        },
        "id": "fu7HIewqYoWQ",
        "outputId": "522850ba-b871-43a5-d398-c570857df9a5"
      },
      "execution_count": 9,
      "outputs": [
        {
          "output_type": "stream",
          "name": "stdout",
          "text": [
            "cuda\n"
          ]
        }
      ]
    },
    {
      "cell_type": "markdown",
      "source": [
        "# Load and Prepare Dataset\n"
      ],
      "metadata": {
        "id": "CUKGDZxPVfXs"
      }
    },
    {
      "cell_type": "code",
      "source": [
        "seed = 448\n",
        "np.random.seed(seed)\n",
        "torch.manual_seed(seed)\n",
        "torch.cuda.manual_seed(seed)"
      ],
      "metadata": {
        "id": "5l-VcAlDBhZi"
      },
      "execution_count": 10,
      "outputs": []
    },
    {
      "cell_type": "code",
      "source": [
        "print(GOOGLE_DRIVE_PATH)"
      ],
      "metadata": {
        "colab": {
          "base_uri": "https://localhost:8080/"
        },
        "id": "lKtO6nHPlICE",
        "outputId": "50d59b92-7ebc-40bd-a6f0-c357adbe6b52"
      },
      "execution_count": 11,
      "outputs": [
        {
          "output_type": "stream",
          "name": "stdout",
          "text": [
            "drive/My Drive/448 Group: Jedi Order/models/Northwestern\n"
          ]
        }
      ]
    },
    {
      "cell_type": "code",
      "source": [
        "val_post_path = os.path.join(GOOGLE_DRIVE_PATH, \"val_post_set.pickle\")\n",
        "val_com_path = os.path.join(GOOGLE_DRIVE_PATH, \"val_com_set.pickle\")"
      ],
      "metadata": {
        "id": "n9scK1gGkbrB"
      },
      "execution_count": 12,
      "outputs": []
    },
    {
      "cell_type": "code",
      "source": [
        "print(val_post_path)"
      ],
      "metadata": {
        "colab": {
          "base_uri": "https://localhost:8080/"
        },
        "id": "SFA4uui_leyQ",
        "outputId": "cfd53430-271f-4dc7-8015-f6aeb40ae71b"
      },
      "execution_count": 13,
      "outputs": [
        {
          "output_type": "stream",
          "name": "stdout",
          "text": [
            "drive/My Drive/448 Group: Jedi Order/models/Northwestern/val_post_set.pickle\n"
          ]
        }
      ]
    },
    {
      "cell_type": "code",
      "source": [
        "# posts_datasets_to_use[0] = pickle.load(open(train_post_path, \"rb\"))\n",
        "val_posts = pickle.load(open(val_post_path, \"rb\"))\n",
        "# posts_datasets_to_use[2] = pickle.load(open(test_post_path, \"rb\"))\n",
        "# comments_datasets_to_use[0] = pickle.load(open(train_com_path, \"rb\"))\n",
        "val_comments = pickle.load(open(val_com_path, \"rb\"))\n",
        "# comments_datasets_to_use[2] = pickle.load(open(test_com_path, \"rb\"))"
      ],
      "metadata": {
        "id": "N_FTEuAWgbqv"
      },
      "execution_count": 14,
      "outputs": []
    },
    {
      "cell_type": "code",
      "source": [
        "for pt in val_posts:\n",
        "  print(pt)"
      ],
      "metadata": {
        "colab": {
          "base_uri": "https://localhost:8080/"
        },
        "id": "2gW6sBAYpNH4",
        "outputId": "c453a817-d9b7-4c8c-e3fb-1ba0685dd41b"
      },
      "execution_count": 15,
      "outputs": [
        {
          "output_type": "stream",
          "name": "stdout",
          "text": [
            "<bos> Hello all, I have four friends (five total including me) that want to get an apartment or house next year. All brothel concerns aside, where is the best place to start looking, and how do I even get started? Any good contacts you could set me up with would be much appreciated. <eos> \n",
            "<bos> Hi all, I was offered a post-doc position with a lab at the NWU med school late last week. Obviously, this means I'll be working on the Chicago campus. My partner will be looking for work at one of the area hospitals which could be at almost any of them (still undetermined). Does anyone have any advice as to places to live or just general things to consider? We're mainly looking for apartments with a monthly rent of $1,000 - $3,000 (probably closer to the middle of that range, ideally). Safety and cleanliness are our main concerns, with location and size of the apartment following. We've never lived in Chicago, so any advice is appreciated. Also, are 6 month leases common, or are most apartments 12 month leases? Thanks in advance for any help. <eos> \n",
            "<bos> I'm a guitarist and songwriter. I'm looking to jam with more people and ultimately start a few bands. If you play any rock instrument and your tastes are similar to mine, let me know. We should jam.  My tastes: Pink Floyd, John Mayer, Green Day, Counting Crows, The Verve, Foo Fighters, Led Zeppelin, Guns n Roses, Gorillaz, etc <eos> \n",
            "<bos> Finding it really hard to read the Scout/Rivals boards these last... few... years? Where do other people go for their fix without it being ruined by irrational / overblown / valueless commentary? <eos> \n",
            "<bos> I am an ed admit and was wondering how the statistics major is.  * How hard is it? (This is my greatest concern) * What's the quality like? * Are there many other statistics majors? * What are the classes curved to usually? * Would it be good to pair it with an econ major? Thanks! <eos> \n",
            "<bos> hi guys im a freshman this sounds so dumb but what are the exact percentages for the GPA tiers? is a 93 an A? or is it an A-??? im hella confused and im hella on the fence with a grade (got everything back, including the final paper grade), and it's a 93.25 so im hoping 93-100 is an A. this is for a soc 200 level class by the way if that matters. the grading criteria arent on the syllabus, and the friends that ive asked dont really know either lol and lmao if it is an A- would it be too extra to email and ask to have it be bumped up  <eos> \n",
            "<bos> Hey everyone! I’m a junior studying mechanical engineering and I have a bit of extra room in my schedule, so I'm trying to decide which of these I could add to my degree. BS/MS - because I rely heavily on financial aid, I would need to get this done at the same time as my undergrad. This is possible, but it would mean taking only mechanical engineering classes from here on out. I may need to take 5 classes one quarter. This sounds daunting, but since I’m in a position where it’s possible, I feel obligated to take advantage of it.   EECS minor - this would mean taking 2-3 EECS classes for the rest of my time here. I’m not a huge fan of computer science, but I am interested in mechatronics and robotics, and it would be very useful in those fields. I also feel like this is the most “useful” or \"lucrative\" option.  Design certificate - This would only be 6 or 7 classes, leaving more room for other courses I’d like to take just out of interest. I really enjoy 3D modeling but otherwise don’t have too much experience with design, so I’m worried I won’t be a good fit for the program. However, this is an area I’d really like to improve on. I worry that a “certificate” won’t really mean much to employers and that this won’t be valuable. However, it will help me to strengthen my portfolio and give me projects to talk about, which could be useful.   Or I could no none of these and just graduate early, haha. Does anyone have any experience with any of these? Any advice is appreciated. Thanks!   TL;DR: if anyone has any experience with the BS/MS program, getting an EECS Minor, or the Segal Design Certificate, let me know your thoughts and if you’d recommend them!  <eos> \n",
            "<bos> I'm currently in my 6th semester at UC Berkeley (civil and environmental engineering) and have been struggling for a while. I don't mesh well with the school, 500 person classes, and have had some extremely stressful and negative experiences here. I originally chose Cal over NU back in 2011 and have been regretting that decision for a while. I'm going to talk to the transfers office, but does anyone have experience or know of other students who have transferred during their junior year? If I were to transfer, I'd still spend a full two years at NU despite being ~3 years into undergrad. Also, what's your best/worst experience at NU (academic, social, anything)? TLDR: Junior at Cal, my experience here is extremely negative, is it too late to transfer to NU? <eos> \n",
            "<bos> For next year, obviously, but does anyone know if graduate students can register for NUDM and participate? I can't seem to find registration requirements anywhere, but I could be looking in the wrong place.  <eos> \n",
            "<bos> Found the best. Go UNorthwestern! Also... NUEnts??? <eos> \n",
            "<bos> I'm a senior so I feel like I should know this by now, but where's the cheapest place to get an NU hoodie? The campus store? Beck's? That store in Evanston? <eos> \n",
            "<bos> I'm a prospective law student and plan to visit campus soon. I'm looking for advice on choosing a class or two to sit in on. I'm looking for a 1L required course on a Monday, Tuesday, or Wednesday (when I'll be in town). The advice I seek is more on the professors... I kind of want to find a professor who does intense cold calling, since that's not an environment I've ever really been in. Any advice is appreciated! <eos> \n",
            "<bos> it may sting, but the world isn’t going to end. <eos> \n",
            "<bos> I was hoping that I could get some suggestions for which residence hall/college/community I should choose for next year. I am majoring in chemical engineering, so I am looking for dorms on the north side of campus. I'm not the most social and I don't foresee myself going to many parties, but I'd like to push myself to be as social as possible, especially during my first year. These are my top choices so far: Elder - I like that it is all freshman and I've heard that the social atmosphere is great. I am not a partier, however, so this might be a problem. From what I've heard, the rooms and bathrooms don't aren't the nicest. Ayers (CCI) - The rooms are supposed to be fairly large and I've heard that some of them have a view of the lake, which would be wonderful. It's also close to Tech and to the gym, which is nice. It seems to be fairly social, though not as much as Elder. Slivka - I've heard that the rooms here are the nicest on North Campus. There are private bathrooms, which is a definite benefit. It would also be nice to have more resources for engineering. However, I'm not sure that I want to be surrounded almost entirely by engineers, and this dorm does not seem to be the most social. CCS - the rooms themselves seem to be nice, and it seems like being in such a small dorm would create a strong sense of community. It might be hard to branch out to meet others, though. Any suggestions? <eos> \n",
            "<bos> Hey guys i'm coming to NU this fall as a freshmen (going in undecided). I have a few quick questions about the school. I'm interested in going into either a science or engineering and wondering with the whole B.A vs B.S diplomas. I'm also interested in doing a study abroad program in Europe which would require me to take a language during college to prep me for that. So my questions are: 1. What are the main differences between a BA and BS program in a science like physics? Is it also easy to transfer from one to another?  2. If I choose to do a BS I'm assuming the schedule and classes would be a lot more rigourous? Would that allow me to still be able to study a language or is that not possible.  3. Is it common that people who are pursuing a BS in a science also able to take up a minor in something such as music? (while also being able to study a language if possible) I know that with a BA that the classes you can take are much more broad and give you that option i was just wondering if i choose to have a BS it would still give me that option If there's any other advice you guys could give me that would be very appreciated! Thanks!!! Can't wait to come this fall.  <eos> \n",
            "<bos> Could someone give a bit of information about each of the major fraternities and sororities on campus? (I mostly care about the fraternities, but thought both might as well be in the same place incase anyone else comes looking). For example: ABC is full of douche bags and all they they care about is getting hammered. XYZ is pretty chill, they party but they're also pretty smart, cool guys. Something along those lines would be superbly helpful.  Thanks! <eos> \n",
            "<bos> Hi everyone!  I am a transfer student that didn't commit until June 24th because (despite my repeated asking and checking in) I did not receive an FA package until the 23rd. Since I hadn't even received my financial aid package until long after the housing app was due, I am looking into off campus housing. I also emailed housing to see if I can still submit the application, but I also wouldn't mind saving the money at an off-campus apt. However, I have no idea where to look. Where do you all go to find housing, and are they any leases / open rooms still available this late? <eos> \n",
            "<bos> If I am applying ED, does NW get my first quarter grades or do they just use first 3 years of high school? The website looks like you only send senior grades if applying RD, but I’m not sure. It would take pressure off of me bc I’m worried I may get a B in English this first quarter. <eos> \n",
            "<bos> Hey guys! So I was recently accepted as a transfer to McCormick. I'm interested in pursuing pharmaceutics and cancer research. I was wondering how tough it is to find a research lab position and engage in research-related clubs such as iGEM. I'm currently at a University of Washington which is a big public research university with tons of oppotunities especailly with the medical center next door but I'm not sure how the environment is at a smaller private university. This is probably my main concern for transferring. Any advice is appreciated!!! <eos> \n",
            "<bos> Hey guys! I'm assuming most of the users here are either students or graduates. I'm currently a senior in high school and Northwestern is the last application I am waiting on for good news and every day I get more and more excited about the school. I just want to ask you some questions about the school. What do you like most about it? What do you dislike the most about it? How are the residential colleges, for anybody living in one? how bad does the weather actually get? I know its a challenging school, but how often do kids complain about the classes? (some kids from other schools i have visited talk about how challenging their classes are, but i haven't heard anything about NU.) Is it worth the expensive sticker price? Thanks guys, maybe i'll ask some later. Also, saved my first post for you guys!  <eos> \n",
            "<bos> Hello! Prospective student here, surveying colleges for a nerdy spreadsheet I am making. I would like your collective opinion on the above! (note, I would prefer tangible classes, not \"easy\"). Reply or don't, it makes my life easier if you do though. <eos> \n",
            "<bos> I'm hoping to come up for the Michigan basketball game tomorrow, but tickets are going for $35 on the official site and there's no secondary market for the game. Do people often scalp tickets for basketball games? Like if I came by with $20 cash would I be able to pick up a ticket? Secondarily, if I was with a group of people but we had tickets in different sections, could we still sit together or do staff enforce seat assignments? Thanks! <eos> \n",
            "<bos> I ask because it seems as though the acceptance rate is much higher than the rest of Northwestern. Is it just there as a money maker? What does the rest of Northwestern think of it these days? However you feel, I would be grateful for an elaborate answer since there is little to be found online like acceptance rate, advice etc. <eos> \n",
            "<bos> I'm a prospective student and I was just curious about some of your favorite classes and what made it so.  <eos> \n",
            "<bos> I am interested in pursuing my Masters of Product Design at Northwestern. I would have to be a part time student, over two years as I will be employed in the Chicago area. Anyone in the program now or anyone who has completed while working? Any thoughts on the program as a whole? ! <eos> \n",
            "<bos> Hi, sorry for another one of these posts, but just wondering about the best housing option for me if I’m a transfer junior Econ major? I see that residential colleges are more social than the halls? Which ones are more modern, have a gym inside, or are close to a dining hall? Also prefer there to be more upperclassmen than freshmen. Thanks. <eos> \n",
            "<bos> NU alums! To my surprise, it turns out the 9/29 NU vs University of Michigan football individual tickets are sold out! Do any of you happen have a single or season ticket that you can no longer use? I'm aware there are some on secondary ticket sites, but trying to avoid the upcharge and fees.  <eos> \n",
            "<bos> How competitive is the communications program?  <eos> \n",
            "<bos> I've been thinking about the push by various student leaders to leave the Rock as is for the next week and a half. I'm not convinced this is the best thing to do for our community. It halts a NU tradition when we need to feel like a community the most. What say you? Is this a good, respectful move? Or does this fly in the face about what it means to be at Northwestern? <eos> \n",
            "<bos> We can make this page a lot better. Where's the purple? And we need a watermark of NU's logo. Also, let's change up the reddit alien's head with Willie the Wildcat. Moderators, do you hear me? I will do it all myself if you'll let me! Also, how do I add my year and major? <eos> \n",
            "<bos> Hey!  I'm going to be joining McCormick this year for mechanical engineering and I'm not really sure what laptop to get. My first choice is the new 2018 MacBook pro as its fast (6 core processing and 16 gb of RAM), light and easy to use, even if I need to download windows software on to it. My second choice is the surface book 2, which has touch screen capabilities, 1060 nvidia graphics, and has windows.  I personally don't want gaming laptops cause they're big and have a short battery life.  Which one would be better for the next four years? <eos> \n",
            "<bos> To all new students: Congratulations, and welcome to the community! To help in the sometimes-daunting transition into a new school, I've created this thread for any and all questions about Northwestern life for all new students. In addition to asking here, you may also find additional helpful resources in the sidebar. **Unrelated Mod's Note:** Hello! I will be your new moderator for the foreseeable future. I'm a third-year undergrad in McCormick, double majoring in Mechanical and Manufacturing and Design Engineering. If you have any questions or concerns about the change in moderatorship, feel free to shoot me a PM. <eos> \n",
            "<bos> Hi. Looking for other folks who might want to play eurogames once a week or so. There are two extant and very successful general groups, one in Evanston (every other Sunday afternoon at Panera Bread) and one in the city that has meetings everywhere -- most often at Mystic Celt in Wrigleyville, but... I just can't get enough. Anyone interested? Will play almost anything, even Catan. ;)  <eos> \n",
            "<bos> I was wondering of I'll need a student ID to get into the hall. I've been waiting for the day I could meet damien for 10 years now, and don't want to lose that chance cuz I'm not enrolled at NW. Can I just walk in, like a normal college? Or are they tight on security? <eos> \n",
            "<bos> **PRE-RESTAURANT-WEEK MEETUP @ BLACKBIRD** Details: ***When?***  Monday, January 30, 2012, 11:30am-1:00pm (or so) ***Where?*** [Blackbird]([url link] [619 W Randolph St Chicago, IL 60606 Neighborhood: Near West Side]([url link] ***How to get there?*** Davis St. Metra UP-N (10:45am) arrives at Chicago OTC at 11:25, which is 3 blocks away from Blackbird. Fare for one-way is $3.50. You can take CTA if you prefer, but it's more convoluted and takes 30 extra minutes. Similarly, you can drive there, too, but unless you have a few passengers willing to pitch in for gas/parking, it may not be worth it. --- If you're interested in eating at [Blackbird]([url link] (operated by [Paul Kahan]([url link] for their [$22 Prix Fixe menu]([url link] RSVP in this thread **BY WEDNESDAY, JANUARY 25 @ 12:00PM (NOON)**.  ~~I will cap the seating at 8 people. I've been to Blackbird before, and more than 8 will be pushing it in terms of capacity.~~ I have made a reservation. Please PM me directly if you want to join us. --- RSVPed: * Behavioral * alex9001 * Caitlionator * interro <eos> \n",
            "<bos> What should I know about the club? Right now I just know that NU has club rugby, so any info is appreciated. <eos> \n",
            "<bos> I am looking at either a MacBook or iPad? Would these work? What do most people use? <eos> \n",
            "<bos> I applied to NU as a HS student last year and was denied and went to Purdue instead. I'm currently a first semester Freshman in Computer Science here, but my heart still belongs to NU. I was hoping to transfer, and was wondering if my chances are better as a transfer vs. as a HS student.  My current GPA is unknown (obviously havent finished any classes yet), but I'm fairly sure I will get a minimum of 3.5 GPA. My ACT score w/ writing was 33. What do you guys think? edit: I've looked at the [transfer application]([url link] and I know to do all that next Fall, but I was just wondering how this compares to anyone else who has transferred/is attending <eos> \n",
            "<bos> I thought this would be helpful to anyone that has questions about CAs on campus, CA culture, or the NU judicial system in general.  <eos> \n",
            "<bos> Are they are any undergrads here who have been inside the Proteamics Core facility or any other facilities at the Chemistry of Life Processes Institute? How is it? Are student allowed to get involved in research projects there? I heard there was a top down proteamics capability so that you can isolate and study individual proteins directly. How does it work?  <eos> \n",
            "<bos> I'm in Journalism 201-1 right now, and my current assignment is to write a profile on someone. Is there anyone on campus that you guys think would be worth writing about? <eos> \n",
            "<bos> Why are there 270 options listed on CAESAR? Some of them have profs; some only have “Staff.” Incoming transfer here, what do I do with this?  <eos> \n",
            "<bos> How much would a 2,3 affect my chance of admission?  <eos> \n",
            "<bos> So I am considering northwestern and got into the dual degree program for biomed engineering at mccormick and communication studies at their communication school. i heard their engineering is super stressful and im a little nervous about it. i also got into ucla/ ucberkeley and not sure if those schools would be any easier. sigh any feedback would help <eos> \n",
            "<bos> Hey y'all awesome Northwestern Redditors, Figured I'd get a better response here than on a Facebook group -- any avid DotA 2 players here at Northwestern? I'm interested in playing more among a team setting.  **EDIT**: Ok, I made a channel and just called it Northwestern. See if you can join.  Also, add me on Steam:  Current Display Name: aspin  Steam ID: tsunami70875 **EDIT 2**: Alright, made a group too: [Northwestern DotA 2]([url link] <eos> \n",
            "<bos> Hello! I am applying as a transfer student to Weinberg, but I am actually already a student at Northwestern through SPS. I was working for a few years as a professional artist which is why I originally applied to SPS, but due to injury I have retired and would like to pursue my degree full time. I would like to transfer to Weinberg since they offer a wider range of degrees and classes than SPS. I guess I am wondering if anyone has gone through a similar process? Is there anything I should expect? Will my application be given different considerations given that I am an interschool transfer? I currently have a 3.85GPA, am taking courses through Weinberg by petition to show that I am capable, and all of my recommendations are from Northwestern professors (31ACT in case that's relevant). Any thoughts or relevant experiences are appreciated!  <eos> \n",
            "<bos> I’m guessing most of the readers in this sub are current or prospective students, but I have a question for NU staff members. Do you enjoy working at NU?  I’m guessing this will vary greatly depending on the department and boss. I’m starting a job as a staff member in the fall and was curious how others enjoyed it. I will be on the medical campus. It sounds like a great place to work but I wanted to hear from others.  <eos> \n",
            "<bos> Hey I'll be coming go northwestern McCormick school of engineering for full time masters. Does anyone know if it's worth it to live in the graduate living or should I just look for something off campus in evanston? I'm concerned about money but also worried I'll be missing out if i don't live in graduate housing <eos> \n",
            "<bos> I'm going to be in Chicago for my birthday coming up on the weekend of the 24th and would like to get tickets for the Nebraska - Northwestern game while I'm in town. Is there a place I should be looking in particular or should I stick with craigslist?  <eos> \n",
            "<bos> I don't know much about housing on campus, but I do know that I'd prefer not to have a roommate next year. Be it res college or dorm, where would I have the best chances of snagging a single? Thanks in advance for any input! <eos> \n",
            "<bos> I'm looking to double major in Computer Science and Radio/Film/Television, do I need to indicate this in some way on my Common Application when applying for a specific school? Thanks to anyone who can help. <eos> \n",
            "<bos> Hey, So I've recently committed to Northwestern and was wondering about where I might find some private study rooms on campus. I like to livestream on Twitch, but I'm worried about bugging my roommate since I generally do it rather early in the morning. I therefore am hoping to find some sort of space where I can stream without disturbing anyone (or being disturbed myself). I know that Shepard has a few private rooms available, but do any of the other residential buildings? I also saw that the main library has some, but they seemed to be mainly for groups of two or more. Any suggestions? <eos> \n",
            "<bos> Already pretty psyched about it. Would be even more psyched if I found out some NU kids were going.  <eos> \n",
            "<bos> Hi, a friend will be joining NU's Medill School this fall. Having found an apartment at 1311 Chicago Avenue, Evanston. Can anyone here please review the building from their personal experience? Is the place popular with other graduates? Are there any grocery stores nearby? Also, at $925 excluding utilities, is it a good deal or can we find something cheaper? Any feedback would be much appreciated! <eos> \n",
            "<bos> Like when are students given apparel and other stuff? I heard Morty gives a lot of free shirts out.  <eos> \n",
            "<bos> There has been some recent debate as to Bienen students being allowed to practice in the designated practice areas in Shepard Residential College, and I wanted to open up the discussion on the northwestern subreddit.  <eos> \n",
            "<bos> Hey guys, I'm currently a freshman engineer at Cornell and am reconsidering my life given that I only ever considered Cornell or Carnegie Mellon before. My parents gave me a radius, so I never looked at NU before (I live in the North East), but it seems pretty cool. I might be interested in doing Engineering+Music, as I'm very musically inclined, I'm thinking mechanical or environmental. From college, I was hoping to go somewhere that I admire most other people around me, and I don't know if the grass really is greener in that sense because I haven't yet met the superstars I met at high school music/leadership conferences. I'd appreciate any help in regards to being an engineer, knowing anything comparing NU to Cornell, or the Music + engineering, or if my situation is relatable and you have feedback. Thanks! <eos> \n",
            "<bos> Any NW students near downtown looking to sublease a parking spot for the summer-working at Davis and Benson so should be within 3 blocks <eos> \n",
            "<bos> Hi so I'm going to be a freshman in Bienen. I was wondering about the music theory placement exam and whether or not I should study for it. If I was placed into a lower class, would that mean that I would have to take more classes than those who placed higher? Or are we just required to earn a certain number of credits at any level and just be done? Thanks!!  <eos> \n",
            "<bos> I've seen some posts of college confidential of people who have been accepted for 2017, I'm pretty sure they're not for ED. If they have how to I see, I was under the impression I would have gotten an email. Thanks. <eos> \n",
            "<bos> Hi, I just toured NU, but now I have some questions which weren't really answered on the tour. 1. How hard are the classes? My tour emphasized how the quarter system increases flexibility, but sort of skimmed over how difficult the classes themselves were. 2. How are the new dorms? We didn't go inside the residence halls, but my tour guide said that the dorms were all just renovated and that they're really nice now. 3. How big is Greek life there? Will I feel left out if I don't join or don't want to party? 4. Obviously most of NU's programs are going to be very strong, but are there any programs that are weak or at least not as strong as others? I plan on majoring in math, CS, physics, or engineering (actually part of the reason that I liked NU is because of the flexibility). 5. How long is the shuttle ride to Chicago? 6. Would you describe it as more collaborative or competitive? And how is the stress culture? 7. How is the food, both on and off campus? The tour guide said Evanston has great food and that NU's food is ranked like number 5 in the country, but I didn't actually get to try it. 8. Why did you end up picking NU?  9. Did you apply ED or RD, and why? What did you do in high school? And what were your top colleges before you went to NU? Also, if there's anything else you think I should know, please tell me! NU actually wasn't that high on the list of colleges I wanted to apply to before I came and visited, but now that I've seen it, I actually really like it. <eos> \n",
            "<bos> As a prospective student looking to get a feel of the university, what is your favorite place or food to eat on campus? Can be specific, broad, anything in between. Also, what foods are chicago/evanston famous for?  <eos> \n",
            "<bos> Hey so i am not a student but I plan to apply however i am just curious about the quarter system that northwestern uses. I have heard some conflicting comments about it like how its the worst but then some other people would say its the best.  so my question is what are your opinions on the quarter system and also a more specific question does it allow you to double major easier tl;dr what are your opinions on the quarter system and does it help you to double major if you want to <eos> \n",
            "<bos> Trying to find out more if there are any tailgating lots that allow you to overnight park. Do any of the tailgating lots allow this? I called the NW athletic department and the individual I spoke with told me there is no overnight parking anywhere at NW for games. I find this hard to believe, as I have tailgated at many schools and have not found this to be the case. Any information you can provide would be awesome! <eos> \n",
            "<bos> Hey. I'm a prospective student and I just got an e-mail that invited me for an alumni interview in my area (Europe). Now, I've never had any sort of interview before, but I feel like I understand general etiquette fairly well so that's not an issue. Is there anything specific to Northwestern I should be aware about? Any key things I should research and mention? For reference, I'll be applying as an Economics major. Thanks for the help! <eos> \n",
            "<bos> I have been given the gracious opportunity to attend NU starting this coming Fall. I have some timely questions I wanted to ask to the NU Reddit community. Regardless of discipline, I'd love to hear from anyone!  As someone that's been accustomed to the semester system, how is the quarter really like for most of you? I'm aware of its pros/cons. Is the dread/stress/system really that bad? Are the benefits of being able to take more classes a bit overstated or worth it? I hear that 4 classes per quarter is the norm though I heard most resort to 3 in actuality. Would this experience perhaps differ across disciplines or is the dread/stress consistent throughout? As a possible incoming Weinberg student, I intend on double majoring in Global Health and Sociology with the medical/health concentration. I figure that the quarter system may be relatively rougher for STEM but just wanted to hear from you guys.  With the Spring quarter possibly conflicting with summer internships or even a summer semester at a different institution, are there ways to perhaps reschedule a final(s) to be a tad bit earlier? Particularly for Weinberg students? Or do professors have no control and it's really only by university policy? Even from glazing through the NU website, I've heard contrasting things. Some from \"real talk.\" In addition to the quarter experience for the social sciences/public health kiddos, i'd love to hear more about your experiences and perhaps unheard perks/niches from any student that is studying in these particular disciplines! Though I'm a premed student, I've done most of my prereqs coming into NU so I intend on solely focusing on these courses til potential graduation if I choose to come here. I'm torn between transferring to either Northwestern or Emory so I'm going down to the smallest details.  Sorry for the long wall of text. Thanks guys! <eos> \n",
            "<bos> My offer letter says \"As a full-time registered graduate student at Northwestern, you will be eligible to receive a full health insurance subsidy.\" On the health insurance website, it says \"The university plan premium for 2015-16 is $3,692.\" Does the \"full subsidy\" cover the $3,692, or will I need to pay that out of my fellowship? In addition, would it cover things like the annual deductible? Finally, how have you found the health plan, in general? <eos> \n",
            "<bos> I'm applying to a labs as a potential post-doc. Had interviews that went well and I'm invited back for further interviewing and meeting teams in person. I'm trying to get an idea of what a standard salary is for post-docs at NU before I get an offer... before I *hopefully* get an offer. I'm not looking to make crazy amounts of money as a post-doc, but just want to make sure offers I'm receiving are fair. Obviously, there will be some variation depending on my prior experience and what lab and department I'm joining. I'm going to join labs in the NU Feinberg School of Medicine (at least with all the labs I'm interviewing with currently) in case that makes a difference. If anyone can give me an idea of a standard post-doc salary, I would appreciate it. Thanks. <eos> \n",
            "<bos> I have an alumni interview for NU ED soon. Does anyone know what I can expect or remember what questions they might ask? Any other tips? Thanks  <eos> \n",
            "<bos> Would it be better for me to try to get a 5 on a language AP and not take a language at NU, or should I try taking language classes? I’m an incoming freshman, and I’m currently not taking a language (I finished Spanish sophomore year of high school) so it would be quite a bit of self-study. Also, how many years (or quarters?) would I have to take a language course? Are the language classes at NU very difficult? Thank you! <eos> \n",
            "<bos> So final grades came in and sadly my GPA is a 2.8. I worked super hard this quarter and it sucks to see that my grades took such a hit. Is there hope for me to bring my GPA up this year? I was hoping to land an internship or research position in the near future... did I just lose my chance? <eos> \n",
            "<bos> What are some NU-themed items that make good gifts for family members that are available at the bookstore in Norris or at Beck's? Trying to do some shopping before I get home. <eos> \n",
            "<bos> Hello! I'm an upcoming freshman currently looking for places to live on South Campus. I'm sure Allison, Shepard Hall, and 1838 Chicago are going to be my top three choices, but I don't know how I should rank them. Could people give me some pros and cons of living in each so I get a better idea of how to rank the three? Thank you in advance! <eos> \n",
            "<bos> If you're taking Euro Civ, you may need a book called *The West: Encounters and Transformations* by Levack, Muir, and Veldman. I took it with Professor Petrovsky-Shtern, and he special ordered a textbook that has \"Custom Edition for Northwestern University\" printed at the bottom of the front cover. It is chapters 9 - 19 of Volume 1 of the full text. Since it's a custom order, you'll probably be forced to buy it at Beck's/Norris. My copy has some highlighting in it, and I will give it to you in exchange for a chai latte. <eos> \n",
            "<bos> [url link] Hey Northwestern peeps, I have two friends who would love to make a team for this event, but we need two more members for our team. We're not super cereal about winning or anything; we're just doing this to say we competed in collegiate esports. We won't demand a massive commitment or anything, but if anybody else thinks this looks like fun and wants to try their hand at it, they should message me. Or make their own team. But that would hurt my feelings. <eos> \n",
            "<bos> I applied for MFA in Documentary film, and am still waiting on an update... Is anyone else in the same boat as me? UPDATE: I got in! <eos> \n",
            "<bos> Hey everyone! Excited to be visiting the beautiful (supposedly) campus in person, but unfortunately the STEM tours are full, and as a prospective stem student this is a bit of a bummer.  The school site says:  \"This tour highlights STEM facilities, research resources, pre-professional opportunities for STEM majors, and STEM-focused student organizations.\"  But what specifically would I miss? Hoping someone who has visited, or a current student, could provide some insight.  Thanks guys! <eos> \n",
            "<bos> Did anyone with particularly unique circumstances receive much guidance from FAR's? I have a potentially crucial circumstance (PM if interested) that might make Northwestern out of the question, even though it is my top choice. What are the odds that they will go out of their way to help me? <eos> \n",
            "<bos> Have any current/past Northwesterners made the commute to the Evanston campus every day from a place in Chicago? What was it like? Were you happy? What made you choose to get a place in the city? Pros and cons? Sorry for all the questions! <eos> \n",
            "<bos> I was just wondering if anyone had been through the program. If so, what has your experience with it been? Worth it? Anything helps!! <eos> \n",
            "<bos> Senior who is applying to NU here.  I love the idea of the Residential colleges and the great academic environment, but I can't help but wonder if I'll be surrounded by people who aren't super social and a bit too bookish/nerdy. I am perfectly fine with these people (in fact I probably am one myself), but in college I want to branch out a bit more and go to more parties/have that quintessential college experience. Do you know anyone in an RC or are you someone in one? What's their/your take on it? PS The ones i'm interested in are: ISRC, CCS, Shepard RC, and PARC. <eos> \n",
            "<bos> Hey everyone, I still haven't found a place to live (panicking a little) and I'm looking to sublease but I tried to join the Northwestern Housing facebook group but it says that \"you don't have permission to join this group\". I joined the Northwestern facebook group using my NetID without any problems. Does anyone know what's going on? Also, if you know someone who's looking to sublease starting this fall semester, please let me know. I'm getting nervous. Thanks  <eos> \n",
            "<bos> Joining this fall, I know NU has it's prestigious Bienen school but I'm asking about like the semi casual rock band sort of thing. I play the drums and as gruelling as the coursework is, I don't intent on letting that part of me go stale.  Also if anyone needs a drummer let me know, I'm down with pretty much anything except death core or grind core or (insert genre here) core <eos> \n",
            "<bos> The rock? Weber Arch? <eos> \n",
            "<bos> Hello, I will be attending NU for grad school in September. Grad housing application opened April 3rd at 9:00 am central time. I just submitted my housing application about an hour ago on April 5th at 2:00 central time. I a, trying to get into Garrett House but I saw on some threads that Garrett is hard to get into. Do you think I’ll be able to get into Garrett Place housing? And which is best, north, south, east, or west Garrett? Thank you for your help.  <eos> \n",
            "<bos> I know how the quarter system basically functions, but what are some other aspects of it that aren't usually brought up? How exactly do midterms and finals work? Would you favor it over a semester schedule? <eos> \n",
            "<bos> Hello! So my husband had booked a Norshore cab ( for 5 am) for his 7 am flight to San Diego and the cab didn't show up until 6 am! Needless to say, he missed his flight and he's on his way home now. My question is: How do you travel to the airport NU? Edit: From Evanston <eos> \n",
            "<bos>  Statement from President Schapiro regarding graffiti in Millar Chapel On behalf of the entire Northwestern community, I express our shock and dismay at the abhorrent act of vandalism committed last night in Alice Millar Chapel in which racist, anti-Semitic, homophobic and other offensive graffiti was spray-painted on walls, offices and even the organ.  The investigation by University Police has determined that there is no immediate danger to any specific individual or to the larger campus community. Police are reviewing video of the incident and searching for those responsible. Once the perpetrators are identified, they will be arrested and charged to the fullest extent of the law.  Northwestern is committed to creating a safe, secure and welcoming environment for all of our students, faculty and staff. This disgusting act of hatred violates the deepest values and core commitments of our University and is an affront to us all.  <eos> \n",
            "<bos> Anyone know what was going on? <eos> \n",
            "<bos> Which major would be better for someone with a lower math ACT score, and what are the differences? Thank you.  <eos> \n",
            "<bos> Is anyone in the master of science in analytics program? I would love to hear more about it. Anything would be great :)   <eos> \n",
            "<bos> Hi, this post is geared towards NU students. In my essay I talked about visiting campus and being very impressed by the \"workshops\" in McCormick (I'm referring to the rooms with lots of equipment open for students to use to construct things and work on their own projects). However, I visited lots of campuses along with NU last summer and I can't remember if it was actually NU that had these. Could someone confirm or deny if McCormick really has these rooms available for their engineering undergrads? If so, is there a better, more specific way of describing them than \"workshops?\" Thank you so much for the help and happy new years! <eos> \n",
            "<bos> Hey Big Ten friends, The University of Illinois at Urbana-Champaign is hosting a brand new hackathon called [HackIllinois]([url link] on April 11th-13th, and we want NU to attend! We know that Northwestern already has HackNU, so we know that there's a big interest in hacking on campus!  In case you don't know, hacking is an opportunity to create anything you want: mobile apps, web apps, hardware projects, etc! For 36 hours at UIUC, we want computer scientists and engineers to join us.  Put your .edu email into [hackillinois.org]([url link] and RSVP to our [Facebook event]([url link] to sign up! If there's enough people from NU, we can charter a free bus for you guys. <eos> \n",
            "<bos> So I'm an incoming graduate student that won't have health insurance covered through my parents plan, consequently I was looking for cheap health insurance alternatives that meet NU's waiver requirements. I'm located in California, so the current health insurance I have isn't valid per NU's waiver requirements, and was hoping for some suggestions. <eos> \n",
            "<bos> Not trying to be creepy, just curious :) <eos> \n",
            "<bos> Hi, I had a question for the alumni of the subreddit (even better if you were a Mccormick student). How helpful has the alumni network been for job placement and other opportunities? Do you find that the Northwestern name helps that much? Thanks. <eos> \n",
            "<bos> Hey guys.  I'm majoring in econ and was first wondering if it would be wise to take intro to macro/intro to micro again if i took them in HS and scored 5s on both AP exams. I took macro/micro in junior year so I feel like I forgot a bit. How hard do you think the classes would be for me? Also any tips on the classes or suggestions on which profs to take them with? Also are there any interesting distros you guys would recommend? Any classes to avoid? Thanks!! <eos> \n",
            "<bos> anyone on here know or have any friends who know how hard the sailing team is to make. they said no experience required, and i know very little about sailing. what should i expect? <eos> \n",
            "<bos> Hey all, going to NU this coming fall and was looking to set up internet- what company do you recommend/would say to avoid? Thanks! <eos> \n",
            "<bos> Hey guys! I'm a high school senior from Sweden who's thinking about applying to Northwestern. I plan to major in Industrial Engineering, but I have a few questions. 1. How manageable is IE? I'm not really a big fan of maths, but I don't hate it either.  2. What's the social life like as an engineer student? Do you really have to study all the time?  3. What are the students at McCormick like? Do they tend to just focus on school or do they participate in other activities as well? 3. Chicago is one of the reasons I'm interested in NU. How often do you usually go there to go to parties, concerts, bars etc? 4. As an international student, will I get into the social scene as easy as the American freshmen do?  5. What is your overall experience at Northwestern? Thankful for any answers! <eos> \n",
            "<bos> I was admitted last month (so happy) and want to know more about Northwestern's food situation. What is your opinion on the food overall? Is there a lot of variety so it doesnt get too boring? How healthy/fresh is it? What are some of your favorite things about the food? Least favorite? Best dining halls? Any other comments? Thank you so much!! <eos> \n",
            "<bos> Does the northwestern debt cap scholarship a guarantee that NOBODY will graduate with over $20,000 in debt? I'm confused from the description if it's only awarded to certain people who will graduate with $20,000 debt or ALL of people who will. I've read it many times and searched all over online but I'm still unsure. Thank you Edit: also capping federal loans? Does that mean that the $20,000 figure excludes private loans? [link to scholarship info]([url link] <eos> \n",
            "<bos> How social are 1838 Chicago and Shepard Hall? Is 1838 Chicago's community comparable to Elder's, or is it worse? <eos> \n",
            "<bos> Coming to visit for a football game this fall, and wondering what the tailgate scene might be like for a visitor? Best place to stay? Any help appreciated! <eos> \n",
            "<bos> Hey Guys, My November 4th got taken up by another commitment. Does anybody need or know anyone in need of a ticket for the show?  <eos> \n",
            "<bos> I'm wondering whether I should buy a tshirt and hoodie. <eos> \n",
            "<bos> This may seem as somewhat of a vague question, but how does NU foster diversity inside and outside of the classroom? If looking for certain things to put into my \"Why Northwestern\" essay about how diversity is part of NU's culture.  <eos> \n",
            "<bos> Ok I know that we're not exactly the best in the conference and that we're the only private school in the Big Ten, but these past three games, the student section has been depressing. Even as we were coming off a huge win against Nebraska, there were still empty seats everywhere against Rice and Minnesota. Basically, why aren't students showing up to our games? Also, I'm using \"important\" in the title for lack of a better word. <eos> \n",
            "<bos> Does anyone know if Northwestern happens to have a map of how many students they’ve admitted from each state? I’ve seen it for other schools.  <eos> \n",
            "<bos> Hi all, I'm a prospective McCormick student and I am having some serious decision anxiety about colleges right now. I visited northwestern during wildcat days and liked the campus, but I didn't get a chance to talk with any students. This may be strange, but are there any Wildcats that would be willing to discuss the school with me? I feel like it would be really beneficial to maybe have a phone conversation or something. If anyone has the time for this please pm me. Thank you all, go cats! (Maybe) <eos> \n",
            "<bos> For those of you who have already graduated from Northwestern undergrad, what is in a final official transcript? Specifically wondering, does your final graduating transcript list out your courses and instructors, grades, and high school SAT/ACT scores? <eos> \n",
            "<bos> I have this sense that NU students quickly close themselves off after freshman year once they've established their main friend group, whether it's though clubs, greek life, sports, etc. This may be unique to the busy competitive premed culture that dominates my major, neuroscience, or it may be a more global trend for the entire school. How do other majors relate? As a community, how open and proactive do you think we are to continually branch out--especially in a way that embraces diversity?   <eos> \n",
            "<bos> Hey fellow Wildcats, Has anyone had success connecting an Xbox 360 to the network through sharing a WiFi connection from a laptop through ethernet to the xbox? I've gotten this to work at home, but at NU it never works. My friends have been able to do this with Windows machines, but with my Mac the Xbox always fails when it comes to resolving DNS servers. I've tried setting the DNS to my laptop's IP, googleDNS, and NU's default DNS servers all to no avail. I've also tried making the Xbox's MAC address the same as my computer. I've googled and googled and found no solution to this, help me Reddit, you're my only hope! **Edit:** Internet Connection Sharing sharing. Derp. **Edit 2:** I confirmed with a friend's PC that it works with no call to NUIT. However, I'll call them tomorrow as per jasonhe's suggestion to see if they know anything about why the Mac can't do it and how to get it running. <eos> \n",
            "<bos> interested in non-STEM stuff in particular <eos> \n",
            "<bos> Hi everyone, I am an incoming chemistry PhD student. My apartment includes 'wireless internet,' but it's MAC address based, 'no online video gaming,' and signs me into a LAN jungle - meaning if I or someone else gets careless with file sharing, anyone can see it. So I'm looking into a wired connection, and have dug up ATT / Comcast. Are there any other options I am missing? Thanks in advance. <eos> \n",
            "<bos> anyone know the best way to get quarters for laundry on campus? I heard the c-stores/dining halls don't give change <eos> \n",
            "<bos> I was just wondering how the political science program at NU is? pros and cons? I just wanted some info from any current or former NU poli sci majors <eos> \n",
            "<bos> I'm going to be a freshman this fall, and am looking to get a nice laptop that will last me through all of school. Has anyone had good/bad experiences with specific brands? Do I need a laptop with a dedicated graphics card if I'm an engineering major? Don't really know what sort of specs I should be looking for and don't want to end up buying the wrong $1000+ machine  <eos> \n",
            "<bos> To all new students: Congratulations, and welcome to the community! To help in the sometimes-daunting transition into a new school, I've created this thread for any and all questions about Northwestern life for all new students. In addition to asking here, you may also find additional helpful resources in the sidebar. To all our returning students: Feel free to chime in with any wisdom you've learned over the years and wished you'd known coming in as a freshman.  <eos> \n",
            "<bos> I'm pretty sure that I am going to Northwestern next year, and I was wondering if there is much of a gay social presence on campus? I know that the theatre department is large, but outside of theatre (in medill/artssciences) is the lgbt community noticeable? Is the student body tolerant/liberal as a whole/is it easy to find an lgbt community? Also on a tangential-ish question, what North Campus dorms would be the most accepting? Thanks! <eos> \n",
            "<bos> Asking because it's happened to some people I know, and they're justifiably salty because of it. Has this happened to you or any of your friends? <eos> \n",
            "<bos> Hi NU redditors, I'm going to be starting this fall and will be living in Chicago. I tried to find out some info online about parking on campus for grad students, but I wasn't able to find any input about ease/difficulty of parking on Campus. I'll be mainly around Swift Hall/Cresap. Anyone have any first hand experience or input? Thanks! <eos> \n",
            "<bos> Hey is anyone here in MMSS? How stressful and difficult is it? Would it be hard to take with only completing BC calc by the end of high school?Could I get in with a 34 math ACT?  <eos> \n",
            "<bos> Hey everyone, I'm currently finishing my senior year of high school and trying to figure out if I should place out of any classes next year. I will most likely be doing Industrial Engineering. I have scored a 5 on Calc 1, Micro, Macro, and Stat (and hopefully will get a 5 on Physics C Mech, E and M, and Calc 2). Should I place out of as many classes as possible, or should I retake them? Also, is getting a 5 good enough to place out, or will I need to take another placement exam? <eos> \n",
            "<bos> I really wanted to attend NU, and was ecstatic to be accepted. However, I didn't realize there were no merit based scholarships awarded to students - only need based aid.  My question for all of you Northwestern students and alumni, why do you think it costs so much to go to school there? Was it worth it? It's not too late for me to change my mind about attending. I can afford to go there, but can't really justify it to myself financially.  <eos> \n",
            "<bos> Hey guys! I'm an applicant accepted ED. I'm wondering these things after reading some comments/posts on this subreddit. I can deal with heavy academics and hard classes, but don't want to be in a bad, stressed out and unhappy environment with people in a bad mood/complaining all the time. I'd want to know this, as some users have mentioned these qualities on this subreddit about nu. Also, how hard is it to get a good gpa? (specifically in econ) Finally, do you agree with this comment that really struck me about NU? How could I avoid and recognize the \"toxic environment?\"  I am happy I went to Northwestern, but that stems from my recognition of the toxic environment and taking steps to make sure I don't get sucked into it. As long as you come in realizing that people often get jaded and stressed out at NU and work to combat that, there's plenty of good parts to NU.  <eos> \n",
            "<bos> Hi there! I'm a college freshman that applied to be a transfer student next fall. I'm going to be in the Chicago area (where i have never been) on monday and tuesday to scope out the city and look around campus. Are there any specific places on or near campus or in the city that you would recommend for me to check out? Any suggestions are welcome! <eos> \n",
            "<bos> I thought I might give this a shot. Where can you find out about summer sublets, other than craigslist or the ridiculously outdated ASG sublet website?  <eos> \n",
            "<bos> Hi guys, I will be joining Northwestern University this fall as a PhD student in McCormick and I'm just browsing housing options right now. I think for the first year, I would like to live on or very close to campus. I noticed that the university offers graduate housing in the form of apartments. I thought they might be ideal because they are already furnished, utilities are taken care of, and are close to campus. Has anyone ever lived in these places (specifically Engelhart Hall)? Are they worth the price? If not, where should I look for apartments and is anyone looking for a roommate? <eos> \n",
            "<bos> Favorite College Gameday sign. Fucking love it. Go cats! EDIT: Other good ones: \"Urban Liar\" \"THE NorthwesterN University\"  <eos> \n",
            "<bos> As part of my campus visit, I attended the McCormick information session and have lost the business card of the speaker. Does anyone here know who that was? <eos> \n",
            "<bos> I've never worked at a hotel before so I find it to be pretty interesting here. There were a lot of things I didn't know about the inner workings of a hotel, especially a nicef one like the Orrington. I was really suprised how differently Hilton Honors members aer treated compared to, say, a priceline booking. Also I never realized that the front desk guy has the power to pretty much do anything. Stuff like upgrades, comps, discounts. If we ever say we can't do something 90% of the time we just don't want to. Questions? <eos> \n",
            "<bos> I'm a rising Junior and I wanted to keep up my piano playing, but I can't seem to find any piano practice rooms without having to sign up for a class. Bienen offers rooms but require you to sign up for either courses or classes and residences seem to reserve them for their own students (which is fair). I wouldn't mind paying a fair rate either (~$10/month preferably). The Music Institute of Chicago goes for $12.50/hr, which I can't really afford. Does anybody have any ideas? <eos> \n",
            "<bos> Hello! I'm an incoming freshman, an I was wondering if there are any active Dungeons  Dragons or Tabletop Gaming groups at Northwestern. I've always been a huge fan of Tabletop RPGs, and would love to get involved in some campaigns/games at NU! (Also down to meet up with anyone who really likes board games) <eos> \n",
            "<bos> ok educationally? probably. I have gotten accepted into uc berkeley, ucla, and cmu as well but northwestern gives me the most flexibility to pursue my interests (espec given that im not exactly sure what i want to do). But i have questions about social life. How exactly is the social life, \"love\" life, the cliques? How is the indian population at northwestern (im from the bay area so thats a topic of great interest lol)? also how is the social life, \"love\" life, the cliques specifically for indians lmao.. any feedback about social life would be great tbh (pls and thx) <eos> \n",
            "<bos> Hey all, I'm a junior and my friends and I are embarking on the apartment finding quest. I thought I'd mine the collective wisdom for what worked, what didn't work, what challenges you faced, etc. Thanks! <eos> \n",
            "<bos> Hi! I've been a skater for several years and want to continue in college. Is there anyone here who participates in NU's skating team? I have some questions and it would be great if you could PM me :)  <eos> \n",
            "<bos> how competitive are club soccer and basketball? (i'm an incoming freshman) <eos> \n",
            "<bos> I've been playing around with my Android, and installed CyanogenMod today. It doesn't seem to work with the Northwestern wifi network. Anyone have any luck with this? <eos> \n",
            "<bos> I was wondering if anyone (or knows someone) commutes from Lincoln Park using the purple line. How convenient is it? I will be a graduate student at NU next fall and was looking into the possibility of living with a friend in that area. <eos> \n",
            "<bos> Is it difficult to switch from the engineering school into the college of arts and sciences? Has anyone done this or does anyone know anyone who has internally transferred? <eos> \n",
            "<bos> Search for \"Northwestern groups\" within Facebook. The search result will show a closed group with 20k+ members in sub-groups. To join this closed group, you will need some variant of an @northwestern.edu email address. If this doesn't work, let me know. You'll find the the lifesaving sub-groups of \"Free and For Sale\" and \"Housing\" by searching within the main group. You can also go ahead and join your class's sub-group, too! Good luck in Evanston! <eos> \n",
            "<bos> Does anyone know if permits are required to park in University lots on Dec 31 and Jan 1 (from around 6pm to noon)? A couple buddies of mine are coming down for NYE and they'd like to park at Engelhart for the night. I found this link ([url link] that says permits are not needed on holidays when the University is closed for business, but I wasn't sure if these two days are included. <eos> \n",
            "<bos> I'm doing the International Baccalaureate program in high school right now and am heading towards a 6 for standard level Spanish. Would I be able to successfully test out of the language requirement? <eos> \n",
            "<bos> I'm an incoming freshman and was wondering how the process for applying to clubs works at NU as well as how difficult it is to get into most clubs (friends at other schools say the application process for clubs is pretty tough).  <eos> \n",
            "<bos> Capital markets (specifically financial valuation) is my biggest passion. Would anyone in the Kellogg Financial Econ Certificate or MMSS be able provide insight into their program? I'd love to learn more about the academic and professional opportunities available. As a prospective student, I'm also curious about student life in general. I'd be happy to converse via PM if preferred. Thank you! <eos> \n",
            "<bos> Hey NURedditors--graduate student here. The show sold out today, and I wasn't able to buy tickets because of some inane restriction for graduate students to wait until 4/10 (not to mention the difference in price #3232;\\_#3232;).  If anybody has extra tickets for this Friday's show, please let me know. I'd really like to go see the Walkmen. <eos> \n",
            "<bos> Hi Evanstonians! I'm going to be doing a run (a jog really...I'm not very fast) from the city up to Gilson Park in Wilmette. I know I can get water at Clark St. beach, but I'm not aware of any other fountains between there and Gilson. Does anyone know of a public fountain on the Northwestern campus near Sheridan Rd., or perhaps at Lawson Park north of campus? Thanks! <eos> \n",
            "<bos> Hello! I was admitted to McCormick and will be attending northwestern next fall! :) However, I'm not exactly sure what I want to major in. I applied to engineering but I have no idea why to be honest. Is it a difficult process to transfer to Weinberg if I choose to do so? Also, in 4 years time if I'm interested in consulting or venture capital/pe as a career, are those jobs only accessible as an Econ major? Thank you! <eos> \n",
            "<bos> Light was flashing red, a woman was turning onto the side street (I think the one just north of Foster) and bam. Front wheel of my bike hit, I'm knocked down. A little frazzled, but fine. Let this be two warnings to you:  don't be an idiot; look out for cars.  and  don't be an idiot, watch for pedestrians/bikers. That's all. <eos> \n",
            "<bos> I've searched through the student group directory, but haven't seen anything. Does anyone know if there's a student group devoted to calligraphy, cartography, heraldry, and/or illuminations? if not, would any of you be interested in starting such an organization? <eos> \n",
            "<bos> Hey Wildcats, I'm pumped for today's game, but it starts at 3:30 Central and I'm at work till 5 pm.  Is there any way I can listen to a radio call of the game on my cell phone?  Is there a particular website where I can watch it live?  At the very least is there a good game tracker?  Go Cats! Let's crush Vanderbelt!!! <eos> \n",
            "<bos> That's right, make me your best offer for a trade. <eos> \n",
            "<bos> I am currently thinking about transferring to NU. I originally study Statistics at UCSD. When I did the school research, NU's statistics major is great but there is no specific concentration. But the IE major looks exactly what I want, specializing in data analysis.  The problem is that IE is in the engineering school and statistics is in arts and science. If I want to be safe and have a high chance of admission, Which school should I apply? Can people from arts and science participate in the research program offered by the engineering school? <eos> \n",
            "<bos> Hello! I'm a transfer student who was lucky enough to be admitted to Northwestern on Wednesday--the thing is, I'm missing a lot of information about student life/work load/stress etc. So, if there are any current students out there who are willing to talk with me candidly about their experience, please PM me! <eos> \n"
          ]
        }
      ]
    },
    {
      "cell_type": "code",
      "source": [
        "print(val_posts)"
      ],
      "metadata": {
        "colab": {
          "base_uri": "https://localhost:8080/"
        },
        "id": "9Ta_z5YynOfD",
        "outputId": "fe0c3ec6-68eb-4c78-b6a4-57ddcd5eacba"
      },
      "execution_count": 16,
      "outputs": [
        {
          "output_type": "stream",
          "name": "stdout",
          "text": [
            "['<bos> Hello all, I have four friends (five total including me) that want to get an apartment or house next year. All brothel concerns aside, where is the best place to start looking, and how do I even get started? Any good contacts you could set me up with would be much appreciated. <eos> ', \"<bos> Hi all, I was offered a post-doc position with a lab at the NWU med school late last week. Obviously, this means I'll be working on the Chicago campus. My partner will be looking for work at one of the area hospitals which could be at almost any of them (still undetermined). Does anyone have any advice as to places to live or just general things to consider? We're mainly looking for apartments with a monthly rent of $1,000 - $3,000 (probably closer to the middle of that range, ideally). Safety and cleanliness are our main concerns, with location and size of the apartment following. We've never lived in Chicago, so any advice is appreciated. Also, are 6 month leases common, or are most apartments 12 month leases? Thanks in advance for any help. <eos> \", \"<bos> I'm a guitarist and songwriter. I'm looking to jam with more people and ultimately start a few bands. If you play any rock instrument and your tastes are similar to mine, let me know. We should jam.  My tastes: Pink Floyd, John Mayer, Green Day, Counting Crows, The Verve, Foo Fighters, Led Zeppelin, Guns n Roses, Gorillaz, etc <eos> \", '<bos> Finding it really hard to read the Scout/Rivals boards these last... few... years? Where do other people go for their fix without it being ruined by irrational / overblown / valueless commentary? <eos> ', \"<bos> I am an ed admit and was wondering how the statistics major is.  * How hard is it? (This is my greatest concern) * What's the quality like? * Are there many other statistics majors? * What are the classes curved to usually? * Would it be good to pair it with an econ major? Thanks! <eos> \", \"<bos> hi guys im a freshman this sounds so dumb but what are the exact percentages for the GPA tiers? is a 93 an A? or is it an A-??? im hella confused and im hella on the fence with a grade (got everything back, including the final paper grade), and it's a 93.25 so im hoping 93-100 is an A. this is for a soc 200 level class by the way if that matters. the grading criteria arent on the syllabus, and the friends that ive asked dont really know either lol and lmao if it is an A- would it be too extra to email and ask to have it be bumped up  <eos> \", '<bos> Hey everyone! I’m a junior studying mechanical engineering and I have a bit of extra room in my schedule, so I\\'m trying to decide which of these I could add to my degree. BS/MS - because I rely heavily on financial aid, I would need to get this done at the same time as my undergrad. This is possible, but it would mean taking only mechanical engineering classes from here on out. I may need to take 5 classes one quarter. This sounds daunting, but since I’m in a position where it’s possible, I feel obligated to take advantage of it.   EECS minor - this would mean taking 2-3 EECS classes for the rest of my time here. I’m not a huge fan of computer science, but I am interested in mechatronics and robotics, and it would be very useful in those fields. I also feel like this is the most “useful” or \"lucrative\" option.  Design certificate - This would only be 6 or 7 classes, leaving more room for other courses I’d like to take just out of interest. I really enjoy 3D modeling but otherwise don’t have too much experience with design, so I’m worried I won’t be a good fit for the program. However, this is an area I’d really like to improve on. I worry that a “certificate” won’t really mean much to employers and that this won’t be valuable. However, it will help me to strengthen my portfolio and give me projects to talk about, which could be useful.   Or I could no none of these and just graduate early, haha. Does anyone have any experience with any of these? Any advice is appreciated. Thanks!   TL;DR: if anyone has any experience with the BS/MS program, getting an EECS Minor, or the Segal Design Certificate, let me know your thoughts and if you’d recommend them!  <eos> ', \"<bos> I'm currently in my 6th semester at UC Berkeley (civil and environmental engineering) and have been struggling for a while. I don't mesh well with the school, 500 person classes, and have had some extremely stressful and negative experiences here. I originally chose Cal over NU back in 2011 and have been regretting that decision for a while. I'm going to talk to the transfers office, but does anyone have experience or know of other students who have transferred during their junior year? If I were to transfer, I'd still spend a full two years at NU despite being ~3 years into undergrad. Also, what's your best/worst experience at NU (academic, social, anything)? TLDR: Junior at Cal, my experience here is extremely negative, is it too late to transfer to NU? <eos> \", \"<bos> For next year, obviously, but does anyone know if graduate students can register for NUDM and participate? I can't seem to find registration requirements anywhere, but I could be looking in the wrong place.  <eos> \", '<bos> Found the best. Go UNorthwestern! Also... NUEnts??? <eos> ', \"<bos> I'm a senior so I feel like I should know this by now, but where's the cheapest place to get an NU hoodie? The campus store? Beck's? That store in Evanston? <eos> \", \"<bos> I'm a prospective law student and plan to visit campus soon. I'm looking for advice on choosing a class or two to sit in on. I'm looking for a 1L required course on a Monday, Tuesday, or Wednesday (when I'll be in town). The advice I seek is more on the professors... I kind of want to find a professor who does intense cold calling, since that's not an environment I've ever really been in. Any advice is appreciated! <eos> \", '<bos> it may sting, but the world isn’t going to end. <eos> ', \"<bos> I was hoping that I could get some suggestions for which residence hall/college/community I should choose for next year. I am majoring in chemical engineering, so I am looking for dorms on the north side of campus. I'm not the most social and I don't foresee myself going to many parties, but I'd like to push myself to be as social as possible, especially during my first year. These are my top choices so far: Elder - I like that it is all freshman and I've heard that the social atmosphere is great. I am not a partier, however, so this might be a problem. From what I've heard, the rooms and bathrooms don't aren't the nicest. Ayers (CCI) - The rooms are supposed to be fairly large and I've heard that some of them have a view of the lake, which would be wonderful. It's also close to Tech and to the gym, which is nice. It seems to be fairly social, though not as much as Elder. Slivka - I've heard that the rooms here are the nicest on North Campus. There are private bathrooms, which is a definite benefit. It would also be nice to have more resources for engineering. However, I'm not sure that I want to be surrounded almost entirely by engineers, and this dorm does not seem to be the most social. CCS - the rooms themselves seem to be nice, and it seems like being in such a small dorm would create a strong sense of community. It might be hard to branch out to meet others, though. Any suggestions? <eos> \", \"<bos> Hey guys i'm coming to NU this fall as a freshmen (going in undecided). I have a few quick questions about the school. I'm interested in going into either a science or engineering and wondering with the whole B.A vs B.S diplomas. I'm also interested in doing a study abroad program in Europe which would require me to take a language during college to prep me for that. So my questions are: 1. What are the main differences between a BA and BS program in a science like physics? Is it also easy to transfer from one to another?  2. If I choose to do a BS I'm assuming the schedule and classes would be a lot more rigourous? Would that allow me to still be able to study a language or is that not possible.  3. Is it common that people who are pursuing a BS in a science also able to take up a minor in something such as music? (while also being able to study a language if possible) I know that with a BA that the classes you can take are much more broad and give you that option i was just wondering if i choose to have a BS it would still give me that option If there's any other advice you guys could give me that would be very appreciated! Thanks!!! Can't wait to come this fall.  <eos> \", \"<bos> Could someone give a bit of information about each of the major fraternities and sororities on campus? (I mostly care about the fraternities, but thought both might as well be in the same place incase anyone else comes looking). For example: ABC is full of douche bags and all they they care about is getting hammered. XYZ is pretty chill, they party but they're also pretty smart, cool guys. Something along those lines would be superbly helpful.  Thanks! <eos> \", \"<bos> Hi everyone!  I am a transfer student that didn't commit until June 24th because (despite my repeated asking and checking in) I did not receive an FA package until the 23rd. Since I hadn't even received my financial aid package until long after the housing app was due, I am looking into off campus housing. I also emailed housing to see if I can still submit the application, but I also wouldn't mind saving the money at an off-campus apt. However, I have no idea where to look. Where do you all go to find housing, and are they any leases / open rooms still available this late? <eos> \", '<bos> If I am applying ED, does NW get my first quarter grades or do they just use first 3 years of high school? The website looks like you only send senior grades if applying RD, but I’m not sure. It would take pressure off of me bc I’m worried I may get a B in English this first quarter. <eos> ', \"<bos> Hey guys! So I was recently accepted as a transfer to McCormick. I'm interested in pursuing pharmaceutics and cancer research. I was wondering how tough it is to find a research lab position and engage in research-related clubs such as iGEM. I'm currently at a University of Washington which is a big public research university with tons of oppotunities especailly with the medical center next door but I'm not sure how the environment is at a smaller private university. This is probably my main concern for transferring. Any advice is appreciated!!! <eos> \", \"<bos> Hey guys! I'm assuming most of the users here are either students or graduates. I'm currently a senior in high school and Northwestern is the last application I am waiting on for good news and every day I get more and more excited about the school. I just want to ask you some questions about the school. What do you like most about it? What do you dislike the most about it? How are the residential colleges, for anybody living in one? how bad does the weather actually get? I know its a challenging school, but how often do kids complain about the classes? (some kids from other schools i have visited talk about how challenging their classes are, but i haven't heard anything about NU.) Is it worth the expensive sticker price? Thanks guys, maybe i'll ask some later. Also, saved my first post for you guys!  <eos> \", '<bos> Hello! Prospective student here, surveying colleges for a nerdy spreadsheet I am making. I would like your collective opinion on the above! (note, I would prefer tangible classes, not \"easy\"). Reply or don\\'t, it makes my life easier if you do though. <eos> ', \"<bos> I'm hoping to come up for the Michigan basketball game tomorrow, but tickets are going for $35 on the official site and there's no secondary market for the game. Do people often scalp tickets for basketball games? Like if I came by with $20 cash would I be able to pick up a ticket? Secondarily, if I was with a group of people but we had tickets in different sections, could we still sit together or do staff enforce seat assignments? Thanks! <eos> \", '<bos> I ask because it seems as though the acceptance rate is much higher than the rest of Northwestern. Is it just there as a money maker? What does the rest of Northwestern think of it these days? However you feel, I would be grateful for an elaborate answer since there is little to be found online like acceptance rate, advice etc. <eos> ', \"<bos> I'm a prospective student and I was just curious about some of your favorite classes and what made it so.  <eos> \", '<bos> I am interested in pursuing my Masters of Product Design at Northwestern. I would have to be a part time student, over two years as I will be employed in the Chicago area. Anyone in the program now or anyone who has completed while working? Any thoughts on the program as a whole? ! <eos> ', '<bos> Hi, sorry for another one of these posts, but just wondering about the best housing option for me if I’m a transfer junior Econ major? I see that residential colleges are more social than the halls? Which ones are more modern, have a gym inside, or are close to a dining hall? Also prefer there to be more upperclassmen than freshmen. Thanks. <eos> ', \"<bos> NU alums! To my surprise, it turns out the 9/29 NU vs University of Michigan football individual tickets are sold out! Do any of you happen have a single or season ticket that you can no longer use? I'm aware there are some on secondary ticket sites, but trying to avoid the upcharge and fees.  <eos> \", '<bos> How competitive is the communications program?  <eos> ', \"<bos> I've been thinking about the push by various student leaders to leave the Rock as is for the next week and a half. I'm not convinced this is the best thing to do for our community. It halts a NU tradition when we need to feel like a community the most. What say you? Is this a good, respectful move? Or does this fly in the face about what it means to be at Northwestern? <eos> \", \"<bos> We can make this page a lot better. Where's the purple? And we need a watermark of NU's logo. Also, let's change up the reddit alien's head with Willie the Wildcat. Moderators, do you hear me? I will do it all myself if you'll let me! Also, how do I add my year and major? <eos> \", \"<bos> Hey!  I'm going to be joining McCormick this year for mechanical engineering and I'm not really sure what laptop to get. My first choice is the new 2018 MacBook pro as its fast (6 core processing and 16 gb of RAM), light and easy to use, even if I need to download windows software on to it. My second choice is the surface book 2, which has touch screen capabilities, 1060 nvidia graphics, and has windows.  I personally don't want gaming laptops cause they're big and have a short battery life.  Which one would be better for the next four years? <eos> \", \"<bos> To all new students: Congratulations, and welcome to the community! To help in the sometimes-daunting transition into a new school, I've created this thread for any and all questions about Northwestern life for all new students. In addition to asking here, you may also find additional helpful resources in the sidebar. **Unrelated Mod's Note:** Hello! I will be your new moderator for the foreseeable future. I'm a third-year undergrad in McCormick, double majoring in Mechanical and Manufacturing and Design Engineering. If you have any questions or concerns about the change in moderatorship, feel free to shoot me a PM. <eos> \", \"<bos> Hi. Looking for other folks who might want to play eurogames once a week or so. There are two extant and very successful general groups, one in Evanston (every other Sunday afternoon at Panera Bread) and one in the city that has meetings everywhere -- most often at Mystic Celt in Wrigleyville, but... I just can't get enough. Anyone interested? Will play almost anything, even Catan. ;)  <eos> \", \"<bos> I was wondering of I'll need a student ID to get into the hall. I've been waiting for the day I could meet damien for 10 years now, and don't want to lose that chance cuz I'm not enrolled at NW. Can I just walk in, like a normal college? Or are they tight on security? <eos> \", \"<bos> **PRE-RESTAURANT-WEEK MEETUP @ BLACKBIRD** Details: ***When?***  Monday, January 30, 2012, 11:30am-1:00pm (or so) ***Where?*** [Blackbird]([url link] [619 W Randolph St Chicago, IL 60606 Neighborhood: Near West Side]([url link] ***How to get there?*** Davis St. Metra UP-N (10:45am) arrives at Chicago OTC at 11:25, which is 3 blocks away from Blackbird. Fare for one-way is $3.50. You can take CTA if you prefer, but it's more convoluted and takes 30 extra minutes. Similarly, you can drive there, too, but unless you have a few passengers willing to pitch in for gas/parking, it may not be worth it. --- If you're interested in eating at [Blackbird]([url link] (operated by [Paul Kahan]([url link] for their [$22 Prix Fixe menu]([url link] RSVP in this thread **BY WEDNESDAY, JANUARY 25 @ 12:00PM (NOON)**.  ~~I will cap the seating at 8 people. I've been to Blackbird before, and more than 8 will be pushing it in terms of capacity.~~ I have made a reservation. Please PM me directly if you want to join us. --- RSVPed: * Behavioral * alex9001 * Caitlionator * interro <eos> \", '<bos> What should I know about the club? Right now I just know that NU has club rugby, so any info is appreciated. <eos> ', '<bos> I am looking at either a MacBook or iPad? Would these work? What do most people use? <eos> ', \"<bos> I applied to NU as a HS student last year and was denied and went to Purdue instead. I'm currently a first semester Freshman in Computer Science here, but my heart still belongs to NU. I was hoping to transfer, and was wondering if my chances are better as a transfer vs. as a HS student.  My current GPA is unknown (obviously havent finished any classes yet), but I'm fairly sure I will get a minimum of 3.5 GPA. My ACT score w/ writing was 33. What do you guys think? edit: I've looked at the [transfer application]([url link] and I know to do all that next Fall, but I was just wondering how this compares to anyone else who has transferred/is attending <eos> \", '<bos> I thought this would be helpful to anyone that has questions about CAs on campus, CA culture, or the NU judicial system in general.  <eos> ', '<bos> Are they are any undergrads here who have been inside the Proteamics Core facility or any other facilities at the Chemistry of Life Processes Institute? How is it? Are student allowed to get involved in research projects there? I heard there was a top down proteamics capability so that you can isolate and study individual proteins directly. How does it work?  <eos> ', \"<bos> I'm in Journalism 201-1 right now, and my current assignment is to write a profile on someone. Is there anyone on campus that you guys think would be worth writing about? <eos> \", '<bos> Why are there 270 options listed on CAESAR? Some of them have profs; some only have “Staff.” Incoming transfer here, what do I do with this?  <eos> ', '<bos> How much would a 2,3 affect my chance of admission?  <eos> ', '<bos> So I am considering northwestern and got into the dual degree program for biomed engineering at mccormick and communication studies at their communication school. i heard their engineering is super stressful and im a little nervous about it. i also got into ucla/ ucberkeley and not sure if those schools would be any easier. sigh any feedback would help <eos> ', \"<bos> Hey y'all awesome Northwestern Redditors, Figured I'd get a better response here than on a Facebook group -- any avid DotA 2 players here at Northwestern? I'm interested in playing more among a team setting.  **EDIT**: Ok, I made a channel and just called it Northwestern. See if you can join.  Also, add me on Steam:  Current Display Name: aspin  Steam ID: tsunami70875 **EDIT 2**: Alright, made a group too: [Northwestern DotA 2]([url link] <eos> \", \"<bos> Hello! I am applying as a transfer student to Weinberg, but I am actually already a student at Northwestern through SPS. I was working for a few years as a professional artist which is why I originally applied to SPS, but due to injury I have retired and would like to pursue my degree full time. I would like to transfer to Weinberg since they offer a wider range of degrees and classes than SPS. I guess I am wondering if anyone has gone through a similar process? Is there anything I should expect? Will my application be given different considerations given that I am an interschool transfer? I currently have a 3.85GPA, am taking courses through Weinberg by petition to show that I am capable, and all of my recommendations are from Northwestern professors (31ACT in case that's relevant). Any thoughts or relevant experiences are appreciated!  <eos> \", '<bos> I’m guessing most of the readers in this sub are current or prospective students, but I have a question for NU staff members. Do you enjoy working at NU?  I’m guessing this will vary greatly depending on the department and boss. I’m starting a job as a staff member in the fall and was curious how others enjoyed it. I will be on the medical campus. It sounds like a great place to work but I wanted to hear from others.  <eos> ', \"<bos> Hey I'll be coming go northwestern McCormick school of engineering for full time masters. Does anyone know if it's worth it to live in the graduate living or should I just look for something off campus in evanston? I'm concerned about money but also worried I'll be missing out if i don't live in graduate housing <eos> \", \"<bos> I'm going to be in Chicago for my birthday coming up on the weekend of the 24th and would like to get tickets for the Nebraska - Northwestern game while I'm in town. Is there a place I should be looking in particular or should I stick with craigslist?  <eos> \", \"<bos> I don't know much about housing on campus, but I do know that I'd prefer not to have a roommate next year. Be it res college or dorm, where would I have the best chances of snagging a single? Thanks in advance for any input! <eos> \", \"<bos> I'm looking to double major in Computer Science and Radio/Film/Television, do I need to indicate this in some way on my Common Application when applying for a specific school? Thanks to anyone who can help. <eos> \", \"<bos> Hey, So I've recently committed to Northwestern and was wondering about where I might find some private study rooms on campus. I like to livestream on Twitch, but I'm worried about bugging my roommate since I generally do it rather early in the morning. I therefore am hoping to find some sort of space where I can stream without disturbing anyone (or being disturbed myself). I know that Shepard has a few private rooms available, but do any of the other residential buildings? I also saw that the main library has some, but they seemed to be mainly for groups of two or more. Any suggestions? <eos> \", '<bos> Already pretty psyched about it. Would be even more psyched if I found out some NU kids were going.  <eos> ', \"<bos> Hi, a friend will be joining NU's Medill School this fall. Having found an apartment at 1311 Chicago Avenue, Evanston. Can anyone here please review the building from their personal experience? Is the place popular with other graduates? Are there any grocery stores nearby? Also, at $925 excluding utilities, is it a good deal or can we find something cheaper? Any feedback would be much appreciated! <eos> \", '<bos> Like when are students given apparel and other stuff? I heard Morty gives a lot of free shirts out.  <eos> ', '<bos> There has been some recent debate as to Bienen students being allowed to practice in the designated practice areas in Shepard Residential College, and I wanted to open up the discussion on the northwestern subreddit.  <eos> ', \"<bos> Hey guys, I'm currently a freshman engineer at Cornell and am reconsidering my life given that I only ever considered Cornell or Carnegie Mellon before. My parents gave me a radius, so I never looked at NU before (I live in the North East), but it seems pretty cool. I might be interested in doing Engineering+Music, as I'm very musically inclined, I'm thinking mechanical or environmental. From college, I was hoping to go somewhere that I admire most other people around me, and I don't know if the grass really is greener in that sense because I haven't yet met the superstars I met at high school music/leadership conferences. I'd appreciate any help in regards to being an engineer, knowing anything comparing NU to Cornell, or the Music + engineering, or if my situation is relatable and you have feedback. Thanks! <eos> \", '<bos> Any NW students near downtown looking to sublease a parking spot for the summer-working at Davis and Benson so should be within 3 blocks <eos> ', \"<bos> Hi so I'm going to be a freshman in Bienen. I was wondering about the music theory placement exam and whether or not I should study for it. If I was placed into a lower class, would that mean that I would have to take more classes than those who placed higher? Or are we just required to earn a certain number of credits at any level and just be done? Thanks!!  <eos> \", \"<bos> I've seen some posts of college confidential of people who have been accepted for 2017, I'm pretty sure they're not for ED. If they have how to I see, I was under the impression I would have gotten an email. Thanks. <eos> \", \"<bos> Hi, I just toured NU, but now I have some questions which weren't really answered on the tour. 1. How hard are the classes? My tour emphasized how the quarter system increases flexibility, but sort of skimmed over how difficult the classes themselves were. 2. How are the new dorms? We didn't go inside the residence halls, but my tour guide said that the dorms were all just renovated and that they're really nice now. 3. How big is Greek life there? Will I feel left out if I don't join or don't want to party? 4. Obviously most of NU's programs are going to be very strong, but are there any programs that are weak or at least not as strong as others? I plan on majoring in math, CS, physics, or engineering (actually part of the reason that I liked NU is because of the flexibility). 5. How long is the shuttle ride to Chicago? 6. Would you describe it as more collaborative or competitive? And how is the stress culture? 7. How is the food, both on and off campus? The tour guide said Evanston has great food and that NU's food is ranked like number 5 in the country, but I didn't actually get to try it. 8. Why did you end up picking NU?  9. Did you apply ED or RD, and why? What did you do in high school? And what were your top colleges before you went to NU? Also, if there's anything else you think I should know, please tell me! NU actually wasn't that high on the list of colleges I wanted to apply to before I came and visited, but now that I've seen it, I actually really like it. <eos> \", '<bos> As a prospective student looking to get a feel of the university, what is your favorite place or food to eat on campus? Can be specific, broad, anything in between. Also, what foods are chicago/evanston famous for?  <eos> ', '<bos> Hey so i am not a student but I plan to apply however i am just curious about the quarter system that northwestern uses. I have heard some conflicting comments about it like how its the worst but then some other people would say its the best.  so my question is what are your opinions on the quarter system and also a more specific question does it allow you to double major easier tl;dr what are your opinions on the quarter system and does it help you to double major if you want to <eos> ', '<bos> Trying to find out more if there are any tailgating lots that allow you to overnight park. Do any of the tailgating lots allow this? I called the NW athletic department and the individual I spoke with told me there is no overnight parking anywhere at NW for games. I find this hard to believe, as I have tailgated at many schools and have not found this to be the case. Any information you can provide would be awesome! <eos> ', \"<bos> Hey. I'm a prospective student and I just got an e-mail that invited me for an alumni interview in my area (Europe). Now, I've never had any sort of interview before, but I feel like I understand general etiquette fairly well so that's not an issue. Is there anything specific to Northwestern I should be aware about? Any key things I should research and mention? For reference, I'll be applying as an Economics major. Thanks for the help! <eos> \", '<bos> I have been given the gracious opportunity to attend NU starting this coming Fall. I have some timely questions I wanted to ask to the NU Reddit community. Regardless of discipline, I\\'d love to hear from anyone!  As someone that\\'s been accustomed to the semester system, how is the quarter really like for most of you? I\\'m aware of its pros/cons. Is the dread/stress/system really that bad? Are the benefits of being able to take more classes a bit overstated or worth it? I hear that 4 classes per quarter is the norm though I heard most resort to 3 in actuality. Would this experience perhaps differ across disciplines or is the dread/stress consistent throughout? As a possible incoming Weinberg student, I intend on double majoring in Global Health and Sociology with the medical/health concentration. I figure that the quarter system may be relatively rougher for STEM but just wanted to hear from you guys.  With the Spring quarter possibly conflicting with summer internships or even a summer semester at a different institution, are there ways to perhaps reschedule a final(s) to be a tad bit earlier? Particularly for Weinberg students? Or do professors have no control and it\\'s really only by university policy? Even from glazing through the NU website, I\\'ve heard contrasting things. Some from \"real talk.\" In addition to the quarter experience for the social sciences/public health kiddos, i\\'d love to hear more about your experiences and perhaps unheard perks/niches from any student that is studying in these particular disciplines! Though I\\'m a premed student, I\\'ve done most of my prereqs coming into NU so I intend on solely focusing on these courses til potential graduation if I choose to come here. I\\'m torn between transferring to either Northwestern or Emory so I\\'m going down to the smallest details.  Sorry for the long wall of text. Thanks guys! <eos> ', '<bos> My offer letter says \"As a full-time registered graduate student at Northwestern, you will be eligible to receive a full health insurance subsidy.\" On the health insurance website, it says \"The university plan premium for 2015-16 is $3,692.\" Does the \"full subsidy\" cover the $3,692, or will I need to pay that out of my fellowship? In addition, would it cover things like the annual deductible? Finally, how have you found the health plan, in general? <eos> ', \"<bos> I'm applying to a labs as a potential post-doc. Had interviews that went well and I'm invited back for further interviewing and meeting teams in person. I'm trying to get an idea of what a standard salary is for post-docs at NU before I get an offer... before I *hopefully* get an offer. I'm not looking to make crazy amounts of money as a post-doc, but just want to make sure offers I'm receiving are fair. Obviously, there will be some variation depending on my prior experience and what lab and department I'm joining. I'm going to join labs in the NU Feinberg School of Medicine (at least with all the labs I'm interviewing with currently) in case that makes a difference. If anyone can give me an idea of a standard post-doc salary, I would appreciate it. Thanks. <eos> \", '<bos> I have an alumni interview for NU ED soon. Does anyone know what I can expect or remember what questions they might ask? Any other tips? Thanks  <eos> ', '<bos> Would it be better for me to try to get a 5 on a language AP and not take a language at NU, or should I try taking language classes? I’m an incoming freshman, and I’m currently not taking a language (I finished Spanish sophomore year of high school) so it would be quite a bit of self-study. Also, how many years (or quarters?) would I have to take a language course? Are the language classes at NU very difficult? Thank you! <eos> ', '<bos> So final grades came in and sadly my GPA is a 2.8. I worked super hard this quarter and it sucks to see that my grades took such a hit. Is there hope for me to bring my GPA up this year? I was hoping to land an internship or research position in the near future... did I just lose my chance? <eos> ', \"<bos> What are some NU-themed items that make good gifts for family members that are available at the bookstore in Norris or at Beck's? Trying to do some shopping before I get home. <eos> \", \"<bos> Hello! I'm an upcoming freshman currently looking for places to live on South Campus. I'm sure Allison, Shepard Hall, and 1838 Chicago are going to be my top three choices, but I don't know how I should rank them. Could people give me some pros and cons of living in each so I get a better idea of how to rank the three? Thank you in advance! <eos> \", '<bos> If you\\'re taking Euro Civ, you may need a book called *The West: Encounters and Transformations* by Levack, Muir, and Veldman. I took it with Professor Petrovsky-Shtern, and he special ordered a textbook that has \"Custom Edition for Northwestern University\" printed at the bottom of the front cover. It is chapters 9 - 19 of Volume 1 of the full text. Since it\\'s a custom order, you\\'ll probably be forced to buy it at Beck\\'s/Norris. My copy has some highlighting in it, and I will give it to you in exchange for a chai latte. <eos> ', \"<bos> [url link] Hey Northwestern peeps, I have two friends who would love to make a team for this event, but we need two more members for our team. We're not super cereal about winning or anything; we're just doing this to say we competed in collegiate esports. We won't demand a massive commitment or anything, but if anybody else thinks this looks like fun and wants to try their hand at it, they should message me. Or make their own team. But that would hurt my feelings. <eos> \", '<bos> I applied for MFA in Documentary film, and am still waiting on an update... Is anyone else in the same boat as me? UPDATE: I got in! <eos> ', '<bos> Hey everyone! Excited to be visiting the beautiful (supposedly) campus in person, but unfortunately the STEM tours are full, and as a prospective stem student this is a bit of a bummer.  The school site says:  \"This tour highlights STEM facilities, research resources, pre-professional opportunities for STEM majors, and STEM-focused student organizations.\"  But what specifically would I miss? Hoping someone who has visited, or a current student, could provide some insight.  Thanks guys! <eos> ', \"<bos> Did anyone with particularly unique circumstances receive much guidance from FAR's? I have a potentially crucial circumstance (PM if interested) that might make Northwestern out of the question, even though it is my top choice. What are the odds that they will go out of their way to help me? <eos> \", '<bos> Have any current/past Northwesterners made the commute to the Evanston campus every day from a place in Chicago? What was it like? Were you happy? What made you choose to get a place in the city? Pros and cons? Sorry for all the questions! <eos> ', '<bos> I was just wondering if anyone had been through the program. If so, what has your experience with it been? Worth it? Anything helps!! <eos> ', \"<bos> Senior who is applying to NU here.  I love the idea of the Residential colleges and the great academic environment, but I can't help but wonder if I'll be surrounded by people who aren't super social and a bit too bookish/nerdy. I am perfectly fine with these people (in fact I probably am one myself), but in college I want to branch out a bit more and go to more parties/have that quintessential college experience. Do you know anyone in an RC or are you someone in one? What's their/your take on it? PS The ones i'm interested in are: ISRC, CCS, Shepard RC, and PARC. <eos> \", '<bos> Hey everyone, I still haven\\'t found a place to live (panicking a little) and I\\'m looking to sublease but I tried to join the Northwestern Housing facebook group but it says that \"you don\\'t have permission to join this group\". I joined the Northwestern facebook group using my NetID without any problems. Does anyone know what\\'s going on? Also, if you know someone who\\'s looking to sublease starting this fall semester, please let me know. I\\'m getting nervous. Thanks  <eos> ', \"<bos> Joining this fall, I know NU has it's prestigious Bienen school but I'm asking about like the semi casual rock band sort of thing. I play the drums and as gruelling as the coursework is, I don't intent on letting that part of me go stale.  Also if anyone needs a drummer let me know, I'm down with pretty much anything except death core or grind core or (insert genre here) core <eos> \", '<bos> The rock? Weber Arch? <eos> ', '<bos> Hello, I will be attending NU for grad school in September. Grad housing application opened April 3rd at 9:00 am central time. I just submitted my housing application about an hour ago on April 5th at 2:00 central time. I a, trying to get into Garrett House but I saw on some threads that Garrett is hard to get into. Do you think I’ll be able to get into Garrett Place housing? And which is best, north, south, east, or west Garrett? Thank you for your help.  <eos> ', \"<bos> I know how the quarter system basically functions, but what are some other aspects of it that aren't usually brought up? How exactly do midterms and finals work? Would you favor it over a semester schedule? <eos> \", \"<bos> Hello! So my husband had booked a Norshore cab ( for 5 am) for his 7 am flight to San Diego and the cab didn't show up until 6 am! Needless to say, he missed his flight and he's on his way home now. My question is: How do you travel to the airport NU? Edit: From Evanston <eos> \", '<bos>  Statement from President Schapiro regarding graffiti in Millar Chapel On behalf of the entire Northwestern community, I express our shock and dismay at the abhorrent act of vandalism committed last night in Alice Millar Chapel in which racist, anti-Semitic, homophobic and other offensive graffiti was spray-painted on walls, offices and even the organ.  The investigation by University Police has determined that there is no immediate danger to any specific individual or to the larger campus community. Police are reviewing video of the incident and searching for those responsible. Once the perpetrators are identified, they will be arrested and charged to the fullest extent of the law.  Northwestern is committed to creating a safe, secure and welcoming environment for all of our students, faculty and staff. This disgusting act of hatred violates the deepest values and core commitments of our University and is an affront to us all.  <eos> ', '<bos> Anyone know what was going on? <eos> ', '<bos> Which major would be better for someone with a lower math ACT score, and what are the differences? Thank you.  <eos> ', '<bos> Is anyone in the master of science in analytics program? I would love to hear more about it. Anything would be great :)   <eos> ', '<bos> Hi, this post is geared towards NU students. In my essay I talked about visiting campus and being very impressed by the \"workshops\" in McCormick (I\\'m referring to the rooms with lots of equipment open for students to use to construct things and work on their own projects). However, I visited lots of campuses along with NU last summer and I can\\'t remember if it was actually NU that had these. Could someone confirm or deny if McCormick really has these rooms available for their engineering undergrads? If so, is there a better, more specific way of describing them than \"workshops?\" Thank you so much for the help and happy new years! <eos> ', \"<bos> Hey Big Ten friends, The University of Illinois at Urbana-Champaign is hosting a brand new hackathon called [HackIllinois]([url link] on April 11th-13th, and we want NU to attend! We know that Northwestern already has HackNU, so we know that there's a big interest in hacking on campus!  In case you don't know, hacking is an opportunity to create anything you want: mobile apps, web apps, hardware projects, etc! For 36 hours at UIUC, we want computer scientists and engineers to join us.  Put your .edu email into [hackillinois.org]([url link] and RSVP to our [Facebook event]([url link] to sign up! If there's enough people from NU, we can charter a free bus for you guys. <eos> \", \"<bos> So I'm an incoming graduate student that won't have health insurance covered through my parents plan, consequently I was looking for cheap health insurance alternatives that meet NU's waiver requirements. I'm located in California, so the current health insurance I have isn't valid per NU's waiver requirements, and was hoping for some suggestions. <eos> \", '<bos> Not trying to be creepy, just curious :) <eos> ', '<bos> Hi, I had a question for the alumni of the subreddit (even better if you were a Mccormick student). How helpful has the alumni network been for job placement and other opportunities? Do you find that the Northwestern name helps that much? Thanks. <eos> ', \"<bos> Hey guys.  I'm majoring in econ and was first wondering if it would be wise to take intro to macro/intro to micro again if i took them in HS and scored 5s on both AP exams. I took macro/micro in junior year so I feel like I forgot a bit. How hard do you think the classes would be for me? Also any tips on the classes or suggestions on which profs to take them with? Also are there any interesting distros you guys would recommend? Any classes to avoid? Thanks!! <eos> \", '<bos> anyone on here know or have any friends who know how hard the sailing team is to make. they said no experience required, and i know very little about sailing. what should i expect? <eos> ', '<bos> Hey all, going to NU this coming fall and was looking to set up internet- what company do you recommend/would say to avoid? Thanks! <eos> ', \"<bos> Hey guys! I'm a high school senior from Sweden who's thinking about applying to Northwestern. I plan to major in Industrial Engineering, but I have a few questions. 1. How manageable is IE? I'm not really a big fan of maths, but I don't hate it either.  2. What's the social life like as an engineer student? Do you really have to study all the time?  3. What are the students at McCormick like? Do they tend to just focus on school or do they participate in other activities as well? 3. Chicago is one of the reasons I'm interested in NU. How often do you usually go there to go to parties, concerts, bars etc? 4. As an international student, will I get into the social scene as easy as the American freshmen do?  5. What is your overall experience at Northwestern? Thankful for any answers! <eos> \", \"<bos> I was admitted last month (so happy) and want to know more about Northwestern's food situation. What is your opinion on the food overall? Is there a lot of variety so it doesnt get too boring? How healthy/fresh is it? What are some of your favorite things about the food? Least favorite? Best dining halls? Any other comments? Thank you so much!! <eos> \", \"<bos> Does the northwestern debt cap scholarship a guarantee that NOBODY will graduate with over $20,000 in debt? I'm confused from the description if it's only awarded to certain people who will graduate with $20,000 debt or ALL of people who will. I've read it many times and searched all over online but I'm still unsure. Thank you Edit: also capping federal loans? Does that mean that the $20,000 figure excludes private loans? [link to scholarship info]([url link] <eos> \", \"<bos> How social are 1838 Chicago and Shepard Hall? Is 1838 Chicago's community comparable to Elder's, or is it worse? <eos> \", '<bos> Coming to visit for a football game this fall, and wondering what the tailgate scene might be like for a visitor? Best place to stay? Any help appreciated! <eos> ', '<bos> Hey Guys, My November 4th got taken up by another commitment. Does anybody need or know anyone in need of a ticket for the show?  <eos> ', \"<bos> I'm wondering whether I should buy a tshirt and hoodie. <eos> \", '<bos> This may seem as somewhat of a vague question, but how does NU foster diversity inside and outside of the classroom? If looking for certain things to put into my \"Why Northwestern\" essay about how diversity is part of NU\\'s culture.  <eos> ', '<bos> Ok I know that we\\'re not exactly the best in the conference and that we\\'re the only private school in the Big Ten, but these past three games, the student section has been depressing. Even as we were coming off a huge win against Nebraska, there were still empty seats everywhere against Rice and Minnesota. Basically, why aren\\'t students showing up to our games? Also, I\\'m using \"important\" in the title for lack of a better word. <eos> ', '<bos> Does anyone know if Northwestern happens to have a map of how many students they’ve admitted from each state? I’ve seen it for other schools.  <eos> ', \"<bos> Hi all, I'm a prospective McCormick student and I am having some serious decision anxiety about colleges right now. I visited northwestern during wildcat days and liked the campus, but I didn't get a chance to talk with any students. This may be strange, but are there any Wildcats that would be willing to discuss the school with me? I feel like it would be really beneficial to maybe have a phone conversation or something. If anyone has the time for this please pm me. Thank you all, go cats! (Maybe) <eos> \", '<bos> For those of you who have already graduated from Northwestern undergrad, what is in a final official transcript? Specifically wondering, does your final graduating transcript list out your courses and instructors, grades, and high school SAT/ACT scores? <eos> ', \"<bos> I have this sense that NU students quickly close themselves off after freshman year once they've established their main friend group, whether it's though clubs, greek life, sports, etc. This may be unique to the busy competitive premed culture that dominates my major, neuroscience, or it may be a more global trend for the entire school. How do other majors relate? As a community, how open and proactive do you think we are to continually branch out--especially in a way that embraces diversity?   <eos> \", \"<bos> Hey fellow Wildcats, Has anyone had success connecting an Xbox 360 to the network through sharing a WiFi connection from a laptop through ethernet to the xbox? I've gotten this to work at home, but at NU it never works. My friends have been able to do this with Windows machines, but with my Mac the Xbox always fails when it comes to resolving DNS servers. I've tried setting the DNS to my laptop's IP, googleDNS, and NU's default DNS servers all to no avail. I've also tried making the Xbox's MAC address the same as my computer. I've googled and googled and found no solution to this, help me Reddit, you're my only hope! **Edit:** Internet Connection Sharing sharing. Derp. **Edit 2:** I confirmed with a friend's PC that it works with no call to NUIT. However, I'll call them tomorrow as per jasonhe's suggestion to see if they know anything about why the Mac can't do it and how to get it running. <eos> \", '<bos> interested in non-STEM stuff in particular <eos> ', \"<bos> Hi everyone, I am an incoming chemistry PhD student. My apartment includes 'wireless internet,' but it's MAC address based, 'no online video gaming,' and signs me into a LAN jungle - meaning if I or someone else gets careless with file sharing, anyone can see it. So I'm looking into a wired connection, and have dug up ATT / Comcast. Are there any other options I am missing? Thanks in advance. <eos> \", \"<bos> anyone know the best way to get quarters for laundry on campus? I heard the c-stores/dining halls don't give change <eos> \", '<bos> I was just wondering how the political science program at NU is? pros and cons? I just wanted some info from any current or former NU poli sci majors <eos> ', \"<bos> I'm going to be a freshman this fall, and am looking to get a nice laptop that will last me through all of school. Has anyone had good/bad experiences with specific brands? Do I need a laptop with a dedicated graphics card if I'm an engineering major? Don't really know what sort of specs I should be looking for and don't want to end up buying the wrong $1000+ machine  <eos> \", \"<bos> To all new students: Congratulations, and welcome to the community! To help in the sometimes-daunting transition into a new school, I've created this thread for any and all questions about Northwestern life for all new students. In addition to asking here, you may also find additional helpful resources in the sidebar. To all our returning students: Feel free to chime in with any wisdom you've learned over the years and wished you'd known coming in as a freshman.  <eos> \", \"<bos> I'm pretty sure that I am going to Northwestern next year, and I was wondering if there is much of a gay social presence on campus? I know that the theatre department is large, but outside of theatre (in medill/artssciences) is the lgbt community noticeable? Is the student body tolerant/liberal as a whole/is it easy to find an lgbt community? Also on a tangential-ish question, what North Campus dorms would be the most accepting? Thanks! <eos> \", \"<bos> Asking because it's happened to some people I know, and they're justifiably salty because of it. Has this happened to you or any of your friends? <eos> \", \"<bos> Hi NU redditors, I'm going to be starting this fall and will be living in Chicago. I tried to find out some info online about parking on campus for grad students, but I wasn't able to find any input about ease/difficulty of parking on Campus. I'll be mainly around Swift Hall/Cresap. Anyone have any first hand experience or input? Thanks! <eos> \", '<bos> Hey is anyone here in MMSS? How stressful and difficult is it? Would it be hard to take with only completing BC calc by the end of high school?Could I get in with a 34 math ACT?  <eos> ', \"<bos> Hey everyone, I'm currently finishing my senior year of high school and trying to figure out if I should place out of any classes next year. I will most likely be doing Industrial Engineering. I have scored a 5 on Calc 1, Micro, Macro, and Stat (and hopefully will get a 5 on Physics C Mech, E and M, and Calc 2). Should I place out of as many classes as possible, or should I retake them? Also, is getting a 5 good enough to place out, or will I need to take another placement exam? <eos> \", \"<bos> I really wanted to attend NU, and was ecstatic to be accepted. However, I didn't realize there were no merit based scholarships awarded to students - only need based aid.  My question for all of you Northwestern students and alumni, why do you think it costs so much to go to school there? Was it worth it? It's not too late for me to change my mind about attending. I can afford to go there, but can't really justify it to myself financially.  <eos> \", '<bos> Hey guys! I\\'m an applicant accepted ED. I\\'m wondering these things after reading some comments/posts on this subreddit. I can deal with heavy academics and hard classes, but don\\'t want to be in a bad, stressed out and unhappy environment with people in a bad mood/complaining all the time. I\\'d want to know this, as some users have mentioned these qualities on this subreddit about nu. Also, how hard is it to get a good gpa? (specifically in econ) Finally, do you agree with this comment that really struck me about NU? How could I avoid and recognize the \"toxic environment?\"  I am happy I went to Northwestern, but that stems from my recognition of the toxic environment and taking steps to make sure I don\\'t get sucked into it. As long as you come in realizing that people often get jaded and stressed out at NU and work to combat that, there\\'s plenty of good parts to NU.  <eos> ', \"<bos> Hi there! I'm a college freshman that applied to be a transfer student next fall. I'm going to be in the Chicago area (where i have never been) on monday and tuesday to scope out the city and look around campus. Are there any specific places on or near campus or in the city that you would recommend for me to check out? Any suggestions are welcome! <eos> \", '<bos> I thought I might give this a shot. Where can you find out about summer sublets, other than craigslist or the ridiculously outdated ASG sublet website?  <eos> ', \"<bos> Hi guys, I will be joining Northwestern University this fall as a PhD student in McCormick and I'm just browsing housing options right now. I think for the first year, I would like to live on or very close to campus. I noticed that the university offers graduate housing in the form of apartments. I thought they might be ideal because they are already furnished, utilities are taken care of, and are close to campus. Has anyone ever lived in these places (specifically Engelhart Hall)? Are they worth the price? If not, where should I look for apartments and is anyone looking for a roommate? <eos> \", '<bos> Favorite College Gameday sign. Fucking love it. Go cats! EDIT: Other good ones: \"Urban Liar\" \"THE NorthwesterN University\"  <eos> ', '<bos> As part of my campus visit, I attended the McCormick information session and have lost the business card of the speaker. Does anyone here know who that was? <eos> ', \"<bos> I've never worked at a hotel before so I find it to be pretty interesting here. There were a lot of things I didn't know about the inner workings of a hotel, especially a nicef one like the Orrington. I was really suprised how differently Hilton Honors members aer treated compared to, say, a priceline booking. Also I never realized that the front desk guy has the power to pretty much do anything. Stuff like upgrades, comps, discounts. If we ever say we can't do something 90% of the time we just don't want to. Questions? <eos> \", \"<bos> I'm a rising Junior and I wanted to keep up my piano playing, but I can't seem to find any piano practice rooms without having to sign up for a class. Bienen offers rooms but require you to sign up for either courses or classes and residences seem to reserve them for their own students (which is fair). I wouldn't mind paying a fair rate either (~$10/month preferably). The Music Institute of Chicago goes for $12.50/hr, which I can't really afford. Does anybody have any ideas? <eos> \", \"<bos> Hello! I'm an incoming freshman, an I was wondering if there are any active Dungeons  Dragons or Tabletop Gaming groups at Northwestern. I've always been a huge fan of Tabletop RPGs, and would love to get involved in some campaigns/games at NU! (Also down to meet up with anyone who really likes board games) <eos> \", '<bos> ok educationally? probably. I have gotten accepted into uc berkeley, ucla, and cmu as well but northwestern gives me the most flexibility to pursue my interests (espec given that im not exactly sure what i want to do). But i have questions about social life. How exactly is the social life, \"love\" life, the cliques? How is the indian population at northwestern (im from the bay area so thats a topic of great interest lol)? also how is the social life, \"love\" life, the cliques specifically for indians lmao.. any feedback about social life would be great tbh (pls and thx) <eos> ', \"<bos> Hey all, I'm a junior and my friends and I are embarking on the apartment finding quest. I thought I'd mine the collective wisdom for what worked, what didn't work, what challenges you faced, etc. Thanks! <eos> \", \"<bos> Hi! I've been a skater for several years and want to continue in college. Is there anyone here who participates in NU's skating team? I have some questions and it would be great if you could PM me :)  <eos> \", \"<bos> how competitive are club soccer and basketball? (i'm an incoming freshman) <eos> \", \"<bos> I've been playing around with my Android, and installed CyanogenMod today. It doesn't seem to work with the Northwestern wifi network. Anyone have any luck with this? <eos> \", '<bos> I was wondering if anyone (or knows someone) commutes from Lincoln Park using the purple line. How convenient is it? I will be a graduate student at NU next fall and was looking into the possibility of living with a friend in that area. <eos> ', '<bos> Is it difficult to switch from the engineering school into the college of arts and sciences? Has anyone done this or does anyone know anyone who has internally transferred? <eos> ', '<bos> Search for \"Northwestern groups\" within Facebook. The search result will show a closed group with 20k+ members in sub-groups. To join this closed group, you will need some variant of an @northwestern.edu email address. If this doesn\\'t work, let me know. You\\'ll find the the lifesaving sub-groups of \"Free and For Sale\" and \"Housing\" by searching within the main group. You can also go ahead and join your class\\'s sub-group, too! Good luck in Evanston! <eos> ', \"<bos> Does anyone know if permits are required to park in University lots on Dec 31 and Jan 1 (from around 6pm to noon)? A couple buddies of mine are coming down for NYE and they'd like to park at Engelhart for the night. I found this link ([url link] that says permits are not needed on holidays when the University is closed for business, but I wasn't sure if these two days are included. <eos> \", \"<bos> I'm doing the International Baccalaureate program in high school right now and am heading towards a 6 for standard level Spanish. Would I be able to successfully test out of the language requirement? <eos> \", \"<bos> I'm an incoming freshman and was wondering how the process for applying to clubs works at NU as well as how difficult it is to get into most clubs (friends at other schools say the application process for clubs is pretty tough).  <eos> \", \"<bos> Capital markets (specifically financial valuation) is my biggest passion. Would anyone in the Kellogg Financial Econ Certificate or MMSS be able provide insight into their program? I'd love to learn more about the academic and professional opportunities available. As a prospective student, I'm also curious about student life in general. I'd be happy to converse via PM if preferred. Thank you! <eos> \", \"<bos> Hey NURedditors--graduate student here. The show sold out today, and I wasn't able to buy tickets because of some inane restriction for graduate students to wait until 4/10 (not to mention the difference in price #3232;\\\\_#3232;).  If anybody has extra tickets for this Friday's show, please let me know. I'd really like to go see the Walkmen. <eos> \", \"<bos> Hi Evanstonians! I'm going to be doing a run (a jog really...I'm not very fast) from the city up to Gilson Park in Wilmette. I know I can get water at Clark St. beach, but I'm not aware of any other fountains between there and Gilson. Does anyone know of a public fountain on the Northwestern campus near Sheridan Rd., or perhaps at Lawson Park north of campus? Thanks! <eos> \", \"<bos> Hello! I was admitted to McCormick and will be attending northwestern next fall! :) However, I'm not exactly sure what I want to major in. I applied to engineering but I have no idea why to be honest. Is it a difficult process to transfer to Weinberg if I choose to do so? Also, in 4 years time if I'm interested in consulting or venture capital/pe as a career, are those jobs only accessible as an Econ major? Thank you! <eos> \", \"<bos> Light was flashing red, a woman was turning onto the side street (I think the one just north of Foster) and bam. Front wheel of my bike hit, I'm knocked down. A little frazzled, but fine. Let this be two warnings to you:  don't be an idiot; look out for cars.  and  don't be an idiot, watch for pedestrians/bikers. That's all. <eos> \", \"<bos> I've searched through the student group directory, but haven't seen anything. Does anyone know if there's a student group devoted to calligraphy, cartography, heraldry, and/or illuminations? if not, would any of you be interested in starting such an organization? <eos> \", \"<bos> Hey Wildcats, I'm pumped for today's game, but it starts at 3:30 Central and I'm at work till 5 pm.  Is there any way I can listen to a radio call of the game on my cell phone?  Is there a particular website where I can watch it live?  At the very least is there a good game tracker?  Go Cats! Let's crush Vanderbelt!!! <eos> \", \"<bos> That's right, make me your best offer for a trade. <eos> \", \"<bos> I am currently thinking about transferring to NU. I originally study Statistics at UCSD. When I did the school research, NU's statistics major is great but there is no specific concentration. But the IE major looks exactly what I want, specializing in data analysis.  The problem is that IE is in the engineering school and statistics is in arts and science. If I want to be safe and have a high chance of admission, Which school should I apply? Can people from arts and science participate in the research program offered by the engineering school? <eos> \", \"<bos> Hello! I'm a transfer student who was lucky enough to be admitted to Northwestern on Wednesday--the thing is, I'm missing a lot of information about student life/work load/stress etc. So, if there are any current students out there who are willing to talk with me candidly about their experience, please PM me! <eos> \"]\n"
          ]
        }
      ]
    },
    {
      "cell_type": "markdown",
      "source": [
        "Load the trained model"
      ],
      "metadata": {
        "id": "Wg-Wm88UiQZu"
      }
    },
    {
      "cell_type": "code",
      "source": [
        "model_file_path = \"checkpoints-\" + COLLEGE_SUBREDDIT_NAME"
      ],
      "metadata": {
        "id": "OLkRjKXBnbeD"
      },
      "execution_count": 17,
      "outputs": []
    },
    {
      "cell_type": "code",
      "source": [
        "OUTPUT_DIR = os.path.join(GOOGLE_DRIVE_PATH, model_file_path)\n",
        "model = GPT2LMHeadModel.from_pretrained(OUTPUT_DIR)"
      ],
      "metadata": {
        "id": "qyr53XpvaKHy"
      },
      "execution_count": 18,
      "outputs": []
    },
    {
      "cell_type": "code",
      "source": [
        "tokenizer = GPT2Tokenizer.from_pretrained(\"gpt2\", bos_token = \"<bos>\", eos_token =\"<eos>\", truncation_side='right')\n",
        "tokenizer.add_special_tokens({'pad_token': '[PAD]'})"
      ],
      "metadata": {
        "colab": {
          "base_uri": "https://localhost:8080/",
          "height": 148,
          "referenced_widgets": [
            "da55125325ad4e428ed6bfb15517fea1",
            "d90195d94d3d45a29235387412334453",
            "303aceea50c444e4982b5c09b20d7426",
            "1c3cadf58f154fdcbc31abaaa988d6f4",
            "2813ad24561c484390249880896fd82d",
            "e9a09272d5804f10b0479ecad038f38c",
            "a8d46891c5c54ca1937738aca2fbba3d",
            "892314feca62410589bd2611f9e9c098",
            "f429a9cbde7048c5a7390bc27b2d53e2",
            "6455924796224f8c85f294cb0fac0fce",
            "a657e5813dc0453786c3f56df7d0f1fd",
            "cc5175a99ac84ce2a7e29de5beeef62a",
            "15d0a70f83344d1e853f661faed9e634",
            "9b518029337f4350a1854779c91df918",
            "403574fbdf4d472b94b5b141b093e5b9",
            "250f06fa2a0c47d787dbebf98976e7d7",
            "44d6d124993d49e1b46cfca36d0da112",
            "2314098b280c4706b7bc0ac0885314b3",
            "f65c8e9c0ab64cc8a7cd5eea6a6d3ba4",
            "131555ffff6540cc896fc0d54afcc989",
            "fd693554c159489b9656d7e7e21f3954",
            "d4a131fbab7e4ef199b61f59ad197ebc",
            "02b0527a5dae4e828d72c1b801446f51",
            "5b267ae424004676bf2ac66c25e8f74f",
            "4186ce6c59494bbdbe20a8e55a324512",
            "f38ad77e5a25442b917117447c04dadf",
            "f362a51ad8334a82b77ec5dd5f455c89",
            "1446de27301e42fc8677c4c5d88f868a",
            "a275e2bd5bfc471793576870f9a41471",
            "3aed5e05ff054e1b9d701666c45aed68",
            "c37b79f84d714fa18002aea66fb4ee32",
            "ec24caafcba144d491aae614e13bad94",
            "321e38de0b2d4ddcb4cdd8f04fbef2f2"
          ]
        },
        "id": "jfACU5g9avip",
        "outputId": "55a4ee04-5450-4175-ccda-d8bae6ca8eaa"
      },
      "execution_count": 19,
      "outputs": [
        {
          "output_type": "display_data",
          "data": {
            "text/plain": [
              "Downloading (…)olve/main/vocab.json:   0%|          | 0.00/1.04M [00:00<?, ?B/s]"
            ],
            "application/vnd.jupyter.widget-view+json": {
              "version_major": 2,
              "version_minor": 0,
              "model_id": "da55125325ad4e428ed6bfb15517fea1"
            }
          },
          "metadata": {}
        },
        {
          "output_type": "display_data",
          "data": {
            "text/plain": [
              "Downloading (…)olve/main/merges.txt:   0%|          | 0.00/456k [00:00<?, ?B/s]"
            ],
            "application/vnd.jupyter.widget-view+json": {
              "version_major": 2,
              "version_minor": 0,
              "model_id": "cc5175a99ac84ce2a7e29de5beeef62a"
            }
          },
          "metadata": {}
        },
        {
          "output_type": "display_data",
          "data": {
            "text/plain": [
              "Downloading (…)lve/main/config.json:   0%|          | 0.00/665 [00:00<?, ?B/s]"
            ],
            "application/vnd.jupyter.widget-view+json": {
              "version_major": 2,
              "version_minor": 0,
              "model_id": "02b0527a5dae4e828d72c1b801446f51"
            }
          },
          "metadata": {}
        },
        {
          "output_type": "stream",
          "name": "stderr",
          "text": [
            "Special tokens have been added in the vocabulary, make sure the associated word embeddings are fine-tuned or trained.\n"
          ]
        },
        {
          "output_type": "execute_result",
          "data": {
            "text/plain": [
              "1"
            ]
          },
          "metadata": {},
          "execution_count": 19
        }
      ]
    },
    {
      "cell_type": "markdown",
      "source": [
        "^^^^^^run if needed "
      ],
      "metadata": {
        "id": "uePyenDliSJa"
      }
    },
    {
      "cell_type": "code",
      "source": [
        "#https://colab.research.google.com/github/borisdayma/huggingtweets/blob/master/huggingtweets-demo.ipynb#scrollTo=ZSCf6QyF8AG-\n",
        "# post_in = \"I want to go to hotel management school for rural bed and breakfasts. What experiences or classes should I seek out?\"\n",
        "post_in = \"Hey everyone! For those of you who took BIOMI 2900, or General Microbiology, did you take the discussion? If so, did it help at all? Trying to decide if I should or not. I'm not a microbiology major but I'm in a microbio lab at the moment so some of it does make sense already. Thanks!\"\n",
        "post_with_bos = post_in + \" TL;DR\"\n",
        "encoded_prompt = tokenizer(post_in, return_tensors=\"pt\").input_ids\n",
        "encoded_prompt = encoded_prompt.to(model.device)\n",
        "\n",
        "# prediction\n",
        "output_sequences = model.generate(\n",
        "    input_ids=encoded_prompt,\n",
        "    max_new_tokens=75,\n",
        "    min_new_tokens=10,\n",
        "    temperature=1.,\n",
        "    top_p=0.95,\n",
        "    do_sample=True,\n",
        "    num_return_sequences=3\n",
        ")\n",
        "\n",
        "generated_sequences = []\n",
        "print(len(output_sequences))\n",
        "torch.unique(output_sequences, dim=0)\n",
        "print(len(output_sequences))\n",
        "\n",
        "# decode prediction\n",
        "for generated_sequence_idx, generated_sequence in enumerate(output_sequences):\n",
        "    generated_sequence = generated_sequence.tolist()\n",
        "    text = tokenizer.decode(generated_sequence, clean_up_tokenization_spaces=True, skip_special_tokens=True)\n",
        "    #if not ALLOW_NEW_LINES:\n",
        "        #limit = text.find('\\n')\n",
        "        #text = text[: limit if limit != -1 else None]\n",
        "    generated_sequences.append(text.strip())"
      ],
      "metadata": {
        "colab": {
          "base_uri": "https://localhost:8080/"
        },
        "id": "_t_ZcnZCsxjn",
        "outputId": "e965b8c1-51ed-4f5e-e97a-b11211b94e8d"
      },
      "execution_count": 20,
      "outputs": [
        {
          "output_type": "stream",
          "name": "stderr",
          "text": [
            "The attention mask and the pad token id were not set. As a consequence, you may observe unexpected behavior. Please pass your input's `attention_mask` to obtain reliable results.\n",
            "Setting `pad_token_id` to `eos_token_id`:50256 for open-end generation.\n"
          ]
        },
        {
          "output_type": "stream",
          "name": "stdout",
          "text": [
            "3\n",
            "3\n"
          ]
        }
      ]
    },
    {
      "cell_type": "code",
      "source": [
        "# print(generated_sequences)\n",
        "for sent in generated_sequences:\n",
        "  print(sent.replace(post_in, '').replace('TL;DR', ''))"
      ],
      "metadata": {
        "colab": {
          "base_uri": "https://localhost:8080/"
        },
        "id": "fND2khLQwsmA",
        "outputId": "8309e3c8-482c-4cd2-b2e2-2984e77714ef"
      },
      "execution_count": 21,
      "outputs": [
        {
          "output_type": "stream",
          "name": "stdout",
          "text": [
            "   The professor at NU and I will be using one of my bio-genomics labs as a research topic for next semester and I'm assuming a junior. I was wondering whether I should take the course on Microbiology and Chemistry, which have a lot of similar classes. If I do, I'd like a professor who is a good fit\n",
            "   Sure. You should take the midterm and go right ahead to talk. There are some things you can do to help yourself on your midterm. One of the interesting things that you can do is talk a little more about the subject. One of the things you can do is research. I mean, your senior year and I'm going to be graduating\n",
            "   If you had taken BIOMI 3000, which did you take and if so, how do you know about it? It's hard to know because I would assume that's where you were taking it when you took it. However, my friend who graduated in 2014 from NU credits took the topic seriously as a graduate student so she's obviously\n"
          ]
        }
      ]
    },
    {
      "cell_type": "code",
      "source": [
        "!pip install rouge-score"
      ],
      "metadata": {
        "colab": {
          "base_uri": "https://localhost:8080/"
        },
        "id": "TltloGavzOgt",
        "outputId": "a1f2041e-122b-4edb-c92d-dd87191ea085"
      },
      "execution_count": 22,
      "outputs": [
        {
          "output_type": "stream",
          "name": "stdout",
          "text": [
            "Looking in indexes: https://pypi.org/simple, https://us-python.pkg.dev/colab-wheels/public/simple/\n",
            "Collecting rouge-score\n",
            "  Downloading rouge_score-0.1.2.tar.gz (17 kB)\n",
            "  Preparing metadata (setup.py) ... \u001b[?25l\u001b[?25hdone\n",
            "Requirement already satisfied: absl-py in /usr/local/lib/python3.9/dist-packages (from rouge-score) (1.4.0)\n",
            "Requirement already satisfied: nltk in /usr/local/lib/python3.9/dist-packages (from rouge-score) (3.8.1)\n",
            "Requirement already satisfied: numpy in /usr/local/lib/python3.9/dist-packages (from rouge-score) (1.22.4)\n",
            "Requirement already satisfied: six>=1.14.0 in /usr/local/lib/python3.9/dist-packages (from rouge-score) (1.16.0)\n",
            "Requirement already satisfied: regex>=2021.8.3 in /usr/local/lib/python3.9/dist-packages (from nltk->rouge-score) (2022.10.31)\n",
            "Requirement already satisfied: tqdm in /usr/local/lib/python3.9/dist-packages (from nltk->rouge-score) (4.65.0)\n",
            "Requirement already satisfied: joblib in /usr/local/lib/python3.9/dist-packages (from nltk->rouge-score) (1.2.0)\n",
            "Requirement already satisfied: click in /usr/local/lib/python3.9/dist-packages (from nltk->rouge-score) (8.1.3)\n",
            "Building wheels for collected packages: rouge-score\n",
            "  Building wheel for rouge-score (setup.py) ... \u001b[?25l\u001b[?25hdone\n",
            "  Created wheel for rouge-score: filename=rouge_score-0.1.2-py3-none-any.whl size=24954 sha256=ad5ac9c6ed70b7bf81c8464b7a741d2f6c6301ca9c696f2b86250da966d2355d\n",
            "  Stored in directory: /root/.cache/pip/wheels/9b/3d/39/09558097d3119ca0a4d462df68f22c6f3c1b345ac63a09b86e\n",
            "Successfully built rouge-score\n",
            "Installing collected packages: rouge-score\n",
            "Successfully installed rouge-score-0.1.2\n"
          ]
        }
      ]
    },
    {
      "cell_type": "code",
      "source": [
        "from rouge_score import rouge_scorer\n",
        "from torch import optim\n",
        "from torch.utils.data import Dataset\n",
        "from tqdm import tqdm"
      ],
      "metadata": {
        "id": "kVTtelw3zDRD"
      },
      "execution_count": 23,
      "outputs": []
    },
    {
      "cell_type": "code",
      "source": [
        "# print(post_tensors_data[1])\n",
        "# print(comments_datasets_to_use[1])\n",
        "def validation_generate(post):\n",
        "  # print(post)\n",
        "  # post_with_bos = \"<bos>\" + post + \" TL;DR\"\n",
        "  post_with_bos = post + \" TL;DR\"\n",
        "  encoded_prompt = tokenizer(post_with_bos, return_tensors=\"pt\").input_ids\n",
        "  encoded_prompt = encoded_prompt.to(model.device)\n",
        "  # print(encoded_prompt)\n",
        "\n",
        "  # prediction\n",
        "  output_sequences = model.generate(\n",
        "    input_ids=encoded_prompt,\n",
        "    max_new_tokens=75,\n",
        "    min_new_tokens=10,\n",
        "    temperature=1.,\n",
        "    top_p=0.95,\n",
        "    do_sample=True,\n",
        "    num_return_sequences=1\n",
        "  )\n",
        "    \n",
        "  generated_sequences = []\n",
        "  # decode prediction\n",
        "  for generated_sequence_idx, generated_sequence in enumerate(output_sequences):\n",
        "    generated_sequence = generated_sequence.tolist()\n",
        "    text = tokenizer.decode(generated_sequence, clean_up_tokenization_spaces=True, skip_special_tokens=True)\n",
        "    generated_sequences.append(text.strip())\n",
        "  \n",
        "  # print(generated_sequences)\n",
        "  return generated_sequences"
      ],
      "metadata": {
        "id": "1rWWTu2gy0s4"
      },
      "execution_count": 24,
      "outputs": []
    },
    {
      "cell_type": "code",
      "source": [
        "val_len = len(val_comments)\n",
        "val_dataset = [{} for sub in range(val_len)]\n",
        "\n",
        "for cnt, item in enumerate(val_comments):\n",
        "  val_dataset[cnt]['reference_summary'] = item.replace(\"<bos>\", \"\").replace(\"<eos>\", \"\")\n",
        "\n",
        "\n",
        "print(val_dataset[1]['reference_summary'])"
      ],
      "metadata": {
        "colab": {
          "base_uri": "https://localhost:8080/"
        },
        "id": "lb5a4u0lw4xB",
        "outputId": "2594e584-c0f4-4109-af26-1efcae96eee4"
      },
      "execution_count": 25,
      "outputs": [
        {
          "output_type": "stream",
          "name": "stdout",
          "text": [
            " So the common places people at the med campus seem to live are: -Streeterville ($$$) -Various suburbs, a lot in the western suburbs (probably a long commute, probably going to need to drive, especially if you'll be doing anything in lab at odd times) -Lakeview ($$) -Lincoln Park ($$ to $$$) -Rogers Park ($, long-ish commute, but there's a shuttle stop that takes 20-40 minutes depending on the time of day) -Evanston ($$, long commute, also serviced by the shuttle, but will still take a while) I know a handful of people who live in other places like the south loop, west loop, or Bucktown/Wicker Park area, or Logan Square. Really, movement around Chicago compared to most US cities is pretty agreeable and as a postdoc you will probably have a decent control over your life, so you can live wherever you want. Maybe poke around /r/Chicago for some more info on the city in general. I also don't really agree w/ the post below me. It might be easier to find a broker/real estate agent maybe for your first move in Chicago, but most housing in Chicago happens over Craigslist. It's reliable once you get a feel for what price range you should be looking in for the area/type of apartment you want. It's typically pretty painless and quick to take a look at a unit (just be ready to sign if you like it--also check Bedbugregistry.com on your phone as soon as you know the address, as Chicago has one of the worst problems in the US for bedbugs). Usually you'll want to look up to 1-2 months ahead of when you want to move in (best stuff will typically be 1 month before, but this depends on the time of year you want to move in/out), and just peruse things. This is a lot easier to do once you're already in the city and I *highly* suggest doing it and considering wherever you move in for the first year to be temporary. A relatively safe, relatively nice, cheap (and probably farther out from downtown) neighborhood in one of the two really major public transit tracks of the city (the red line and blue line) like Rogers Park or Logan Square might run you something like 800-1000 for a typical 1br (1000-1400 for a \"luxury\"/high amenities unit), a more middle-priced neighborhood like Lakeview or tracts of Lincoln Park will probably push that limit up around 200-300 dollars. Downtown is sort of a mixed bag. Most of the actual housing stock downtown is pretty nice, but the sizes vary really widely and price seems related to that.  \n"
          ]
        }
      ]
    },
    {
      "cell_type": "code",
      "source": [
        "for cnt, post in enumerate(val_posts):\n",
        "  # print(post)\n",
        "  generated_sequences = validation_generate(post)\n",
        "\n",
        "  for sent in generated_sequences:\n",
        "    sent = sent.replace(post, '').replace('TL;DR', '')\n",
        "    val_dataset[cnt]['generated_text'] = sent\n",
        "    # print(sent)"
      ],
      "metadata": {
        "colab": {
          "base_uri": "https://localhost:8080/"
        },
        "id": "OscEDqyN5Md2",
        "outputId": "c73b06ef-be3a-47e1-ef90-abee5656f632"
      },
      "execution_count": 26,
      "outputs": [
        {
          "output_type": "stream",
          "name": "stderr",
          "text": [
            "The attention mask and the pad token id were not set. As a consequence, you may observe unexpected behavior. Please pass your input's `attention_mask` to obtain reliable results.\n",
            "Setting `pad_token_id` to `eos_token_id`:50256 for open-end generation.\n",
            "The attention mask and the pad token id were not set. As a consequence, you may observe unexpected behavior. Please pass your input's `attention_mask` to obtain reliable results.\n",
            "Setting `pad_token_id` to `eos_token_id`:50256 for open-end generation.\n",
            "The attention mask and the pad token id were not set. As a consequence, you may observe unexpected behavior. Please pass your input's `attention_mask` to obtain reliable results.\n",
            "Setting `pad_token_id` to `eos_token_id`:50256 for open-end generation.\n",
            "The attention mask and the pad token id were not set. As a consequence, you may observe unexpected behavior. Please pass your input's `attention_mask` to obtain reliable results.\n",
            "Setting `pad_token_id` to `eos_token_id`:50256 for open-end generation.\n",
            "The attention mask and the pad token id were not set. As a consequence, you may observe unexpected behavior. Please pass your input's `attention_mask` to obtain reliable results.\n",
            "Setting `pad_token_id` to `eos_token_id`:50256 for open-end generation.\n",
            "The attention mask and the pad token id were not set. As a consequence, you may observe unexpected behavior. Please pass your input's `attention_mask` to obtain reliable results.\n",
            "Setting `pad_token_id` to `eos_token_id`:50256 for open-end generation.\n",
            "The attention mask and the pad token id were not set. As a consequence, you may observe unexpected behavior. Please pass your input's `attention_mask` to obtain reliable results.\n",
            "Setting `pad_token_id` to `eos_token_id`:50256 for open-end generation.\n",
            "The attention mask and the pad token id were not set. As a consequence, you may observe unexpected behavior. Please pass your input's `attention_mask` to obtain reliable results.\n",
            "Setting `pad_token_id` to `eos_token_id`:50256 for open-end generation.\n",
            "The attention mask and the pad token id were not set. As a consequence, you may observe unexpected behavior. Please pass your input's `attention_mask` to obtain reliable results.\n",
            "Setting `pad_token_id` to `eos_token_id`:50256 for open-end generation.\n",
            "The attention mask and the pad token id were not set. As a consequence, you may observe unexpected behavior. Please pass your input's `attention_mask` to obtain reliable results.\n",
            "Setting `pad_token_id` to `eos_token_id`:50256 for open-end generation.\n",
            "The attention mask and the pad token id were not set. As a consequence, you may observe unexpected behavior. Please pass your input's `attention_mask` to obtain reliable results.\n",
            "Setting `pad_token_id` to `eos_token_id`:50256 for open-end generation.\n",
            "The attention mask and the pad token id were not set. As a consequence, you may observe unexpected behavior. Please pass your input's `attention_mask` to obtain reliable results.\n",
            "Setting `pad_token_id` to `eos_token_id`:50256 for open-end generation.\n",
            "The attention mask and the pad token id were not set. As a consequence, you may observe unexpected behavior. Please pass your input's `attention_mask` to obtain reliable results.\n",
            "Setting `pad_token_id` to `eos_token_id`:50256 for open-end generation.\n",
            "The attention mask and the pad token id were not set. As a consequence, you may observe unexpected behavior. Please pass your input's `attention_mask` to obtain reliable results.\n",
            "Setting `pad_token_id` to `eos_token_id`:50256 for open-end generation.\n",
            "The attention mask and the pad token id were not set. As a consequence, you may observe unexpected behavior. Please pass your input's `attention_mask` to obtain reliable results.\n",
            "Setting `pad_token_id` to `eos_token_id`:50256 for open-end generation.\n",
            "The attention mask and the pad token id were not set. As a consequence, you may observe unexpected behavior. Please pass your input's `attention_mask` to obtain reliable results.\n",
            "Setting `pad_token_id` to `eos_token_id`:50256 for open-end generation.\n",
            "The attention mask and the pad token id were not set. As a consequence, you may observe unexpected behavior. Please pass your input's `attention_mask` to obtain reliable results.\n",
            "Setting `pad_token_id` to `eos_token_id`:50256 for open-end generation.\n",
            "The attention mask and the pad token id were not set. As a consequence, you may observe unexpected behavior. Please pass your input's `attention_mask` to obtain reliable results.\n",
            "Setting `pad_token_id` to `eos_token_id`:50256 for open-end generation.\n",
            "The attention mask and the pad token id were not set. As a consequence, you may observe unexpected behavior. Please pass your input's `attention_mask` to obtain reliable results.\n",
            "Setting `pad_token_id` to `eos_token_id`:50256 for open-end generation.\n",
            "The attention mask and the pad token id were not set. As a consequence, you may observe unexpected behavior. Please pass your input's `attention_mask` to obtain reliable results.\n",
            "Setting `pad_token_id` to `eos_token_id`:50256 for open-end generation.\n",
            "The attention mask and the pad token id were not set. As a consequence, you may observe unexpected behavior. Please pass your input's `attention_mask` to obtain reliable results.\n",
            "Setting `pad_token_id` to `eos_token_id`:50256 for open-end generation.\n",
            "The attention mask and the pad token id were not set. As a consequence, you may observe unexpected behavior. Please pass your input's `attention_mask` to obtain reliable results.\n",
            "Setting `pad_token_id` to `eos_token_id`:50256 for open-end generation.\n",
            "The attention mask and the pad token id were not set. As a consequence, you may observe unexpected behavior. Please pass your input's `attention_mask` to obtain reliable results.\n",
            "Setting `pad_token_id` to `eos_token_id`:50256 for open-end generation.\n",
            "The attention mask and the pad token id were not set. As a consequence, you may observe unexpected behavior. Please pass your input's `attention_mask` to obtain reliable results.\n",
            "Setting `pad_token_id` to `eos_token_id`:50256 for open-end generation.\n",
            "The attention mask and the pad token id were not set. As a consequence, you may observe unexpected behavior. Please pass your input's `attention_mask` to obtain reliable results.\n",
            "Setting `pad_token_id` to `eos_token_id`:50256 for open-end generation.\n",
            "The attention mask and the pad token id were not set. As a consequence, you may observe unexpected behavior. Please pass your input's `attention_mask` to obtain reliable results.\n",
            "Setting `pad_token_id` to `eos_token_id`:50256 for open-end generation.\n",
            "The attention mask and the pad token id were not set. As a consequence, you may observe unexpected behavior. Please pass your input's `attention_mask` to obtain reliable results.\n",
            "Setting `pad_token_id` to `eos_token_id`:50256 for open-end generation.\n",
            "The attention mask and the pad token id were not set. As a consequence, you may observe unexpected behavior. Please pass your input's `attention_mask` to obtain reliable results.\n",
            "Setting `pad_token_id` to `eos_token_id`:50256 for open-end generation.\n",
            "The attention mask and the pad token id were not set. As a consequence, you may observe unexpected behavior. Please pass your input's `attention_mask` to obtain reliable results.\n",
            "Setting `pad_token_id` to `eos_token_id`:50256 for open-end generation.\n",
            "The attention mask and the pad token id were not set. As a consequence, you may observe unexpected behavior. Please pass your input's `attention_mask` to obtain reliable results.\n",
            "Setting `pad_token_id` to `eos_token_id`:50256 for open-end generation.\n",
            "The attention mask and the pad token id were not set. As a consequence, you may observe unexpected behavior. Please pass your input's `attention_mask` to obtain reliable results.\n",
            "Setting `pad_token_id` to `eos_token_id`:50256 for open-end generation.\n",
            "The attention mask and the pad token id were not set. As a consequence, you may observe unexpected behavior. Please pass your input's `attention_mask` to obtain reliable results.\n",
            "Setting `pad_token_id` to `eos_token_id`:50256 for open-end generation.\n",
            "The attention mask and the pad token id were not set. As a consequence, you may observe unexpected behavior. Please pass your input's `attention_mask` to obtain reliable results.\n",
            "Setting `pad_token_id` to `eos_token_id`:50256 for open-end generation.\n",
            "The attention mask and the pad token id were not set. As a consequence, you may observe unexpected behavior. Please pass your input's `attention_mask` to obtain reliable results.\n",
            "Setting `pad_token_id` to `eos_token_id`:50256 for open-end generation.\n",
            "The attention mask and the pad token id were not set. As a consequence, you may observe unexpected behavior. Please pass your input's `attention_mask` to obtain reliable results.\n",
            "Setting `pad_token_id` to `eos_token_id`:50256 for open-end generation.\n",
            "The attention mask and the pad token id were not set. As a consequence, you may observe unexpected behavior. Please pass your input's `attention_mask` to obtain reliable results.\n",
            "Setting `pad_token_id` to `eos_token_id`:50256 for open-end generation.\n",
            "The attention mask and the pad token id were not set. As a consequence, you may observe unexpected behavior. Please pass your input's `attention_mask` to obtain reliable results.\n",
            "Setting `pad_token_id` to `eos_token_id`:50256 for open-end generation.\n",
            "The attention mask and the pad token id were not set. As a consequence, you may observe unexpected behavior. Please pass your input's `attention_mask` to obtain reliable results.\n",
            "Setting `pad_token_id` to `eos_token_id`:50256 for open-end generation.\n",
            "The attention mask and the pad token id were not set. As a consequence, you may observe unexpected behavior. Please pass your input's `attention_mask` to obtain reliable results.\n",
            "Setting `pad_token_id` to `eos_token_id`:50256 for open-end generation.\n",
            "The attention mask and the pad token id were not set. As a consequence, you may observe unexpected behavior. Please pass your input's `attention_mask` to obtain reliable results.\n",
            "Setting `pad_token_id` to `eos_token_id`:50256 for open-end generation.\n",
            "The attention mask and the pad token id were not set. As a consequence, you may observe unexpected behavior. Please pass your input's `attention_mask` to obtain reliable results.\n",
            "Setting `pad_token_id` to `eos_token_id`:50256 for open-end generation.\n",
            "The attention mask and the pad token id were not set. As a consequence, you may observe unexpected behavior. Please pass your input's `attention_mask` to obtain reliable results.\n",
            "Setting `pad_token_id` to `eos_token_id`:50256 for open-end generation.\n",
            "The attention mask and the pad token id were not set. As a consequence, you may observe unexpected behavior. Please pass your input's `attention_mask` to obtain reliable results.\n",
            "Setting `pad_token_id` to `eos_token_id`:50256 for open-end generation.\n",
            "The attention mask and the pad token id were not set. As a consequence, you may observe unexpected behavior. Please pass your input's `attention_mask` to obtain reliable results.\n",
            "Setting `pad_token_id` to `eos_token_id`:50256 for open-end generation.\n",
            "The attention mask and the pad token id were not set. As a consequence, you may observe unexpected behavior. Please pass your input's `attention_mask` to obtain reliable results.\n",
            "Setting `pad_token_id` to `eos_token_id`:50256 for open-end generation.\n",
            "The attention mask and the pad token id were not set. As a consequence, you may observe unexpected behavior. Please pass your input's `attention_mask` to obtain reliable results.\n",
            "Setting `pad_token_id` to `eos_token_id`:50256 for open-end generation.\n",
            "The attention mask and the pad token id were not set. As a consequence, you may observe unexpected behavior. Please pass your input's `attention_mask` to obtain reliable results.\n",
            "Setting `pad_token_id` to `eos_token_id`:50256 for open-end generation.\n",
            "The attention mask and the pad token id were not set. As a consequence, you may observe unexpected behavior. Please pass your input's `attention_mask` to obtain reliable results.\n",
            "Setting `pad_token_id` to `eos_token_id`:50256 for open-end generation.\n",
            "The attention mask and the pad token id were not set. As a consequence, you may observe unexpected behavior. Please pass your input's `attention_mask` to obtain reliable results.\n",
            "Setting `pad_token_id` to `eos_token_id`:50256 for open-end generation.\n",
            "The attention mask and the pad token id were not set. As a consequence, you may observe unexpected behavior. Please pass your input's `attention_mask` to obtain reliable results.\n",
            "Setting `pad_token_id` to `eos_token_id`:50256 for open-end generation.\n",
            "The attention mask and the pad token id were not set. As a consequence, you may observe unexpected behavior. Please pass your input's `attention_mask` to obtain reliable results.\n",
            "Setting `pad_token_id` to `eos_token_id`:50256 for open-end generation.\n",
            "The attention mask and the pad token id were not set. As a consequence, you may observe unexpected behavior. Please pass your input's `attention_mask` to obtain reliable results.\n",
            "Setting `pad_token_id` to `eos_token_id`:50256 for open-end generation.\n",
            "The attention mask and the pad token id were not set. As a consequence, you may observe unexpected behavior. Please pass your input's `attention_mask` to obtain reliable results.\n",
            "Setting `pad_token_id` to `eos_token_id`:50256 for open-end generation.\n",
            "The attention mask and the pad token id were not set. As a consequence, you may observe unexpected behavior. Please pass your input's `attention_mask` to obtain reliable results.\n",
            "Setting `pad_token_id` to `eos_token_id`:50256 for open-end generation.\n",
            "The attention mask and the pad token id were not set. As a consequence, you may observe unexpected behavior. Please pass your input's `attention_mask` to obtain reliable results.\n",
            "Setting `pad_token_id` to `eos_token_id`:50256 for open-end generation.\n",
            "The attention mask and the pad token id were not set. As a consequence, you may observe unexpected behavior. Please pass your input's `attention_mask` to obtain reliable results.\n",
            "Setting `pad_token_id` to `eos_token_id`:50256 for open-end generation.\n",
            "The attention mask and the pad token id were not set. As a consequence, you may observe unexpected behavior. Please pass your input's `attention_mask` to obtain reliable results.\n",
            "Setting `pad_token_id` to `eos_token_id`:50256 for open-end generation.\n",
            "The attention mask and the pad token id were not set. As a consequence, you may observe unexpected behavior. Please pass your input's `attention_mask` to obtain reliable results.\n",
            "Setting `pad_token_id` to `eos_token_id`:50256 for open-end generation.\n",
            "The attention mask and the pad token id were not set. As a consequence, you may observe unexpected behavior. Please pass your input's `attention_mask` to obtain reliable results.\n",
            "Setting `pad_token_id` to `eos_token_id`:50256 for open-end generation.\n",
            "The attention mask and the pad token id were not set. As a consequence, you may observe unexpected behavior. Please pass your input's `attention_mask` to obtain reliable results.\n",
            "Setting `pad_token_id` to `eos_token_id`:50256 for open-end generation.\n",
            "The attention mask and the pad token id were not set. As a consequence, you may observe unexpected behavior. Please pass your input's `attention_mask` to obtain reliable results.\n",
            "Setting `pad_token_id` to `eos_token_id`:50256 for open-end generation.\n",
            "The attention mask and the pad token id were not set. As a consequence, you may observe unexpected behavior. Please pass your input's `attention_mask` to obtain reliable results.\n",
            "Setting `pad_token_id` to `eos_token_id`:50256 for open-end generation.\n",
            "The attention mask and the pad token id were not set. As a consequence, you may observe unexpected behavior. Please pass your input's `attention_mask` to obtain reliable results.\n",
            "Setting `pad_token_id` to `eos_token_id`:50256 for open-end generation.\n",
            "The attention mask and the pad token id were not set. As a consequence, you may observe unexpected behavior. Please pass your input's `attention_mask` to obtain reliable results.\n",
            "Setting `pad_token_id` to `eos_token_id`:50256 for open-end generation.\n",
            "The attention mask and the pad token id were not set. As a consequence, you may observe unexpected behavior. Please pass your input's `attention_mask` to obtain reliable results.\n",
            "Setting `pad_token_id` to `eos_token_id`:50256 for open-end generation.\n",
            "The attention mask and the pad token id were not set. As a consequence, you may observe unexpected behavior. Please pass your input's `attention_mask` to obtain reliable results.\n",
            "Setting `pad_token_id` to `eos_token_id`:50256 for open-end generation.\n",
            "The attention mask and the pad token id were not set. As a consequence, you may observe unexpected behavior. Please pass your input's `attention_mask` to obtain reliable results.\n",
            "Setting `pad_token_id` to `eos_token_id`:50256 for open-end generation.\n",
            "The attention mask and the pad token id were not set. As a consequence, you may observe unexpected behavior. Please pass your input's `attention_mask` to obtain reliable results.\n",
            "Setting `pad_token_id` to `eos_token_id`:50256 for open-end generation.\n",
            "The attention mask and the pad token id were not set. As a consequence, you may observe unexpected behavior. Please pass your input's `attention_mask` to obtain reliable results.\n",
            "Setting `pad_token_id` to `eos_token_id`:50256 for open-end generation.\n",
            "The attention mask and the pad token id were not set. As a consequence, you may observe unexpected behavior. Please pass your input's `attention_mask` to obtain reliable results.\n",
            "Setting `pad_token_id` to `eos_token_id`:50256 for open-end generation.\n",
            "The attention mask and the pad token id were not set. As a consequence, you may observe unexpected behavior. Please pass your input's `attention_mask` to obtain reliable results.\n",
            "Setting `pad_token_id` to `eos_token_id`:50256 for open-end generation.\n",
            "The attention mask and the pad token id were not set. As a consequence, you may observe unexpected behavior. Please pass your input's `attention_mask` to obtain reliable results.\n",
            "Setting `pad_token_id` to `eos_token_id`:50256 for open-end generation.\n",
            "The attention mask and the pad token id were not set. As a consequence, you may observe unexpected behavior. Please pass your input's `attention_mask` to obtain reliable results.\n",
            "Setting `pad_token_id` to `eos_token_id`:50256 for open-end generation.\n",
            "The attention mask and the pad token id were not set. As a consequence, you may observe unexpected behavior. Please pass your input's `attention_mask` to obtain reliable results.\n",
            "Setting `pad_token_id` to `eos_token_id`:50256 for open-end generation.\n",
            "The attention mask and the pad token id were not set. As a consequence, you may observe unexpected behavior. Please pass your input's `attention_mask` to obtain reliable results.\n",
            "Setting `pad_token_id` to `eos_token_id`:50256 for open-end generation.\n",
            "The attention mask and the pad token id were not set. As a consequence, you may observe unexpected behavior. Please pass your input's `attention_mask` to obtain reliable results.\n",
            "Setting `pad_token_id` to `eos_token_id`:50256 for open-end generation.\n",
            "The attention mask and the pad token id were not set. As a consequence, you may observe unexpected behavior. Please pass your input's `attention_mask` to obtain reliable results.\n",
            "Setting `pad_token_id` to `eos_token_id`:50256 for open-end generation.\n",
            "The attention mask and the pad token id were not set. As a consequence, you may observe unexpected behavior. Please pass your input's `attention_mask` to obtain reliable results.\n",
            "Setting `pad_token_id` to `eos_token_id`:50256 for open-end generation.\n",
            "The attention mask and the pad token id were not set. As a consequence, you may observe unexpected behavior. Please pass your input's `attention_mask` to obtain reliable results.\n",
            "Setting `pad_token_id` to `eos_token_id`:50256 for open-end generation.\n",
            "The attention mask and the pad token id were not set. As a consequence, you may observe unexpected behavior. Please pass your input's `attention_mask` to obtain reliable results.\n",
            "Setting `pad_token_id` to `eos_token_id`:50256 for open-end generation.\n",
            "The attention mask and the pad token id were not set. As a consequence, you may observe unexpected behavior. Please pass your input's `attention_mask` to obtain reliable results.\n",
            "Setting `pad_token_id` to `eos_token_id`:50256 for open-end generation.\n",
            "The attention mask and the pad token id were not set. As a consequence, you may observe unexpected behavior. Please pass your input's `attention_mask` to obtain reliable results.\n",
            "Setting `pad_token_id` to `eos_token_id`:50256 for open-end generation.\n",
            "The attention mask and the pad token id were not set. As a consequence, you may observe unexpected behavior. Please pass your input's `attention_mask` to obtain reliable results.\n",
            "Setting `pad_token_id` to `eos_token_id`:50256 for open-end generation.\n",
            "The attention mask and the pad token id were not set. As a consequence, you may observe unexpected behavior. Please pass your input's `attention_mask` to obtain reliable results.\n",
            "Setting `pad_token_id` to `eos_token_id`:50256 for open-end generation.\n",
            "The attention mask and the pad token id were not set. As a consequence, you may observe unexpected behavior. Please pass your input's `attention_mask` to obtain reliable results.\n",
            "Setting `pad_token_id` to `eos_token_id`:50256 for open-end generation.\n",
            "The attention mask and the pad token id were not set. As a consequence, you may observe unexpected behavior. Please pass your input's `attention_mask` to obtain reliable results.\n",
            "Setting `pad_token_id` to `eos_token_id`:50256 for open-end generation.\n",
            "The attention mask and the pad token id were not set. As a consequence, you may observe unexpected behavior. Please pass your input's `attention_mask` to obtain reliable results.\n",
            "Setting `pad_token_id` to `eos_token_id`:50256 for open-end generation.\n",
            "The attention mask and the pad token id were not set. As a consequence, you may observe unexpected behavior. Please pass your input's `attention_mask` to obtain reliable results.\n",
            "Setting `pad_token_id` to `eos_token_id`:50256 for open-end generation.\n",
            "The attention mask and the pad token id were not set. As a consequence, you may observe unexpected behavior. Please pass your input's `attention_mask` to obtain reliable results.\n",
            "Setting `pad_token_id` to `eos_token_id`:50256 for open-end generation.\n",
            "The attention mask and the pad token id were not set. As a consequence, you may observe unexpected behavior. Please pass your input's `attention_mask` to obtain reliable results.\n",
            "Setting `pad_token_id` to `eos_token_id`:50256 for open-end generation.\n",
            "The attention mask and the pad token id were not set. As a consequence, you may observe unexpected behavior. Please pass your input's `attention_mask` to obtain reliable results.\n",
            "Setting `pad_token_id` to `eos_token_id`:50256 for open-end generation.\n",
            "The attention mask and the pad token id were not set. As a consequence, you may observe unexpected behavior. Please pass your input's `attention_mask` to obtain reliable results.\n",
            "Setting `pad_token_id` to `eos_token_id`:50256 for open-end generation.\n",
            "The attention mask and the pad token id were not set. As a consequence, you may observe unexpected behavior. Please pass your input's `attention_mask` to obtain reliable results.\n",
            "Setting `pad_token_id` to `eos_token_id`:50256 for open-end generation.\n",
            "The attention mask and the pad token id were not set. As a consequence, you may observe unexpected behavior. Please pass your input's `attention_mask` to obtain reliable results.\n",
            "Setting `pad_token_id` to `eos_token_id`:50256 for open-end generation.\n",
            "The attention mask and the pad token id were not set. As a consequence, you may observe unexpected behavior. Please pass your input's `attention_mask` to obtain reliable results.\n",
            "Setting `pad_token_id` to `eos_token_id`:50256 for open-end generation.\n",
            "The attention mask and the pad token id were not set. As a consequence, you may observe unexpected behavior. Please pass your input's `attention_mask` to obtain reliable results.\n",
            "Setting `pad_token_id` to `eos_token_id`:50256 for open-end generation.\n",
            "The attention mask and the pad token id were not set. As a consequence, you may observe unexpected behavior. Please pass your input's `attention_mask` to obtain reliable results.\n",
            "Setting `pad_token_id` to `eos_token_id`:50256 for open-end generation.\n",
            "The attention mask and the pad token id were not set. As a consequence, you may observe unexpected behavior. Please pass your input's `attention_mask` to obtain reliable results.\n",
            "Setting `pad_token_id` to `eos_token_id`:50256 for open-end generation.\n",
            "The attention mask and the pad token id were not set. As a consequence, you may observe unexpected behavior. Please pass your input's `attention_mask` to obtain reliable results.\n",
            "Setting `pad_token_id` to `eos_token_id`:50256 for open-end generation.\n",
            "The attention mask and the pad token id were not set. As a consequence, you may observe unexpected behavior. Please pass your input's `attention_mask` to obtain reliable results.\n",
            "Setting `pad_token_id` to `eos_token_id`:50256 for open-end generation.\n",
            "The attention mask and the pad token id were not set. As a consequence, you may observe unexpected behavior. Please pass your input's `attention_mask` to obtain reliable results.\n",
            "Setting `pad_token_id` to `eos_token_id`:50256 for open-end generation.\n",
            "The attention mask and the pad token id were not set. As a consequence, you may observe unexpected behavior. Please pass your input's `attention_mask` to obtain reliable results.\n",
            "Setting `pad_token_id` to `eos_token_id`:50256 for open-end generation.\n",
            "The attention mask and the pad token id were not set. As a consequence, you may observe unexpected behavior. Please pass your input's `attention_mask` to obtain reliable results.\n",
            "Setting `pad_token_id` to `eos_token_id`:50256 for open-end generation.\n",
            "The attention mask and the pad token id were not set. As a consequence, you may observe unexpected behavior. Please pass your input's `attention_mask` to obtain reliable results.\n",
            "Setting `pad_token_id` to `eos_token_id`:50256 for open-end generation.\n",
            "The attention mask and the pad token id were not set. As a consequence, you may observe unexpected behavior. Please pass your input's `attention_mask` to obtain reliable results.\n",
            "Setting `pad_token_id` to `eos_token_id`:50256 for open-end generation.\n",
            "The attention mask and the pad token id were not set. As a consequence, you may observe unexpected behavior. Please pass your input's `attention_mask` to obtain reliable results.\n",
            "Setting `pad_token_id` to `eos_token_id`:50256 for open-end generation.\n",
            "The attention mask and the pad token id were not set. As a consequence, you may observe unexpected behavior. Please pass your input's `attention_mask` to obtain reliable results.\n",
            "Setting `pad_token_id` to `eos_token_id`:50256 for open-end generation.\n",
            "The attention mask and the pad token id were not set. As a consequence, you may observe unexpected behavior. Please pass your input's `attention_mask` to obtain reliable results.\n",
            "Setting `pad_token_id` to `eos_token_id`:50256 for open-end generation.\n",
            "The attention mask and the pad token id were not set. As a consequence, you may observe unexpected behavior. Please pass your input's `attention_mask` to obtain reliable results.\n",
            "Setting `pad_token_id` to `eos_token_id`:50256 for open-end generation.\n",
            "The attention mask and the pad token id were not set. As a consequence, you may observe unexpected behavior. Please pass your input's `attention_mask` to obtain reliable results.\n",
            "Setting `pad_token_id` to `eos_token_id`:50256 for open-end generation.\n",
            "The attention mask and the pad token id were not set. As a consequence, you may observe unexpected behavior. Please pass your input's `attention_mask` to obtain reliable results.\n",
            "Setting `pad_token_id` to `eos_token_id`:50256 for open-end generation.\n",
            "The attention mask and the pad token id were not set. As a consequence, you may observe unexpected behavior. Please pass your input's `attention_mask` to obtain reliable results.\n",
            "Setting `pad_token_id` to `eos_token_id`:50256 for open-end generation.\n",
            "The attention mask and the pad token id were not set. As a consequence, you may observe unexpected behavior. Please pass your input's `attention_mask` to obtain reliable results.\n",
            "Setting `pad_token_id` to `eos_token_id`:50256 for open-end generation.\n",
            "The attention mask and the pad token id were not set. As a consequence, you may observe unexpected behavior. Please pass your input's `attention_mask` to obtain reliable results.\n",
            "Setting `pad_token_id` to `eos_token_id`:50256 for open-end generation.\n",
            "The attention mask and the pad token id were not set. As a consequence, you may observe unexpected behavior. Please pass your input's `attention_mask` to obtain reliable results.\n",
            "Setting `pad_token_id` to `eos_token_id`:50256 for open-end generation.\n",
            "The attention mask and the pad token id were not set. As a consequence, you may observe unexpected behavior. Please pass your input's `attention_mask` to obtain reliable results.\n",
            "Setting `pad_token_id` to `eos_token_id`:50256 for open-end generation.\n",
            "The attention mask and the pad token id were not set. As a consequence, you may observe unexpected behavior. Please pass your input's `attention_mask` to obtain reliable results.\n",
            "Setting `pad_token_id` to `eos_token_id`:50256 for open-end generation.\n",
            "The attention mask and the pad token id were not set. As a consequence, you may observe unexpected behavior. Please pass your input's `attention_mask` to obtain reliable results.\n",
            "Setting `pad_token_id` to `eos_token_id`:50256 for open-end generation.\n",
            "The attention mask and the pad token id were not set. As a consequence, you may observe unexpected behavior. Please pass your input's `attention_mask` to obtain reliable results.\n",
            "Setting `pad_token_id` to `eos_token_id`:50256 for open-end generation.\n",
            "The attention mask and the pad token id were not set. As a consequence, you may observe unexpected behavior. Please pass your input's `attention_mask` to obtain reliable results.\n",
            "Setting `pad_token_id` to `eos_token_id`:50256 for open-end generation.\n",
            "The attention mask and the pad token id were not set. As a consequence, you may observe unexpected behavior. Please pass your input's `attention_mask` to obtain reliable results.\n",
            "Setting `pad_token_id` to `eos_token_id`:50256 for open-end generation.\n",
            "The attention mask and the pad token id were not set. As a consequence, you may observe unexpected behavior. Please pass your input's `attention_mask` to obtain reliable results.\n",
            "Setting `pad_token_id` to `eos_token_id`:50256 for open-end generation.\n",
            "The attention mask and the pad token id were not set. As a consequence, you may observe unexpected behavior. Please pass your input's `attention_mask` to obtain reliable results.\n",
            "Setting `pad_token_id` to `eos_token_id`:50256 for open-end generation.\n",
            "The attention mask and the pad token id were not set. As a consequence, you may observe unexpected behavior. Please pass your input's `attention_mask` to obtain reliable results.\n",
            "Setting `pad_token_id` to `eos_token_id`:50256 for open-end generation.\n",
            "The attention mask and the pad token id were not set. As a consequence, you may observe unexpected behavior. Please pass your input's `attention_mask` to obtain reliable results.\n",
            "Setting `pad_token_id` to `eos_token_id`:50256 for open-end generation.\n",
            "The attention mask and the pad token id were not set. As a consequence, you may observe unexpected behavior. Please pass your input's `attention_mask` to obtain reliable results.\n",
            "Setting `pad_token_id` to `eos_token_id`:50256 for open-end generation.\n",
            "The attention mask and the pad token id were not set. As a consequence, you may observe unexpected behavior. Please pass your input's `attention_mask` to obtain reliable results.\n",
            "Setting `pad_token_id` to `eos_token_id`:50256 for open-end generation.\n",
            "The attention mask and the pad token id were not set. As a consequence, you may observe unexpected behavior. Please pass your input's `attention_mask` to obtain reliable results.\n",
            "Setting `pad_token_id` to `eos_token_id`:50256 for open-end generation.\n",
            "The attention mask and the pad token id were not set. As a consequence, you may observe unexpected behavior. Please pass your input's `attention_mask` to obtain reliable results.\n",
            "Setting `pad_token_id` to `eos_token_id`:50256 for open-end generation.\n",
            "The attention mask and the pad token id were not set. As a consequence, you may observe unexpected behavior. Please pass your input's `attention_mask` to obtain reliable results.\n",
            "Setting `pad_token_id` to `eos_token_id`:50256 for open-end generation.\n",
            "The attention mask and the pad token id were not set. As a consequence, you may observe unexpected behavior. Please pass your input's `attention_mask` to obtain reliable results.\n",
            "Setting `pad_token_id` to `eos_token_id`:50256 for open-end generation.\n",
            "The attention mask and the pad token id were not set. As a consequence, you may observe unexpected behavior. Please pass your input's `attention_mask` to obtain reliable results.\n",
            "Setting `pad_token_id` to `eos_token_id`:50256 for open-end generation.\n",
            "The attention mask and the pad token id were not set. As a consequence, you may observe unexpected behavior. Please pass your input's `attention_mask` to obtain reliable results.\n",
            "Setting `pad_token_id` to `eos_token_id`:50256 for open-end generation.\n",
            "The attention mask and the pad token id were not set. As a consequence, you may observe unexpected behavior. Please pass your input's `attention_mask` to obtain reliable results.\n",
            "Setting `pad_token_id` to `eos_token_id`:50256 for open-end generation.\n",
            "The attention mask and the pad token id were not set. As a consequence, you may observe unexpected behavior. Please pass your input's `attention_mask` to obtain reliable results.\n",
            "Setting `pad_token_id` to `eos_token_id`:50256 for open-end generation.\n",
            "The attention mask and the pad token id were not set. As a consequence, you may observe unexpected behavior. Please pass your input's `attention_mask` to obtain reliable results.\n",
            "Setting `pad_token_id` to `eos_token_id`:50256 for open-end generation.\n",
            "The attention mask and the pad token id were not set. As a consequence, you may observe unexpected behavior. Please pass your input's `attention_mask` to obtain reliable results.\n",
            "Setting `pad_token_id` to `eos_token_id`:50256 for open-end generation.\n",
            "The attention mask and the pad token id were not set. As a consequence, you may observe unexpected behavior. Please pass your input's `attention_mask` to obtain reliable results.\n",
            "Setting `pad_token_id` to `eos_token_id`:50256 for open-end generation.\n",
            "The attention mask and the pad token id were not set. As a consequence, you may observe unexpected behavior. Please pass your input's `attention_mask` to obtain reliable results.\n",
            "Setting `pad_token_id` to `eos_token_id`:50256 for open-end generation.\n",
            "The attention mask and the pad token id were not set. As a consequence, you may observe unexpected behavior. Please pass your input's `attention_mask` to obtain reliable results.\n",
            "Setting `pad_token_id` to `eos_token_id`:50256 for open-end generation.\n",
            "The attention mask and the pad token id were not set. As a consequence, you may observe unexpected behavior. Please pass your input's `attention_mask` to obtain reliable results.\n",
            "Setting `pad_token_id` to `eos_token_id`:50256 for open-end generation.\n",
            "The attention mask and the pad token id were not set. As a consequence, you may observe unexpected behavior. Please pass your input's `attention_mask` to obtain reliable results.\n",
            "Setting `pad_token_id` to `eos_token_id`:50256 for open-end generation.\n",
            "The attention mask and the pad token id were not set. As a consequence, you may observe unexpected behavior. Please pass your input's `attention_mask` to obtain reliable results.\n",
            "Setting `pad_token_id` to `eos_token_id`:50256 for open-end generation.\n",
            "The attention mask and the pad token id were not set. As a consequence, you may observe unexpected behavior. Please pass your input's `attention_mask` to obtain reliable results.\n",
            "Setting `pad_token_id` to `eos_token_id`:50256 for open-end generation.\n",
            "The attention mask and the pad token id were not set. As a consequence, you may observe unexpected behavior. Please pass your input's `attention_mask` to obtain reliable results.\n",
            "Setting `pad_token_id` to `eos_token_id`:50256 for open-end generation.\n",
            "The attention mask and the pad token id were not set. As a consequence, you may observe unexpected behavior. Please pass your input's `attention_mask` to obtain reliable results.\n",
            "Setting `pad_token_id` to `eos_token_id`:50256 for open-end generation.\n",
            "The attention mask and the pad token id were not set. As a consequence, you may observe unexpected behavior. Please pass your input's `attention_mask` to obtain reliable results.\n",
            "Setting `pad_token_id` to `eos_token_id`:50256 for open-end generation.\n",
            "The attention mask and the pad token id were not set. As a consequence, you may observe unexpected behavior. Please pass your input's `attention_mask` to obtain reliable results.\n",
            "Setting `pad_token_id` to `eos_token_id`:50256 for open-end generation.\n",
            "The attention mask and the pad token id were not set. As a consequence, you may observe unexpected behavior. Please pass your input's `attention_mask` to obtain reliable results.\n",
            "Setting `pad_token_id` to `eos_token_id`:50256 for open-end generation.\n",
            "The attention mask and the pad token id were not set. As a consequence, you may observe unexpected behavior. Please pass your input's `attention_mask` to obtain reliable results.\n",
            "Setting `pad_token_id` to `eos_token_id`:50256 for open-end generation.\n",
            "The attention mask and the pad token id were not set. As a consequence, you may observe unexpected behavior. Please pass your input's `attention_mask` to obtain reliable results.\n",
            "Setting `pad_token_id` to `eos_token_id`:50256 for open-end generation.\n",
            "The attention mask and the pad token id were not set. As a consequence, you may observe unexpected behavior. Please pass your input's `attention_mask` to obtain reliable results.\n",
            "Setting `pad_token_id` to `eos_token_id`:50256 for open-end generation.\n",
            "The attention mask and the pad token id were not set. As a consequence, you may observe unexpected behavior. Please pass your input's `attention_mask` to obtain reliable results.\n",
            "Setting `pad_token_id` to `eos_token_id`:50256 for open-end generation.\n",
            "The attention mask and the pad token id were not set. As a consequence, you may observe unexpected behavior. Please pass your input's `attention_mask` to obtain reliable results.\n",
            "Setting `pad_token_id` to `eos_token_id`:50256 for open-end generation.\n",
            "The attention mask and the pad token id were not set. As a consequence, you may observe unexpected behavior. Please pass your input's `attention_mask` to obtain reliable results.\n",
            "Setting `pad_token_id` to `eos_token_id`:50256 for open-end generation.\n"
          ]
        }
      ]
    },
    {
      "cell_type": "markdown",
      "source": [
        "**Calculating the Rouge score**"
      ],
      "metadata": {
        "id": "3A01sRTqQ9e0"
      }
    },
    {
      "cell_type": "code",
      "source": [
        "!pip3 install Rouge"
      ],
      "metadata": {
        "id": "osdZXWxjZc_y",
        "colab": {
          "base_uri": "https://localhost:8080/"
        },
        "outputId": "693aca60-af6e-4ad1-f280-8f8b66ac1cf0"
      },
      "execution_count": 27,
      "outputs": [
        {
          "output_type": "stream",
          "name": "stdout",
          "text": [
            "Looking in indexes: https://pypi.org/simple, https://us-python.pkg.dev/colab-wheels/public/simple/\n",
            "Collecting Rouge\n",
            "  Downloading rouge-1.0.1-py3-none-any.whl (13 kB)\n",
            "Requirement already satisfied: six in /usr/local/lib/python3.9/dist-packages (from Rouge) (1.16.0)\n",
            "Installing collected packages: Rouge\n",
            "Successfully installed Rouge-1.0.1\n"
          ]
        }
      ]
    },
    {
      "cell_type": "code",
      "source": [
        "generated_text = val_dataset[7]['generated_text']\n",
        "reference_summary = val_dataset[7]['reference_summary']\n",
        "print(\"GENERATED COMMENTS: {}\\nReference COMMENTS:{}\".format(generated_text, reference_summary))"
      ],
      "metadata": {
        "id": "n397c-OhZs2S",
        "colab": {
          "base_uri": "https://localhost:8080/"
        },
        "outputId": "a229f8dd-5ae9-4317-fce9-f904b1ec8a51"
      },
      "execution_count": 28,
      "outputs": [
        {
          "output_type": "stream",
          "name": "stdout",
          "text": [
            "GENERATED COMMENTS: I'm currently in my 6th semester at UC Berkeley (civil and environmental engineering) and have been struggling for a while. I don't mesh well with the school, 500 person classes, and have had some extremely stressful and negative experiences here. I originally chose Cal over NU back in 2011 and have been regretting that decision for a while. I'm going to talk to the transfers office, but does anyone have experience or know of other students who have transferred during their junior year? If I were to transfer, I'd still spend a full two years at NU despite being ~3 years into undergrad. Also, what's your best/worst experience at NU (academic, social, anything)? TLDR: Junior at Cal, my experience here is extremely negative, is it too late to transfer to NU?    I would definitely apply to a large university like NU. Even though you're not 100% sure, transferring doesn't really change your experience, so why not apply? Thanks!\n",
            "Reference COMMENTS: There is a certain minimum number of credits that you must complete at Northwestern. I don't know what it is off the top of my head, but it is something like 50% of the credits (I could be wrong, but it's somewhere around that). So, theoretically you could transfer, but you wouldn't be able to transfer all of your credits, and you would quite probably have to take classes that you've already taken over again. It probably doesn't make much sense for you to transfer now, unless you don't mind spending a ton more money, and re-taking classes. Hope this helps. Transfer here.  You must take classes for two years if you transfer. Many credits won't transfer over. We're talking $120,000 minimum.  Also, the grass is always greener on the other side.  \n"
          ]
        }
      ]
    },
    {
      "cell_type": "code",
      "source": [
        "from rouge import Rouge\n",
        "\n",
        "# create a Rouge object\n",
        "rouge = Rouge()\n",
        "\n",
        "# initialize scores for each variant of ROUGE\n",
        "scores_rouge1 = {'recall': 0, 'precision': 0, 'fmeasure': 0}\n",
        "scores_rouge2 = {'recall': 0, 'precision': 0, 'fmeasure': 0}\n",
        "scores_rougeL = {'recall': 0, 'precision': 0, 'fmeasure': 0}\n",
        "\n",
        "for idx in range(val_len):\n",
        "    generated_text = val_dataset[idx]['generated_text']\n",
        "    reference_summary = val_dataset[idx]['reference_summary']\n",
        "    \n",
        "    scores = rouge.get_scores(generated_text, reference_summary, avg=True)\n",
        "    \n",
        "    # compute ROUGE-1 scores\n",
        "    scores_rouge1['recall'] += scores['rouge-1']['r']\n",
        "    scores_rouge1['precision'] += scores['rouge-1']['p']\n",
        "    scores_rouge1['fmeasure'] += scores['rouge-1']['f']\n",
        "    \n",
        "    # compute ROUGE-2 scores\n",
        "    # scores = rouge.get_scores(generated_text, reference_summary, avg=True, rouge_n=(2, 2))\n",
        "    scores_rouge2['recall'] += scores['rouge-2']['r']\n",
        "    scores_rouge2['precision'] += scores['rouge-2']['p']\n",
        "    scores_rouge2['fmeasure'] += scores['rouge-2']['f']\n",
        "    \n",
        "    # compute ROUGE-L scores\n",
        "    # scores = rouge.get_scores(generated_text, reference_summary, avg=True, rouge_l=True)\n",
        "    scores_rougeL['recall'] += scores['rouge-l']['r']\n",
        "    scores_rougeL['precision'] += scores['rouge-l']['p']\n",
        "    scores_rougeL['fmeasure'] += scores['rouge-l']['f']\n",
        "\n",
        "# compute the average scores over all examples\n",
        "n_examples = val_len\n",
        "scores_rouge1 = {k: v/n_examples for k, v in scores_rouge1.items()}\n",
        "scores_rouge2 = {k: v/n_examples for k, v in scores_rouge2.items()}\n",
        "scores_rougeL = {k: v/n_examples for k, v in scores_rougeL.items()}\n",
        "\n",
        "# print the overall scores\n",
        "print(\"Overall ROUGE-1 scores:\", scores_rouge1)\n",
        "print(\"Overall ROUGE-2 scores:\", scores_rouge2)\n",
        "print(\"Overall ROUGE-L scores:\", scores_rougeL)"
      ],
      "metadata": {
        "id": "-t0MB2RFJfJ6",
        "colab": {
          "base_uri": "https://localhost:8080/"
        },
        "outputId": "d9cea82d-2993-4b6f-a510-da58c4fd9821"
      },
      "execution_count": 29,
      "outputs": [
        {
          "output_type": "stream",
          "name": "stdout",
          "text": [
            "Overall ROUGE-1 scores: {'recall': 0.23032960444113615, 'precision': 0.21222935788705033, 'fmeasure': 0.20116348886541413}\n",
            "Overall ROUGE-2 scores: {'recall': 0.022964288114432838, 'precision': 0.022903304040440838, 'fmeasure': 0.020662955054415063}\n",
            "Overall ROUGE-L scores: {'recall': 0.19889908027712389, 'precision': 0.18452225283921533, 'fmeasure': 0.17368883560410617}\n"
          ]
        }
      ]
    },
    {
      "cell_type": "markdown",
      "source": [
        "**Calculating the sentiment analysis accuracy**"
      ],
      "metadata": {
        "id": "obpME8ZwRA87"
      }
    },
    {
      "cell_type": "code",
      "source": [
        "!pip3 install vaderSentiment"
      ],
      "metadata": {
        "id": "LY-WxVp5dKJe",
        "colab": {
          "base_uri": "https://localhost:8080/"
        },
        "outputId": "d9484964-b462-40dc-dc4a-3b00eff0adab"
      },
      "execution_count": 30,
      "outputs": [
        {
          "output_type": "stream",
          "name": "stdout",
          "text": [
            "Looking in indexes: https://pypi.org/simple, https://us-python.pkg.dev/colab-wheels/public/simple/\n",
            "Collecting vaderSentiment\n",
            "  Downloading vaderSentiment-3.3.2-py2.py3-none-any.whl (125 kB)\n",
            "\u001b[2K     \u001b[90m━━━━━━━━━━━━━━━━━━━━━━━━━━━━━━━━━━━━━━━\u001b[0m \u001b[32m126.0/126.0 kB\u001b[0m \u001b[31m6.3 MB/s\u001b[0m eta \u001b[36m0:00:00\u001b[0m\n",
            "\u001b[?25hRequirement already satisfied: requests in /usr/local/lib/python3.9/dist-packages (from vaderSentiment) (2.27.1)\n",
            "Requirement already satisfied: urllib3<1.27,>=1.21.1 in /usr/local/lib/python3.9/dist-packages (from requests->vaderSentiment) (1.26.15)\n",
            "Requirement already satisfied: certifi>=2017.4.17 in /usr/local/lib/python3.9/dist-packages (from requests->vaderSentiment) (2022.12.7)\n",
            "Requirement already satisfied: idna<4,>=2.5 in /usr/local/lib/python3.9/dist-packages (from requests->vaderSentiment) (3.4)\n",
            "Requirement already satisfied: charset-normalizer~=2.0.0 in /usr/local/lib/python3.9/dist-packages (from requests->vaderSentiment) (2.0.12)\n",
            "Installing collected packages: vaderSentiment\n",
            "Successfully installed vaderSentiment-3.3.2\n"
          ]
        }
      ]
    },
    {
      "cell_type": "code",
      "source": [
        "import nltk\n",
        "nltk.download('vader_lexicon')\n",
        "from nltk.sentiment.vader import SentimentIntensityAnalyzer"
      ],
      "metadata": {
        "id": "k5m3ggemRAr_",
        "colab": {
          "base_uri": "https://localhost:8080/"
        },
        "outputId": "4522a74a-bcf4-4b13-a0c4-e6990828aa1d"
      },
      "execution_count": 31,
      "outputs": [
        {
          "output_type": "stream",
          "name": "stderr",
          "text": [
            "[nltk_data] Downloading package vader_lexicon to /root/nltk_data...\n"
          ]
        }
      ]
    },
    {
      "cell_type": "code",
      "source": [
        "def find_label(scores):\n",
        "  if scores['pos'] > scores['neg'] and scores['pos'] > scores['neu']:\n",
        "    dominant_label = 'positive'\n",
        "  elif scores['neg'] > scores['pos'] and scores['neg'] > scores['neu']:\n",
        "    dominant_label = 'negative'\n",
        "  else:\n",
        "    dominant_label = 'neutral'\n",
        "  \n",
        "  return dominant_label"
      ],
      "metadata": {
        "id": "nGBejzggfeOa"
      },
      "execution_count": 32,
      "outputs": []
    },
    {
      "cell_type": "code",
      "source": [
        "acc = 0\n",
        "sid = SentimentIntensityAnalyzer()\n",
        "for idx in range(val_len):\n",
        "  # print(val_dataset[idx]['reference_summary'])\n",
        "  # print(type(val_dataset[idx]['reference_summary']))\n",
        "  sent_gt = sid.polarity_scores(val_dataset[idx]['reference_summary'])\n",
        "  sent_generated_comment = sid.polarity_scores(val_dataset[idx]['generated_text'])\n",
        "\n",
        "  gt_label = find_label(sent_gt)\n",
        "  generated_comment_label = find_label(sent_generated_comment)\n",
        "\n",
        "  if gt_label == generated_comment_label:\n",
        "    acc += 1\n",
        "\n",
        "  # print(\"Reference comments: {}\".format(val_dataset[idx]['reference_summary']))\n",
        "  # print(sent_gt)\n",
        "  # print(gt_label)\n",
        "  # print(\"Generated comments: {}\".format(val_dataset[idx]['generated_text']))\n",
        "  # print(sent_generated_comment)\n",
        "  # print(generated_comment_label)\n",
        "  # if idx == 15:\n",
        "  #   break\n",
        "\n",
        "print(\"The number of generated comments that have aligned sentiments: {}\".format(acc))\n",
        "print(\"The number of posts in the validation set: {}\".format(val_len))\n",
        "print(\"The accuracy of sentiments of the generated comments: {}\".format(acc / val_len))"
      ],
      "metadata": {
        "id": "l7mCSb-qRjdX",
        "colab": {
          "base_uri": "https://localhost:8080/"
        },
        "outputId": "e4d545a6-65ee-459a-fd64-118efd524aa9"
      },
      "execution_count": 33,
      "outputs": [
        {
          "output_type": "stream",
          "name": "stdout",
          "text": [
            "The number of generated comments that have aligned sentiments: 154\n",
            "The number of posts in the validation set: 155\n",
            "The accuracy of sentiments of the generated comments: 0.9935483870967742\n"
          ]
        }
      ]
    },
    {
      "cell_type": "markdown",
      "source": [
        "**Readability validation test**\n",
        "\n",
        "Automated readability index"
      ],
      "metadata": {
        "id": "Owzd6CLJh6Cm"
      }
    },
    {
      "cell_type": "code",
      "source": [
        "!pip3 install textstat"
      ],
      "metadata": {
        "id": "A646PRGc5b6T",
        "colab": {
          "base_uri": "https://localhost:8080/"
        },
        "outputId": "a0ca4648-1381-4501-978f-a390539a0aca"
      },
      "execution_count": 34,
      "outputs": [
        {
          "output_type": "stream",
          "name": "stdout",
          "text": [
            "Looking in indexes: https://pypi.org/simple, https://us-python.pkg.dev/colab-wheels/public/simple/\n",
            "Collecting textstat\n",
            "  Downloading textstat-0.7.3-py3-none-any.whl (105 kB)\n",
            "\u001b[2K     \u001b[90m━━━━━━━━━━━━━━━━━━━━━━━━━━━━━━━━━━━━━━━\u001b[0m \u001b[32m105.1/105.1 kB\u001b[0m \u001b[31m6.9 MB/s\u001b[0m eta \u001b[36m0:00:00\u001b[0m\n",
            "\u001b[?25hCollecting pyphen\n",
            "  Downloading pyphen-0.14.0-py3-none-any.whl (2.0 MB)\n",
            "\u001b[2K     \u001b[90m━━━━━━━━━━━━━━━━━━━━━━━━━━━━━━━━━━━━━━━━\u001b[0m \u001b[32m2.0/2.0 MB\u001b[0m \u001b[31m72.8 MB/s\u001b[0m eta \u001b[36m0:00:00\u001b[0m\n",
            "\u001b[?25hInstalling collected packages: pyphen, textstat\n",
            "Successfully installed pyphen-0.14.0 textstat-0.7.3\n"
          ]
        }
      ]
    },
    {
      "cell_type": "markdown",
      "source": [
        "Flesch-Kincaid Grade Level: The Flesch-Kincaid Grade Level measures the approximate grade level of a text, based on its sentence length and average number of syllables per word."
      ],
      "metadata": {
        "id": "W42heXyg50gj"
      }
    },
    {
      "cell_type": "code",
      "source": [
        "import textstat"
      ],
      "metadata": {
        "id": "XvCwJ4LJ5TzY"
      },
      "execution_count": 35,
      "outputs": []
    },
    {
      "cell_type": "code",
      "source": [
        "grade_level = 0.0\n",
        "for idx in range(val_len):\n",
        "  sc = textstat.flesch_kincaid_grade(val_dataset[idx]['generated_text'])\n",
        "  # print(sc)\n",
        "  grade_level += sc\n",
        "\n",
        "grade_level /= val_len\n",
        "print(\"Flesch-Kincaid Grade Level:\", grade_level)"
      ],
      "metadata": {
        "id": "Xn7FRNx655RI",
        "colab": {
          "base_uri": "https://localhost:8080/"
        },
        "outputId": "e9f8c715-9836-4d70-9239-77d4f84e9c35"
      },
      "execution_count": 36,
      "outputs": [
        {
          "output_type": "stream",
          "name": "stdout",
          "text": [
            "Flesch-Kincaid Grade Level: 6.741935483870968\n"
          ]
        }
      ]
    },
    {
      "cell_type": "markdown",
      "source": [
        "Gunning Fog Index: The Gunning Fog Index measures the approximate years of education needed to understand a text, based on its sentence length and percentage of complex words."
      ],
      "metadata": {
        "id": "_XLC1hSI6JFE"
      }
    },
    {
      "cell_type": "code",
      "source": [
        "fog_index = 0.0\n",
        "for idx in range(val_len):\n",
        "  sc = textstat.gunning_fog(val_dataset[idx]['generated_text'])\n",
        "  # print(sc)\n",
        "  fog_index += sc\n",
        "\n",
        "fog_index /= val_len\n",
        "print(\"Gunning Fog Index:\", fog_index)"
      ],
      "metadata": {
        "id": "5hCglf-J5qJ9",
        "colab": {
          "base_uri": "https://localhost:8080/"
        },
        "outputId": "0ed5ee11-2846-45c8-c68a-1bcded307110"
      },
      "execution_count": 37,
      "outputs": [
        {
          "output_type": "stream",
          "name": "stdout",
          "text": [
            "Gunning Fog Index: 8.761419354838706\n"
          ]
        }
      ]
    },
    {
      "cell_type": "markdown",
      "source": [
        "Automated Readability Index (ARI): The Automated Readability Index measures the approximate grade level of a text, based on its average number of characters per word and average number of words per sentence.\n",
        "\n"
      ],
      "metadata": {
        "id": "cXEXeUlT6QkK"
      }
    },
    {
      "cell_type": "code",
      "source": [
        "ari = 0.0\n",
        "for idx in range(val_len):\n",
        "  sc = textstat.automated_readability_index(val_dataset[idx]['generated_text'])\n",
        "  # print(sc)\n",
        "  ari += sc\n",
        "\n",
        "ari /= val_len\n",
        "print(\"Automated Readability Index:\", ari)"
      ],
      "metadata": {
        "id": "_Ucf-qw86UG0",
        "colab": {
          "base_uri": "https://localhost:8080/"
        },
        "outputId": "13cb833b-eb3b-403d-8fd1-26e0f3f8728e"
      },
      "execution_count": 38,
      "outputs": [
        {
          "output_type": "stream",
          "name": "stdout",
          "text": [
            "Automated Readability Index: 7.6109677419354815\n"
          ]
        }
      ]
    }
  ]
}